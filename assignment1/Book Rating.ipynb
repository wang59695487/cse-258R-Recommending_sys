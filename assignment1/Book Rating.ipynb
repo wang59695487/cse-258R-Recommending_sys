{
 "cells": [
  {
   "cell_type": "markdown",
   "metadata": {},
   "source": [
    "## Assignment 1 "
   ]
  },
  {
   "cell_type": "markdown",
   "metadata": {},
   "source": [
    "#### Rating Prediction"
   ]
  },
  {
   "cell_type": "code",
   "execution_count": 1,
   "metadata": {},
   "outputs": [],
   "source": [
    "import numpy\n",
    "import urllib\n",
    "import scipy.optimize\n",
    "import random\n",
    "import gzip\n",
    "import csv\n",
    "from collections import defaultdict\n",
    "from sklearn.metrics import accuracy_score\n",
    "import matplotlib.pyplot as plt"
   ]
  },
  {
   "cell_type": "code",
   "execution_count": 2,
   "metadata": {},
   "outputs": [],
   "source": [
    "# input file using gzip\n",
    "path = \"train_Interactions.csv.gz\"\n",
    "path = \"/Users/gakiara/Desktop/258R/assignment1/train_Interactions.csv.gz\"\n",
    "f = gzip.open(path, \"rt\", encoding=\"utf8\")\n",
    "reader = csv.reader(f, delimiter=\",\")"
   ]
  },
  {
   "cell_type": "code",
   "execution_count": 3,
   "metadata": {},
   "outputs": [],
   "source": [
    "# reading the file to build datasets\n",
    "datasets = []\n",
    "first = True\n",
    "for line in reader:\n",
    "    if first:\n",
    "        header = line\n",
    "        first = False\n",
    "    else:\n",
    "        d = dict(zip(header, line))\n",
    "        # convert strings to integers for some fields\n",
    "        d[\"rating\"] = int(d[\"rating\"])\n",
    "        datasets.append(d)"
   ]
  },
  {
   "cell_type": "code",
   "execution_count": 4,
   "metadata": {},
   "outputs": [],
   "source": [
    "# split the training data\n",
    "data_train = datasets[:190000]\n",
    "data_valid = datasets[190000:]"
   ]
  },
  {
   "cell_type": "code",
   "execution_count": 5,
   "metadata": {},
   "outputs": [],
   "source": [
    "# computer the global mean\n",
    "globalAverage = sum([d[\"rating\"] for d in data_train]) / len(data_train)\n",
    "globalAverage\n",
    "# calculate initial value of alpha,beta_user and beta_book\n",
    "alpha = globalAverage\n",
    "userRatings = defaultdict(list)\n",
    "bookRatings = defaultdict(list)\n",
    "\n",
    "UserPerBook = defaultdict(list)\n",
    "BookPerUser = defaultdict(list)\n",
    "Pair_Rating = defaultdict(int)\n",
    "\n",
    "for l in data_train:\n",
    "    user, book = l[\"userID\"], l[\"bookID\"]\n",
    "    UserPerBook[book].append(user)\n",
    "    BookPerUser[user].append(book)\n",
    "    userRatings[user].append(l[\"rating\"])\n",
    "    bookRatings[book].append(l[\"rating\"])\n",
    "    Pair_Rating[(user,book)] = int(l[\"rating\"])\n",
    "\n",
    "\n",
    "# beta_user,beta_book,beta_pair\n",
    "userBias = defaultdict(float)\n",
    "for u in userRatings:\n",
    "    userBias[u] = globalAverage - (sum(userRatings[u]) / len(userRatings[u]))\n",
    "\n",
    "bookBias = defaultdict(float)\n",
    "for b in bookRatings:\n",
    "    bookBias[b] = globalAverage - (sum(bookRatings[b]) / len(bookRatings[b]))\n"
   ]
  },
  {
   "cell_type": "code",
   "execution_count": 6,
   "outputs": [
    {
     "name": "stdout",
     "output_type": "stream",
     "text": [
      "27917\n",
      "6684\n"
     ]
    }
   ],
   "source": [
    "print(len(userBias))\n",
    "print(len(bookBias))"
   ],
   "metadata": {
    "collapsed": false
   }
  },
  {
   "cell_type": "code",
   "execution_count": 7,
   "metadata": {},
   "outputs": [],
   "source": [
    "# define function for optimization\n",
    "def differenciate(globalAverage, userBias, bookBias, lamb1,lamb2, epsilon):\n",
    "    end = False\n",
    "    globalAverage_last = 0\n",
    "    userBias_last = userBias\n",
    "    bookBias_last = bookBias\n",
    "    MSE_last = 0\n",
    "    cost_last = 0\n",
    "    dataset = data_train\n",
    "    iters = 0\n",
    "    while not end:\n",
    "        # update alpha\n",
    "        globalAverage = 0\n",
    "        for i in dataset:\n",
    "            user, book = i[\"userID\"], i[\"bookID\"]\n",
    "            globalAverage += i[\"rating\"] - userBias_last[user] - bookBias_last[book]\n",
    "\n",
    "        globalAverage = globalAverage / len(dataset)\n",
    "\n",
    "        # update beta_user\n",
    "        num_book = defaultdict(int)\n",
    "        for u in userBias:\n",
    "            userBias[u] = 0\n",
    "        for i in dataset:\n",
    "            user, book = i[\"userID\"], i[\"bookID\"]\n",
    "            num_book[user] += 1\n",
    "            userBias[user] += i[\"rating\"] - globalAverage - bookBias_last[book]\n",
    "        for u in userBias:\n",
    "            userBias[u] = userBias[u] / (lamb1 + num_book[u])\n",
    "\n",
    "        # update beta_book\n",
    "        num_user = defaultdict(int)\n",
    "        for b in bookBias:\n",
    "            bookBias[b] = 0\n",
    "        for i in dataset:\n",
    "            user, book = i[\"userID\"], i[\"bookID\"]\n",
    "            num_user[book] += 1\n",
    "            bookBias[book] += i[\"rating\"] - globalAverage - userBias[user]\n",
    "        for b in bookBias:\n",
    "            bookBias[b] = bookBias[b] / (lamb2 + num_user[b])\n",
    "\n",
    "        predictions = []\n",
    "        \n",
    "        for d in dataset:\n",
    "            user = d[\"userID\"]\n",
    "            book = d[\"bookID\"]\n",
    "            if user in userBias and book in bookBias:\n",
    "                result = globalAverage + userBias[user] + bookBias[book]\n",
    "            else:\n",
    "                result = globalAverage\n",
    "            predictions.append(result)\n",
    "        \n",
    "        labels = [l[\"rating\"] for l in dataset]\n",
    "        differences = [(x - y) ** 2 for x, y in zip(predictions, labels)]\n",
    "        MSE = sum(differences) / len(differences)\n",
    "        \n",
    "        cost = MSE\n",
    "        for u in userBias:\n",
    "            cost += lamb1 * (userBias[u]**2)\n",
    "        for i in bookBias:\n",
    "            cost += lamb2 * (bookBias[i]**2)\n",
    "        iters+=1;\n",
    "        \n",
    "        if (\n",
    "            abs(MSE - MSE_last) < epsilon\n",
    "            and abs(cost - cost_last) < epsilon\n",
    "        ):\n",
    "            end = True\n",
    "            print(iters)\n",
    "        else:\n",
    "            globalAverage_last = globalAverage\n",
    "            userBias_last = userBias\n",
    "            bookBias_last = bookBias\n",
    "            MSE_last = MSE\n",
    "            cost_last = cost\n",
    "\n",
    "    return globalAverage, userBias, bookBias"
   ]
  },
  {
   "cell_type": "code",
   "execution_count": 8,
   "outputs": [],
   "source": [
    "def getDirty0(Pair_Rating, BookPerUser, UserPerBook, dirty_feature):\n",
    "    dirty_u = []\n",
    "    dirty_i = []\n",
    "    [dirty_limit, rating_std, rating_bound] = dirty_feature\n",
    "    for u in BookPerUser.keys():\n",
    "        if dirty_limit < len(BookPerUser[u]):\n",
    "            rating_list = []\n",
    "            for i in BookPerUser[u]:\n",
    "                rating_list.append(Pair_Rating[(u,i)])\n",
    "            if numpy.std(rating_list) < rating_std:\n",
    "                if numpy.mean(rating_list) > rating_bound[1] or numpy.mean(rating_list) < rating_bound[0]:\n",
    "                    dirty_u.append(u)\n",
    "    for i in UserPerBook.keys():\n",
    "        if dirty_limit < len(UserPerBook[i]):\n",
    "            rating_set = set()\n",
    "            for u in UserPerBook[i]:\n",
    "                rating_set.add(Pair_Rating[(u,i)])\n",
    "            if len(rating_set) == 1:\n",
    "                dirty_i.append(i)\n",
    "    return [dirty_u, dirty_i]"
   ],
   "metadata": {
    "collapsed": false
   }
  },
  {
   "cell_type": "code",
   "execution_count": 9,
   "outputs": [],
   "source": [
    "def getDirty(Pair_Rating, BookPerUser, UserPerBook, dirty_feature):\n",
    "    dirty_u = []\n",
    "    dirty_i = []\n",
    "    #[dirty_limit, rating_std, rating_bound] = dirty_feature\n",
    "    [dirty_limit, rating_std] = dirty_feature\n",
    "    for u in BookPerUser.keys():\n",
    "        # data too sparse\n",
    "        if len(BookPerUser[u]) < dirty_limit[0]:\n",
    "            dirty_u.append(u)\n",
    "        else:\n",
    "            rating_list = []\n",
    "            for i in BookPerUser[u]:\n",
    "                rating_list.append(Pair_Rating[(u,i)])\n",
    "            #data is not stable\n",
    "            if numpy.std(rating_list) > rating_std:\n",
    "                dirty_u.append(u)\n",
    "\n",
    "    for i in UserPerBook.keys():\n",
    "        if len(UserPerBook[i]) < dirty_limit[1]:\n",
    "            dirty_i.append(i)\n",
    "\n",
    "    return [dirty_u, dirty_i]"
   ],
   "metadata": {
    "collapsed": false
   }
  },
  {
   "cell_type": "code",
   "execution_count": 10,
   "outputs": [],
   "source": [
    "def intial_clean0(dataset, dirtyfeature):\n",
    "    dataset_clean = []\n",
    "    [dirty_u, dirty_i] = getDirty0(Pair_Rating, BookPerUser, UserPerBook, dirtyfeature)\n",
    "    for d in dataset:\n",
    "        user, book = d[\"userID\"], d[\"bookID\"]\n",
    "        if user not in dirty_u and book not in dirty_i:\n",
    "            dataset_clean.append(d)\n",
    "\n",
    "    # computer the global mean\n",
    "    globalAverage = sum([d[\"rating\"] for d in dataset_clean]) / len(dataset_clean)\n",
    "    # calculate initial value of alpha,beta_user and beta_book\n",
    "    alpha = globalAverage\n",
    "    userRatings = defaultdict(list)\n",
    "    bookRatings = defaultdict(list)\n",
    "\n",
    "    for l in dataset_clean:\n",
    "        user, book = l[\"userID\"], l[\"bookID\"]\n",
    "        userRatings[user].append(l[\"rating\"])\n",
    "        bookRatings[book].append(l[\"rating\"])\n",
    "\n",
    "\n",
    "    # beta_user,beta_book,beta_pair\n",
    "    userBias = defaultdict(float)\n",
    "    for u in userRatings:\n",
    "        userBias[u] = globalAverage - (sum(userRatings[u]) / len(userRatings[u]))\n",
    "\n",
    "    bookBias = defaultdict(float)\n",
    "    for b in bookRatings:\n",
    "        bookBias[b] = globalAverage - (sum(bookRatings[b]) / len(bookRatings[b]))\n",
    "\n",
    "    return dataset_clean,globalAverage, userBias, bookBias"
   ],
   "metadata": {
    "collapsed": false
   }
  },
  {
   "cell_type": "code",
   "execution_count": 11,
   "outputs": [],
   "source": [
    "def intial_clean(dataset, dirtyfeature):\n",
    "    dataset_clean = []\n",
    "    [dirty_u, dirty_i] = getDirty(Pair_Rating, BookPerUser, UserPerBook, dirtyfeature)\n",
    "    for d in dataset:\n",
    "        user, book = d[\"userID\"], d[\"bookID\"]\n",
    "        if user not in dirty_u and book not in dirty_i:\n",
    "            dataset_clean.append(d)\n",
    "\n",
    "    # computer the global mean\n",
    "    globalAverage = sum([d[\"rating\"] for d in dataset_clean]) / len(dataset_clean)\n",
    "    # calculate initial value of alpha,beta_user and beta_book\n",
    "    alpha = globalAverage\n",
    "    userRatings = defaultdict(list)\n",
    "    bookRatings = defaultdict(list)\n",
    "\n",
    "    for l in dataset_clean:\n",
    "        user, book = l[\"userID\"], l[\"bookID\"]\n",
    "        userRatings[user].append(l[\"rating\"])\n",
    "        bookRatings[book].append(l[\"rating\"])\n",
    "\n",
    "\n",
    "    # beta_user,beta_book,beta_pair\n",
    "    userBias = defaultdict(float)\n",
    "    for u in userRatings:\n",
    "        userBias[u] = globalAverage - (sum(userRatings[u]) / len(userRatings[u]))\n",
    "\n",
    "    bookBias = defaultdict(float)\n",
    "    for b in bookRatings:\n",
    "        bookBias[b] = globalAverage - (sum(bookRatings[b]) / len(bookRatings[b]))\n",
    "\n",
    "    return dataset_clean,globalAverage, userBias, bookBias"
   ],
   "metadata": {
    "collapsed": false
   }
  },
  {
   "cell_type": "code",
   "execution_count": 12,
   "outputs": [],
   "source": [
    "# define function for optimization\n",
    "def differenciate2(globalAverage, userBias, bookBias, lamb1,lamb2, epsilon, dataset):\n",
    "\n",
    "    end = False\n",
    "    globalAverage_last = 0\n",
    "    userBias_last = userBias\n",
    "    bookBias_last = bookBias\n",
    "    MSE_last = 0\n",
    "    cost_last = 0\n",
    "\n",
    "    iters = 0\n",
    "    while not end:\n",
    "        # update alpha\n",
    "        globalAverage = 0\n",
    "        for i in dataset:\n",
    "            user, book = i[\"userID\"], i[\"bookID\"]\n",
    "            globalAverage += i[\"rating\"] - userBias_last[user] - bookBias_last[book]\n",
    "\n",
    "        globalAverage = globalAverage / len(dataset)\n",
    "\n",
    "        # update beta_user\n",
    "        num_book = defaultdict(int)\n",
    "        for u in userBias:\n",
    "            userBias[u] = 0\n",
    "        for i in dataset:\n",
    "            user, book = i[\"userID\"], i[\"bookID\"]\n",
    "            num_book[user] += 1\n",
    "            userBias[user] += i[\"rating\"] - globalAverage - bookBias_last[book]\n",
    "        for u in userBias:\n",
    "            userBias[u] = userBias[u] / (lamb1 + num_book[u])\n",
    "\n",
    "        # update beta_book\n",
    "        num_user = defaultdict(int)\n",
    "        for b in bookBias:\n",
    "            bookBias[b] = 0\n",
    "        for i in dataset:\n",
    "            user, book = i[\"userID\"], i[\"bookID\"]\n",
    "            num_user[book] += 1\n",
    "            bookBias[book] += i[\"rating\"] - globalAverage - userBias[user]\n",
    "        for b in bookBias:\n",
    "            bookBias[b] = bookBias[b] / (lamb2 + num_user[b])\n",
    "\n",
    "        predictions = []\n",
    "\n",
    "        for d in dataset:\n",
    "            user = d[\"userID\"]\n",
    "            book = d[\"bookID\"]\n",
    "            if user in userBias and book in bookBias:\n",
    "                result = globalAverage + userBias[user] + bookBias[book]\n",
    "            else:\n",
    "                result = globalAverage\n",
    "            predictions.append(result)\n",
    "\n",
    "        labels = [l[\"rating\"] for l in dataset]\n",
    "        differences = [(x - y) ** 2 for x, y in zip(predictions, labels)]\n",
    "        MSE = sum(differences) / len(differences)\n",
    "\n",
    "        cost = MSE\n",
    "        for u in userBias:\n",
    "            cost += lamb1 * (userBias[u]**2)\n",
    "        for i in bookBias:\n",
    "            cost += lamb2 * (bookBias[i]**2)\n",
    "        iters+=1;\n",
    "\n",
    "        if (\n",
    "            abs(MSE - MSE_last) < epsilon\n",
    "            and abs(cost - cost_last) < epsilon\n",
    "        ):\n",
    "            end = True\n",
    "            print(iters)\n",
    "        else:\n",
    "            globalAverage_last = globalAverage\n",
    "            userBias_last = userBias\n",
    "            bookBias_last = bookBias\n",
    "            MSE_last = MSE\n",
    "            cost_last = cost\n",
    "\n",
    "    return globalAverage, userBias, bookBias"
   ],
   "metadata": {
    "collapsed": false
   }
  },
  {
   "cell_type": "code",
   "execution_count": 34,
   "metadata": {},
   "outputs": [],
   "source": [
    "# prediction result\n",
    "def prediction(user, book):\n",
    "    if user in userBias and book in bookBias:\n",
    "        result = globalAverage_new + userBias_new[user] + bookBias_new[book]\n",
    "    else:\n",
    "        result = globalAverage_new\n",
    "    if result < 0.75: result = 0\n",
    "    if result > 0.75 and result < 1.25:\n",
    "        if  result > 0.9 and result < 1.1:\n",
    "            result = 1\n",
    "        else:\n",
    "            result = 0\n",
    "    if result > 1.9 and result < 2.1: result = 2\n",
    "    if result > 4.9: result = 5\n",
    "\n",
    "    return result"
   ]
  },
  {
   "cell_type": "code",
   "execution_count": 14,
   "outputs": [],
   "source": [
    "# prediction result\n",
    "def prediction2(user, book):\n",
    "    if user in userBias and book in bookBias:\n",
    "        result = globalAverage_new + userBias_new[user] + bookBias_new[book]\n",
    "    elif user in userBias:\n",
    "        result = globalAverage_new + userBias_new[user]\n",
    "    elif book in bookBias:\n",
    "        result = globalAverage_new + bookBias_new[book]\n",
    "    else:\n",
    "        result = globalAverage_new\n",
    "    if result < 1: result = 0\n",
    "    #if result > 5: result = 5\n",
    "    return result"
   ],
   "metadata": {
    "collapsed": false
   }
  },
  {
   "cell_type": "code",
   "execution_count": 15,
   "outputs": [
    {
     "name": "stdout",
     "output_type": "stream",
     "text": [
      "0.8763505714701068\n"
     ]
    }
   ],
   "source": [
    "print(random.uniform(0,1))"
   ],
   "metadata": {
    "collapsed": false
   }
  },
  {
   "cell_type": "code",
   "execution_count": 16,
   "metadata": {},
   "outputs": [],
   "source": [
    "# define MSE function\n",
    "def MSE(dataset):\n",
    "    predictions = [prediction(d[\"userID\"], d[\"bookID\"]) for d in dataset]\n",
    "    labels = [d[\"rating\"] for d in dataset]\n",
    "    differences = [(x - y) ** 2 for x, y in zip(predictions, labels)]\n",
    "    mse = sum(differences) / len(differences)\n",
    "    return mse"
   ]
  },
  {
   "cell_type": "code",
   "execution_count": 17,
   "outputs": [],
   "source": [
    "# define MSE function\n",
    "def MSE2(dataset):\n",
    "    predictions = [prediction2(d[\"userID\"], d[\"bookID\"]) for d in dataset]\n",
    "    labels = [d[\"rating\"] for d in dataset]\n",
    "    differences = [(x - y) ** 2 for x, y in zip(predictions, labels)]\n",
    "    mse = sum(differences) / len(differences)\n",
    "    return mse"
   ],
   "metadata": {
    "collapsed": false
   }
  },
  {
   "cell_type": "code",
   "execution_count": 35,
   "outputs": [
    {
     "name": "stdout",
     "output_type": "stream",
     "text": [
      "1.3729677456136185\n"
     ]
    }
   ],
   "source": [
    "m = MSE(data_valid)\n",
    "print(m)"
   ],
   "metadata": {
    "collapsed": false
   }
  },
  {
   "cell_type": "code",
   "execution_count": 17,
   "outputs": [
    {
     "name": "stdout",
     "output_type": "stream",
     "text": [
      "83\n"
     ]
    }
   ],
   "source": [
    "globalAverage_new, userBias_new, bookBias_new = differenciate(globalAverage, userBias, bookBias, 3.87,14.76, epsilon=1e-7)"
   ],
   "metadata": {
    "collapsed": false
   }
  },
  {
   "cell_type": "code",
   "execution_count": 344,
   "outputs": [
    {
     "name": "stdout",
     "output_type": "stream",
     "text": [
      "3.5666468524458494\n"
     ]
    }
   ],
   "source": [
    "print(globalAverage_new)"
   ],
   "metadata": {
    "collapsed": false
   }
  },
  {
   "cell_type": "code",
   "execution_count": 345,
   "outputs": [
    {
     "name": "stdout",
     "output_type": "stream",
     "text": [
      "1.3729677456136185\n"
     ]
    }
   ],
   "source": [
    "m = MSE(data_valid)\n",
    "print(m)"
   ],
   "metadata": {
    "collapsed": false
   }
  },
  {
   "cell_type": "code",
   "execution_count": null,
   "outputs": [
    {
     "name": "stdout",
     "output_type": "stream",
     "text": [
      "62\n",
      "1.3876760126046812 10 0.05 [1.5, 4.5]\n",
      "189134\n",
      "63\n",
      "1.3876760126090606 10 0.05 [2, 4]\n",
      "189134\n",
      "63\n",
      "1.3876760126090606 10 0.05 [2.6, 4.4]\n",
      "189134\n",
      "63\n",
      "1.3876759585110983 10 0.05 [2.5, 3.5]\n",
      "189117\n",
      "63\n",
      "1.3876759585110612 10 0.05 [3, 3]\n",
      "189117\n",
      "63\n",
      "1.3876760126090297 10 0.08 [1.5, 4.5]\n",
      "189134\n"
     ]
    }
   ],
   "source": [
    "dirty_limits = [10,12,14,16,18,20]\n",
    "sds = [0.05,0.08,0.1,0.2]\n",
    "dirty_bound = [[1.5,4.5],[2,4],[2.6, 4.4],[2.5,3.5],[3,3]]\n",
    "dirty_mse = defaultdict(list)\n",
    "mse = []\n",
    "for dl in dirty_limits:\n",
    "    for s in sds:\n",
    "        for db in dirty_bound:\n",
    "             dirty_feature = [dl, s ,db]\n",
    "             dataset_clean,globalAverage,userBias,userBias = intial_clean0(data_train,dirty_feature)\n",
    "             globalAverage_new, userBias_new, bookBias_new = differenciate2(globalAverage, userBias, bookBias,3.87,14.76,1e-06,dataset_clean)\n",
    "             m = MSE(data_valid)\n",
    "             print(m,dl,s,db)\n",
    "             print(len(dataset_clean))\n",
    "             mse.append(m)\n",
    "             dirty_mse[m] = dirty_feature"
   ],
   "metadata": {
    "collapsed": false
   }
  },
  {
   "cell_type": "code",
   "execution_count": null,
   "outputs": [],
   "source": [
    "best_mse = min(mse)\n",
    "best_df = dirty_mse[best_mse]\n",
    "print(\"Optimal dirty feature:\", best_df, \"; MSE:\", best_mse)"
   ],
   "metadata": {
    "collapsed": false
   }
  },
  {
   "cell_type": "code",
   "execution_count": null,
   "outputs": [
    {
     "name": "stdout",
     "output_type": "stream",
     "text": [
      "63\n",
      "1.3936207409282109 [2, 2] 2.0\n",
      "182813\n",
      "53\n",
      "1.379786736516174 [2, 2] 2.2\n",
      "186703\n",
      "53\n",
      "1.3776701961835294 [2, 2] 2.4\n",
      "188574\n",
      "53\n",
      "1.3740228906606438 [2, 2] 2.6\n",
      "189191\n",
      "53\n",
      "1.374022890640953 [2, 2] 2.8\n",
      "189191\n",
      "53\n",
      "1.374022890640953 [2, 2] 3\n",
      "189191\n",
      "53\n",
      "1.374022890640953 [2, 2] 3.2\n",
      "189191\n",
      "57\n",
      "1.3935437165072624 [2, 3] 2.0\n",
      "182421\n",
      "52\n",
      "1.3797775476867986 [2, 3] 2.2\n",
      "186300\n",
      "53\n",
      "1.377710443478119 [2, 3] 2.4\n",
      "188168\n",
      "52\n",
      "1.3742149915497897 [2, 3] 2.6\n",
      "188783\n",
      "53\n",
      "1.3742149915668351 [2, 3] 2.8\n",
      "188783\n",
      "53\n",
      "1.3742149915668358 [2, 3] 3\n",
      "188783\n",
      "53\n",
      "1.3742149915668358 [2, 3] 3.2\n",
      "188783\n",
      "58\n",
      "1.395186316715228 [2, 4] 2.0\n",
      "181477\n",
      "53\n",
      "1.3813734197033414 [2, 4] 2.2\n",
      "185330\n"
     ]
    }
   ],
   "source": [
    "dirty_limits = [[2,2],[2,3],[2,4],[2,5]]\n",
    "sds = [2.0,2.2,2.4,2.6,2.8,3,3.2]\n",
    "#dirty_bound = [[2.6,4.4],[2.8,4.2],[3,4],[3.5,3.5]]\n",
    "dirty_mse = defaultdict(list)\n",
    "mse = []\n",
    "for dl in dirty_limits:\n",
    "    for s in sds:\n",
    "        #for db in dirty_bound:\n",
    "             dirty_feature = [dl, s ]\n",
    "             dataset_clean,globalAverage,userBias,userBias = intial_clean(data_train,dirty_feature)\n",
    "             globalAverage_new, userBias_new, bookBias_new = differenciate2(globalAverage, userBias, bookBias,3.87,14.67,1e-05,dataset_clean)\n",
    "             m = MSE(data_valid)\n",
    "             print(m,dl,s)\n",
    "             print(len(dataset_clean))\n",
    "             mse.append(m)\n",
    "             dirty_mse[m] = dirty_feature"
   ],
   "metadata": {
    "collapsed": false
   }
  },
  {
   "cell_type": "code",
   "execution_count": 33,
   "outputs": [
    {
     "name": "stdout",
     "output_type": "stream",
     "text": [
      "Optimal dirty feature: [[2, 3], 2.6] ; MSE: 1.3750365123654429\n"
     ]
    }
   ],
   "source": [
    "best_mse = min(mse)\n",
    "best_df = dirty_mse[best_mse]\n",
    "print(\"Optimal dirty feature:\", best_df, \"; MSE:\", best_mse)"
   ],
   "metadata": {
    "collapsed": false
   }
  },
  {
   "cell_type": "code",
   "execution_count": 14,
   "outputs": [],
   "source": [
    "#Find the best lambda"
   ],
   "metadata": {
    "collapsed": false
   }
  },
  {
   "cell_type": "code",
   "execution_count": 11,
   "metadata": {},
   "outputs": [],
   "source": [
    "lamb1 = [i for i in range(1,20)]\n",
    "lamb2 = [i for i in range(1,20)]\n",
    "mse = []\n",
    "lambs_mse = defaultdict(list)\n",
    "#when optimal the lamb1,epsilon should be bigger\n",
    "for r1 in lamb1:\n",
    "  for r2 in lamb2:\n",
    "    globalAverage_new, userBias_new, bookBias_new = differenciate(\n",
    "        globalAverage, userBias, bookBias, r1,r2, epsilon=1e-05\n",
    "    )\n",
    "    m = MSE(data_valid)\n",
    "    lambs_mse[m]=[r1,r2]\n",
    "    mse.append(m)"
   ]
  },
  {
   "cell_type": "code",
   "execution_count": 12,
   "outputs": [
    {
     "name": "stdout",
     "output_type": "stream",
     "text": [
      "defaultdict(<class 'list'>, {1.434818876252579: [1, 1], 1.4267112938619115: [1, 2], 1.4218314528272191: [1, 3], 1.418618302489394: [1, 4], 1.4164029240662668: [1, 5], 1.414836660374625: [1, 6], 1.4137165175653645: [1, 7], 1.412915325369145: [1, 8], 1.4123490807479417: [1, 9], 1.4119600027678116: [1, 10], 1.4117070495901665: [1, 11], 1.411560295067007: [1, 12], 1.4114974364564854: [1, 13], 1.4115015427453337: [1, 14], 1.4115595557457516: [1, 15], 1.411661264861534: [1, 16], 1.411798590318674: [1, 17], 1.411965070639355: [1, 18], 1.4121554899099469: [1, 19], 1.4080327478215497: [2, 1], 1.4001421230018434: [2, 2], 1.3953549593067822: [2, 3], 1.3921799835769548: [2, 4], 1.3899749173391565: [2, 5], 1.388403580072648: [2, 6], 1.3872695144727214: [2, 7], 1.3864492305680354: [2, 8], 1.3858609027502569: [2, 9], 1.38544808446297: [2, 10], 1.3851705716412328: [2, 11], 1.3849989725128091: [2, 12], 1.384911327711484: [2, 13], 1.3848909264996667: [2, 14], 1.3849248502004614: [2, 15], 1.3850029741171235: [2, 16], 1.385117268125989: [2, 17], 1.3852612960334303: [2, 18], 1.3854298509894456: [2, 19], 1.3990603160556412: [3, 1], 1.3912221340592672: [3, 2], 1.386430366420955: [3, 3], 1.3832298582054914: [3, 4], 1.3809909341808355: [3, 5], 1.3793827555878178: [3, 6], 1.3782113462831895: [3, 7], 1.3773544113109208: [3, 8], 1.3767306950079587: [3, 9], 1.3762840001682892: [3, 10], 1.3759742035291755: [3, 11], 1.37577190455638: [3, 12], 1.3756550886727394: [3, 13], 1.3756069667846358: [3, 14], 1.3756145323085665: [3, 15], 1.3756675704652719: [3, 16], 1.3757579632317887: [3, 17], 1.375879190524639: [3, 18], 1.3760259669243662: [3, 19], 1.397736589428806: [4, 1], 1.3898912738553586: [4, 2], 1.3850641857758124: [4, 3], 1.381820924610303: [4, 4], 1.3795382897099195: [4, 5], 1.377887800578934: [4, 6], 1.3766763357338598: [4, 7], 1.3757818407250626: [4, 8], 1.37512303750469: [4, 9], 1.3746435964016919: [4, 10], 1.374303220119673: [4, 11], 1.374072325190499: [4, 12], 1.3739287200057402: [4, 13], 1.373855450775483: [4, 14], 1.3738393608002175: [4, 15], 1.3738700999974849: [4, 16], 1.373939429068262: [4, 17], 1.374040719499686: [4, 18], 1.3741685892123265: [4, 19], 1.4001197169934982: [5, 1], 1.392243037378586: [5, 2], 1.3873708757355223: [5, 3], 1.3840814088224147: [5, 4], 1.381754789479145: [5, 5], 1.3800634408738266: [5, 6], 1.3788143389568772: [5, 7], 1.3778852470544818: [5, 8], 1.3771946172449319: [5, 9], 1.3766858369918804: [5, 10], 1.376318342519329: [5, 11], 1.3760623094213775: [5, 12], 1.375895332629183: [5, 13], 1.3758002712857524: [5, 14], 1.3757638050698275: [5, 15], 1.375775441157205: [5, 16], 1.3758268152849924: [5, 17], 1.3759111895523302: [5, 18], 1.3760230856242812: [5, 19], 1.4043820032094132: [6, 1], 1.3964641300570515: [6, 2], 1.3915450011971573: [6, 3], 1.3882105987357778: [6, 4], 1.3858426917430573: [6, 5], 1.38411383588549: [6, 6], 1.382830725839104: [6, 7], 1.3818707450851846: [6, 8], 1.3811519701707171: [6, 9], 1.380617449402241: [6, 10], 1.3802263226492026: [6, 11], 1.3799485107201523: [6, 12], 1.3797613905346422: [6, 13], 1.3796476344632775: [6, 14], 1.3795937621292598: [6, 15], 1.3795891428458489: [6, 16], 1.3796252934275344: [6, 17], 1.3796953727605117: [6, 18], 1.3797938127754685: [6, 19], 1.409595399700464: [7, 1], 1.4016249200627764: [7, 2], 1.396660083383654: [7, 3], 1.3932836364716061: [7, 4], 1.3908779406307685: [7, 5], 1.3891152567435803: [7, 6], 1.3878018038843583: [7, 7], 1.3868144953931694: [7, 8], 1.3860709920186738: [7, 9], 1.3855139871785276: [7, 10], 1.385102322316964: [7, 11], 1.384805667728998: [7, 12], 1.3846011897316597: [7, 13], 1.3844713829757869: [7, 14], 1.384402616314803: [7, 15], 1.384384130753252: [7, 16], 1.384407332783431: [7, 17], 1.3844652866531253: [7, 18], 1.3845523420003918: [7, 19], 1.4152258834284952: [8, 1], 1.407218714822105: [8, 2], 1.4022106718066771: [8, 3], 1.3987955069023879: [8, 4], 1.3963555491885213: [8, 5], 1.394562523338448: [8, 6], 1.3932220755638938: [8, 7], 1.3922106132058953: [8, 8], 1.3914453721436715: [8, 9], 1.3908686951149487: [8, 10], 1.3904391347719756: [8, 11], 1.3901261226481993: [8, 12], 1.389906626574481: [8, 13], 1.3897629754229703: [8, 14], 1.3896813984811276: [8, 15], 1.3896510184799642: [8, 16], 1.3896631413200353: [8, 17], 1.3897107446866066: [8, 18], 1.3897881037812407: [8, 19], 1.4210171920609476: [9, 1], 1.4129587938652397: [9, 2], 1.4079104564543061: [9, 3], 1.4044598644383808: [9, 4], 1.4019889263405256: [9, 5], 1.4001686958959325: [9, 6], 1.39880420272913: [9, 7], 1.3977713405521976: [9, 8], 1.3969869278779565: [9, 9], 1.3963929697275785: [9, 10], 1.395947744472676: [9, 11], 1.3956204594071009: [9, 12], 1.3953878975622092: [9, 13], 1.3952322345674952: [9, 14], 1.3951395711621437: [9, 15], 1.3950989219161973: [9, 16], 1.3951015008707321: [9, 17], 1.3951402072421197: [9, 18], 1.3952092487376613: [9, 19], 1.4267720266135395: [10, 1], 1.418679769293627: [10, 2], 1.4135940854096911: [10, 3], 1.4101111396988224: [10, 4], 1.4076121764252545: [10, 5], 1.4057675070429279: [10, 6], 1.4043815317782953: [10, 7], 1.4033296382777976: [10, 8], 1.402528242912533: [10, 9], 1.4019190298885014: [10, 10], 1.4014600197234046: [10, 11], 1.401120210575985: [10, 12], 1.4008762142747728: [10, 13], 1.4007100649593454: [10, 14], 1.4006077457109813: [10, 15], 1.4005581719908666: [10, 16], 1.4005524741837843: [10, 17], 1.4005834801593118: [10, 18], 1.4006453366586555: [10, 19], 1.432417697246505: [11, 1], 1.4242861009458205: [11, 2], 1.41916588903501: [11, 3], 1.4156533865265202: [11, 4], 1.4131290224176758: [11, 5], 1.411262333436053: [11, 6], 1.409857094518492: [11, 7], 1.40878820351196: [11, 8], 1.407971693280605: [11, 9], 1.4073489456565897: [11, 10], 1.406877739725306: [11, 11], 1.4065268792043668: [11, 12], 1.406272817713569: [11, 13], 1.4060974589378927: [11, 14], 1.4059866778645882: [11, 15], 1.4059292994229977: [11, 16], 1.4059163776122638: [11, 17], 1.405940675407299: [11, 18], 1.40599628403695: [11, 19], 1.4378923673054407: [12, 1], 1.4297237327982042: [12, 2], 1.4245716141291629: [12, 3], 1.4210320692623473: [12, 4], 1.4184846219882556: [12, 5], 1.4165980255045507: [12, 6], 1.4151754438809965: [12, 7], 1.4140913052205881: [12, 8], 1.413261279255277: [12, 9], 1.4126264633343149: [12, 10], 1.4121444113891157: [12, 11], 1.411783746517557: [12, 12], 1.411520775828088: [12, 13], 1.41133728291319: [12, 14], 1.4112190433135139: [12, 15], 1.4111547991303552: [12, 16], 1.4111355343088015: [12, 17], 1.4111539528076884: [12, 18], 1.4112040951487532: [12, 19], 1.4431672087051086: [13, 1], 1.4349637920704978: [13, 2], 1.429782170043744: [13, 3], 1.4262178316846417: [13, 4], 1.423649345504789: [13, 5], 1.4217446874099133: [13, 6], 1.4203064306498914: [13, 7], 1.4192085555434377: [13, 8], 1.4183663886891154: [13, 9], 1.4177207607932967: [13, 10], 1.4172290156447427: [13, 11], 1.4168596085232108: [13, 12], 1.4165887108850845: [13, 13], 1.4163979954612862: [13, 14], 1.4162731462763385: [13, 15], 1.41620282919472: [13, 16], 1.4161779641324674: [13, 17], 1.4161912008532984: [13, 18], 1.4162365336999758: [13, 19], 1.448228947611631: [14, 1], 1.439992904578822: [14, 2], 1.434783966478853: [14, 3], 1.4311968424672254: [14, 4], 1.4286091222604491: [14, 5], 1.426688019944663: [14, 6], 1.4252355408520205: [14, 7], 1.424125240041755: [14, 8], 1.423272120394261: [14, 9], 1.4226167627121207: [14, 10], 1.4221163146489446: [14, 11], 1.4217390754132502: [14, 12], 1.4214610906827039: [14, 13], 1.421263930659972: [14, 14], 1.4211331949231527: [14, 15], 1.4210574791304862: [14, 16], 1.4210276443401195: [14, 17], 1.4210362905801084: [14, 18], 1.421077369878262: [14, 19], 1.453081338175569: [15, 1], 1.444807284611314: [15, 2], 1.4395730145298145: [15, 3], 1.4359648980609236: [15, 4], 1.4333595408435893: [15, 5], 1.4314234162034831: [15, 6], 1.4299579858598517: [15, 7], 1.4288364013809403: [15, 8], 1.427973360829648: [15, 9], 1.4273092106108067: [15, 10], 1.4268009151597967: [15, 11], 1.4264166283439477: [15, 12], 1.426132279016069: [15, 13], 1.4259293423643065: [15, 14], 1.4257933398650178: [15, 15], 1.4257128023608905: [15, 16], 1.4256785366590983: [15, 17], 1.4256830970134364: [15, 18], 1.4257203965601568: [15, 19], 1.4577044055928214: [16, 1], 1.4494090539252737: [16, 2], 1.444151249727651: [16, 3], 1.4405237446082855: [16, 4], 1.4379021673796355: [16, 5], 1.4359522751224854: [16, 6], 1.4344750101822785: [16, 7], 1.4333431419179488: [16, 8], 1.4324710811806267: [16, 9], 1.431798954373931: [16, 10], 1.4312835547540965: [16, 11], 1.4308929004546207: [16, 12], 1.4306028116759353: [16, 13], 1.4303946753689154: [16, 14], 1.4302539406084294: [16, 15], 1.4301690782486736: [16, 16], 1.430130844959458: [16, 17], 1.4301317527483526: [16, 18], 1.4301656789025647: [16, 19], 1.4621262213492778: [17, 1], 1.4538039128718494: [17, 2], 1.4485242032831365: [17, 3], 1.4448787468328417: [17, 4], 1.4422422111176967: [17, 5], 1.440279662392051: [17, 6], 1.4387915480640134: [17, 7], 1.4376502753985312: [17, 8], 1.4367699845036908: [17, 9], 1.4360905952044192: [17, 10], 1.435568740223215: [17, 11], 1.4351723112168384: [17, 12], 1.434877026864608: [17, 13], 1.4346641920561238: [17, 14], 1.43451918859533: [17, 15], 1.4344304316308358: [17, 16], 1.4343886315260113: [17, 17], 1.4343862610457647: [17, 18], 1.4344171643900832: [17, 19], 1.466347292838536: [18, 1], 1.4579996481133028: [18, 2], 1.452699510400782: [18, 3], 1.449037394128038: [18, 4], 1.4463870262222283: [18, 5], 1.4444128089632648: [18, 6], 1.4429147180802389: [18, 7], 1.4417648178310758: [18, 8], 1.4408769929220646: [18, 9], 1.4401909689298231: [18, 10], 1.4396632280689148: [18, 11], 1.439261543473885: [18, 12], 1.4389615391517032: [18, 13], 1.4387444434109407: [18, 14], 1.4385955754126698: [18, 15], 1.4385032985484052: [18, 16], 1.4384582800305012: [18, 17], 1.4384529563565047: [18, 18], 1.4384811410153198: [18, 19], 1.4703766571398111: [19, 1], 1.4620051724425678: [19, 2], 1.4566859482307404: [19, 3], 1.453008335525708: [19, 4], 1.4503451445738853: [19, 5], 1.4483601403359523: [19, 6], 1.4468528492508428: [19, 7], 1.4456950105161945: [19, 8], 1.444800267693758: [19, 9], 1.444108163480218: [19, 10], 1.4435750387203825: [19, 11], 1.4431685554407316: [19, 12], 1.442864249048222: [19, 13], 1.4426432762899302: [19, 14], 1.4424908978686533: [19, 15], 1.4423954289357472: [19, 16], 1.442347496530304: [19, 17], 1.4423395034208248: [19, 18], 1.4423652345630529: [19, 19]})\n"
     ]
    }
   ],
   "source": [
    "print(lambs_mse)"
   ],
   "metadata": {
    "collapsed": false
   }
  },
  {
   "cell_type": "code",
   "execution_count": 13,
   "outputs": [
    {
     "name": "stdout",
     "output_type": "stream",
     "text": [
      "Optimal λ: [4, 15] ; MSE: 1.3738393608002175\n"
     ]
    }
   ],
   "source": [
    "# Optimal λ\n",
    "best_mse = min(mse)\n",
    "best_lamda = lambs_mse[best_mse]\n",
    "print(\"Optimal λ:\", best_lamda, \"; MSE:\", best_mse)"
   ],
   "metadata": {
    "collapsed": false
   }
  },
  {
   "cell_type": "code",
   "execution_count": null,
   "outputs": [],
   "source": [
    "#finetuning the lambda"
   ],
   "metadata": {
    "collapsed": false
   }
  },
  {
   "cell_type": "code",
   "execution_count": 58,
   "outputs": [],
   "source": [
    "# calculate initial value of alpha,beta_user and beta_book\n",
    "# computer the global mean\n",
    "# computer the global mean\n",
    "globalAverage = sum([d[\"rating\"] for d in data_train]) / len(data_train)\n",
    "globalAverage\n",
    "\n",
    "alpha = globalAverage\n",
    "\n",
    "# beta_user,beta_book\n",
    "userBias = defaultdict(float)\n",
    "for u in userRatings:\n",
    "    userBias[u] = globalAverage - (sum(userRatings[u]) / len(userRatings[u]))\n",
    "\n",
    "bookBias = defaultdict(float)\n",
    "for b in bookRatings:\n",
    "    bookBias[b] = globalAverage - (sum(bookRatings[b]) / len(bookRatings[b]))"
   ],
   "metadata": {
    "collapsed": false
   }
  },
  {
   "cell_type": "code",
   "execution_count": 63,
   "outputs": [
    {
     "name": "stdout",
     "output_type": "stream",
     "text": [
      "49\n",
      "28\n",
      "28\n",
      "28\n",
      "28\n",
      "28\n",
      "28\n",
      "28\n",
      "27\n",
      "27\n",
      "27\n",
      "27\n",
      "27\n",
      "27\n",
      "27\n",
      "27\n",
      "27\n",
      "27\n",
      "27\n",
      "27\n",
      "27\n",
      "27\n",
      "27\n",
      "27\n",
      "27\n",
      "27\n",
      "27\n",
      "27\n",
      "27\n",
      "27\n",
      "27\n",
      "27\n",
      "27\n",
      "27\n",
      "27\n",
      "27\n",
      "27\n",
      "27\n",
      "27\n",
      "27\n",
      "27\n",
      "27\n",
      "27\n",
      "27\n",
      "27\n",
      "27\n",
      "27\n",
      "27\n",
      "27\n",
      "27\n",
      "27\n",
      "27\n",
      "27\n",
      "27\n",
      "27\n",
      "27\n",
      "27\n",
      "27\n",
      "27\n",
      "27\n",
      "27\n",
      "27\n",
      "27\n",
      "27\n",
      "27\n",
      "27\n",
      "27\n",
      "27\n",
      "27\n",
      "27\n",
      "27\n",
      "27\n",
      "27\n",
      "27\n",
      "27\n",
      "27\n",
      "27\n",
      "27\n",
      "27\n",
      "27\n",
      "26\n",
      "26\n",
      "26\n",
      "26\n",
      "26\n",
      "26\n",
      "26\n",
      "26\n",
      "26\n",
      "26\n",
      "26\n",
      "26\n",
      "26\n",
      "26\n",
      "26\n",
      "26\n",
      "26\n",
      "26\n",
      "26\n",
      "26\n",
      "26\n",
      "26\n",
      "26\n",
      "26\n",
      "26\n",
      "26\n",
      "26\n",
      "26\n",
      "26\n",
      "26\n",
      "26\n",
      "26\n",
      "26\n",
      "26\n",
      "26\n",
      "26\n",
      "26\n",
      "26\n",
      "26\n",
      "26\n",
      "26\n",
      "26\n",
      "26\n",
      "26\n",
      "26\n",
      "26\n",
      "26\n",
      "26\n",
      "26\n",
      "26\n",
      "26\n",
      "26\n",
      "26\n",
      "26\n",
      "26\n",
      "26\n",
      "26\n",
      "26\n",
      "26\n",
      "26\n",
      "26\n",
      "26\n",
      "26\n",
      "26\n",
      "26\n",
      "26\n",
      "26\n",
      "26\n",
      "26\n",
      "26\n",
      "26\n",
      "26\n",
      "26\n",
      "26\n",
      "26\n",
      "26\n",
      "26\n",
      "26\n",
      "26\n",
      "26\n",
      "26\n",
      "26\n",
      "26\n",
      "26\n",
      "26\n",
      "26\n",
      "26\n",
      "26\n",
      "26\n",
      "26\n",
      "26\n",
      "26\n",
      "25\n",
      "25\n",
      "25\n",
      "25\n",
      "25\n",
      "25\n",
      "25\n",
      "25\n",
      "25\n",
      "25\n",
      "25\n",
      "25\n",
      "25\n",
      "25\n",
      "25\n",
      "25\n",
      "25\n",
      "25\n",
      "25\n",
      "25\n",
      "25\n",
      "25\n",
      "25\n",
      "25\n",
      "25\n",
      "25\n",
      "25\n",
      "25\n",
      "25\n",
      "25\n",
      "25\n",
      "25\n",
      "25\n",
      "25\n",
      "25\n",
      "25\n",
      "25\n",
      "25\n"
     ]
    }
   ],
   "source": [
    "lamb1 = [i/100 for i in range(300,510)]\n",
    "mse = []\n",
    "lamb1_mse = defaultdict(list)\n",
    "#when optimal the lamb1,epsilon should be bigger\n",
    "for r1 in lamb1:\n",
    "    globalAverage_new, userBias_new, bookBias_new = differenciate(\n",
    "        globalAverage, userBias, bookBias, r1,15, epsilon=1e-05\n",
    "    )\n",
    "    m = MSE(data_valid)\n",
    "    lamb1_mse[m]=[r1]\n",
    "    mse.append(m)"
   ],
   "metadata": {
    "collapsed": false
   }
  },
  {
   "cell_type": "code",
   "execution_count": 64,
   "outputs": [
    {
     "name": "stdout",
     "output_type": "stream",
     "text": [
      "defaultdict(<class 'list'>, {1.3756145323055027: [3.0], 1.3755686439449872: [3.01], 1.3755234635205915: [3.02], 1.3754789863287604: [3.03], 1.3754352072309444: [3.04], 1.3753921211321811: [3.05], 1.375349722981196: [3.06], 1.3753080077698878: [3.07], 1.3752669705965097: [3.08], 1.3752266064105576: [3.09], 1.3751869103945336: [3.1], 1.3751478777087076: [3.11], 1.3751095035542196: [3.12], 1.3750717831727552: [3.13], 1.375034711846145: [3.14], 1.3749982848958815: [3.15], 1.3749624976827852: [3.16], 1.3749273456065425: [3.17], 1.3748928241053435: [3.18], 1.3748589286554431: [3.19], 1.374825654770803: [3.2], 1.3747929980027176: [3.21], 1.3747609539393746: [3.22], 1.3747295182055443: [3.23], 1.3746986864621489: [3.24], 1.3746684544059444: [3.25], 1.3746388177691378: [3.26], 1.3746097723190323: [3.27], 1.374581313857639: [3.28], 1.3745534382213838: [3.29], 1.374526141280733: [3.3], 1.374499418939846: [3.31], 1.3744732671362545: [3.32], 1.37444768184053: [3.33], 1.3744226590559077: [3.34], 1.3743981948180537: [3.35], 1.3743742851946656: [3.36], 1.3743509262851659: [3.37], 1.374328114220427: [3.38], 1.374305845162423: [3.39], 1.3742841153039644: [3.4], 1.3742629208683539: [3.41], 1.3742422581090674: [3.42], 1.3742221233095901: [3.43], 1.374202512782945: [3.44], 1.3741834228715109: [3.45], 1.3741648499467505: [3.46], 1.3741467904088598: [3.47], 1.3741292406865506: [3.48], 1.3741121972367336: [3.49], 1.3740956565442795: [3.5], 1.374079615121736: [3.51], 1.3740640695090525: [3.52], 1.3740490162733343: [3.53], 1.3740344520085666: [3.54], 1.3740203733354033: [3.55], 1.3740067769008413: [3.56], 1.3739936593780167: [3.57], 1.373981017465964: [3.58], 1.3739688478893717: [3.59], 1.3739571473982628: [3.6], 1.3739459127678748: [3.61], 1.3739351407983578: [3.62], 1.3739248283145413: [3.63], 1.373914972165733: [3.64], 1.3739055692254154: [3.65], 1.3738966163911321: [3.66], 1.3738881105841876: [3.67], 1.3738800487494442: [3.68], 1.3738724278551049: [3.69], 1.3738652448924864: [3.7], 1.373858496875846: [3.71], 1.3738521808421202: [3.72], 1.3738462938507363: [3.73], 1.3738408329834477: [3.74], 1.3738357953440128: [3.75], 1.37383117805814: [3.76], 1.373826978273183: [3.77], 1.3738231931580016: [3.78], 1.3738198199027207: [3.79], 1.3738168557800738: [3.8], 1.3738142978990602: [3.81], 1.3738121435740749: [3.82], 1.3738103900785799: [3.83], 1.3738090347062961: [3.84], 1.3738080747711094: [3.85], 1.373807507606869: [3.86], 1.373807330567233: [3.87], 1.3738075410254955: [3.88], 1.3738081363743908: [3.89], 1.3738091140259203: [3.9], 1.3738104714112054: [3.91], 1.3738122059802802: [3.92], 1.373814315201978: [3.93], 1.3738167965637023: [3.94], 1.373819647571298: [3.95], 1.3738228657489204: [3.96], 1.373826448638787: [3.97], 1.3738303938011105: [3.98], 1.3738346988138779: [3.99], 1.3738393612727267: [4.0], 1.3738443787907801: [4.01], 1.3738497489985009: [4.02], 1.3738554695435516: [4.03], 1.3738615380905845: [4.04], 1.3738679523211903: [4.05], 1.3738747099336692: [4.06], 1.3738818086429407: [4.07], 1.373889246180359: [4.08], 1.3738970202936058: [4.09], 1.373905128746522: [4.1], 1.3739135693189954: [4.11], 1.3739223398068088: [4.12], 1.3739314380214858: [4.13], 1.373940861790206: [4.14], 1.3739506089556077: [4.15], 1.3739606773757242: [4.16], 1.3739710649238073: [4.17], 1.3739817694881913: [4.18], 1.3739927889722086: [4.19], 1.3740041212940373: [4.2], 1.374015764386548: [4.21], 1.374027716197249: [4.22], 1.3740399746881107: [4.23], 1.3740525378354422: [4.24], 1.3740654036297917: [4.25], 1.3740785700758427: [4.26], 1.3740920351922428: [4.27], 1.3741057970115427: [4.28], 1.3741198535800427: [4.29], 1.3741342029577304: [4.3], 1.374148843218058: [4.31], 1.3741637724479707: [4.32], 1.374178988747712: [4.33], 1.3741944902306877: [4.34], 1.374210275023446: [4.35], 1.374226341265507: [4.36], 1.374242687109264: [4.37], 1.3742593107198977: [4.38], 1.3742762102752488: [4.39], 1.3742933839657163: [4.4], 1.3743108299942004: [4.41], 1.374328546575908: [4.42], 1.374346531938345: [4.43], 1.3743647843211888: [4.44], 1.3743833019761456: [4.45], 1.3744020831668962: [4.46], 1.3744211261690311: [4.47], 1.3744404292698456: [4.48], 1.3744599907683646: [4.49], 1.3744798089751746: [4.5], 1.3744998822123762: [4.51], 1.3745202088134216: [4.52], 1.3745407871231283: [4.53], 1.3745616154974982: [4.54], 1.3745826923036506: [4.55], 1.374604015919767: [4.56], 1.3746255847349758: [4.57], 1.3746473971492466: [4.58], 1.3746694515733684: [4.59], 1.3746917464287798: [4.6], 1.3747142801475551: [4.61], 1.374737051172275: [4.62], 1.374760057955959: [4.63], 1.3747832989619988: [4.64], 1.3748067726640587: [4.65], 1.374830477545997: [4.66], 1.3748544121017803: [4.67], 1.3748785748354273: [4.68], 1.374902964260894: [4.69], 1.3749275789020443: [4.7], 1.3749524172925134: [4.71], 1.374977478035395: [4.72], 1.375002759564247: [4.73], 1.3750282605013207: [4.74], 1.3750539794188537: [4.75], 1.3750799148983548: [4.76], 1.3751060655307348: [4.77], 1.3751324299161656: [4.78], 1.3751590066640322: [4.79], 1.3751857943928576: [4.8], 1.3752127917302293: [4.81], 1.3752399973127643: [4.82], 1.375267409785995: [4.83], 1.3752950278043048: [4.84], 1.3753228500308885: [4.85], 1.3753508751376593: [4.86], 1.3753791018052013: [4.87], 1.3754075287226855: [4.88], 1.3754361545878235: [4.89], 1.3754649781067982: [4.9], 1.3754939979941625: [4.91], 1.375523212972864: [4.92], 1.3755526217740546: [4.93], 1.3755822231371486: [4.94], 1.3756120158097107: [4.95], 1.3756419985473594: [4.96], 1.3756721701137944: [4.97], 1.3757025292806382: [4.98], 1.3757330748274368: [4.99], 1.3757638055415922: [5.0], 1.3757947202182979: [5.01], 1.375825817660446: [5.02], 1.3758570966786836: [5.03], 1.3758885560911829: [5.04], 1.375920194723725: [5.05], 1.3759520114095958: [5.06], 1.3759840049895395: [5.07], 1.3760161743116437: [5.08], 1.3760485182314013: [5.09]})\n"
     ]
    }
   ],
   "source": [
    "print(lamb1_mse)"
   ],
   "metadata": {
    "collapsed": false
   }
  },
  {
   "cell_type": "code",
   "execution_count": 65,
   "outputs": [
    {
     "name": "stdout",
     "output_type": "stream",
     "text": [
      "Optimal λ1: [3.87] ; MSE: 1.373807330567233\n"
     ]
    }
   ],
   "source": [
    "# Optimal λ\n",
    "best_mse = min(mse)\n",
    "best_lamda1 = lamb1_mse[best_mse]\n",
    "print(\"Optimal λ1:\", best_lamda1, \"; MSE:\", best_mse)"
   ],
   "metadata": {
    "collapsed": false
   }
  },
  {
   "cell_type": "code",
   "execution_count": 66,
   "outputs": [],
   "source": [
    "# calculate initial value of alpha,beta_user and beta_book\n",
    "# computer the global mean\n",
    "# computer the global mean\n",
    "globalAverage = sum([d[\"rating\"] for d in data_train]) / len(data_train)\n",
    "globalAverage\n",
    "\n",
    "alpha = globalAverage\n",
    "\n",
    "# beta_user,beta_book\n",
    "userBias = defaultdict(float)\n",
    "for u in userRatings:\n",
    "    userBias[u] = globalAverage - (sum(userRatings[u]) / len(userRatings[u]))\n",
    "\n",
    "bookBias = defaultdict(float)\n",
    "for b in bookRatings:\n",
    "    bookBias[b] = globalAverage - (sum(bookRatings[b]) / len(bookRatings[b]))"
   ],
   "metadata": {
    "collapsed": false
   }
  },
  {
   "cell_type": "code",
   "execution_count": 67,
   "outputs": [
    {
     "name": "stdout",
     "output_type": "stream",
     "text": [
      "66\n",
      "30\n",
      "30\n",
      "30\n",
      "30\n",
      "30\n",
      "30\n",
      "30\n",
      "30\n",
      "30\n",
      "30\n",
      "30\n",
      "30\n",
      "30\n",
      "30\n",
      "30\n",
      "30\n",
      "30\n",
      "30\n",
      "29\n",
      "29\n",
      "29\n",
      "29\n",
      "29\n",
      "29\n",
      "29\n",
      "29\n",
      "29\n",
      "29\n",
      "29\n",
      "29\n",
      "29\n",
      "29\n",
      "29\n",
      "29\n",
      "29\n",
      "29\n",
      "29\n",
      "29\n",
      "29\n",
      "29\n",
      "29\n",
      "29\n",
      "29\n",
      "29\n",
      "29\n",
      "29\n",
      "29\n",
      "29\n",
      "29\n",
      "29\n",
      "29\n",
      "29\n",
      "29\n",
      "29\n",
      "29\n",
      "29\n",
      "29\n",
      "29\n",
      "29\n"
     ]
    }
   ],
   "source": [
    "lamb2 = [i/100 for i in range(1450,1510)]\n",
    "mse = []\n",
    "lamb2_mse = defaultdict(list)\n",
    "#when optimal the lamb1,epsilon should be bigger\n",
    "for r2 in lamb2:\n",
    "    globalAverage_new, userBias_new, bookBias_new = differenciate(\n",
    "        globalAverage, userBias, bookBias, 3.87, r2, epsilon=1e-05\n",
    "    )\n",
    "    m = MSE(data_valid)\n",
    "    lamb2_mse[m]=[r2]\n",
    "    mse.append(m)"
   ],
   "metadata": {
    "collapsed": false
   }
  },
  {
   "cell_type": "code",
   "execution_count": 68,
   "outputs": [
    {
     "name": "stdout",
     "output_type": "stream",
     "text": [
      "defaultdict(<class 'list'>, {1.373807510382738: [14.5], 1.3738073847405632: [14.51], 1.3738072646768218: [14.52], 1.3738071497249675: [14.53], 1.373807039874539: [14.54], 1.3738069351153697: [14.55], 1.3738068354373298: [14.56], 1.3738067408302994: [14.57], 1.3738066512841751: [14.58], 1.3738065667889046: [14.59], 1.3738064873344247: [14.6], 1.3738064129107206: [14.61], 1.3738063435077963: [14.62], 1.3738062791156729: [14.63], 1.3738062197243948: [14.64], 1.3738061653240408: [14.65], 1.37380611590469: [14.66], 1.3738060714564768: [14.67], 1.3738060319695198: [14.68], 1.3738059973722718: [14.69], 1.3738059677784706: [14.7], 1.37380594311652: [14.71], 1.3738059233766238: [14.72], 1.373805908549032: [14.73], 1.3738058986240058: [14.74], 1.373805893591847: [14.75], 1.3738058934428816: [14.76], 1.373805898167447: [14.77], 1.3738059077559042: [14.78], 1.3738059221986412: [14.79], 1.373805941486058: [14.8], 1.3738059656085977: [14.81], 1.3738059945567123: [14.82], 1.3738060283208535: [14.83], 1.373806066891545: [14.84], 1.3738061102592856: [14.85], 1.3738061584146222: [14.86], 1.3738062113481095: [14.87], 1.3738062690503257: [14.88], 1.373806331511885: [14.89], 1.3738063987234201: [14.9], 1.3738064706755528: [14.91], 1.373806547358971: [14.92], 1.3738066287643578: [14.93], 1.3738067148824096: [14.94], 1.3738068057038821: [14.95], 1.3738069012195102: [14.96], 1.3738070014200807: [14.97], 1.3738071062963697: [14.98], 1.3738072158392223: [14.99], 1.3738073300394469: [15.0], 1.3738074488879162: [15.01], 1.3738075723754928: [15.02], 1.3738077004930906: [15.03], 1.3738078332316268: [15.04], 1.3738079705820385: [15.05], 1.3738081125352846: [15.06], 1.3738082590823484: [15.07], 1.3738084102142303: [15.08], 1.3738085659219588: [15.09]})\n"
     ]
    }
   ],
   "source": [
    "print(lamb2_mse)"
   ],
   "metadata": {
    "collapsed": false
   }
  },
  {
   "cell_type": "code",
   "execution_count": 69,
   "outputs": [
    {
     "name": "stdout",
     "output_type": "stream",
     "text": [
      "Optimal λ1: [14.76] ; MSE: 1.3738058934428816\n"
     ]
    }
   ],
   "source": [
    "# Optimal λ\n",
    "best_mse = min(mse)\n",
    "best_lamda2 = lamb2_mse[best_mse]\n",
    "print(\"Optimal λ2:\", best_lamda2, \"; MSE:\", best_mse)"
   ],
   "metadata": {
    "collapsed": false
   }
  },
  {
   "cell_type": "code",
   "execution_count": null,
   "outputs": [],
   "source": [
    "#finetuning the epsilon"
   ],
   "metadata": {
    "collapsed": false
   }
  },
  {
   "cell_type": "code",
   "execution_count": 70,
   "outputs": [
    {
     "name": "stdout",
     "output_type": "stream",
     "text": [
      "53\n",
      "9\n",
      "9\n",
      "9\n",
      "8\n",
      "7\n",
      "8\n",
      "2\n",
      "2\n"
     ]
    }
   ],
   "source": [
    "mse = []\n",
    "epsilon_mse = defaultdict()\n",
    "epsilons = [10**(-i) for i in range(6,15)]\n",
    "for epsilon in epsilons:\n",
    "    globalAverage_new, userBias_new, bookBias_new = differenciate(\n",
    "        globalAverage, userBias, bookBias, 3.87,14.76, epsilon\n",
    "    )\n",
    "    m = MSE(data_valid)\n",
    "    epsilon_mse[m]=epsilon\n",
    "    mse.append(m)"
   ],
   "metadata": {
    "collapsed": false
   }
  },
  {
   "cell_type": "code",
   "execution_count": 71,
   "outputs": [
    {
     "name": "stdout",
     "output_type": "stream",
     "text": [
      "defaultdict(None, {1.3738058937407898: 1e-06, 1.37380589372046: 1e-07, 1.3738058937183002: 1e-08, 1.3738058937180793: 1e-09, 1.3738058937180517: 1e-10, 1.373805893718053: 1e-11, 1.3738058937180533: 1e-12, 1.3738058937180537: 1e-14})\n"
     ]
    }
   ],
   "source": [
    "print(epsilon_mse)"
   ],
   "metadata": {
    "collapsed": false
   }
  },
  {
   "cell_type": "code",
   "execution_count": 72,
   "outputs": [
    {
     "name": "stdout",
     "output_type": "stream",
     "text": [
      "Optimal epsilon: 1e-10 ; MSE: 1.3738058937180517\n"
     ]
    }
   ],
   "source": [
    "# Optimal λ\n",
    "best_mse = min(mse)\n",
    "best_epsilon = epsilon_mse[best_mse]\n",
    "print(\"Optimal epsilon:\", best_epsilon, \"; MSE:\", best_mse)"
   ],
   "metadata": {
    "collapsed": false
   }
  },
  {
   "cell_type": "code",
   "execution_count": null,
   "outputs": [],
   "source": [],
   "metadata": {
    "collapsed": false
   }
  },
  {
   "cell_type": "code",
   "execution_count": 173,
   "outputs": [
    {
     "name": "stdout",
     "output_type": "stream",
     "text": [
      "Optimal λ3: [3, 14, 13] ; MSE: 1.3744219296698006\n"
     ]
    }
   ],
   "source": [],
   "metadata": {
    "collapsed": false
   }
  },
  {
   "cell_type": "code",
   "execution_count": 20,
   "metadata": {},
   "outputs": [],
   "source": []
  },
  {
   "cell_type": "code",
   "execution_count": null,
   "outputs": [],
   "source": [],
   "metadata": {
    "collapsed": false
   }
  },
  {
   "cell_type": "code",
   "execution_count": null,
   "outputs": [],
   "source": [],
   "metadata": {
    "collapsed": false
   }
  },
  {
   "cell_type": "code",
   "execution_count": 15,
   "outputs": [],
   "source": [],
   "metadata": {
    "collapsed": false
   }
  },
  {
   "cell_type": "code",
   "execution_count": null,
   "outputs": [],
   "source": [],
   "metadata": {
    "collapsed": false
   }
  },
  {
   "cell_type": "code",
   "execution_count": null,
   "metadata": {},
   "outputs": [],
   "source": []
  },
  {
   "cell_type": "markdown",
   "source": [
    "#### USE ALL the DATA"
   ],
   "metadata": {
    "collapsed": false
   }
  },
  {
   "cell_type": "code",
   "execution_count": 36,
   "outputs": [
    {
     "data": {
      "text/plain": "3.687005"
     },
     "execution_count": 36,
     "metadata": {},
     "output_type": "execute_result"
    }
   ],
   "source": [
    "# computer the global mean\n",
    "globalAverage = sum([d[\"rating\"] for d in datasets]) / len(datasets)\n",
    "globalAverage"
   ],
   "metadata": {
    "collapsed": false
   }
  },
  {
   "cell_type": "code",
   "execution_count": 37,
   "outputs": [],
   "source": [
    "# calculate initial value of alpha,beta_user and beta_book\n",
    "alpha = globalAverage\n",
    "userRatings = defaultdict(list)\n",
    "bookRatings = defaultdict(list)\n",
    "\n",
    "for l in datasets:\n",
    "    user, book = l[\"userID\"], l[\"bookID\"]\n",
    "    userRatings[user].append(l[\"rating\"])\n",
    "    bookRatings[book].append(l[\"rating\"])\n",
    "\n",
    "# beta_user,beta_book\n",
    "userBias = defaultdict(float)\n",
    "for u in userRatings:\n",
    "    userBias[u] = globalAverage - (sum(userRatings[u]) / len(userRatings[u]))\n",
    "\n",
    "bookBias = defaultdict(float)\n",
    "for b in bookRatings:\n",
    "    bookBias[b] = globalAverage - (sum(bookRatings[b]) / len(bookRatings[b]))"
   ],
   "metadata": {
    "collapsed": false
   }
  },
  {
   "cell_type": "code",
   "execution_count": 38,
   "outputs": [],
   "source": [
    "# define function for optimization\n",
    "def differenciate(globalAverage, userBias, bookBias, lamb1,lamb2, epsilon):\n",
    "    end = False\n",
    "    globalAverage_last = 0\n",
    "    userBias_last = userBias\n",
    "    bookBias_last = bookBias\n",
    "    MSE_last = 0\n",
    "    cost_last = 0\n",
    "    dataset = datasets\n",
    "    while not end:\n",
    "        # update alpha\n",
    "        globalAverage = 0\n",
    "        for i in dataset:\n",
    "            user, book = i[\"userID\"], i[\"bookID\"]\n",
    "            globalAverage += i[\"rating\"] - userBias_last[user] - bookBias_last[book]\n",
    "\n",
    "        globalAverage = globalAverage / len(dataset)\n",
    "\n",
    "        # update beta_user\n",
    "        num_book = defaultdict(int)\n",
    "        for u in userBias:\n",
    "            userBias[u] = 0\n",
    "        for i in dataset:\n",
    "            user, book = i[\"userID\"], i[\"bookID\"]\n",
    "            num_book[user] += 1\n",
    "            userBias[user] += i[\"rating\"] - globalAverage - bookBias_last[book]\n",
    "        for u in userBias:\n",
    "            userBias[u] = userBias[u] / (lamb1 + num_book[u])\n",
    "\n",
    "        # update beta_book\n",
    "        num_user = defaultdict(int)\n",
    "        for b in bookBias:\n",
    "            bookBias[b] = 0\n",
    "        for i in dataset:\n",
    "            user, book = i[\"userID\"], i[\"bookID\"]\n",
    "            num_user[book] += 1\n",
    "            bookBias[book] += i[\"rating\"] - globalAverage - userBias[user]\n",
    "        for b in bookBias:\n",
    "            bookBias[b] = bookBias[b] / (lamb2 + num_user[b])\n",
    "\n",
    "        predictions = []\n",
    "\n",
    "        for d in dataset:\n",
    "            user = d[\"userID\"]\n",
    "            book = d[\"bookID\"]\n",
    "            if user in userBias and book in bookBias:\n",
    "                result = globalAverage + userBias[user] + bookBias[book]\n",
    "            else:\n",
    "                result = globalAverage\n",
    "            predictions.append(result)\n",
    "\n",
    "        labels = [l[\"rating\"] for l in dataset]\n",
    "        differences = [(x - y) ** 2 for x, y in zip(predictions, labels)]\n",
    "        MSE = sum(differences) / len(differences)\n",
    "\n",
    "        cost = MSE\n",
    "        for u in userBias:\n",
    "            cost += lamb1 * (userBias[u]**2)\n",
    "        for i in bookBias:\n",
    "            cost += lamb2 * (bookBias[i]**2)\n",
    "\n",
    "\n",
    "        if (\n",
    "            abs(MSE - MSE_last) < epsilon\n",
    "            and abs(cost - cost_last) < epsilon\n",
    "        ):\n",
    "            end = True\n",
    "        else:\n",
    "            globalAverage_last = globalAverage\n",
    "            userBias_last = userBias\n",
    "            bookBias_last = bookBias\n",
    "            MSE_last = MSE\n",
    "            cost_last = cost\n",
    "\n",
    "    return globalAverage, userBias, bookBias"
   ],
   "metadata": {
    "collapsed": false
   }
  },
  {
   "cell_type": "code",
   "execution_count": 39,
   "outputs": [],
   "source": [
    "\n",
    "globalAverage_new, userBias_new, bookBias_new = differenciate(\n",
    "    globalAverage, userBias, bookBias, 3.87,14.76, epsilon=1e-7)\n",
    "'''\n",
    "globalAverage_new, userBias_new, bookBias_new, pairBias_new = differenciate2(globalAverage, userBias, bookBias, pairBias, 3.853, 14.74, 600, epsilon=1e-07)\n",
    "'''"
   ],
   "metadata": {
    "collapsed": false
   }
  },
  {
   "cell_type": "code",
   "execution_count": 41,
   "outputs": [],
   "source": [
    "predictions = open(\"/Users/gakiara/Desktop/258R/assignment1/predictions_Rating.csv\", \"w\")\n",
    "for l in open(\"/Users/gakiara/Desktop/258R/assignment1/pairs_Rating.csv\"):\n",
    "    if l.startswith(\"userID\"):\n",
    "        # header\n",
    "        predictions.write(l)\n",
    "        continue\n",
    "    u, b = l.strip().split(\",\")\n",
    "    p = prediction(u, b)\n",
    "    predictions.write(u + \",\" + b + \",\" + str(p) + \"\\n\")\n",
    "predictions.close()\n",
    "#1.4547551286"
   ],
   "metadata": {
    "collapsed": false
   }
  },
  {
   "cell_type": "code",
   "execution_count": null,
   "outputs": [],
   "source": [],
   "metadata": {
    "collapsed": false
   }
  }
 ],
 "metadata": {
  "kernelspec": {
   "display_name": "Python 3",
   "language": "python",
   "name": "python3"
  },
  "language_info": {
   "codemirror_mode": {
    "name": "ipython",
    "version": 3
   },
   "file_extension": ".py",
   "mimetype": "text/x-python",
   "name": "python",
   "nbconvert_exporter": "python",
   "pygments_lexer": "ipython3",
   "version": "3.6.9"
  }
 },
 "nbformat": 4,
 "nbformat_minor": 4
}
