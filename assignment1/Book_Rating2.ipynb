{
 "cells": [
  {
   "cell_type": "code",
   "execution_count": 171,
   "outputs": [],
   "source": [
    "import gzip\n",
    "import numpy as np\n",
    "import csv\n",
    "import matplotlib.pyplot as plt\n",
    "from collections import defaultdict\n",
    "from mpl_toolkits.mplot3d import Axes3D"
   ],
   "metadata": {
    "collapsed": false
   }
  },
  {
   "cell_type": "code",
   "execution_count": 172,
   "outputs": [],
   "source": [
    "# input file using gzip\n",
    "path = \"train_Interactions.csv.gz\"\n",
    "path = \"/Users/gakiara/Desktop/258R/assignment1/train_Interactions.csv.gz\"\n",
    "f = gzip.open(path, \"rt\", encoding=\"utf8\")\n",
    "reader = csv.reader(f, delimiter=\",\")"
   ],
   "metadata": {
    "collapsed": false
   }
  },
  {
   "cell_type": "code",
   "execution_count": 173,
   "outputs": [],
   "source": [
    "# reading the file to build datasets\n",
    "datasets = []\n",
    "first = True\n",
    "for line in reader:\n",
    "    if first:\n",
    "        header = line\n",
    "        first = False\n",
    "    else:\n",
    "        d = dict(zip(header, line))\n",
    "        # convert strings to integers for some fields\n",
    "        d[\"rating\"] = int(d[\"rating\"])\n",
    "        datasets.append(d)"
   ],
   "metadata": {
    "collapsed": false
   }
  },
  {
   "cell_type": "code",
   "execution_count": 174,
   "outputs": [],
   "source": [
    "# -*- coding: utf-8 -*-\n",
    "import numpy as np\n",
    "import scipy.optimize\n",
    "import random\n",
    "import csv\n",
    "import gzip\n",
    "from collections import defaultdict\n",
    "import matplotlib.pylab as plt\n",
    "\n",
    "\n",
    "# input file using gzip\n",
    "path = \"train_Interactions.csv.gz\"\n",
    "path = \"/Users/gakiara/Desktop/258R/assignment1/train_Interactions.csv.gz\"\n",
    "f = gzip.open(path, \"rt\", encoding=\"utf8\")\n",
    "reader = csv.reader(f, delimiter=\",\")\n",
    "\n",
    "# reading the file to build datasets\n",
    "datasets = []\n",
    "first = True\n",
    "for line in reader:\n",
    "    if first:\n",
    "        header = line\n",
    "        first = False\n",
    "    else:\n",
    "        d = dict(zip(header, line))\n",
    "        # convert strings to integers for some fields\n",
    "        d[\"rating\"] = int(d[\"rating\"])\n",
    "        datasets.append(d)\n",
    "\n",
    "size = len(datasets)\n",
    "allPair = []\n",
    "for l in datasets:\n",
    "    user, business, rating = l['userID'], l['bookID'], l['rating']\n",
    "    allPair.append((user, business, rating))\n",
    "\n",
    "\n",
    "trainSize = int(0.95 * size)\n",
    "trainPair = allPair[:trainSize]\n",
    "validPair = allPair[trainSize:]\n",
    "uniUser = np.unique([p[0] for p in allPair[:trainSize]])\n",
    "uniBusi = np.unique([p[1] for p in allPair[:trainSize]])\n",
    "\n",
    "userBusi_train = defaultdict(list)\n",
    "busiUser_train = defaultdict(list)\n",
    "for l in datasets[:trainSize]:\n",
    "    user, busi, rating = l['userID'], l['bookID'], l['rating']\n",
    "    userBusi_train[user].append((busi, rating))\n",
    "    busiUser_train[busi].append((user, rating))\n",
    "\n",
    "\n",
    "# evaluate performance\n",
    "def predict(user, busi, theta):\n",
    "    length = len(theta)\n",
    "    if length == 3:\n",
    "        alpha, betaU, betaB = theta\n",
    "    elif length == 5:\n",
    "        alpha, betaU, betaB, gammaU, gammaB = theta\n",
    "    else:\n",
    "        print\n",
    "        'theta do not match!'\n",
    "        return 0\n",
    "    beta_u = betaU[user] if user in betaU else 0\n",
    "    beta_b = betaB[busi] if busi in betaB else 0\n",
    "    gamma_u = gammaU[user] if length == 5 and user in gammaU else np.zeros(1)\n",
    "    gamma_b = gammaB[busi] if length == 5 and busi in gammaB else np.zeros(1)\n",
    "    result = alpha + beta_u + beta_b + sum(gamma_u * gamma_b)\n",
    "    if result < 0.75: result = 0\n",
    "    if result > 0.75 and result < 1.25:\n",
    "        if  result > 0.9 and result < 1.1:\n",
    "            result = 1\n",
    "        else:\n",
    "            result = 0\n",
    "    if result > 1.9 and result < 2.1: result = 2\n",
    "    if result > 4.9: result = 5\n",
    "    #    if user in uniUser:\n",
    "    #        beta_u = betaU[user]\n",
    "    #        if length == 5:\n",
    "    #            gamma_u = gammaU[user]\n",
    "    #    if busi in uniBusi:\n",
    "    #        beta_b = betaB[busi]\n",
    "    #        if length == 5:\n",
    "    #            gamma_b = gammaB[busi]\n",
    "    return result\n",
    "\n",
    "\n",
    "def meanSquaredError(dataset, theta):\n",
    "    size = len(dataset)\n",
    "    error = 0\n",
    "    for (user, busi, rating) in dataset:\n",
    "        prediction = predict(user, busi, theta)\n",
    "        error = error + (prediction - rating) ** 2 / size\n",
    "    #        count += 1\n",
    "    #        if count%5000==0:\n",
    "    #            print count\n",
    "    print\n",
    "    'MSE: ' + str(error)\n",
    "    return error\n",
    "\n",
    "\n",
    "# latent factor model (alpha, beta)\n",
    "def LFM1(lam, max_iter):\n",
    "    alpha = 0.1\n",
    "    betaU = {i: 0.0 for i in uniUser}\n",
    "    betaB = {i: 0.0 for i in uniBusi}\n",
    "    for it in range(max_iter):\n",
    "        alpha = 0\n",
    "        loss = 0\n",
    "        for (user, busi, rating) in trainPair:\n",
    "            alpha += (rating - betaU[user] - betaB[busi]) / len(trainPair)\n",
    "        for (user, busi, rating) in trainPair:\n",
    "            diff = alpha + betaU[user] + betaB[busi] - rating\n",
    "            loss += diff ** 2\n",
    "        squareError = loss\n",
    "        for (user, busi_list) in userBusi_train.items():\n",
    "            betaU[user] = 0\n",
    "            for (busi, rating) in busi_list:\n",
    "                betaU[user] += (rating - alpha - betaB[busi]) / (lam + \\\n",
    "                                                                 len(busi_list))\n",
    "            loss += lam * (betaU[user] ** 2)\n",
    "        for (busi, user_list) in busiUser_train.items():\n",
    "            betaB[busi] = 0\n",
    "            for (user, rating) in user_list:\n",
    "                betaB[busi] += (rating - alpha - betaU[user]) / (lam + \\\n",
    "                                                                 len(user_list))\n",
    "            loss += lam * (betaB[busi] ** 2)\n",
    "        if (it + 1) % 5 == 0:\n",
    "            print('iteration: ' + str(it + 1))\n",
    "            print(loss/len(trainPair), squareError/len(trainPair))\n",
    "            meanSquaredError(validPair, [alpha, betaU, betaB])\n",
    "    return alpha, betaU, betaB"
   ],
   "metadata": {
    "collapsed": false
   }
  },
  {
   "cell_type": "code",
   "execution_count": 175,
   "outputs": [
    {
     "name": "stdout",
     "output_type": "stream",
     "text": [
      "190000\n"
     ]
    }
   ],
   "source": [
    "print(len(trainPair))\n",
    "#alpha, betaU, betaB = LFM1(lam=3.97, max_iter=100)\n",
    "#MSE_train1 = meanSquaredError(trainPair, [alpha, betaU, betaB])\n",
    "#MSE_valid1 = meanSquaredError(validPair, [alpha, betaU, betaB])\n",
    "#print(MSE_train1)\n",
    "#print(MSE_valid1)"
   ],
   "metadata": {
    "collapsed": false
   }
  },
  {
   "cell_type": "code",
   "execution_count": 176,
   "outputs": [],
   "source": [
    "# latent factor model (alpha, beta, gamma)\n",
    "def LFM2(lam1,lam2, K, learnRate,learnRate2, max_iter):\n",
    "    errList = []\n",
    "    alpha = 0\n",
    "    gammaU = {i: np.random.rand(K) / 10 - 0.05 for i in uniUser}\n",
    "    gammaB = {i: np.random.rand(K) / 10 - 0.05 for i in uniBusi}\n",
    "    betaU = {i: 0.2 for i in uniUser}\n",
    "    betaB = {i: 0.2 for i in uniBusi}\n",
    "    leng = 10**10\n",
    "    for it in range(max_iter):\n",
    "        alpha = 0\n",
    "        #loss = 0\n",
    "\n",
    "        gra_gammaU = {user: lam1 * gammaU[user] for user in uniUser}\n",
    "        gra_gammaB = {busi: lam2 * gammaB[busi] for busi in uniBusi}\n",
    "        for (user, busi, rating) in trainPair:\n",
    "            alpha += (rating - betaU[user] - betaB[busi] - np.inner(gammaU[user], gammaB[busi])) / len(trainPair)\n",
    "\n",
    "        for (user, busi, rating) in trainPair:\n",
    "            diff = alpha + betaU[user] + betaB[busi] + np.inner(gammaU[user], gammaB[busi]) - rating\n",
    "            gra_gammaU[user] += gammaB[busi] * diff\n",
    "            gra_gammaB[busi] += gammaU[user] * diff\n",
    "            #loss += (diff/leng) ** 2\n",
    "        #squareError = loss\n",
    "        for (user, busi_list) in userBusi_train.items():\n",
    "            gammaU[user] -= learnRate * gra_gammaU[user]\n",
    "            betaU[user] = 0\n",
    "            for (busi, rating) in busi_list:\n",
    "                betaU[user] += (rating - alpha - betaB[busi] - np.inner(gammaU[user], gammaB[busi])) / (\n",
    "                            lam1 + len(busi_list))\n",
    "            #loss += lam * ((betaU[user]/leng) ** 2 + sum((gammaU[user]/leng) ** 2))\n",
    "        for (busi, user_list) in busiUser_train.items():\n",
    "            gammaB[busi] -= learnRate2 * gra_gammaB[busi]\n",
    "            betaB[busi] = 0\n",
    "            for (user, rating) in user_list:\n",
    "                betaB[busi] += (rating - alpha - betaU[user] - np.inner(gammaU[user], gammaB[busi])) / (\n",
    "                            lam2 + len(user_list))\n",
    "            #loss += lam * ((betaB[busi]/leng) ** 2 + sum((gammaB[busi]/leng) ** 2))\n",
    "        '''\n",
    "        if squareError*factor < 1 and squareError*factor > 0.9:\n",
    "            learnRate /= 10\n",
    "        if squareError*factor < 0.9 and squareError*factor > 0.8:\n",
    "            learnRate /= 10\n",
    "        '''\n",
    "        if (it + 1) % 1 == 0:\n",
    "            print('iteration: ' + str(it + 1))\n",
    "            factor = leng**2/len(trainPair)\n",
    "            #print(loss*factor, squareError*factor)\n",
    "            err = meanSquaredError(validPair, [alpha, betaU, betaB, gammaU, gammaB])\n",
    "            if err < 1.3730:\n",
    "                break\n",
    "            err2 = meanSquaredError(trainPair, [alpha, betaU, betaB, gammaU, gammaB])\n",
    "            print(err,err2)\n",
    "            errList.append(err2)\n",
    "        if len(errList)>2 and np.abs(errList[-1] - errList[-2]) < 10**-6:\n",
    "            break\n",
    "\n",
    "\n",
    "    return alpha, betaU, betaB, gammaU, gammaB"
   ],
   "metadata": {
    "collapsed": false
   }
  },
  {
   "cell_type": "code",
   "execution_count": 177,
   "outputs": [],
   "source": [
    "# latent factor model (alpha, beta, gamma)\n",
    "def LFM_finetune(lam1,lam2, learnRate,learnRate2, max_iter,gU,gB):\n",
    "    errList = []\n",
    "    alpha = 0\n",
    "    gammaU = gU\n",
    "    gammaB = gB\n",
    "    betaU = {i: 0.2 for i in uniUser}\n",
    "    betaB = {i: 0.2 for i in uniBusi}\n",
    "    leng = 10**10\n",
    "    for it in range(max_iter):\n",
    "        alpha = 0\n",
    "        #loss = 0\n",
    "\n",
    "        gra_gammaU = {user: lam1 * gammaU[user] for user in uniUser}\n",
    "        gra_gammaB = {busi: lam2 * gammaB[busi] for busi in uniBusi}\n",
    "        for (user, busi, rating) in trainPair:\n",
    "            alpha += (rating - betaU[user] - betaB[busi] - np.inner(gammaU[user], gammaB[busi])) / len(trainPair)\n",
    "\n",
    "        for (user, busi, rating) in trainPair:\n",
    "            diff = alpha + betaU[user] + betaB[busi] + np.inner(gammaU[user], gammaB[busi]) - rating\n",
    "            gra_gammaU[user] += gammaB[busi] * diff\n",
    "            gra_gammaB[busi] += gammaU[user] * diff\n",
    "            #loss += (diff/leng) ** 2\n",
    "        #squareError = loss\n",
    "        for (user, busi_list) in userBusi_train.items():\n",
    "            gammaU[user] -= learnRate * gra_gammaU[user]\n",
    "            betaU[user] = 0\n",
    "            for (busi, rating) in busi_list:\n",
    "                betaU[user] += (rating - alpha - betaB[busi] - np.inner(gammaU[user], gammaB[busi])) / (\n",
    "                            lam1 + len(busi_list))\n",
    "            #loss += lam * ((betaU[user]/leng) ** 2 + sum((gammaU[user]/leng) ** 2))\n",
    "        for (busi, user_list) in busiUser_train.items():\n",
    "            gammaB[busi] -= learnRate2 * gra_gammaB[busi]\n",
    "            betaB[busi] = 0\n",
    "            for (user, rating) in user_list:\n",
    "                betaB[busi] += (rating - alpha - betaU[user] - np.inner(gammaU[user], gammaB[busi])) / (\n",
    "                            lam2 + len(user_list))\n",
    "            #loss += lam * ((betaB[busi]/leng) ** 2 + sum((gammaB[busi]/leng) ** 2))\n",
    "        '''\n",
    "        if squareError*factor < 1 and squareError*factor > 0.9:\n",
    "            learnRate /= 10\n",
    "        if squareError*factor < 0.9 and squareError*factor > 0.8:\n",
    "            learnRate /= 10\n",
    "        '''\n",
    "        if (it + 1) % 1 == 0:\n",
    "            print('iteration: ' + str(it + 1))\n",
    "            factor = leng**2/len(trainPair)\n",
    "            #print(loss*factor, squareError*factor)\n",
    "            err = meanSquaredError(validPair, [alpha, betaU, betaB, gammaU, gammaB])\n",
    "            err2 = meanSquaredError(trainPair, [alpha, betaU, betaB, gammaU, gammaB])\n",
    "            print(err,err2)\n",
    "            errList.append(err2)\n",
    "        if len(errList)>2 and np.abs(errList[-1] - errList[-2]) < 10**-6:\n",
    "            break\n",
    "\n",
    "\n",
    "    return alpha, betaU, betaB, gammaU, gammaB"
   ],
   "metadata": {
    "collapsed": false
   }
  },
  {
   "cell_type": "code",
   "execution_count": 178,
   "outputs": [
    {
     "name": "stdout",
     "output_type": "stream",
     "text": [
      "200000\n"
     ]
    }
   ],
   "source": [
    "print(len(allPair))"
   ],
   "metadata": {
    "collapsed": false
   }
  },
  {
   "cell_type": "code",
   "execution_count": 179,
   "outputs": [
    {
     "name": "stdout",
     "output_type": "stream",
     "text": [
      "4 66902\n",
      "2 12453\n",
      "3 43432\n",
      "1 4396\n",
      "0 10778\n",
      "5 62039\n"
     ]
    }
   ],
   "source": [
    "Rating_count=defaultdict(list)\n",
    "for u,b,r in allPair:\n",
    "    Rating_count[r].append(1)\n",
    "for r in Rating_count:\n",
    "    print(r,len(Rating_count[r]))"
   ],
   "metadata": {
    "collapsed": false
   }
  },
  {
   "cell_type": "code",
   "execution_count": 182,
   "outputs": [
    {
     "name": "stdout",
     "output_type": "stream",
     "text": [
      "iteration: 1\n",
      "1.3827258703741865 1.1537405636987978\n",
      "iteration: 2\n",
      "1.3757159276849154 1.1469655635377698\n",
      "iteration: 3\n",
      "1.375225771649253 1.1460429059272632\n",
      "iteration: 4\n",
      "1.3745491184079124 1.145270706653409\n",
      "iteration: 5\n",
      "1.3742019688760108 1.1445758398960597\n",
      "iteration: 6\n",
      "1.3739314955509996 1.1438567424025874\n",
      "iteration: 7\n",
      "1.3738687345915905 1.143173234934957\n",
      "iteration: 8\n",
      "1.373101333703152 1.1426719499561135\n",
      "iteration: 9\n",
      "1.373242899201305 1.1422018098039335\n",
      "iteration: 10\n",
      "1.3733159491774865 1.1417153788540841\n",
      "iteration: 11\n",
      "1.3733640299998142 1.1412956757421575\n",
      "iteration: 12\n",
      "1.3733965963879884 1.1408610999376607\n",
      "iteration: 13\n",
      "1.373445347483134 1.1404945205610129\n",
      "iteration: 14\n",
      "1.3734904645360375 1.1401211935850077\n",
      "iteration: 15\n",
      "1.373529703894917 1.1397495551863555\n"
     ]
    }
   ],
   "source": [
    "alpha0,betaU0,betaB0,gammaU0,gammaB0 = LFM2(lam1 = 3.87, lam2 = 14.76, K = 30, learnRate = 0.005,learnRate2 = 0.005, max_iter = 15)\n",
    "#alpha0,betaU0,betaB0,gammaU0,gammaB0 = LFM2(lam1 = 3.96, lam2 = 14.76, K = 300, learnRate = 0.0005, max_iter = 200)\n",
    "# LFM2(lam1 = 3.56, lam2 = 14.76, K = 3000, learnRate = 0.0005, max_iter = 100) 1.3733 iter = 10\n",
    "# LFM2(lam1 = 3.26, lam2 = 14.76, K = 2000, learnRate = 0.0005, max_iter = 100)"
   ],
   "metadata": {
    "collapsed": false
   }
  },
  {
   "cell_type": "code",
   "execution_count": 155,
   "outputs": [
    {
     "name": "stdout",
     "output_type": "stream",
     "text": [
      "3.51947415948313\n"
     ]
    },
    {
     "ename": "KeyError",
     "evalue": "0",
     "output_type": "error",
     "traceback": [
      "\u001B[0;31m---------------------------------------------------------------------------\u001B[0m",
      "\u001B[0;31mKeyError\u001B[0m                                  Traceback (most recent call last)",
      "Cell \u001B[0;32mIn [155], line 2\u001B[0m\n\u001B[1;32m      1\u001B[0m \u001B[38;5;28mprint\u001B[39m(alpha0)\n\u001B[0;32m----> 2\u001B[0m \u001B[38;5;28mprint\u001B[39m(gammaU0[\u001B[38;5;241m0\u001B[39m])\n",
      "\u001B[0;31mKeyError\u001B[0m: 0"
     ]
    }
   ],
   "source": [
    "print(alpha0)\n",
    "print(gammaU0[0])"
   ],
   "metadata": {
    "collapsed": false
   }
  },
  {
   "cell_type": "code",
   "execution_count": null,
   "outputs": [],
   "source": [
    "alpha,betaU,betaB,gammaU,gammaB = LFM_finetune(lam1 = 3.96, lam2 = 14.76, learnRate = 0.00005,learnRate2 = 0.00005, max_iter = 10,gU = gammaU0,gB = gammaB0)\n",
    "# LFM2(lam1 = 3.56, lam2 = 14.76, K = 3000, learnRate = 0.0005, max_iter = 100) 1.3733 iter = 10\n",
    "# LFM2(lam1 = 3.26, lam2 = 14.76, K = 2000, learnRate = 0.0005, max_iter = 100)"
   ],
   "metadata": {
    "collapsed": false
   }
  },
  {
   "cell_type": "markdown",
   "source": [
    "USE ALL the DATA"
   ],
   "metadata": {
    "collapsed": false
   }
  },
  {
   "cell_type": "code",
   "execution_count": 46,
   "outputs": [
    {
     "data": {
      "text/plain": "\"\\ntrainPair = allPair\\nuserBusi_train = defaultdict(list)\\nbusiUser_train = defaultdict(list)\\nfor l in datasets:\\n    user, busi, rating = l['userID'], l['bookID'], l['rating']\\n    userBusi_train[user].append((busi, rating))\\n    busiUser_train[busi].append((user, rating))\\nuniUser = np.unique([p[0] for p in allPair])\\nuniBusi = np.unique([p[1] for p in allPair])\\n\""
     },
     "execution_count": 46,
     "metadata": {},
     "output_type": "execute_result"
    }
   ],
   "source": [
    "'''\n",
    "trainPair = allPair[:190000]\n",
    "userBusi_train = defaultdict(list)\n",
    "busiUser_train = defaultdict(list)\n",
    "for l in datasets[:trainSize]:\n",
    "    user, busi, rating = l['userID'], l['bookID'], l['rating']\n",
    "    userBusi_train[user].append((busi, rating))\n",
    "    busiUser_train[busi].append((user, rating))\n",
    "uniUser = np.unique([p[0] for p in allPair[:trainSize]])\n",
    "uniBusi = np.unique([p[1] for p in allPair[:trainSize]])\n",
    "\n",
    "'''\n",
    "trainPair = allPair\n",
    "userBusi_train = defaultdict(list)\n",
    "busiUser_train = defaultdict(list)\n",
    "for l in datasets:\n",
    "    user, busi, rating = l['userID'], l['bookID'], l['rating']\n",
    "    userBusi_train[user].append((busi, rating))\n",
    "    busiUser_train[busi].append((user, rating))\n",
    "uniUser = np.unique([p[0] for p in allPair])\n",
    "uniBusi = np.unique([p[1] for p in allPair])\n"
   ],
   "metadata": {
    "collapsed": false
   }
  },
  {
   "cell_type": "code",
   "execution_count": 40,
   "outputs": [
    {
     "name": "stdout",
     "output_type": "stream",
     "text": [
      "iteration: 1\n",
      "1.1110213073520616 1.1548764654087507\n",
      "iteration: 2\n",
      "1.104555164875171 1.1485405331697904\n",
      "iteration: 3\n",
      "1.104299398895047 1.1482355398476325\n",
      "iteration: 4\n",
      "1.1041186918334087 1.1480044631011854\n",
      "iteration: 5\n",
      "1.1039457393952938 1.1477890759065497\n",
      "iteration: 6\n",
      "1.103809227624354 1.147619055347054\n",
      "iteration: 7\n",
      "1.1037197915220234 1.1475033889328312\n",
      "iteration: 8\n",
      "1.1036736135246767 1.147436534658358\n",
      "iteration: 9\n",
      "1.1036607401261422 1.1474072296151365\n",
      "iteration: 10\n",
      "1.103670383006681 1.1474037367132064\n",
      "iteration: 11\n",
      "1.1036933609773396 1.1474161755023835\n",
      "iteration: 12\n",
      "1.1037228144680897 1.1474371558462904\n",
      "iteration: 13\n",
      "1.1037540825287366 1.1474616040353074\n",
      "iteration: 14\n",
      "1.1037842693469855 1.1474862975520415\n",
      "iteration: 15\n",
      "1.103811764911729 1.147509365113758\n"
     ]
    }
   ],
   "source": [
    "alpha0,betaU0,betaB0,gammaU0,gammaB0 = LFM2(lam1 = 3.86, lam2 = 13.56, K = 3, learnRate = 0.00005,learnRate2 = 0.0005, max_iter = 10)\n",
    "#1.47\n",
    "#alpha0,betaU0,betaB0,gammaU0,gammaB0 = LFM2(lam1 = 3.96, lam2 = 14.76, K = 300, learnRate = 0.0005, max_iter = 200)\n",
    "# LFM2(lam1 = 3.56, lam2 = 14.76, K = 3000, learnRate = 0.0005, max_iter = 100) 1.3733 iter = 10\n",
    "# LFM2(lam1 = 3.26, lam2 = 14.76, K = 2000, learnRate = 0.0005, max_iter = 100)"
   ],
   "metadata": {
    "collapsed": false
   }
  },
  {
   "cell_type": "code",
   "execution_count": 11,
   "outputs": [],
   "source": [
    "alpha,betaU,betaB,gammaU,gammaB = alpha0,betaU0,betaB0,gammaU0,gammaB0\n",
    "# LFM2(lam1 = 3.56, lam2 = 14.76, K = 3000, learnRate = 0.0005, max_iter = 100) 1.3733 iter = 10\n",
    "# LFM2(lam1 = 3.26, lam2 = 14.76, K = 2000, learnRate = 0.0005, max_iter = 100)"
   ],
   "metadata": {
    "collapsed": false
   }
  },
  {
   "cell_type": "code",
   "execution_count": 44,
   "outputs": [
    {
     "name": "stdout",
     "output_type": "stream",
     "text": [
      "iteration: 1\n",
      "1.1109270865097334 1.1547747449893662\n",
      "iteration: 2\n",
      "1.1044612195814543 1.148439817795654\n",
      "iteration: 3\n",
      "1.104206132697047 1.1481356572759822\n",
      "iteration: 4\n",
      "1.1040261668947988 1.1479053989302217\n",
      "iteration: 5\n",
      "1.1038539684211215 1.147690821828074\n",
      "iteration: 6\n",
      "1.1037182130618592 1.147521603413373\n",
      "iteration: 7\n",
      "1.103629531106857 1.147406731141399\n",
      "iteration: 8\n",
      "1.1035841021940893 1.147340662923793\n",
      "iteration: 9\n",
      "1.1035719711495822 1.147312135792794\n",
      "iteration: 10\n",
      "1.103582348710757 1.1473094126321457\n"
     ]
    }
   ],
   "source": [
    "alpha,betaU,betaB,gammaU,gammaB = LFM_finetune(lam1 = 3.87, lam2 = 14.76, learnRate = 0.00005,learnRate2 = 0.0005, max_iter = 10,gU = gammaU0,gB = gammaB0)\n",
    "# LFM2(lam1 = 3.56, lam2 = 14.76, K = 3000, learnRate = 0.0005, max_iter = 100) 1.3733 iter = 10\n",
    "# LFM2(lam1 = 3.26, lam2 = 14.76, K = 2000, learnRate = 0.0005, max_iter = 100)"
   ],
   "metadata": {
    "collapsed": false
   }
  },
  {
   "cell_type": "code",
   "execution_count": 12,
   "outputs": [],
   "source": [
    "predictions = open(\"predictions_Rating.csv\", 'w')\n",
    "for l in open(\"pairs_Rating.csv\"):\n",
    "    if l.startswith(\"userID\"):\n",
    "        #header\n",
    "        predictions.write(l)\n",
    "        continue\n",
    "    u,i = l.strip().split(',')\n",
    "    prediction = predict(u,i,(alpha,betaU,betaB,gammaU,gammaB))\n",
    "    predictions.write(u + ',' + i + ',' + str(prediction) + '\\n')\n",
    "predictions.close()"
   ],
   "metadata": {
    "collapsed": false
   }
  },
  {
   "cell_type": "code",
   "execution_count": 122,
   "outputs": [],
   "source": [
    "predictions = open(\"predictions_Rating.csv\", 'w')\n",
    "for l in open(\"pairs_Rating.csv\"):\n",
    "    if l.startswith(\"userID\"):\n",
    "        #header\n",
    "        predictions.write(l)\n",
    "        continue\n",
    "    u,i = l.strip().split(',')\n",
    "    prediction = predict(u,i,(alpha,betaU,betaB,gammaU,gammaB))\n",
    "    predictions.write(u + ',' + i + ',' + str(prediction) + '\\n')\n",
    "predictions.close()"
   ],
   "metadata": {
    "collapsed": false
   }
  },
  {
   "cell_type": "code",
   "execution_count": 1,
   "outputs": [
    {
     "name": "stdout",
     "output_type": "stream",
     "text": [
      "0\n"
     ]
    }
   ],
   "source": [
    "#finetune the result\n",
    "predictions = open(\"predictions_Rating.csv\", 'w')\n",
    "total = 0\n",
    "for l in open(\"predictions_Rating2.csv\"):\n",
    "    if l.startswith(\"userID\"):\n",
    "        #header\n",
    "        predictions.write(l)\n",
    "        continue\n",
    "    u,b,r = l.strip().split(',')\n",
    "    r = float(r)\n",
    "    # because according to the data distribution: most rate are in 3,4,5 ; 1 are the least\n",
    "    # 0-10778 1-4396 2-12453 3-43432 4-66902 5-62039\n",
    "    # without: 1.455262755\n",
    "    # 0.75 : 1.4548354  0.8: 1.4547085\n",
    "    # 1.5 - 1.451423(70.85%) 1.55-1.450312(59.22%)  1.6 - 1.450312(46.92%) 1.65 - 1.4497803(41%) 1.7- 1.75-1.4484885(37.6%)\n",
    "\n",
    "    if r < 0.75:  r = 0\n",
    "    #1.448488\n",
    "    # 1.5 or 1.55,随机选吧\n",
    "    if r > 0.75 and r < 1.55:\n",
    "        if r > 0.9 and r < 1.1:\n",
    "            #total += (r-1)**2\n",
    "            r = 1\n",
    "        else:\n",
    "            #total += r**2\n",
    "            r = 0\n",
    "\n",
    "\n",
    "    #if r > 1.9 and r < 2.1 : r = 2 : 1.4532658\n",
    "    if r > 1.9 and r < 2.1: r = 2\n",
    "    if r > 4.9:  r = 5\n",
    "    predictions.write(u + ',' + b + ',' + str(r) + '\\n')\n",
    "predictions.close()\n",
    "print(total)"
   ],
   "metadata": {
    "collapsed": false
   }
  },
  {
   "cell_type": "code",
   "execution_count": 201,
   "outputs": [],
   "source": [],
   "metadata": {
    "collapsed": false
   }
  }
 ],
 "metadata": {
  "kernelspec": {
   "display_name": "Python 3",
   "language": "python",
   "name": "python3"
  },
  "language_info": {
   "codemirror_mode": {
    "name": "ipython",
    "version": 2
   },
   "file_extension": ".py",
   "mimetype": "text/x-python",
   "name": "python",
   "nbconvert_exporter": "python",
   "pygments_lexer": "ipython2",
   "version": "2.7.6"
  }
 },
 "nbformat": 4,
 "nbformat_minor": 0
}
