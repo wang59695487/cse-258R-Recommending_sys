{
  "cells": [
    {
      "cell_type": "code",
      "execution_count": null,
      "metadata": {
        "colab": {
          "base_uri": "https://localhost:8080/",
          "height": 1000
        },
        "id": "26bCe8DDm70S",
        "outputId": "1e1e8825-044a-4644-d3df-5fa1169ea67c"
      },
      "outputs": [
        {
          "name": "stdout",
          "output_type": "stream",
          "text": [
            "Found existing installation: tensorflow 2.11.0\n",
            "Uninstalling tensorflow-2.11.0:\n",
            "  Would remove:\n",
            "    /usr/local/bin/estimator_ckpt_converter\n",
            "    /usr/local/bin/import_pb_to_tensorboard\n",
            "    /usr/local/bin/saved_model_cli\n",
            "    /usr/local/bin/tensorboard\n",
            "    /usr/local/bin/tf_upgrade_v2\n",
            "    /usr/local/bin/tflite_convert\n",
            "    /usr/local/bin/toco\n",
            "    /usr/local/bin/toco_from_protos\n",
            "    /usr/local/lib/python3.7/dist-packages/tensorflow-2.11.0.dist-info/*\n",
            "    /usr/local/lib/python3.7/dist-packages/tensorflow/*\n",
            "Proceed (y/n)? y\n",
            "  Successfully uninstalled tensorflow-2.11.0\n",
            "Looking in indexes: https://pypi.org/simple, https://us-python.pkg.dev/colab-wheels/public/simple/\n",
            "Collecting tensorflow==1.14\n",
            "  Using cached tensorflow-1.14.0-cp37-cp37m-manylinux1_x86_64.whl (109.3 MB)\n",
            "Requirement already satisfied: numpy<2.0,>=1.14.5 in /usr/local/lib/python3.7/dist-packages (from tensorflow==1.14) (1.21.6)\n",
            "Requirement already satisfied: astor>=0.6.0 in /usr/local/lib/python3.7/dist-packages (from tensorflow==1.14) (0.8.1)\n",
            "Requirement already satisfied: keras-applications>=1.0.6 in /usr/local/lib/python3.7/dist-packages (from tensorflow==1.14) (1.0.8)\n",
            "Collecting tensorflow-estimator<1.15.0rc0,>=1.14.0rc0\n",
            "  Using cached tensorflow_estimator-1.14.0-py2.py3-none-any.whl (488 kB)\n",
            "Collecting tensorboard<1.15.0,>=1.14.0\n",
            "  Using cached tensorboard-1.14.0-py3-none-any.whl (3.1 MB)\n",
            "Requirement already satisfied: wrapt>=1.11.1 in /usr/local/lib/python3.7/dist-packages (from tensorflow==1.14) (1.14.1)\n",
            "Requirement already satisfied: wheel>=0.26 in /usr/local/lib/python3.7/dist-packages (from tensorflow==1.14) (0.38.4)\n",
            "Requirement already satisfied: keras-preprocessing>=1.0.5 in /usr/local/lib/python3.7/dist-packages (from tensorflow==1.14) (1.1.2)\n",
            "Requirement already satisfied: absl-py>=0.7.0 in /usr/local/lib/python3.7/dist-packages (from tensorflow==1.14) (1.3.0)\n",
            "Requirement already satisfied: six>=1.10.0 in /usr/local/lib/python3.7/dist-packages (from tensorflow==1.14) (1.15.0)\n",
            "Requirement already satisfied: protobuf>=3.6.1 in /usr/local/lib/python3.7/dist-packages (from tensorflow==1.14) (3.19.6)\n",
            "Requirement already satisfied: gast>=0.2.0 in /usr/local/lib/python3.7/dist-packages (from tensorflow==1.14) (0.4.0)\n",
            "Requirement already satisfied: termcolor>=1.1.0 in /usr/local/lib/python3.7/dist-packages (from tensorflow==1.14) (2.1.0)\n",
            "Requirement already satisfied: grpcio>=1.8.6 in /usr/local/lib/python3.7/dist-packages (from tensorflow==1.14) (1.50.0)\n",
            "Requirement already satisfied: google-pasta>=0.1.6 in /usr/local/lib/python3.7/dist-packages (from tensorflow==1.14) (0.2.0)\n",
            "Requirement already satisfied: h5py in /usr/local/lib/python3.7/dist-packages (from keras-applications>=1.0.6->tensorflow==1.14) (3.1.0)\n",
            "Requirement already satisfied: setuptools>=41.0.0 in /usr/local/lib/python3.7/dist-packages (from tensorboard<1.15.0,>=1.14.0->tensorflow==1.14) (57.4.0)\n",
            "Requirement already satisfied: werkzeug>=0.11.15 in /usr/local/lib/python3.7/dist-packages (from tensorboard<1.15.0,>=1.14.0->tensorflow==1.14) (1.0.1)\n",
            "Requirement already satisfied: markdown>=2.6.8 in /usr/local/lib/python3.7/dist-packages (from tensorboard<1.15.0,>=1.14.0->tensorflow==1.14) (3.4.1)\n",
            "Requirement already satisfied: importlib-metadata>=4.4 in /usr/local/lib/python3.7/dist-packages (from markdown>=2.6.8->tensorboard<1.15.0,>=1.14.0->tensorflow==1.14) (4.13.0)\n",
            "Requirement already satisfied: zipp>=0.5 in /usr/local/lib/python3.7/dist-packages (from importlib-metadata>=4.4->markdown>=2.6.8->tensorboard<1.15.0,>=1.14.0->tensorflow==1.14) (3.10.0)\n",
            "Requirement already satisfied: typing-extensions>=3.6.4 in /usr/local/lib/python3.7/dist-packages (from importlib-metadata>=4.4->markdown>=2.6.8->tensorboard<1.15.0,>=1.14.0->tensorflow==1.14) (4.1.1)\n",
            "Requirement already satisfied: cached-property in /usr/local/lib/python3.7/dist-packages (from h5py->keras-applications>=1.0.6->tensorflow==1.14) (1.5.2)\n",
            "Installing collected packages: tensorflow-estimator, tensorboard, tensorflow\n",
            "  Attempting uninstall: tensorflow-estimator\n",
            "    Found existing installation: tensorflow-estimator 2.11.0\n",
            "    Uninstalling tensorflow-estimator-2.11.0:\n",
            "      Successfully uninstalled tensorflow-estimator-2.11.0\n",
            "  Attempting uninstall: tensorboard\n",
            "    Found existing installation: tensorboard 2.11.0\n",
            "    Uninstalling tensorboard-2.11.0:\n",
            "      Successfully uninstalled tensorboard-2.11.0\n",
            "\u001b[31mERROR: pip's dependency resolver does not currently take into account all the packages that are installed. This behaviour is the source of the following dependency conflicts.\n",
            "tensorflow-recommenders 0.7.2 requires tensorflow>=2.9.0, but you have tensorflow 1.14.0 which is incompatible.\n",
            "kapre 0.3.7 requires tensorflow>=2.0.0, but you have tensorflow 1.14.0 which is incompatible.\u001b[0m\n",
            "Successfully installed tensorboard-1.14.0 tensorflow-1.14.0 tensorflow-estimator-1.14.0\n"
          ]
        },
        {
          "data": {
            "application/vnd.colab-display-data+json": {
              "pip_warning": {
                "packages": [
                  "tensorboard",
                  "tensorflow"
                ]
              }
            }
          },
          "metadata": {},
          "output_type": "display_data"
        },
        {
          "name": "stdout",
          "output_type": "stream",
          "text": [
            "Looking in indexes: https://pypi.org/simple, https://us-python.pkg.dev/colab-wheels/public/simple/\n",
            "Collecting tensorflow-datasets==4.3\n",
            "  Using cached tensorflow_datasets-4.3.0-py3-none-any.whl (3.9 MB)\n",
            "Requirement already satisfied: importlib-resources in /usr/local/lib/python3.7/dist-packages (from tensorflow-datasets==4.3) (5.10.0)\n",
            "Requirement already satisfied: future in /usr/local/lib/python3.7/dist-packages (from tensorflow-datasets==4.3) (0.16.0)\n",
            "Requirement already satisfied: absl-py in /usr/local/lib/python3.7/dist-packages (from tensorflow-datasets==4.3) (1.3.0)\n",
            "Requirement already satisfied: protobuf>=3.12.2 in /usr/local/lib/python3.7/dist-packages (from tensorflow-datasets==4.3) (3.19.6)\n",
            "Requirement already satisfied: attrs>=18.1.0 in /usr/local/lib/python3.7/dist-packages (from tensorflow-datasets==4.3) (22.1.0)\n",
            "Requirement already satisfied: numpy in /usr/local/lib/python3.7/dist-packages (from tensorflow-datasets==4.3) (1.21.6)\n",
            "Requirement already satisfied: requests>=2.19.0 in /usr/local/lib/python3.7/dist-packages (from tensorflow-datasets==4.3) (2.23.0)\n",
            "Requirement already satisfied: typing-extensions in /usr/local/lib/python3.7/dist-packages (from tensorflow-datasets==4.3) (4.1.1)\n",
            "Requirement already satisfied: six in /usr/local/lib/python3.7/dist-packages (from tensorflow-datasets==4.3) (1.15.0)\n",
            "Requirement already satisfied: tensorflow-metadata in /usr/local/lib/python3.7/dist-packages (from tensorflow-datasets==4.3) (1.11.0)\n",
            "Requirement already satisfied: dill in /usr/local/lib/python3.7/dist-packages (from tensorflow-datasets==4.3) (0.3.6)\n",
            "Requirement already satisfied: promise in /usr/local/lib/python3.7/dist-packages (from tensorflow-datasets==4.3) (2.3)\n",
            "Requirement already satisfied: termcolor in /usr/local/lib/python3.7/dist-packages (from tensorflow-datasets==4.3) (2.1.0)\n",
            "Requirement already satisfied: tqdm in /usr/local/lib/python3.7/dist-packages (from tensorflow-datasets==4.3) (4.64.1)\n",
            "Requirement already satisfied: chardet<4,>=3.0.2 in /usr/local/lib/python3.7/dist-packages (from requests>=2.19.0->tensorflow-datasets==4.3) (3.0.4)\n",
            "Requirement already satisfied: certifi>=2017.4.17 in /usr/local/lib/python3.7/dist-packages (from requests>=2.19.0->tensorflow-datasets==4.3) (2022.9.24)\n",
            "Requirement already satisfied: idna<3,>=2.5 in /usr/local/lib/python3.7/dist-packages (from requests>=2.19.0->tensorflow-datasets==4.3) (2.10)\n",
            "Requirement already satisfied: urllib3!=1.25.0,!=1.25.1,<1.26,>=1.21.1 in /usr/local/lib/python3.7/dist-packages (from requests>=2.19.0->tensorflow-datasets==4.3) (1.24.3)\n",
            "Requirement already satisfied: zipp>=3.1.0 in /usr/local/lib/python3.7/dist-packages (from importlib-resources->tensorflow-datasets==4.3) (3.10.0)\n",
            "Requirement already satisfied: googleapis-common-protos<2,>=1.52.0 in /usr/local/lib/python3.7/dist-packages (from tensorflow-metadata->tensorflow-datasets==4.3) (1.57.0)\n",
            "Installing collected packages: tensorflow-datasets\n",
            "  Attempting uninstall: tensorflow-datasets\n",
            "    Found existing installation: tensorflow-datasets 4.7.0\n",
            "    Uninstalling tensorflow-datasets-4.7.0:\n",
            "      Successfully uninstalled tensorflow-datasets-4.7.0\n",
            "Successfully installed tensorflow-datasets-4.3.0\n"
          ]
        },
        {
          "data": {
            "application/vnd.colab-display-data+json": {
              "pip_warning": {
                "packages": [
                  "tensorflow_datasets"
                ]
              }
            }
          },
          "metadata": {},
          "output_type": "display_data"
        },
        {
          "name": "stdout",
          "output_type": "stream",
          "text": [
            "Looking in indexes: https://pypi.org/simple, https://us-python.pkg.dev/colab-wheels/public/simple/\n",
            "Requirement already satisfied: torchfm in /usr/local/lib/python3.7/dist-packages (0.7.0)\n"
          ]
        }
      ],
      "source": [
        "!pip install -q tensorflow-recommenders\n",
        "!pip install -q --upgrade tensorflow-datasets\n",
        "!pip install tensorflow-datasets==4.3\n",
        "# !pip install -U deepctr-torch\n",
        "!pip install torchfm"
      ]
    },
    {
      "cell_type": "code",
      "execution_count": null,
      "metadata": {
        "colab": {
          "base_uri": "https://localhost:8080/",
          "height": 415
        },
        "id": "HKILihtoyG4H",
        "outputId": "d874d52f-fde7-4365-845b-8ae766f775e4"
      },
      "outputs": [
        {
          "name": "stdout",
          "output_type": "stream",
          "text": [
            "Found existing installation: gensim 3.6.0\n",
            "Uninstalling gensim-3.6.0:\n",
            "  Would remove:\n",
            "    /usr/local/lib/python3.7/dist-packages/gensim-3.6.0.dist-info/*\n",
            "    /usr/local/lib/python3.7/dist-packages/gensim/*\n",
            "Proceed (y/n)? y\n",
            "  Successfully uninstalled gensim-3.6.0\n",
            "Looking in indexes: https://pypi.org/simple, https://us-python.pkg.dev/colab-wheels/public/simple/\n",
            "Collecting gensim\n",
            "  Downloading gensim-4.2.0-cp37-cp37m-manylinux_2_12_x86_64.manylinux2010_x86_64.whl (24.1 MB)\n",
            "\u001b[K     |████████████████████████████████| 24.1 MB 2.4 MB/s \n",
            "\u001b[?25hRequirement already satisfied: smart-open>=1.8.1 in /usr/local/lib/python3.7/dist-packages (from gensim) (5.2.1)\n",
            "Requirement already satisfied: numpy>=1.17.0 in /usr/local/lib/python3.7/dist-packages (from gensim) (1.21.6)\n",
            "Requirement already satisfied: scipy>=0.18.1 in /usr/local/lib/python3.7/dist-packages (from gensim) (1.7.3)\n",
            "Installing collected packages: gensim\n",
            "Successfully installed gensim-4.2.0\n"
          ]
        },
        {
          "data": {
            "application/vnd.colab-display-data+json": {
              "pip_warning": {
                "packages": [
                  "gensim"
                ]
              }
            }
          },
          "metadata": {},
          "output_type": "display_data"
        }
      ],
      "source": [
        "!pip uninstall gensim\n",
        "!pip install gensim\n",
        "!pip install uszipcode"
      ]
    },
    {
      "cell_type": "code",
      "execution_count": null,
      "metadata": {
        "colab": {
          "base_uri": "https://localhost:8080/"
        },
        "id": "nAtQ_RpiofLu",
        "outputId": "b839c606-0cd3-465e-c53e-adaf93e4cb64"
      },
      "outputs": [
        {
          "name": "stdout",
          "output_type": "stream",
          "text": [
            "Drive already mounted at /content/drive; to attempt to forcibly remount, call drive.mount(\"/content/drive\", force_remount=True).\n"
          ]
        }
      ],
      "source": [
        "from google.colab import drive\n",
        "drive.mount('/content/drive')"
      ]
    },
    {
      "cell_type": "code",
      "execution_count": null,
      "metadata": {
        "id": "MRd73hEOoWkA"
      },
      "outputs": [],
      "source": [
        "dataDir = \"/content/drive/MyDrive/data\""
      ]
    },
    {
      "cell_type": "code",
      "execution_count": null,
      "metadata": {
        "id": "uOcbsb1Eug2I"
      },
      "outputs": [],
      "source": [
        "import tensorflow as tf\n",
        "#import tensorflow.compat.v1 as tf\n",
        "#tf.disable_v2_behavior()"
      ]
    },
    {
      "cell_type": "code",
      "execution_count": null,
      "metadata": {
        "id": "wzpRhewarxkI"
      },
      "outputs": [],
      "source": [
        "import tensorflow_datasets as tfds\n",
        "import tensorflow_recommenders as tfrs\n",
        "import numpy as np\n",
        "import pandas as pd\n",
        "import torch\n",
        "from sklearn.preprocessing import LabelEncoder\n",
        "from tensorflow.keras.preprocessing.sequence import pad_sequences\n",
        "\n",
        "# from deepctr_torch.inputs import SparseFeat, VarLenSparseFeat, get_feature_names\n",
        "from torchfm.model.dcn import DeepCrossNetworkModel\n",
        "%matplotlib inline\n",
        "import matplotlib.pyplot as plt\n",
        "from mpl_toolkits.axes_grid1 import make_axes_locatable\n",
        "\n",
        "import numpy as np"
      ]
    },
    {
      "cell_type": "code",
      "execution_count": null,
      "metadata": {
        "colab": {
          "base_uri": "https://localhost:8080/"
        },
        "id": "YPYWko454DXR",
        "outputId": "b1cc7b2f-4ff6-4e94-fee0-d8e8aedb5a4f"
      },
      "outputs": [
        {
          "name": "stdout",
          "output_type": "stream",
          "text": [
            "Looking in indexes: https://pypi.org/simple, https://us-python.pkg.dev/colab-wheels/public/simple/\n",
            "Requirement already satisfied: deepctr_torch in /usr/local/lib/python3.7/dist-packages (0.2.9)\n",
            "Requirement already satisfied: tensorflow in /usr/local/lib/python3.7/dist-packages (from deepctr_torch) (2.11.0)\n",
            "Requirement already satisfied: tqdm in /usr/local/lib/python3.7/dist-packages (from deepctr_torch) (4.64.1)\n",
            "Requirement already satisfied: scikit-learn in /usr/local/lib/python3.7/dist-packages (from deepctr_torch) (0.22.2.post1)\n",
            "Requirement already satisfied: torch>=1.2.0 in /usr/local/lib/python3.7/dist-packages (from deepctr_torch) (1.12.1+cu113)\n",
            "Requirement already satisfied: typing-extensions in /usr/local/lib/python3.7/dist-packages (from torch>=1.2.0->deepctr_torch) (4.1.1)\n",
            "Requirement already satisfied: joblib>=0.11 in /usr/local/lib/python3.7/dist-packages (from scikit-learn->deepctr_torch) (1.2.0)\n",
            "Requirement already satisfied: scipy>=0.17.0 in /usr/local/lib/python3.7/dist-packages (from scikit-learn->deepctr_torch) (1.7.3)\n",
            "Requirement already satisfied: numpy>=1.11.0 in /usr/local/lib/python3.7/dist-packages (from scikit-learn->deepctr_torch) (1.21.6)\n",
            "Requirement already satisfied: packaging in /usr/local/lib/python3.7/dist-packages (from tensorflow->deepctr_torch) (21.3)\n",
            "Requirement already satisfied: keras<2.12,>=2.11.0 in /usr/local/lib/python3.7/dist-packages (from tensorflow->deepctr_torch) (2.11.0)\n",
            "Requirement already satisfied: tensorboard<2.12,>=2.11 in /usr/local/lib/python3.7/dist-packages (from tensorflow->deepctr_torch) (2.11.0)\n",
            "Requirement already satisfied: tensorflow-io-gcs-filesystem>=0.23.1 in /usr/local/lib/python3.7/dist-packages (from tensorflow->deepctr_torch) (0.27.0)\n",
            "Requirement already satisfied: setuptools in /usr/local/lib/python3.7/dist-packages (from tensorflow->deepctr_torch) (57.4.0)\n",
            "Requirement already satisfied: libclang>=13.0.0 in /usr/local/lib/python3.7/dist-packages (from tensorflow->deepctr_torch) (14.0.6)\n",
            "Requirement already satisfied: gast<=0.4.0,>=0.2.1 in /usr/local/lib/python3.7/dist-packages (from tensorflow->deepctr_torch) (0.4.0)\n",
            "Requirement already satisfied: h5py>=2.9.0 in /usr/local/lib/python3.7/dist-packages (from tensorflow->deepctr_torch) (3.1.0)\n",
            "Requirement already satisfied: termcolor>=1.1.0 in /usr/local/lib/python3.7/dist-packages (from tensorflow->deepctr_torch) (2.1.0)\n",
            "Requirement already satisfied: tensorflow-estimator<2.12,>=2.11.0 in /usr/local/lib/python3.7/dist-packages (from tensorflow->deepctr_torch) (2.11.0)\n",
            "Requirement already satisfied: absl-py>=1.0.0 in /usr/local/lib/python3.7/dist-packages (from tensorflow->deepctr_torch) (1.3.0)\n",
            "Requirement already satisfied: six>=1.12.0 in /usr/local/lib/python3.7/dist-packages (from tensorflow->deepctr_torch) (1.15.0)\n",
            "Requirement already satisfied: wrapt>=1.11.0 in /usr/local/lib/python3.7/dist-packages (from tensorflow->deepctr_torch) (1.14.1)\n",
            "Requirement already satisfied: opt-einsum>=2.3.2 in /usr/local/lib/python3.7/dist-packages (from tensorflow->deepctr_torch) (3.3.0)\n",
            "Requirement already satisfied: astunparse>=1.6.0 in /usr/local/lib/python3.7/dist-packages (from tensorflow->deepctr_torch) (1.6.3)\n",
            "Requirement already satisfied: google-pasta>=0.1.1 in /usr/local/lib/python3.7/dist-packages (from tensorflow->deepctr_torch) (0.2.0)\n",
            "Requirement already satisfied: grpcio<2.0,>=1.24.3 in /usr/local/lib/python3.7/dist-packages (from tensorflow->deepctr_torch) (1.50.0)\n",
            "Requirement already satisfied: protobuf<3.20,>=3.9.2 in /usr/local/lib/python3.7/dist-packages (from tensorflow->deepctr_torch) (3.19.6)\n",
            "Requirement already satisfied: flatbuffers>=2.0 in /usr/local/lib/python3.7/dist-packages (from tensorflow->deepctr_torch) (22.11.23)\n",
            "Requirement already satisfied: wheel<1.0,>=0.23.0 in /usr/local/lib/python3.7/dist-packages (from astunparse>=1.6.0->tensorflow->deepctr_torch) (0.38.4)\n",
            "Requirement already satisfied: cached-property in /usr/local/lib/python3.7/dist-packages (from h5py>=2.9.0->tensorflow->deepctr_torch) (1.5.2)\n",
            "Requirement already satisfied: google-auth<3,>=1.6.3 in /usr/local/lib/python3.7/dist-packages (from tensorboard<2.12,>=2.11->tensorflow->deepctr_torch) (2.14.1)\n",
            "Requirement already satisfied: tensorboard-data-server<0.7.0,>=0.6.0 in /usr/local/lib/python3.7/dist-packages (from tensorboard<2.12,>=2.11->tensorflow->deepctr_torch) (0.6.1)\n",
            "Requirement already satisfied: requests<3,>=2.21.0 in /usr/local/lib/python3.7/dist-packages (from tensorboard<2.12,>=2.11->tensorflow->deepctr_torch) (2.23.0)\n",
            "Requirement already satisfied: werkzeug>=1.0.1 in /usr/local/lib/python3.7/dist-packages (from tensorboard<2.12,>=2.11->tensorflow->deepctr_torch) (1.0.1)\n",
            "Requirement already satisfied: google-auth-oauthlib<0.5,>=0.4.1 in /usr/local/lib/python3.7/dist-packages (from tensorboard<2.12,>=2.11->tensorflow->deepctr_torch) (0.4.6)\n",
            "Requirement already satisfied: tensorboard-plugin-wit>=1.6.0 in /usr/local/lib/python3.7/dist-packages (from tensorboard<2.12,>=2.11->tensorflow->deepctr_torch) (1.8.1)\n",
            "Requirement already satisfied: markdown>=2.6.8 in /usr/local/lib/python3.7/dist-packages (from tensorboard<2.12,>=2.11->tensorflow->deepctr_torch) (3.4.1)\n",
            "Requirement already satisfied: rsa<5,>=3.1.4 in /usr/local/lib/python3.7/dist-packages (from google-auth<3,>=1.6.3->tensorboard<2.12,>=2.11->tensorflow->deepctr_torch) (4.9)\n",
            "Requirement already satisfied: cachetools<6.0,>=2.0.0 in /usr/local/lib/python3.7/dist-packages (from google-auth<3,>=1.6.3->tensorboard<2.12,>=2.11->tensorflow->deepctr_torch) (5.2.0)\n",
            "Requirement already satisfied: pyasn1-modules>=0.2.1 in /usr/local/lib/python3.7/dist-packages (from google-auth<3,>=1.6.3->tensorboard<2.12,>=2.11->tensorflow->deepctr_torch) (0.2.8)\n",
            "Requirement already satisfied: requests-oauthlib>=0.7.0 in /usr/local/lib/python3.7/dist-packages (from google-auth-oauthlib<0.5,>=0.4.1->tensorboard<2.12,>=2.11->tensorflow->deepctr_torch) (1.3.1)\n",
            "Requirement already satisfied: importlib-metadata>=4.4 in /usr/local/lib/python3.7/dist-packages (from markdown>=2.6.8->tensorboard<2.12,>=2.11->tensorflow->deepctr_torch) (4.13.0)\n",
            "Requirement already satisfied: zipp>=0.5 in /usr/local/lib/python3.7/dist-packages (from importlib-metadata>=4.4->markdown>=2.6.8->tensorboard<2.12,>=2.11->tensorflow->deepctr_torch) (3.10.0)\n",
            "Requirement already satisfied: pyasn1<0.5.0,>=0.4.6 in /usr/local/lib/python3.7/dist-packages (from pyasn1-modules>=0.2.1->google-auth<3,>=1.6.3->tensorboard<2.12,>=2.11->tensorflow->deepctr_torch) (0.4.8)\n",
            "Requirement already satisfied: chardet<4,>=3.0.2 in /usr/local/lib/python3.7/dist-packages (from requests<3,>=2.21.0->tensorboard<2.12,>=2.11->tensorflow->deepctr_torch) (3.0.4)\n",
            "Requirement already satisfied: urllib3!=1.25.0,!=1.25.1,<1.26,>=1.21.1 in /usr/local/lib/python3.7/dist-packages (from requests<3,>=2.21.0->tensorboard<2.12,>=2.11->tensorflow->deepctr_torch) (1.24.3)\n",
            "Requirement already satisfied: certifi>=2017.4.17 in /usr/local/lib/python3.7/dist-packages (from requests<3,>=2.21.0->tensorboard<2.12,>=2.11->tensorflow->deepctr_torch) (2022.9.24)\n",
            "Requirement already satisfied: idna<3,>=2.5 in /usr/local/lib/python3.7/dist-packages (from requests<3,>=2.21.0->tensorboard<2.12,>=2.11->tensorflow->deepctr_torch) (2.10)\n",
            "Requirement already satisfied: oauthlib>=3.0.0 in /usr/local/lib/python3.7/dist-packages (from requests-oauthlib>=0.7.0->google-auth-oauthlib<0.5,>=0.4.1->tensorboard<2.12,>=2.11->tensorflow->deepctr_torch) (3.2.2)\n",
            "Requirement already satisfied: pyparsing!=3.0.5,>=2.0.2 in /usr/local/lib/python3.7/dist-packages (from packaging->tensorflow->deepctr_torch) (3.0.9)\n"
          ]
        }
      ],
      "source": [
        "!pip install deepctr_torch\n",
        "from deepctr_torch.inputs import SparseFeat, VarLenSparseFeat, get_feature_names"
      ]
    },
    {
      "cell_type": "code",
      "execution_count": null,
      "metadata": {
        "colab": {
          "base_uri": "https://localhost:8080/"
        },
        "id": "n2qZeBnjrtwH",
        "outputId": "f36bb0a1-3494-482f-dd76-ba4ac2aae5c9"
      },
      "outputs": [
        {
          "name": "stdout",
          "output_type": "stream",
          "text": [
            "2.11.0\n"
          ]
        }
      ],
      "source": [
        "print(tf.__version__)"
      ]
    },
    {
      "cell_type": "code",
      "execution_count": null,
      "metadata": {
        "id": "PL2IkoO0ozLo"
      },
      "outputs": [],
      "source": [
        "def split(x):\n",
        "    key_ans = x.split('|')\n",
        "    for key in key_ans:\n",
        "        if key not in key2index:\n",
        "            # Notice : input value 0 is a special \"padding\",so we do not use 0 to encode valid feature for sequence input\n",
        "            key2index[key] = len(key2index) + 1\n",
        "    return list(map(lambda x: key2index[x], key_ans))"
      ]
    },
    {
      "cell_type": "code",
      "execution_count": null,
      "metadata": {
        "id": "BJp5NBFQwi-t"
      },
      "outputs": [],
      "source": [
        "from time import time\n",
        "from scipy.sparse import csc_matrix\n",
        "import tensorflow as tf\n",
        "import numpy as np\n",
        "import h5py"
      ]
    },
    {
      "cell_type": "code",
      "execution_count": null,
      "metadata": {
        "colab": {
          "base_uri": "https://localhost:8080/"
        },
        "id": "5yWq2Ojywypu",
        "outputId": "c0e7d760-a011-4135-942e-a7986b4a95ed"
      },
      "outputs": [
        {
          "name": "stderr",
          "output_type": "stream",
          "text": [
            "/usr/local/lib/python3.7/dist-packages/fuzzywuzzy/fuzz.py:11: UserWarning: Using slow pure-python SequenceMatcher. Install python-Levenshtein to remove this warning\n",
            "  warnings.warn('Using slow pure-python SequenceMatcher. Install python-Levenshtein to remove this warning')\n"
          ]
        }
      ],
      "source": [
        "import pandas as pd\n",
        "import matplotlib.pyplot as plt\n",
        "import gzip\n",
        "import math\n",
        "import string\n",
        "import numpy\n",
        "import pandas as pd\n",
        "import datetime\n",
        "import dateutil\n",
        "import matplotlib.pyplot as plt\n",
        "from uszipcode import SearchEngine\n",
        "engine = SearchEngine()\n",
        "from collections import defaultdict\n",
        "from gensim.models import Word2Vec\n",
        "from nltk.stem.porter import *\n",
        "from sklearn import linear_model\n",
        "from sklearn.manifold import TSNE"
      ]
    },
    {
      "cell_type": "code",
      "execution_count": null,
      "metadata": {
        "id": "zExjV0Q7w06B"
      },
      "outputs": [],
      "source": [
        "path = \"/content/drive/MyDrive/data/MovieLens_1M/\""
      ]
    },
    {
      "cell_type": "code",
      "execution_count": null,
      "metadata": {
        "colab": {
          "base_uri": "https://localhost:8080/"
        },
        "id": "vzmS616qoz2h",
        "outputId": "b0083c34-f7eb-4e9b-97f6-50aa4829fdfd"
      },
      "outputs": [
        {
          "name": "stderr",
          "output_type": "stream",
          "text": [
            "/usr/local/lib/python3.7/dist-packages/pandas/util/_decorators.py:311: ParserWarning: Falling back to the 'python' engine because the 'c' engine does not support regex separators (separators > 1 char and different from '\\s+' are interpreted as regex); you can avoid this warning by specifying engine='python'.\n",
            "  return func(*args, **kwargs)\n"
          ]
        }
      ],
      "source": [
        "df_user = pd.read_csv(path+\"users.dat\", sep = \"::\", header=None,\n",
        "names=[\"UserID\",\"Gender\",\"Age\",\"Occupation\",\"Zipcode\"])"
      ]
    },
    {
      "cell_type": "code",
      "execution_count": null,
      "metadata": {
        "id": "wQPfdl3Zw6W4"
      },
      "outputs": [],
      "source": [
        "states = []\n",
        "states_count = defaultdict()\n",
        "User_state = defaultdict()\n",
        "User_Gender = defaultdict()\n",
        "User_Age = defaultdict()\n",
        "User_Occupation = defaultdict()\n",
        "for i in range(len(df_user)):\n",
        "    zip = df_user['Zipcode'][i]\n",
        "    #zip = df_user['Zipcode'][i][:5]\n",
        "    zipcode = engine.by_zipcode(zip)\n",
        "    if str(zipcode) == 'None' :\n",
        "        #if len(gmaps.geocode(zip))>0:\n",
        "           #state = gmaps.geocode(zip)[0]['address_components'][2]['short_name']\n",
        "        User_state[df_user['UserID'][i]] = 'None'\n",
        "        states.append('None')\n",
        "    else:\n",
        "        state = zipcode.state\n",
        "        if state in states_count:\n",
        "            states_count[state] += 1\n",
        "        else:\n",
        "            states_count[state] = 1\n",
        "        User_state[df_user['UserID'][i]] = state\n",
        "        states.append(state)\n",
        "    User_Gender[df_user['UserID'][i]] = df_user['Gender'][i]\n",
        "    User_Occupation[df_user['UserID'][i]] = df_user['Occupation'][i]\n",
        "    User_Age[df_user['UserID'][i]]=df_user['Age'][i]"
      ]
    },
    {
      "cell_type": "code",
      "execution_count": null,
      "metadata": {
        "colab": {
          "base_uri": "https://localhost:8080/",
          "height": 424
        },
        "id": "BfVMZDzrw6sT",
        "outputId": "c161905f-aa55-4177-a529-87b1ab67a22b"
      },
      "outputs": [
        {
          "data": {
            "text/html": [
              "\n",
              "  <div id=\"df-6dbf01b0-8e17-4dae-8e59-bad6e5404efa\">\n",
              "    <div class=\"colab-df-container\">\n",
              "      <div>\n",
              "<style scoped>\n",
              "    .dataframe tbody tr th:only-of-type {\n",
              "        vertical-align: middle;\n",
              "    }\n",
              "\n",
              "    .dataframe tbody tr th {\n",
              "        vertical-align: top;\n",
              "    }\n",
              "\n",
              "    .dataframe thead th {\n",
              "        text-align: right;\n",
              "    }\n",
              "</style>\n",
              "<table border=\"1\" class=\"dataframe\">\n",
              "  <thead>\n",
              "    <tr style=\"text-align: right;\">\n",
              "      <th></th>\n",
              "      <th>UserID</th>\n",
              "      <th>Gender</th>\n",
              "      <th>Age</th>\n",
              "      <th>Occupation</th>\n",
              "      <th>Zipcode</th>\n",
              "      <th>State</th>\n",
              "    </tr>\n",
              "  </thead>\n",
              "  <tbody>\n",
              "    <tr>\n",
              "      <th>0</th>\n",
              "      <td>1</td>\n",
              "      <td>F</td>\n",
              "      <td>1</td>\n",
              "      <td>10</td>\n",
              "      <td>48067</td>\n",
              "      <td>MI</td>\n",
              "    </tr>\n",
              "    <tr>\n",
              "      <th>1</th>\n",
              "      <td>2</td>\n",
              "      <td>M</td>\n",
              "      <td>56</td>\n",
              "      <td>16</td>\n",
              "      <td>70072</td>\n",
              "      <td>LA</td>\n",
              "    </tr>\n",
              "    <tr>\n",
              "      <th>2</th>\n",
              "      <td>3</td>\n",
              "      <td>M</td>\n",
              "      <td>25</td>\n",
              "      <td>15</td>\n",
              "      <td>55117</td>\n",
              "      <td>MN</td>\n",
              "    </tr>\n",
              "    <tr>\n",
              "      <th>3</th>\n",
              "      <td>4</td>\n",
              "      <td>M</td>\n",
              "      <td>45</td>\n",
              "      <td>7</td>\n",
              "      <td>02460</td>\n",
              "      <td>MA</td>\n",
              "    </tr>\n",
              "    <tr>\n",
              "      <th>4</th>\n",
              "      <td>5</td>\n",
              "      <td>M</td>\n",
              "      <td>25</td>\n",
              "      <td>20</td>\n",
              "      <td>55455</td>\n",
              "      <td>MN</td>\n",
              "    </tr>\n",
              "    <tr>\n",
              "      <th>...</th>\n",
              "      <td>...</td>\n",
              "      <td>...</td>\n",
              "      <td>...</td>\n",
              "      <td>...</td>\n",
              "      <td>...</td>\n",
              "      <td>...</td>\n",
              "    </tr>\n",
              "    <tr>\n",
              "      <th>6035</th>\n",
              "      <td>6036</td>\n",
              "      <td>F</td>\n",
              "      <td>25</td>\n",
              "      <td>15</td>\n",
              "      <td>32603</td>\n",
              "      <td>FL</td>\n",
              "    </tr>\n",
              "    <tr>\n",
              "      <th>6036</th>\n",
              "      <td>6037</td>\n",
              "      <td>F</td>\n",
              "      <td>45</td>\n",
              "      <td>1</td>\n",
              "      <td>76006</td>\n",
              "      <td>TX</td>\n",
              "    </tr>\n",
              "    <tr>\n",
              "      <th>6037</th>\n",
              "      <td>6038</td>\n",
              "      <td>F</td>\n",
              "      <td>56</td>\n",
              "      <td>1</td>\n",
              "      <td>14706</td>\n",
              "      <td>NY</td>\n",
              "    </tr>\n",
              "    <tr>\n",
              "      <th>6038</th>\n",
              "      <td>6039</td>\n",
              "      <td>F</td>\n",
              "      <td>45</td>\n",
              "      <td>0</td>\n",
              "      <td>01060</td>\n",
              "      <td>MA</td>\n",
              "    </tr>\n",
              "    <tr>\n",
              "      <th>6039</th>\n",
              "      <td>6040</td>\n",
              "      <td>M</td>\n",
              "      <td>25</td>\n",
              "      <td>6</td>\n",
              "      <td>11106</td>\n",
              "      <td>NY</td>\n",
              "    </tr>\n",
              "  </tbody>\n",
              "</table>\n",
              "<p>6040 rows × 6 columns</p>\n",
              "</div>\n",
              "      <button class=\"colab-df-convert\" onclick=\"convertToInteractive('df-6dbf01b0-8e17-4dae-8e59-bad6e5404efa')\"\n",
              "              title=\"Convert this dataframe to an interactive table.\"\n",
              "              style=\"display:none;\">\n",
              "        \n",
              "  <svg xmlns=\"http://www.w3.org/2000/svg\" height=\"24px\"viewBox=\"0 0 24 24\"\n",
              "       width=\"24px\">\n",
              "    <path d=\"M0 0h24v24H0V0z\" fill=\"none\"/>\n",
              "    <path d=\"M18.56 5.44l.94 2.06.94-2.06 2.06-.94-2.06-.94-.94-2.06-.94 2.06-2.06.94zm-11 1L8.5 8.5l.94-2.06 2.06-.94-2.06-.94L8.5 2.5l-.94 2.06-2.06.94zm10 10l.94 2.06.94-2.06 2.06-.94-2.06-.94-.94-2.06-.94 2.06-2.06.94z\"/><path d=\"M17.41 7.96l-1.37-1.37c-.4-.4-.92-.59-1.43-.59-.52 0-1.04.2-1.43.59L10.3 9.45l-7.72 7.72c-.78.78-.78 2.05 0 2.83L4 21.41c.39.39.9.59 1.41.59.51 0 1.02-.2 1.41-.59l7.78-7.78 2.81-2.81c.8-.78.8-2.07 0-2.86zM5.41 20L4 18.59l7.72-7.72 1.47 1.35L5.41 20z\"/>\n",
              "  </svg>\n",
              "      </button>\n",
              "      \n",
              "  <style>\n",
              "    .colab-df-container {\n",
              "      display:flex;\n",
              "      flex-wrap:wrap;\n",
              "      gap: 12px;\n",
              "    }\n",
              "\n",
              "    .colab-df-convert {\n",
              "      background-color: #E8F0FE;\n",
              "      border: none;\n",
              "      border-radius: 50%;\n",
              "      cursor: pointer;\n",
              "      display: none;\n",
              "      fill: #1967D2;\n",
              "      height: 32px;\n",
              "      padding: 0 0 0 0;\n",
              "      width: 32px;\n",
              "    }\n",
              "\n",
              "    .colab-df-convert:hover {\n",
              "      background-color: #E2EBFA;\n",
              "      box-shadow: 0px 1px 2px rgba(60, 64, 67, 0.3), 0px 1px 3px 1px rgba(60, 64, 67, 0.15);\n",
              "      fill: #174EA6;\n",
              "    }\n",
              "\n",
              "    [theme=dark] .colab-df-convert {\n",
              "      background-color: #3B4455;\n",
              "      fill: #D2E3FC;\n",
              "    }\n",
              "\n",
              "    [theme=dark] .colab-df-convert:hover {\n",
              "      background-color: #434B5C;\n",
              "      box-shadow: 0px 1px 3px 1px rgba(0, 0, 0, 0.15);\n",
              "      filter: drop-shadow(0px 1px 2px rgba(0, 0, 0, 0.3));\n",
              "      fill: #FFFFFF;\n",
              "    }\n",
              "  </style>\n",
              "\n",
              "      <script>\n",
              "        const buttonEl =\n",
              "          document.querySelector('#df-6dbf01b0-8e17-4dae-8e59-bad6e5404efa button.colab-df-convert');\n",
              "        buttonEl.style.display =\n",
              "          google.colab.kernel.accessAllowed ? 'block' : 'none';\n",
              "\n",
              "        async function convertToInteractive(key) {\n",
              "          const element = document.querySelector('#df-6dbf01b0-8e17-4dae-8e59-bad6e5404efa');\n",
              "          const dataTable =\n",
              "            await google.colab.kernel.invokeFunction('convertToInteractive',\n",
              "                                                     [key], {});\n",
              "          if (!dataTable) return;\n",
              "\n",
              "          const docLinkHtml = 'Like what you see? Visit the ' +\n",
              "            '<a target=\"_blank\" href=https://colab.research.google.com/notebooks/data_table.ipynb>data table notebook</a>'\n",
              "            + ' to learn more about interactive tables.';\n",
              "          element.innerHTML = '';\n",
              "          dataTable['output_type'] = 'display_data';\n",
              "          await google.colab.output.renderOutput(dataTable, element);\n",
              "          const docLink = document.createElement('div');\n",
              "          docLink.innerHTML = docLinkHtml;\n",
              "          element.appendChild(docLink);\n",
              "        }\n",
              "      </script>\n",
              "    </div>\n",
              "  </div>\n",
              "  "
            ],
            "text/plain": [
              "      UserID Gender  Age  Occupation Zipcode State\n",
              "0          1      F    1          10   48067    MI\n",
              "1          2      M   56          16   70072    LA\n",
              "2          3      M   25          15   55117    MN\n",
              "3          4      M   45           7   02460    MA\n",
              "4          5      M   25          20   55455    MN\n",
              "...      ...    ...  ...         ...     ...   ...\n",
              "6035    6036      F   25          15   32603    FL\n",
              "6036    6037      F   45           1   76006    TX\n",
              "6037    6038      F   56           1   14706    NY\n",
              "6038    6039      F   45           0   01060    MA\n",
              "6039    6040      M   25           6   11106    NY\n",
              "\n",
              "[6040 rows x 6 columns]"
            ]
          },
          "execution_count": 13,
          "metadata": {},
          "output_type": "execute_result"
        }
      ],
      "source": [
        "df_user['State'] = states\n",
        "df_user"
      ]
    },
    {
      "cell_type": "code",
      "execution_count": null,
      "metadata": {
        "colab": {
          "base_uri": "https://localhost:8080/"
        },
        "id": "5xIwX5Saw64C",
        "outputId": "f3b982ee-5b45-4075-b809-a771eb51e8da"
      },
      "outputs": [
        {
          "name": "stderr",
          "output_type": "stream",
          "text": [
            "/usr/local/lib/python3.7/dist-packages/pandas/util/_decorators.py:311: ParserWarning: Falling back to the 'python' engine because the 'c' engine does not support regex separators (separators > 1 char and different from '\\s+' are interpreted as regex); you can avoid this warning by specifying engine='python'.\n",
            "  return func(*args, **kwargs)\n"
          ]
        }
      ],
      "source": [
        "df_rating = pd.read_csv(path+\"ratings.dat\", sep = \"::\", header=None,\n",
        "names=[\"UserID\",\"MovieID\",\"Rating\",\"Timestamp\"])"
      ]
    },
    {
      "cell_type": "code",
      "execution_count": null,
      "metadata": {
        "id": "nzAQmzYfw66f"
      },
      "outputs": [],
      "source": [
        "df_movie = pd.read_csv(path+\"movies.dat\", sep = \"::\", header=None,\n",
        "names=[\"MovieID\",\"Title\",\"Genres\"],encoding=\"ISO-8859-1\")"
      ]
    },
    {
      "cell_type": "code",
      "execution_count": null,
      "metadata": {
        "colab": {
          "base_uri": "https://localhost:8080/",
          "height": 424
        },
        "id": "4l9iER1Ww689",
        "outputId": "ad23dda2-bf8a-4bbc-dee6-1d1c6091b1a2"
      },
      "outputs": [
        {
          "data": {
            "text/html": [
              "\n",
              "  <div id=\"df-6e85bef1-0db4-4aed-9235-f434ea835f47\">\n",
              "    <div class=\"colab-df-container\">\n",
              "      <div>\n",
              "<style scoped>\n",
              "    .dataframe tbody tr th:only-of-type {\n",
              "        vertical-align: middle;\n",
              "    }\n",
              "\n",
              "    .dataframe tbody tr th {\n",
              "        vertical-align: top;\n",
              "    }\n",
              "\n",
              "    .dataframe thead th {\n",
              "        text-align: right;\n",
              "    }\n",
              "</style>\n",
              "<table border=\"1\" class=\"dataframe\">\n",
              "  <thead>\n",
              "    <tr style=\"text-align: right;\">\n",
              "      <th></th>\n",
              "      <th>MovieID</th>\n",
              "      <th>Title</th>\n",
              "      <th>Genres</th>\n",
              "    </tr>\n",
              "  </thead>\n",
              "  <tbody>\n",
              "    <tr>\n",
              "      <th>0</th>\n",
              "      <td>1</td>\n",
              "      <td>Toy Story (1995)</td>\n",
              "      <td>Animation|Children's|Comedy</td>\n",
              "    </tr>\n",
              "    <tr>\n",
              "      <th>1</th>\n",
              "      <td>2</td>\n",
              "      <td>Jumanji (1995)</td>\n",
              "      <td>Adventure|Children's|Fantasy</td>\n",
              "    </tr>\n",
              "    <tr>\n",
              "      <th>2</th>\n",
              "      <td>3</td>\n",
              "      <td>Grumpier Old Men (1995)</td>\n",
              "      <td>Comedy|Romance</td>\n",
              "    </tr>\n",
              "    <tr>\n",
              "      <th>3</th>\n",
              "      <td>4</td>\n",
              "      <td>Waiting to Exhale (1995)</td>\n",
              "      <td>Comedy|Drama</td>\n",
              "    </tr>\n",
              "    <tr>\n",
              "      <th>4</th>\n",
              "      <td>5</td>\n",
              "      <td>Father of the Bride Part II (1995)</td>\n",
              "      <td>Comedy</td>\n",
              "    </tr>\n",
              "    <tr>\n",
              "      <th>...</th>\n",
              "      <td>...</td>\n",
              "      <td>...</td>\n",
              "      <td>...</td>\n",
              "    </tr>\n",
              "    <tr>\n",
              "      <th>3878</th>\n",
              "      <td>3948</td>\n",
              "      <td>Meet the Parents (2000)</td>\n",
              "      <td>Comedy</td>\n",
              "    </tr>\n",
              "    <tr>\n",
              "      <th>3879</th>\n",
              "      <td>3949</td>\n",
              "      <td>Requiem for a Dream (2000)</td>\n",
              "      <td>Drama</td>\n",
              "    </tr>\n",
              "    <tr>\n",
              "      <th>3880</th>\n",
              "      <td>3950</td>\n",
              "      <td>Tigerland (2000)</td>\n",
              "      <td>Drama</td>\n",
              "    </tr>\n",
              "    <tr>\n",
              "      <th>3881</th>\n",
              "      <td>3951</td>\n",
              "      <td>Two Family House (2000)</td>\n",
              "      <td>Drama</td>\n",
              "    </tr>\n",
              "    <tr>\n",
              "      <th>3882</th>\n",
              "      <td>3952</td>\n",
              "      <td>Contender, The (2000)</td>\n",
              "      <td>Drama|Thriller</td>\n",
              "    </tr>\n",
              "  </tbody>\n",
              "</table>\n",
              "<p>3883 rows × 3 columns</p>\n",
              "</div>\n",
              "      <button class=\"colab-df-convert\" onclick=\"convertToInteractive('df-6e85bef1-0db4-4aed-9235-f434ea835f47')\"\n",
              "              title=\"Convert this dataframe to an interactive table.\"\n",
              "              style=\"display:none;\">\n",
              "        \n",
              "  <svg xmlns=\"http://www.w3.org/2000/svg\" height=\"24px\"viewBox=\"0 0 24 24\"\n",
              "       width=\"24px\">\n",
              "    <path d=\"M0 0h24v24H0V0z\" fill=\"none\"/>\n",
              "    <path d=\"M18.56 5.44l.94 2.06.94-2.06 2.06-.94-2.06-.94-.94-2.06-.94 2.06-2.06.94zm-11 1L8.5 8.5l.94-2.06 2.06-.94-2.06-.94L8.5 2.5l-.94 2.06-2.06.94zm10 10l.94 2.06.94-2.06 2.06-.94-2.06-.94-.94-2.06-.94 2.06-2.06.94z\"/><path d=\"M17.41 7.96l-1.37-1.37c-.4-.4-.92-.59-1.43-.59-.52 0-1.04.2-1.43.59L10.3 9.45l-7.72 7.72c-.78.78-.78 2.05 0 2.83L4 21.41c.39.39.9.59 1.41.59.51 0 1.02-.2 1.41-.59l7.78-7.78 2.81-2.81c.8-.78.8-2.07 0-2.86zM5.41 20L4 18.59l7.72-7.72 1.47 1.35L5.41 20z\"/>\n",
              "  </svg>\n",
              "      </button>\n",
              "      \n",
              "  <style>\n",
              "    .colab-df-container {\n",
              "      display:flex;\n",
              "      flex-wrap:wrap;\n",
              "      gap: 12px;\n",
              "    }\n",
              "\n",
              "    .colab-df-convert {\n",
              "      background-color: #E8F0FE;\n",
              "      border: none;\n",
              "      border-radius: 50%;\n",
              "      cursor: pointer;\n",
              "      display: none;\n",
              "      fill: #1967D2;\n",
              "      height: 32px;\n",
              "      padding: 0 0 0 0;\n",
              "      width: 32px;\n",
              "    }\n",
              "\n",
              "    .colab-df-convert:hover {\n",
              "      background-color: #E2EBFA;\n",
              "      box-shadow: 0px 1px 2px rgba(60, 64, 67, 0.3), 0px 1px 3px 1px rgba(60, 64, 67, 0.15);\n",
              "      fill: #174EA6;\n",
              "    }\n",
              "\n",
              "    [theme=dark] .colab-df-convert {\n",
              "      background-color: #3B4455;\n",
              "      fill: #D2E3FC;\n",
              "    }\n",
              "\n",
              "    [theme=dark] .colab-df-convert:hover {\n",
              "      background-color: #434B5C;\n",
              "      box-shadow: 0px 1px 3px 1px rgba(0, 0, 0, 0.15);\n",
              "      filter: drop-shadow(0px 1px 2px rgba(0, 0, 0, 0.3));\n",
              "      fill: #FFFFFF;\n",
              "    }\n",
              "  </style>\n",
              "\n",
              "      <script>\n",
              "        const buttonEl =\n",
              "          document.querySelector('#df-6e85bef1-0db4-4aed-9235-f434ea835f47 button.colab-df-convert');\n",
              "        buttonEl.style.display =\n",
              "          google.colab.kernel.accessAllowed ? 'block' : 'none';\n",
              "\n",
              "        async function convertToInteractive(key) {\n",
              "          const element = document.querySelector('#df-6e85bef1-0db4-4aed-9235-f434ea835f47');\n",
              "          const dataTable =\n",
              "            await google.colab.kernel.invokeFunction('convertToInteractive',\n",
              "                                                     [key], {});\n",
              "          if (!dataTable) return;\n",
              "\n",
              "          const docLinkHtml = 'Like what you see? Visit the ' +\n",
              "            '<a target=\"_blank\" href=https://colab.research.google.com/notebooks/data_table.ipynb>data table notebook</a>'\n",
              "            + ' to learn more about interactive tables.';\n",
              "          element.innerHTML = '';\n",
              "          dataTable['output_type'] = 'display_data';\n",
              "          await google.colab.output.renderOutput(dataTable, element);\n",
              "          const docLink = document.createElement('div');\n",
              "          docLink.innerHTML = docLinkHtml;\n",
              "          element.appendChild(docLink);\n",
              "        }\n",
              "      </script>\n",
              "    </div>\n",
              "  </div>\n",
              "  "
            ],
            "text/plain": [
              "      MovieID                               Title  \\\n",
              "0           1                    Toy Story (1995)   \n",
              "1           2                      Jumanji (1995)   \n",
              "2           3             Grumpier Old Men (1995)   \n",
              "3           4            Waiting to Exhale (1995)   \n",
              "4           5  Father of the Bride Part II (1995)   \n",
              "...       ...                                 ...   \n",
              "3878     3948             Meet the Parents (2000)   \n",
              "3879     3949          Requiem for a Dream (2000)   \n",
              "3880     3950                    Tigerland (2000)   \n",
              "3881     3951             Two Family House (2000)   \n",
              "3882     3952               Contender, The (2000)   \n",
              "\n",
              "                            Genres  \n",
              "0      Animation|Children's|Comedy  \n",
              "1     Adventure|Children's|Fantasy  \n",
              "2                   Comedy|Romance  \n",
              "3                     Comedy|Drama  \n",
              "4                           Comedy  \n",
              "...                            ...  \n",
              "3878                        Comedy  \n",
              "3879                         Drama  \n",
              "3880                         Drama  \n",
              "3881                         Drama  \n",
              "3882                Drama|Thriller  \n",
              "\n",
              "[3883 rows x 3 columns]"
            ]
          },
          "execution_count": 16,
          "metadata": {},
          "output_type": "execute_result"
        }
      ],
      "source": [
        "df_movie"
      ]
    },
    {
      "cell_type": "code",
      "execution_count": null,
      "metadata": {
        "id": "p3YxSnX3w6-5"
      },
      "outputs": [],
      "source": [
        "MovieID_Title = defaultdict()\n",
        "for index,row in df_movie.iterrows():\n",
        "    MovieID_Title[row['MovieID']] = row['Title'][:-6]"
      ]
    },
    {
      "cell_type": "code",
      "execution_count": null,
      "metadata": {
        "id": "q5upJs_7w7BH"
      },
      "outputs": [],
      "source": [
        "MoviePerGenres = defaultdict(list)\n",
        "MoviePerTitle = defaultdict()\n",
        "MoviePerYear = defaultdict()\n",
        "genres = set()\n",
        "genre_cnt = defaultdict(int)\n",
        "for i in range(len(df_movie)):\n",
        "    gen = df_movie['Genres'][i].split(\"|\")\n",
        "    movie_id = df_movie['MovieID'][i]\n",
        "    MoviePerTitle[movie_id] = df_movie['Title'][i][:-6]\n",
        "    MoviePerYear[movie_id] = df_movie['Title'][i][-5:-1]\n",
        "    for g in gen:\n",
        "        if g in genre_cnt:\n",
        "            genre_cnt[g] += 1\n",
        "        else:\n",
        "            genre_cnt[g] = 1\n",
        "        genres.add(g)\n",
        "        MoviePerGenres[movie_id].append(g)"
      ]
    },
    {
      "cell_type": "code",
      "execution_count": null,
      "metadata": {
        "id": "Dfd-OMD7w7DG"
      },
      "outputs": [],
      "source": [
        "date = []\n",
        "for i in range(len(df_rating)):\n",
        "    ts = df_rating['Timestamp'][i]\n",
        "    date.append(datetime.datetime.fromtimestamp(ts))\n",
        "df_rating['date'] = date\n",
        "df_rating['Month'] = pd.DatetimeIndex(df_rating['date']).month\n",
        "df_rating['Hour'] = pd.DatetimeIndex(df_rating['date']).hour\n",
        "Gender = []\n",
        "Age = []\n",
        "State = []\n",
        "Occupation = []\n",
        "Genres = []\n",
        "for id,row in df_rating.iterrows():\n",
        "    u = row['UserID']\n",
        "    Gender.append(User_Gender[u])\n",
        "    Age.append(User_Age[u])\n",
        "    State.append(User_state[u])\n",
        "    Occupation.append(User_Occupation[u])\n",
        "    m = row['MovieID']\n",
        "    Genres.append(MoviePerGenres[m])"
      ]
    },
    {
      "cell_type": "code",
      "execution_count": null,
      "metadata": {
        "id": "RXzSDKpqw7FJ"
      },
      "outputs": [],
      "source": [
        "df_rating['Gender'] = Gender\n",
        "df_rating['Age'] = Age\n",
        "df_rating['State'] = State\n",
        "df_rating['Occupation'] = Occupation\n",
        "df_rating['Genres'] = Genres"
      ]
    },
    {
      "cell_type": "code",
      "execution_count": null,
      "metadata": {
        "colab": {
          "base_uri": "https://localhost:8080/",
          "height": 852
        },
        "id": "J7BX_yJDxMDe",
        "outputId": "742549c8-baa5-4ab8-e809-fd91b0206928"
      },
      "outputs": [
        {
          "data": {
            "text/html": [
              "\n",
              "  <div id=\"df-5ba0a4f6-a3ad-47e5-afb0-86f63b6a263e\">\n",
              "    <div class=\"colab-df-container\">\n",
              "      <div>\n",
              "<style scoped>\n",
              "    .dataframe tbody tr th:only-of-type {\n",
              "        vertical-align: middle;\n",
              "    }\n",
              "\n",
              "    .dataframe tbody tr th {\n",
              "        vertical-align: top;\n",
              "    }\n",
              "\n",
              "    .dataframe thead th {\n",
              "        text-align: right;\n",
              "    }\n",
              "</style>\n",
              "<table border=\"1\" class=\"dataframe\">\n",
              "  <thead>\n",
              "    <tr style=\"text-align: right;\">\n",
              "      <th></th>\n",
              "      <th>UserID</th>\n",
              "      <th>MovieID</th>\n",
              "      <th>Rating</th>\n",
              "      <th>Timestamp</th>\n",
              "      <th>date</th>\n",
              "      <th>Month</th>\n",
              "      <th>Hour</th>\n",
              "      <th>Gender</th>\n",
              "      <th>Age</th>\n",
              "      <th>State</th>\n",
              "      <th>Occupation</th>\n",
              "      <th>Genres</th>\n",
              "    </tr>\n",
              "  </thead>\n",
              "  <tbody>\n",
              "    <tr>\n",
              "      <th>0</th>\n",
              "      <td>1</td>\n",
              "      <td>1193</td>\n",
              "      <td>5</td>\n",
              "      <td>978300760</td>\n",
              "      <td>2000-12-31 22:12:40</td>\n",
              "      <td>12</td>\n",
              "      <td>22</td>\n",
              "      <td>F</td>\n",
              "      <td>1</td>\n",
              "      <td>MI</td>\n",
              "      <td>10</td>\n",
              "      <td>[Drama]</td>\n",
              "    </tr>\n",
              "    <tr>\n",
              "      <th>1</th>\n",
              "      <td>1</td>\n",
              "      <td>661</td>\n",
              "      <td>3</td>\n",
              "      <td>978302109</td>\n",
              "      <td>2000-12-31 22:35:09</td>\n",
              "      <td>12</td>\n",
              "      <td>22</td>\n",
              "      <td>F</td>\n",
              "      <td>1</td>\n",
              "      <td>MI</td>\n",
              "      <td>10</td>\n",
              "      <td>[Animation, Children's, Musical]</td>\n",
              "    </tr>\n",
              "    <tr>\n",
              "      <th>2</th>\n",
              "      <td>1</td>\n",
              "      <td>914</td>\n",
              "      <td>3</td>\n",
              "      <td>978301968</td>\n",
              "      <td>2000-12-31 22:32:48</td>\n",
              "      <td>12</td>\n",
              "      <td>22</td>\n",
              "      <td>F</td>\n",
              "      <td>1</td>\n",
              "      <td>MI</td>\n",
              "      <td>10</td>\n",
              "      <td>[Musical, Romance]</td>\n",
              "    </tr>\n",
              "    <tr>\n",
              "      <th>3</th>\n",
              "      <td>1</td>\n",
              "      <td>3408</td>\n",
              "      <td>4</td>\n",
              "      <td>978300275</td>\n",
              "      <td>2000-12-31 22:04:35</td>\n",
              "      <td>12</td>\n",
              "      <td>22</td>\n",
              "      <td>F</td>\n",
              "      <td>1</td>\n",
              "      <td>MI</td>\n",
              "      <td>10</td>\n",
              "      <td>[Drama]</td>\n",
              "    </tr>\n",
              "    <tr>\n",
              "      <th>4</th>\n",
              "      <td>1</td>\n",
              "      <td>2355</td>\n",
              "      <td>5</td>\n",
              "      <td>978824291</td>\n",
              "      <td>2001-01-06 23:38:11</td>\n",
              "      <td>1</td>\n",
              "      <td>23</td>\n",
              "      <td>F</td>\n",
              "      <td>1</td>\n",
              "      <td>MI</td>\n",
              "      <td>10</td>\n",
              "      <td>[Animation, Children's, Comedy]</td>\n",
              "    </tr>\n",
              "    <tr>\n",
              "      <th>...</th>\n",
              "      <td>...</td>\n",
              "      <td>...</td>\n",
              "      <td>...</td>\n",
              "      <td>...</td>\n",
              "      <td>...</td>\n",
              "      <td>...</td>\n",
              "      <td>...</td>\n",
              "      <td>...</td>\n",
              "      <td>...</td>\n",
              "      <td>...</td>\n",
              "      <td>...</td>\n",
              "      <td>...</td>\n",
              "    </tr>\n",
              "    <tr>\n",
              "      <th>1000204</th>\n",
              "      <td>6040</td>\n",
              "      <td>1091</td>\n",
              "      <td>1</td>\n",
              "      <td>956716541</td>\n",
              "      <td>2000-04-26 02:35:41</td>\n",
              "      <td>4</td>\n",
              "      <td>2</td>\n",
              "      <td>M</td>\n",
              "      <td>25</td>\n",
              "      <td>NY</td>\n",
              "      <td>6</td>\n",
              "      <td>[Comedy]</td>\n",
              "    </tr>\n",
              "    <tr>\n",
              "      <th>1000205</th>\n",
              "      <td>6040</td>\n",
              "      <td>1094</td>\n",
              "      <td>5</td>\n",
              "      <td>956704887</td>\n",
              "      <td>2000-04-25 23:21:27</td>\n",
              "      <td>4</td>\n",
              "      <td>23</td>\n",
              "      <td>M</td>\n",
              "      <td>25</td>\n",
              "      <td>NY</td>\n",
              "      <td>6</td>\n",
              "      <td>[Drama, Romance, War]</td>\n",
              "    </tr>\n",
              "    <tr>\n",
              "      <th>1000206</th>\n",
              "      <td>6040</td>\n",
              "      <td>562</td>\n",
              "      <td>5</td>\n",
              "      <td>956704746</td>\n",
              "      <td>2000-04-25 23:19:06</td>\n",
              "      <td>4</td>\n",
              "      <td>23</td>\n",
              "      <td>M</td>\n",
              "      <td>25</td>\n",
              "      <td>NY</td>\n",
              "      <td>6</td>\n",
              "      <td>[Comedy, Drama]</td>\n",
              "    </tr>\n",
              "    <tr>\n",
              "      <th>1000207</th>\n",
              "      <td>6040</td>\n",
              "      <td>1096</td>\n",
              "      <td>4</td>\n",
              "      <td>956715648</td>\n",
              "      <td>2000-04-26 02:20:48</td>\n",
              "      <td>4</td>\n",
              "      <td>2</td>\n",
              "      <td>M</td>\n",
              "      <td>25</td>\n",
              "      <td>NY</td>\n",
              "      <td>6</td>\n",
              "      <td>[Drama]</td>\n",
              "    </tr>\n",
              "    <tr>\n",
              "      <th>1000208</th>\n",
              "      <td>6040</td>\n",
              "      <td>1097</td>\n",
              "      <td>4</td>\n",
              "      <td>956715569</td>\n",
              "      <td>2000-04-26 02:19:29</td>\n",
              "      <td>4</td>\n",
              "      <td>2</td>\n",
              "      <td>M</td>\n",
              "      <td>25</td>\n",
              "      <td>NY</td>\n",
              "      <td>6</td>\n",
              "      <td>[Children's, Drama, Fantasy, Sci-Fi]</td>\n",
              "    </tr>\n",
              "  </tbody>\n",
              "</table>\n",
              "<p>1000209 rows × 12 columns</p>\n",
              "</div>\n",
              "      <button class=\"colab-df-convert\" onclick=\"convertToInteractive('df-5ba0a4f6-a3ad-47e5-afb0-86f63b6a263e')\"\n",
              "              title=\"Convert this dataframe to an interactive table.\"\n",
              "              style=\"display:none;\">\n",
              "        \n",
              "  <svg xmlns=\"http://www.w3.org/2000/svg\" height=\"24px\"viewBox=\"0 0 24 24\"\n",
              "       width=\"24px\">\n",
              "    <path d=\"M0 0h24v24H0V0z\" fill=\"none\"/>\n",
              "    <path d=\"M18.56 5.44l.94 2.06.94-2.06 2.06-.94-2.06-.94-.94-2.06-.94 2.06-2.06.94zm-11 1L8.5 8.5l.94-2.06 2.06-.94-2.06-.94L8.5 2.5l-.94 2.06-2.06.94zm10 10l.94 2.06.94-2.06 2.06-.94-2.06-.94-.94-2.06-.94 2.06-2.06.94z\"/><path d=\"M17.41 7.96l-1.37-1.37c-.4-.4-.92-.59-1.43-.59-.52 0-1.04.2-1.43.59L10.3 9.45l-7.72 7.72c-.78.78-.78 2.05 0 2.83L4 21.41c.39.39.9.59 1.41.59.51 0 1.02-.2 1.41-.59l7.78-7.78 2.81-2.81c.8-.78.8-2.07 0-2.86zM5.41 20L4 18.59l7.72-7.72 1.47 1.35L5.41 20z\"/>\n",
              "  </svg>\n",
              "      </button>\n",
              "      \n",
              "  <style>\n",
              "    .colab-df-container {\n",
              "      display:flex;\n",
              "      flex-wrap:wrap;\n",
              "      gap: 12px;\n",
              "    }\n",
              "\n",
              "    .colab-df-convert {\n",
              "      background-color: #E8F0FE;\n",
              "      border: none;\n",
              "      border-radius: 50%;\n",
              "      cursor: pointer;\n",
              "      display: none;\n",
              "      fill: #1967D2;\n",
              "      height: 32px;\n",
              "      padding: 0 0 0 0;\n",
              "      width: 32px;\n",
              "    }\n",
              "\n",
              "    .colab-df-convert:hover {\n",
              "      background-color: #E2EBFA;\n",
              "      box-shadow: 0px 1px 2px rgba(60, 64, 67, 0.3), 0px 1px 3px 1px rgba(60, 64, 67, 0.15);\n",
              "      fill: #174EA6;\n",
              "    }\n",
              "\n",
              "    [theme=dark] .colab-df-convert {\n",
              "      background-color: #3B4455;\n",
              "      fill: #D2E3FC;\n",
              "    }\n",
              "\n",
              "    [theme=dark] .colab-df-convert:hover {\n",
              "      background-color: #434B5C;\n",
              "      box-shadow: 0px 1px 3px 1px rgba(0, 0, 0, 0.15);\n",
              "      filter: drop-shadow(0px 1px 2px rgba(0, 0, 0, 0.3));\n",
              "      fill: #FFFFFF;\n",
              "    }\n",
              "  </style>\n",
              "\n",
              "      <script>\n",
              "        const buttonEl =\n",
              "          document.querySelector('#df-5ba0a4f6-a3ad-47e5-afb0-86f63b6a263e button.colab-df-convert');\n",
              "        buttonEl.style.display =\n",
              "          google.colab.kernel.accessAllowed ? 'block' : 'none';\n",
              "\n",
              "        async function convertToInteractive(key) {\n",
              "          const element = document.querySelector('#df-5ba0a4f6-a3ad-47e5-afb0-86f63b6a263e');\n",
              "          const dataTable =\n",
              "            await google.colab.kernel.invokeFunction('convertToInteractive',\n",
              "                                                     [key], {});\n",
              "          if (!dataTable) return;\n",
              "\n",
              "          const docLinkHtml = 'Like what you see? Visit the ' +\n",
              "            '<a target=\"_blank\" href=https://colab.research.google.com/notebooks/data_table.ipynb>data table notebook</a>'\n",
              "            + ' to learn more about interactive tables.';\n",
              "          element.innerHTML = '';\n",
              "          dataTable['output_type'] = 'display_data';\n",
              "          await google.colab.output.renderOutput(dataTable, element);\n",
              "          const docLink = document.createElement('div');\n",
              "          docLink.innerHTML = docLinkHtml;\n",
              "          element.appendChild(docLink);\n",
              "        }\n",
              "      </script>\n",
              "    </div>\n",
              "  </div>\n",
              "  "
            ],
            "text/plain": [
              "         UserID  MovieID  Rating  Timestamp                date  Month  Hour  \\\n",
              "0             1     1193       5  978300760 2000-12-31 22:12:40     12    22   \n",
              "1             1      661       3  978302109 2000-12-31 22:35:09     12    22   \n",
              "2             1      914       3  978301968 2000-12-31 22:32:48     12    22   \n",
              "3             1     3408       4  978300275 2000-12-31 22:04:35     12    22   \n",
              "4             1     2355       5  978824291 2001-01-06 23:38:11      1    23   \n",
              "...         ...      ...     ...        ...                 ...    ...   ...   \n",
              "1000204    6040     1091       1  956716541 2000-04-26 02:35:41      4     2   \n",
              "1000205    6040     1094       5  956704887 2000-04-25 23:21:27      4    23   \n",
              "1000206    6040      562       5  956704746 2000-04-25 23:19:06      4    23   \n",
              "1000207    6040     1096       4  956715648 2000-04-26 02:20:48      4     2   \n",
              "1000208    6040     1097       4  956715569 2000-04-26 02:19:29      4     2   \n",
              "\n",
              "        Gender  Age State  Occupation                                Genres  \n",
              "0            F    1    MI          10                               [Drama]  \n",
              "1            F    1    MI          10      [Animation, Children's, Musical]  \n",
              "2            F    1    MI          10                    [Musical, Romance]  \n",
              "3            F    1    MI          10                               [Drama]  \n",
              "4            F    1    MI          10       [Animation, Children's, Comedy]  \n",
              "...        ...  ...   ...         ...                                   ...  \n",
              "1000204      M   25    NY           6                              [Comedy]  \n",
              "1000205      M   25    NY           6                 [Drama, Romance, War]  \n",
              "1000206      M   25    NY           6                       [Comedy, Drama]  \n",
              "1000207      M   25    NY           6                               [Drama]  \n",
              "1000208      M   25    NY           6  [Children's, Drama, Fantasy, Sci-Fi]  \n",
              "\n",
              "[1000209 rows x 12 columns]"
            ]
          },
          "execution_count": 21,
          "metadata": {},
          "output_type": "execute_result"
        }
      ],
      "source": [
        "df_rating"
      ]
    },
    {
      "cell_type": "code",
      "execution_count": null,
      "metadata": {
        "id": "PhN8Id9zxNUj"
      },
      "outputs": [],
      "source": [
        "from sklearn.utils import shuffle\n",
        "#打乱数据集,random_state随机种子可复现\n",
        "df = shuffle(df_rating,random_state=20)\n",
        "df\n",
        "\n",
        "###Test-1m\n",
        "df_rating_train = df.iloc[0:900000]\n",
        "df_rating_valid = df.iloc[900000:950000]\n",
        "df_rating_test = df.iloc[950000:1000000]\n",
        "\n",
        "###Test-100k\n",
        "df_rating_train = df.iloc[0:90000]\n",
        "df_rating_valid = df.iloc[90000:95000]\n",
        "df_rating_test = df.iloc[95000:100000]"
      ]
    },
    {
      "cell_type": "code",
      "execution_count": null,
      "metadata": {
        "colab": {
          "base_uri": "https://localhost:8080/"
        },
        "id": "NwIerh3qxPX5",
        "outputId": "cf3e3d14-4827-4b17-f5f3-12836a2ae9b9"
      },
      "outputs": [
        {
          "name": "stdout",
          "output_type": "stream",
          "text": [
            "4550\n"
          ]
        }
      ],
      "source": [
        "#use the title word2vec\n",
        "wordCount = defaultdict(int)\n",
        "punctuation = set(string.punctuation)\n",
        "for i in range(len(df_movie)):\n",
        "    r = ''.join([c for c in df_movie['Title'][i][:-6].lower() if not c in punctuation])\n",
        "    ws = r.split()\n",
        "    for w in ws:\n",
        "        wordCount[w] += 1\n",
        "print(len(wordCount))"
      ]
    },
    {
      "cell_type": "code",
      "execution_count": null,
      "metadata": {
        "id": "gmOmzz-ExjWp"
      },
      "outputs": [],
      "source": [
        "counts = [(wordCount[w], w) for w in wordCount]\n",
        "counts.sort()\n",
        "counts.reverse()"
      ]
    },
    {
      "cell_type": "code",
      "execution_count": null,
      "metadata": {
        "colab": {
          "base_uri": "https://localhost:8080/"
        },
        "id": "KGiy6WdZxjaa",
        "outputId": "33d76327-0161-429f-908e-8802d0171123"
      },
      "outputs": [
        {
          "name": "stdout",
          "output_type": "stream",
          "text": [
            "['the', 'of', 'a', 'in', 'and', 'to', 'man', 'on', 'love', 'ii']\n"
          ]
        }
      ],
      "source": [
        "unigrams = [w[1] for w in counts[:1000]]\n",
        "unigramId = defaultdict()\n",
        "print(unigrams[:10])\n",
        "for i in range(len(unigrams)):\n",
        "    unigramId[unigrams[i]] = i\n",
        "unigramSet = set(unigrams)"
      ]
    },
    {
      "cell_type": "code",
      "execution_count": null,
      "metadata": {
        "id": "IHpbeEU-xjcv"
      },
      "outputs": [],
      "source": [
        "reviews = []"
      ]
    },
    {
      "cell_type": "code",
      "execution_count": null,
      "metadata": {
        "id": "1uPY8JWfxje9"
      },
      "outputs": [],
      "source": [
        "## all the titles can be used\n",
        "for index,row in df.iterrows():\n",
        "    movie = row['MovieID']\n",
        "    reviews.append(MoviePerTitle[movie])"
      ]
    },
    {
      "cell_type": "code",
      "execution_count": null,
      "metadata": {
        "id": "rcjuId1AxjhT"
      },
      "outputs": [],
      "source": [
        "reviewTokens = []\n",
        "punctuation = set(string.punctuation)\n",
        "for r in reviews:\n",
        "    r = ''.join([c for c in r.lower() if not c in punctuation])\n",
        "    tokens = []\n",
        "    for w in r.split():\n",
        "        tokens.append(w)\n",
        "    reviewTokens.append(tokens)"
      ]
    },
    {
      "cell_type": "code",
      "execution_count": null,
      "metadata": {
        "id": "8vWdKKSFxjjr"
      },
      "outputs": [],
      "source": [
        "model10 = Word2Vec(reviewTokens,\n",
        "                 min_count=1, # Words/items with fewer instances are discarded\n",
        "                 vector_size=10, # Model dimensionality\n",
        "                 window=3, # Window size\n",
        "                 sg=1) # Skip-gram model"
      ]
    },
    {
      "cell_type": "code",
      "execution_count": null,
      "metadata": {
        "colab": {
          "base_uri": "https://localhost:8080/"
        },
        "id": "f7oscRsSxjl2",
        "outputId": "f1317a43-aac1-4d90-fadb-27c09b055e43"
      },
      "outputs": [
        {
          "data": {
            "text/plain": [
              "array([-2.4441165e-01, -1.8382432e+00, -3.8095351e-02, -1.3889527e-01,\n",
              "        1.8399960e+00, -2.7875119e-01, -1.4622661e+00,  5.0072470e+00,\n",
              "       -3.2522552e+00,  6.1068282e-04], dtype=float32)"
            ]
          },
          "execution_count": 30,
          "metadata": {},
          "output_type": "execute_result"
        }
      ],
      "source": [
        "model10.wv[12]"
      ]
    },
    {
      "cell_type": "code",
      "execution_count": null,
      "metadata": {
        "colab": {
          "base_uri": "https://localhost:8080/"
        },
        "id": "tMpS90OuxjoV",
        "outputId": "2a62dcd4-9ac4-4722-c5ba-683f358a94ce"
      },
      "outputs": [
        {
          "data": {
            "text/plain": [
              "['mission', 'impossible']"
            ]
          },
          "execution_count": 31,
          "metadata": {},
          "output_type": "execute_result"
        }
      ],
      "source": [
        "reviewTokens[0]"
      ]
    },
    {
      "cell_type": "code",
      "execution_count": null,
      "metadata": {
        "id": "dUmktu6bxvAm"
      },
      "outputs": [],
      "source": [
        "def Cosine(x1,x2):\n",
        "    numer = 0\n",
        "    norm1 = 0\n",
        "    norm2 = 0\n",
        "    for i in range(len(x1)):\n",
        "        a1 = x1[i]\n",
        "        a2 = x2[i]\n",
        "        numer += a1*a2\n",
        "        norm1 += a1**2\n",
        "        norm2 += a2**2\n",
        "    if norm1*norm2 != 0:\n",
        "        return numer / math.sqrt(norm1*norm2)\n",
        "    return 0"
      ]
    },
    {
      "cell_type": "code",
      "execution_count": null,
      "metadata": {
        "id": "WZGw0QrjxvDZ"
      },
      "outputs": [],
      "source": [
        "def Jaccard(s1, s2):\n",
        "    numer = len(s1.intersection(s2))\n",
        "    denom = len(s1.union(s2))\n",
        "    if denom == 0:\n",
        "        return 0\n",
        "    return numer / denom"
      ]
    },
    {
      "cell_type": "code",
      "execution_count": null,
      "metadata": {
        "id": "YpVAAcCFxvGX"
      },
      "outputs": [],
      "source": [
        "similarities = model10.wv.similar_by_word(reviewTokens[0][0])[:5]"
      ]
    },
    {
      "cell_type": "code",
      "execution_count": null,
      "metadata": {
        "colab": {
          "base_uri": "https://localhost:8080/"
        },
        "id": "kcJw2ZToxzet",
        "outputId": "66ea26eb-c49c-4447-81f2-9175a2aca9f8"
      },
      "outputs": [
        {
          "data": {
            "text/plain": [
              "[('wellville', 0.9287581443786621),\n",
              " ('road', 0.9249494075775146),\n",
              " ('arlington', 0.9194822907447815),\n",
              " ('trip', 0.9136356711387634),\n",
              " ('zahlt', 0.8980842232704163)]"
            ]
          },
          "execution_count": 35,
          "metadata": {},
          "output_type": "execute_result"
        }
      ],
      "source": [
        "similarities"
      ]
    },
    {
      "cell_type": "code",
      "execution_count": null,
      "metadata": {
        "id": "irrXqt_1xzhd"
      },
      "outputs": [],
      "source": [
        "reviewsPerUser = defaultdict(list)\n",
        "reviewsPerItem = defaultdict(list)\n",
        "RatingPerItem = defaultdict(list)\n",
        "RatingPerUser = defaultdict(list)\n",
        "RatingPerPair = defaultdict()\n",
        "UserPerItem = defaultdict(set)\n",
        "ItemPerUser = defaultdict(set)\n",
        "genresPerUser = defaultdict(list)\n",
        "OccupationPeritem = defaultdict(list)\n",
        "items = set()\n",
        "users = set()\n",
        "# A few utilities\n",
        "itemAverages = defaultdict(list)\n",
        "usersAverages = defaultdict(list)\n",
        "ratingMean = []\n",
        "gender = set()\n",
        "genres = set()\n",
        "states = set()\n",
        "\n",
        "for id,d in df.iterrows():\n",
        "    u,b,r = d['UserID'],d['MovieID'],d['Rating']\n",
        "    state = d['State']\n",
        "    gens = d['Genres']\n",
        "    gd = d['Gender']\n",
        "\n",
        "    r = int(r)\n",
        "    RatingPerUser[u].append(r)\n",
        "    RatingPerItem[b].append(r)\n",
        "    reviewsPerUser[u].append(d)\n",
        "    reviewsPerItem[i].append(d)\n",
        "    RatingPerPair[(u,b)]=r\n",
        "    UserPerItem[b].add(u)\n",
        "    ItemPerUser[u].add(b)\n",
        "    items.add(b)\n",
        "    users.add(u)\n",
        "    for g in gens:\n",
        "         genres.add(g)\n",
        "    states.add(state)\n",
        "    gender.add(gd)\n",
        "    \n",
        "    itemAverages[d['MovieID']].append(d['Rating'])\n",
        "    usersAverages[d['UserID']].append(d['Rating'])\n",
        "    ratingMean.append(d['Rating'])\n",
        "    OccupationPeritem[b].append(User_Occupation[u])\n",
        "    for g in MoviePerGenres[b]:\n",
        "         genresPerUser[u].append(g)\n",
        "\n",
        "for i in itemAverages:\n",
        "    itemAverages[i] = sum(itemAverages[i]) / len(itemAverages[i])\n",
        "\n",
        "for u in usersAverages:\n",
        "    usersAverages[u] = sum(usersAverages[u]) / len(usersAverages[u])\n",
        "\n",
        "ratingMean = sum(ratingMean) / len(ratingMean)"
      ]
    },
    {
      "cell_type": "code",
      "execution_count": null,
      "metadata": {
        "colab": {
          "base_uri": "https://localhost:8080/"
        },
        "id": "J-ApcVNSx7L-",
        "outputId": "9b1a12da-c732-4f46-e0d0-a1a95b71091a"
      },
      "outputs": [
        {
          "name": "stdout",
          "output_type": "stream",
          "text": [
            "2\n",
            "18\n",
            "56\n"
          ]
        }
      ],
      "source": [
        "gender = list(gender)\n",
        "genres = list(genres)\n",
        "states = list(states)\n",
        "print(len(gender))\n",
        "print(len(genres))\n",
        "print(len(states))\n",
        "gender_dict = defaultdict(int)\n",
        "genres_dict = defaultdict(int)\n",
        "states_dict = defaultdict(int)"
      ]
    },
    {
      "cell_type": "code",
      "execution_count": null,
      "metadata": {
        "id": "kcAhEDh3x7Pa"
      },
      "outputs": [],
      "source": [
        "for i in range(len(gender)):\n",
        "      gender_dict[gender[i]] = i + 1\n",
        "\n",
        "for i in range(len(genres)):\n",
        "      genres_dict[genres[i]] = i + 1\n",
        "\n",
        "for i in range(len(states)):\n",
        "      states_dict[states[i]] = i + 1"
      ]
    },
    {
      "cell_type": "code",
      "execution_count": null,
      "metadata": {
        "id": "lHAmXWPBx7R6"
      },
      "outputs": [],
      "source": [
        "# we use the top3 of the occupations\n",
        "# From my HW2 solution, welcome to reuse\n",
        "def simWord2Vec(user,item):\n",
        "    ratings = []\n",
        "    similarities = []\n",
        "    for d in reviewsPerUser[user]:\n",
        "        i2 = d['MovieID']\n",
        "        if i2 == item: continue\n",
        "        #这里因为数据结构是set，不用转换\n",
        "        sim = Cosine(model10.wv[item],model10.wv[i2])\n",
        "        similarities.append(numpy.abs(sim))\n",
        "        if len(similarities) > 0:\n",
        "            return sum(similarities)/len(similarities)\n",
        "        else:\n",
        "            return 0\n",
        "\n",
        "def simUserPerGenre(user,item):\n",
        "    ratings = []\n",
        "    similarities = []\n",
        "    for d in reviewsPerItem[item]:\n",
        "        v = d['UserID']\n",
        "        if v == user: continue\n",
        "        #这里因为数据结构是set，不用转换\n",
        "        sim = Jaccard(set(genresPerUser[user]),set(genresPerUser[v]))\n",
        "        similarities.append(sim)\n",
        "        return sum(similarities)/len(similarities)"
      ]
    },
    {
      "cell_type": "code",
      "execution_count": null,
      "metadata": {
        "id": "hWWyO7v90Myy"
      },
      "outputs": [],
      "source": [
        "sim_title_Word2Vec = []\n",
        "sim_GenreperUser = []\n",
        "for ix,row in df.iterrows():\n",
        "    u,i = row['UserID'],row['MovieID']\n",
        "    sim_title_Word2Vec.append(simWord2Vec(u,i))"
      ]
    },
    {
      "cell_type": "code",
      "execution_count": null,
      "metadata": {
        "colab": {
          "base_uri": "https://localhost:8080/"
        },
        "id": "JfmcGiXc0PtT",
        "outputId": "e118b089-fd2d-44c5-a06a-b9aa63f90829"
      },
      "outputs": [
        {
          "name": "stderr",
          "output_type": "stream",
          "text": [
            "/usr/local/lib/python3.7/dist-packages/ipykernel_launcher.py:1: SettingWithCopyWarning: \n",
            "A value is trying to be set on a copy of a slice from a DataFrame.\n",
            "Try using .loc[row_indexer,col_indexer] = value instead\n",
            "\n",
            "See the caveats in the documentation: https://pandas.pydata.org/pandas-docs/stable/user_guide/indexing.html#returning-a-view-versus-a-copy\n",
            "  \"\"\"Entry point for launching an IPython kernel.\n"
          ]
        }
      ],
      "source": [
        "df['sim_title_Word2Vec'] = sim_title_Word2Vec"
      ]
    },
    {
      "cell_type": "code",
      "execution_count": null,
      "metadata": {
        "id": "DX814gWI0P06"
      },
      "outputs": [],
      "source": [
        "df = df.drop(['date', 'Timestamp'], axis=1)"
      ]
    },
    {
      "cell_type": "code",
      "execution_count": null,
      "metadata": {
        "colab": {
          "base_uri": "https://localhost:8080/",
          "height": 679
        },
        "id": "CMYi5Si_x7UW",
        "outputId": "c3959240-b6d5-4fe1-cc40-f132400f39a5"
      },
      "outputs": [
        {
          "data": {
            "text/html": [
              "\n",
              "  <div id=\"df-1a39caab-910e-45a1-abbd-a5d04db3b377\">\n",
              "    <div class=\"colab-df-container\">\n",
              "      <div>\n",
              "<style scoped>\n",
              "    .dataframe tbody tr th:only-of-type {\n",
              "        vertical-align: middle;\n",
              "    }\n",
              "\n",
              "    .dataframe tbody tr th {\n",
              "        vertical-align: top;\n",
              "    }\n",
              "\n",
              "    .dataframe thead th {\n",
              "        text-align: right;\n",
              "    }\n",
              "</style>\n",
              "<table border=\"1\" class=\"dataframe\">\n",
              "  <thead>\n",
              "    <tr style=\"text-align: right;\">\n",
              "      <th></th>\n",
              "      <th>UserID</th>\n",
              "      <th>MovieID</th>\n",
              "      <th>Rating</th>\n",
              "      <th>Month</th>\n",
              "      <th>Hour</th>\n",
              "      <th>Gender</th>\n",
              "      <th>Age</th>\n",
              "      <th>State</th>\n",
              "      <th>Occupation</th>\n",
              "      <th>Genres</th>\n",
              "      <th>sim_title_Word2Vec</th>\n",
              "    </tr>\n",
              "  </thead>\n",
              "  <tbody>\n",
              "    <tr>\n",
              "      <th>246667</th>\n",
              "      <td>1490</td>\n",
              "      <td>648</td>\n",
              "      <td>4</td>\n",
              "      <td>11</td>\n",
              "      <td>1</td>\n",
              "      <td>M</td>\n",
              "      <td>50</td>\n",
              "      <td>CA</td>\n",
              "      <td>7</td>\n",
              "      <td>[Action, Adventure, Mystery]</td>\n",
              "      <td>0.349362</td>\n",
              "    </tr>\n",
              "    <tr>\n",
              "      <th>449484</th>\n",
              "      <td>2771</td>\n",
              "      <td>47</td>\n",
              "      <td>4</td>\n",
              "      <td>11</td>\n",
              "      <td>1</td>\n",
              "      <td>M</td>\n",
              "      <td>18</td>\n",
              "      <td>CA</td>\n",
              "      <td>1</td>\n",
              "      <td>[Crime, Thriller]</td>\n",
              "      <td>0.586894</td>\n",
              "    </tr>\n",
              "    <tr>\n",
              "      <th>750684</th>\n",
              "      <td>4478</td>\n",
              "      <td>2385</td>\n",
              "      <td>2</td>\n",
              "      <td>3</td>\n",
              "      <td>21</td>\n",
              "      <td>M</td>\n",
              "      <td>1</td>\n",
              "      <td>MA</td>\n",
              "      <td>12</td>\n",
              "      <td>[Comedy, Romance]</td>\n",
              "      <td>0.198455</td>\n",
              "    </tr>\n",
              "    <tr>\n",
              "      <th>935407</th>\n",
              "      <td>5643</td>\n",
              "      <td>1758</td>\n",
              "      <td>4</td>\n",
              "      <td>5</td>\n",
              "      <td>6</td>\n",
              "      <td>F</td>\n",
              "      <td>35</td>\n",
              "      <td>UT</td>\n",
              "      <td>1</td>\n",
              "      <td>[Drama]</td>\n",
              "      <td>0.811012</td>\n",
              "    </tr>\n",
              "    <tr>\n",
              "      <th>447463</th>\n",
              "      <td>2756</td>\n",
              "      <td>2028</td>\n",
              "      <td>5</td>\n",
              "      <td>11</td>\n",
              "      <td>19</td>\n",
              "      <td>M</td>\n",
              "      <td>18</td>\n",
              "      <td>OR</td>\n",
              "      <td>4</td>\n",
              "      <td>[Action, Drama, War]</td>\n",
              "      <td>0.840639</td>\n",
              "    </tr>\n",
              "    <tr>\n",
              "      <th>...</th>\n",
              "      <td>...</td>\n",
              "      <td>...</td>\n",
              "      <td>...</td>\n",
              "      <td>...</td>\n",
              "      <td>...</td>\n",
              "      <td>...</td>\n",
              "      <td>...</td>\n",
              "      <td>...</td>\n",
              "      <td>...</td>\n",
              "      <td>...</td>\n",
              "      <td>...</td>\n",
              "    </tr>\n",
              "    <tr>\n",
              "      <th>556250</th>\n",
              "      <td>3418</td>\n",
              "      <td>1516</td>\n",
              "      <td>5</td>\n",
              "      <td>8</td>\n",
              "      <td>17</td>\n",
              "      <td>F</td>\n",
              "      <td>18</td>\n",
              "      <td>VA</td>\n",
              "      <td>3</td>\n",
              "      <td>[Comedy]</td>\n",
              "      <td>0.488522</td>\n",
              "    </tr>\n",
              "    <tr>\n",
              "      <th>744348</th>\n",
              "      <td>4447</td>\n",
              "      <td>1320</td>\n",
              "      <td>1</td>\n",
              "      <td>8</td>\n",
              "      <td>22</td>\n",
              "      <td>M</td>\n",
              "      <td>45</td>\n",
              "      <td>FL</td>\n",
              "      <td>5</td>\n",
              "      <td>[Action, Horror, Sci-Fi, Thriller]</td>\n",
              "      <td>0.298340</td>\n",
              "    </tr>\n",
              "    <tr>\n",
              "      <th>285919</th>\n",
              "      <td>1706</td>\n",
              "      <td>3624</td>\n",
              "      <td>4</td>\n",
              "      <td>11</td>\n",
              "      <td>9</td>\n",
              "      <td>M</td>\n",
              "      <td>25</td>\n",
              "      <td>PA</td>\n",
              "      <td>20</td>\n",
              "      <td>[Action]</td>\n",
              "      <td>0.269315</td>\n",
              "    </tr>\n",
              "    <tr>\n",
              "      <th>37135</th>\n",
              "      <td>251</td>\n",
              "      <td>3916</td>\n",
              "      <td>4</td>\n",
              "      <td>12</td>\n",
              "      <td>17</td>\n",
              "      <td>M</td>\n",
              "      <td>56</td>\n",
              "      <td>MN</td>\n",
              "      <td>17</td>\n",
              "      <td>[Drama]</td>\n",
              "      <td>0.412135</td>\n",
              "    </tr>\n",
              "    <tr>\n",
              "      <th>879066</th>\n",
              "      <td>5312</td>\n",
              "      <td>3175</td>\n",
              "      <td>4</td>\n",
              "      <td>6</td>\n",
              "      <td>19</td>\n",
              "      <td>M</td>\n",
              "      <td>25</td>\n",
              "      <td>NY</td>\n",
              "      <td>1</td>\n",
              "      <td>[Adventure, Comedy, Sci-Fi]</td>\n",
              "      <td>0.176156</td>\n",
              "    </tr>\n",
              "  </tbody>\n",
              "</table>\n",
              "<p>1000209 rows × 11 columns</p>\n",
              "</div>\n",
              "      <button class=\"colab-df-convert\" onclick=\"convertToInteractive('df-1a39caab-910e-45a1-abbd-a5d04db3b377')\"\n",
              "              title=\"Convert this dataframe to an interactive table.\"\n",
              "              style=\"display:none;\">\n",
              "        \n",
              "  <svg xmlns=\"http://www.w3.org/2000/svg\" height=\"24px\"viewBox=\"0 0 24 24\"\n",
              "       width=\"24px\">\n",
              "    <path d=\"M0 0h24v24H0V0z\" fill=\"none\"/>\n",
              "    <path d=\"M18.56 5.44l.94 2.06.94-2.06 2.06-.94-2.06-.94-.94-2.06-.94 2.06-2.06.94zm-11 1L8.5 8.5l.94-2.06 2.06-.94-2.06-.94L8.5 2.5l-.94 2.06-2.06.94zm10 10l.94 2.06.94-2.06 2.06-.94-2.06-.94-.94-2.06-.94 2.06-2.06.94z\"/><path d=\"M17.41 7.96l-1.37-1.37c-.4-.4-.92-.59-1.43-.59-.52 0-1.04.2-1.43.59L10.3 9.45l-7.72 7.72c-.78.78-.78 2.05 0 2.83L4 21.41c.39.39.9.59 1.41.59.51 0 1.02-.2 1.41-.59l7.78-7.78 2.81-2.81c.8-.78.8-2.07 0-2.86zM5.41 20L4 18.59l7.72-7.72 1.47 1.35L5.41 20z\"/>\n",
              "  </svg>\n",
              "      </button>\n",
              "      \n",
              "  <style>\n",
              "    .colab-df-container {\n",
              "      display:flex;\n",
              "      flex-wrap:wrap;\n",
              "      gap: 12px;\n",
              "    }\n",
              "\n",
              "    .colab-df-convert {\n",
              "      background-color: #E8F0FE;\n",
              "      border: none;\n",
              "      border-radius: 50%;\n",
              "      cursor: pointer;\n",
              "      display: none;\n",
              "      fill: #1967D2;\n",
              "      height: 32px;\n",
              "      padding: 0 0 0 0;\n",
              "      width: 32px;\n",
              "    }\n",
              "\n",
              "    .colab-df-convert:hover {\n",
              "      background-color: #E2EBFA;\n",
              "      box-shadow: 0px 1px 2px rgba(60, 64, 67, 0.3), 0px 1px 3px 1px rgba(60, 64, 67, 0.15);\n",
              "      fill: #174EA6;\n",
              "    }\n",
              "\n",
              "    [theme=dark] .colab-df-convert {\n",
              "      background-color: #3B4455;\n",
              "      fill: #D2E3FC;\n",
              "    }\n",
              "\n",
              "    [theme=dark] .colab-df-convert:hover {\n",
              "      background-color: #434B5C;\n",
              "      box-shadow: 0px 1px 3px 1px rgba(0, 0, 0, 0.15);\n",
              "      filter: drop-shadow(0px 1px 2px rgba(0, 0, 0, 0.3));\n",
              "      fill: #FFFFFF;\n",
              "    }\n",
              "  </style>\n",
              "\n",
              "      <script>\n",
              "        const buttonEl =\n",
              "          document.querySelector('#df-1a39caab-910e-45a1-abbd-a5d04db3b377 button.colab-df-convert');\n",
              "        buttonEl.style.display =\n",
              "          google.colab.kernel.accessAllowed ? 'block' : 'none';\n",
              "\n",
              "        async function convertToInteractive(key) {\n",
              "          const element = document.querySelector('#df-1a39caab-910e-45a1-abbd-a5d04db3b377');\n",
              "          const dataTable =\n",
              "            await google.colab.kernel.invokeFunction('convertToInteractive',\n",
              "                                                     [key], {});\n",
              "          if (!dataTable) return;\n",
              "\n",
              "          const docLinkHtml = 'Like what you see? Visit the ' +\n",
              "            '<a target=\"_blank\" href=https://colab.research.google.com/notebooks/data_table.ipynb>data table notebook</a>'\n",
              "            + ' to learn more about interactive tables.';\n",
              "          element.innerHTML = '';\n",
              "          dataTable['output_type'] = 'display_data';\n",
              "          await google.colab.output.renderOutput(dataTable, element);\n",
              "          const docLink = document.createElement('div');\n",
              "          docLink.innerHTML = docLinkHtml;\n",
              "          element.appendChild(docLink);\n",
              "        }\n",
              "      </script>\n",
              "    </div>\n",
              "  </div>\n",
              "  "
            ],
            "text/plain": [
              "        UserID  MovieID  Rating  Month  Hour Gender  Age State  Occupation  \\\n",
              "246667    1490      648       4     11     1      M   50    CA           7   \n",
              "449484    2771       47       4     11     1      M   18    CA           1   \n",
              "750684    4478     2385       2      3    21      M    1    MA          12   \n",
              "935407    5643     1758       4      5     6      F   35    UT           1   \n",
              "447463    2756     2028       5     11    19      M   18    OR           4   \n",
              "...        ...      ...     ...    ...   ...    ...  ...   ...         ...   \n",
              "556250    3418     1516       5      8    17      F   18    VA           3   \n",
              "744348    4447     1320       1      8    22      M   45    FL           5   \n",
              "285919    1706     3624       4     11     9      M   25    PA          20   \n",
              "37135      251     3916       4     12    17      M   56    MN          17   \n",
              "879066    5312     3175       4      6    19      M   25    NY           1   \n",
              "\n",
              "                                    Genres  sim_title_Word2Vec  \n",
              "246667        [Action, Adventure, Mystery]            0.349362  \n",
              "449484                   [Crime, Thriller]            0.586894  \n",
              "750684                   [Comedy, Romance]            0.198455  \n",
              "935407                             [Drama]            0.811012  \n",
              "447463                [Action, Drama, War]            0.840639  \n",
              "...                                    ...                 ...  \n",
              "556250                            [Comedy]            0.488522  \n",
              "744348  [Action, Horror, Sci-Fi, Thriller]            0.298340  \n",
              "285919                            [Action]            0.269315  \n",
              "37135                              [Drama]            0.412135  \n",
              "879066         [Adventure, Comedy, Sci-Fi]            0.176156  \n",
              "\n",
              "[1000209 rows x 11 columns]"
            ]
          },
          "execution_count": 43,
          "metadata": {},
          "output_type": "execute_result"
        }
      ],
      "source": [
        "df"
      ]
    },
    {
      "cell_type": "code",
      "execution_count": null,
      "metadata": {
        "id": "G4tWZLdO0VLx"
      },
      "outputs": [],
      "source": [
        "similarities = model10.wv.similar_by_word(reviewTokens[0][0])[:5]"
      ]
    },
    {
      "cell_type": "code",
      "execution_count": null,
      "metadata": {
        "colab": {
          "base_uri": "https://localhost:8080/"
        },
        "id": "bPXNt1WD0VOu",
        "outputId": "58a6ab85-cc8e-4e65-f105-c6649dfec307"
      },
      "outputs": [
        {
          "data": {
            "text/plain": [
              "[('wellville', 0.9287581443786621),\n",
              " ('road', 0.9249494075775146),\n",
              " ('arlington', 0.9194822907447815),\n",
              " ('trip', 0.9136356711387634),\n",
              " ('zahlt', 0.8980842232704163)]"
            ]
          },
          "execution_count": 45,
          "metadata": {},
          "output_type": "execute_result"
        }
      ],
      "source": [
        "similarities"
      ]
    },
    {
      "cell_type": "code",
      "execution_count": null,
      "metadata": {
        "colab": {
          "base_uri": "https://localhost:8080/",
          "height": 665
        },
        "id": "EPEOLtcc1HUe",
        "outputId": "985cae9e-a8d2-41b4-ea24-b605fe844b3a"
      },
      "outputs": [
        {
          "name": "stdout",
          "output_type": "stream",
          "text": [
            "Looking in indexes: https://pypi.org/simple, https://us-python.pkg.dev/colab-wheels/public/simple/\n",
            "Collecting fastfm2\n",
            "  Downloading fastfm2-0.5.2-cp37-cp37m-manylinux2010_x86_64.manylinux_2_12_x86_64.whl (496 kB)\n",
            "\u001b[K     |████████████████████████████████| 496 kB 5.1 MB/s \n",
            "\u001b[?25hCollecting scikit-learn<0.23.0,>=0.22.1\n",
            "  Downloading scikit_learn-0.22.2.post1-cp37-cp37m-manylinux1_x86_64.whl (7.1 MB)\n",
            "\u001b[K     |████████████████████████████████| 7.1 MB 56.3 MB/s \n",
            "\u001b[?25hRequirement already satisfied: scipy<2.0,>=1.3 in /usr/local/lib/python3.7/dist-packages (from fastfm2) (1.7.3)\n",
            "Collecting numpy<1.20\n",
            "  Downloading numpy-1.19.5-cp37-cp37m-manylinux2010_x86_64.whl (14.8 MB)\n",
            "\u001b[K     |████████████████████████████████| 14.8 MB 45.1 MB/s \n",
            "\u001b[?25hRequirement already satisfied: joblib>=0.11 in /usr/local/lib/python3.7/dist-packages (from scikit-learn<0.23.0,>=0.22.1->fastfm2) (1.2.0)\n",
            "Installing collected packages: numpy, scikit-learn, fastfm2\n",
            "  Attempting uninstall: numpy\n",
            "    Found existing installation: numpy 1.21.6\n",
            "    Uninstalling numpy-1.21.6:\n",
            "      Successfully uninstalled numpy-1.21.6\n",
            "  Attempting uninstall: scikit-learn\n",
            "    Found existing installation: scikit-learn 1.0.2\n",
            "    Uninstalling scikit-learn-1.0.2:\n",
            "      Successfully uninstalled scikit-learn-1.0.2\n",
            "\u001b[31mERROR: pip's dependency resolver does not currently take into account all the packages that are installed. This behaviour is the source of the following dependency conflicts.\n",
            "yellowbrick 1.5 requires scikit-learn>=1.0.0, but you have scikit-learn 0.22.2.post1 which is incompatible.\n",
            "xarray-einstats 0.2.2 requires numpy>=1.21, but you have numpy 1.19.5 which is incompatible.\n",
            "tensorflow 2.11.0 requires numpy>=1.20, but you have numpy 1.19.5 which is incompatible.\n",
            "jaxlib 0.3.25+cuda11.cudnn805 requires numpy>=1.20, but you have numpy 1.19.5 which is incompatible.\n",
            "jax 0.3.25 requires numpy>=1.20, but you have numpy 1.19.5 which is incompatible.\n",
            "imbalanced-learn 0.8.1 requires scikit-learn>=0.24, but you have scikit-learn 0.22.2.post1 which is incompatible.\n",
            "cmdstanpy 1.0.8 requires numpy>=1.21, but you have numpy 1.19.5 which is incompatible.\u001b[0m\n",
            "Successfully installed fastfm2-0.5.2 numpy-1.19.5 scikit-learn-0.22.2.post1\n"
          ]
        },
        {
          "data": {
            "application/vnd.colab-display-data+json": {
              "pip_warning": {
                "packages": [
                  "numpy",
                  "sklearn"
                ]
              }
            }
          },
          "metadata": {},
          "output_type": "display_data"
        }
      ],
      "source": [
        "!pip install fastfm2"
      ]
    },
    {
      "cell_type": "code",
      "execution_count": null,
      "metadata": {
        "colab": {
          "base_uri": "https://localhost:8080/"
        },
        "id": "_MUFMvgV0VRg",
        "outputId": "52ce75f4-8624-4a8a-e307-23dd4eeb6dbb"
      },
      "outputs": [
        {
          "name": "stdout",
          "output_type": "stream",
          "text": [
            "NO CLASSIFICATION MODULE EXISTS!\n"
          ]
        }
      ],
      "source": [
        "import scipy\n",
        "from fastfm2 import als\n",
        "from scipy.spatial import distance"
      ]
    },
    {
      "cell_type": "code",
      "execution_count": null,
      "metadata": {
        "id": "MOY8E-6C0bhF"
      },
      "outputs": [],
      "source": [
        "def MSE(Y,Y_pred):\n",
        "    mse = numpy.square(numpy.subtract(numpy.array(Y),numpy.array(Y_pred))).mean()\n",
        "    return mse"
      ]
    },
    {
      "cell_type": "code",
      "execution_count": null,
      "metadata": {
        "id": "bttmpx2cCi9H"
      },
      "outputs": [],
      "source": [
        "Genres_text = []\n",
        "for id,row in df.iterrows():\n",
        "    s = \"\"\n",
        "    for g in row['Genres']:\n",
        "      s += \" \"\n",
        "      s += g\n",
        "    Genres_text.append(s)\n",
        "df['Genres_text'] = Genres_text"
      ]
    },
    {
      "cell_type": "code",
      "execution_count": null,
      "metadata": {
        "colab": {
          "base_uri": "https://localhost:8080/",
          "height": 679
        },
        "id": "9GhErr2x28RH",
        "outputId": "b5fdd470-adcb-44c7-80c7-50e090f1b027"
      },
      "outputs": [
        {
          "data": {
            "text/html": [
              "\n",
              "  <div id=\"df-8420985b-80e6-4878-baac-5ba6cc3f537b\">\n",
              "    <div class=\"colab-df-container\">\n",
              "      <div>\n",
              "<style scoped>\n",
              "    .dataframe tbody tr th:only-of-type {\n",
              "        vertical-align: middle;\n",
              "    }\n",
              "\n",
              "    .dataframe tbody tr th {\n",
              "        vertical-align: top;\n",
              "    }\n",
              "\n",
              "    .dataframe thead th {\n",
              "        text-align: right;\n",
              "    }\n",
              "</style>\n",
              "<table border=\"1\" class=\"dataframe\">\n",
              "  <thead>\n",
              "    <tr style=\"text-align: right;\">\n",
              "      <th></th>\n",
              "      <th>UserID</th>\n",
              "      <th>MovieID</th>\n",
              "      <th>Rating</th>\n",
              "      <th>Month</th>\n",
              "      <th>Hour</th>\n",
              "      <th>Gender</th>\n",
              "      <th>Age</th>\n",
              "      <th>State</th>\n",
              "      <th>Occupation</th>\n",
              "      <th>Genres</th>\n",
              "      <th>sim_title_Word2Vec</th>\n",
              "      <th>Genres_text</th>\n",
              "    </tr>\n",
              "  </thead>\n",
              "  <tbody>\n",
              "    <tr>\n",
              "      <th>246667</th>\n",
              "      <td>1490</td>\n",
              "      <td>648</td>\n",
              "      <td>4</td>\n",
              "      <td>11</td>\n",
              "      <td>1</td>\n",
              "      <td>M</td>\n",
              "      <td>50</td>\n",
              "      <td>CA</td>\n",
              "      <td>7</td>\n",
              "      <td>[Action, Adventure, Mystery]</td>\n",
              "      <td>0.349362</td>\n",
              "      <td>Action Adventure Mystery</td>\n",
              "    </tr>\n",
              "    <tr>\n",
              "      <th>449484</th>\n",
              "      <td>2771</td>\n",
              "      <td>47</td>\n",
              "      <td>4</td>\n",
              "      <td>11</td>\n",
              "      <td>1</td>\n",
              "      <td>M</td>\n",
              "      <td>18</td>\n",
              "      <td>CA</td>\n",
              "      <td>1</td>\n",
              "      <td>[Crime, Thriller]</td>\n",
              "      <td>0.586894</td>\n",
              "      <td>Crime Thriller</td>\n",
              "    </tr>\n",
              "    <tr>\n",
              "      <th>750684</th>\n",
              "      <td>4478</td>\n",
              "      <td>2385</td>\n",
              "      <td>2</td>\n",
              "      <td>3</td>\n",
              "      <td>21</td>\n",
              "      <td>M</td>\n",
              "      <td>1</td>\n",
              "      <td>MA</td>\n",
              "      <td>12</td>\n",
              "      <td>[Comedy, Romance]</td>\n",
              "      <td>0.198455</td>\n",
              "      <td>Comedy Romance</td>\n",
              "    </tr>\n",
              "    <tr>\n",
              "      <th>935407</th>\n",
              "      <td>5643</td>\n",
              "      <td>1758</td>\n",
              "      <td>4</td>\n",
              "      <td>5</td>\n",
              "      <td>6</td>\n",
              "      <td>F</td>\n",
              "      <td>35</td>\n",
              "      <td>UT</td>\n",
              "      <td>1</td>\n",
              "      <td>[Drama]</td>\n",
              "      <td>0.811012</td>\n",
              "      <td>Drama</td>\n",
              "    </tr>\n",
              "    <tr>\n",
              "      <th>447463</th>\n",
              "      <td>2756</td>\n",
              "      <td>2028</td>\n",
              "      <td>5</td>\n",
              "      <td>11</td>\n",
              "      <td>19</td>\n",
              "      <td>M</td>\n",
              "      <td>18</td>\n",
              "      <td>OR</td>\n",
              "      <td>4</td>\n",
              "      <td>[Action, Drama, War]</td>\n",
              "      <td>0.840639</td>\n",
              "      <td>Action Drama War</td>\n",
              "    </tr>\n",
              "    <tr>\n",
              "      <th>...</th>\n",
              "      <td>...</td>\n",
              "      <td>...</td>\n",
              "      <td>...</td>\n",
              "      <td>...</td>\n",
              "      <td>...</td>\n",
              "      <td>...</td>\n",
              "      <td>...</td>\n",
              "      <td>...</td>\n",
              "      <td>...</td>\n",
              "      <td>...</td>\n",
              "      <td>...</td>\n",
              "      <td>...</td>\n",
              "    </tr>\n",
              "    <tr>\n",
              "      <th>556250</th>\n",
              "      <td>3418</td>\n",
              "      <td>1516</td>\n",
              "      <td>5</td>\n",
              "      <td>8</td>\n",
              "      <td>17</td>\n",
              "      <td>F</td>\n",
              "      <td>18</td>\n",
              "      <td>VA</td>\n",
              "      <td>3</td>\n",
              "      <td>[Comedy]</td>\n",
              "      <td>0.488522</td>\n",
              "      <td>Comedy</td>\n",
              "    </tr>\n",
              "    <tr>\n",
              "      <th>744348</th>\n",
              "      <td>4447</td>\n",
              "      <td>1320</td>\n",
              "      <td>1</td>\n",
              "      <td>8</td>\n",
              "      <td>22</td>\n",
              "      <td>M</td>\n",
              "      <td>45</td>\n",
              "      <td>FL</td>\n",
              "      <td>5</td>\n",
              "      <td>[Action, Horror, Sci-Fi, Thriller]</td>\n",
              "      <td>0.298340</td>\n",
              "      <td>Action Horror Sci-Fi Thriller</td>\n",
              "    </tr>\n",
              "    <tr>\n",
              "      <th>285919</th>\n",
              "      <td>1706</td>\n",
              "      <td>3624</td>\n",
              "      <td>4</td>\n",
              "      <td>11</td>\n",
              "      <td>9</td>\n",
              "      <td>M</td>\n",
              "      <td>25</td>\n",
              "      <td>PA</td>\n",
              "      <td>20</td>\n",
              "      <td>[Action]</td>\n",
              "      <td>0.269315</td>\n",
              "      <td>Action</td>\n",
              "    </tr>\n",
              "    <tr>\n",
              "      <th>37135</th>\n",
              "      <td>251</td>\n",
              "      <td>3916</td>\n",
              "      <td>4</td>\n",
              "      <td>12</td>\n",
              "      <td>17</td>\n",
              "      <td>M</td>\n",
              "      <td>56</td>\n",
              "      <td>MN</td>\n",
              "      <td>17</td>\n",
              "      <td>[Drama]</td>\n",
              "      <td>0.412135</td>\n",
              "      <td>Drama</td>\n",
              "    </tr>\n",
              "    <tr>\n",
              "      <th>879066</th>\n",
              "      <td>5312</td>\n",
              "      <td>3175</td>\n",
              "      <td>4</td>\n",
              "      <td>6</td>\n",
              "      <td>19</td>\n",
              "      <td>M</td>\n",
              "      <td>25</td>\n",
              "      <td>NY</td>\n",
              "      <td>1</td>\n",
              "      <td>[Adventure, Comedy, Sci-Fi]</td>\n",
              "      <td>0.176156</td>\n",
              "      <td>Adventure Comedy Sci-Fi</td>\n",
              "    </tr>\n",
              "  </tbody>\n",
              "</table>\n",
              "<p>1000209 rows × 12 columns</p>\n",
              "</div>\n",
              "      <button class=\"colab-df-convert\" onclick=\"convertToInteractive('df-8420985b-80e6-4878-baac-5ba6cc3f537b')\"\n",
              "              title=\"Convert this dataframe to an interactive table.\"\n",
              "              style=\"display:none;\">\n",
              "        \n",
              "  <svg xmlns=\"http://www.w3.org/2000/svg\" height=\"24px\"viewBox=\"0 0 24 24\"\n",
              "       width=\"24px\">\n",
              "    <path d=\"M0 0h24v24H0V0z\" fill=\"none\"/>\n",
              "    <path d=\"M18.56 5.44l.94 2.06.94-2.06 2.06-.94-2.06-.94-.94-2.06-.94 2.06-2.06.94zm-11 1L8.5 8.5l.94-2.06 2.06-.94-2.06-.94L8.5 2.5l-.94 2.06-2.06.94zm10 10l.94 2.06.94-2.06 2.06-.94-2.06-.94-.94-2.06-.94 2.06-2.06.94z\"/><path d=\"M17.41 7.96l-1.37-1.37c-.4-.4-.92-.59-1.43-.59-.52 0-1.04.2-1.43.59L10.3 9.45l-7.72 7.72c-.78.78-.78 2.05 0 2.83L4 21.41c.39.39.9.59 1.41.59.51 0 1.02-.2 1.41-.59l7.78-7.78 2.81-2.81c.8-.78.8-2.07 0-2.86zM5.41 20L4 18.59l7.72-7.72 1.47 1.35L5.41 20z\"/>\n",
              "  </svg>\n",
              "      </button>\n",
              "      \n",
              "  <style>\n",
              "    .colab-df-container {\n",
              "      display:flex;\n",
              "      flex-wrap:wrap;\n",
              "      gap: 12px;\n",
              "    }\n",
              "\n",
              "    .colab-df-convert {\n",
              "      background-color: #E8F0FE;\n",
              "      border: none;\n",
              "      border-radius: 50%;\n",
              "      cursor: pointer;\n",
              "      display: none;\n",
              "      fill: #1967D2;\n",
              "      height: 32px;\n",
              "      padding: 0 0 0 0;\n",
              "      width: 32px;\n",
              "    }\n",
              "\n",
              "    .colab-df-convert:hover {\n",
              "      background-color: #E2EBFA;\n",
              "      box-shadow: 0px 1px 2px rgba(60, 64, 67, 0.3), 0px 1px 3px 1px rgba(60, 64, 67, 0.15);\n",
              "      fill: #174EA6;\n",
              "    }\n",
              "\n",
              "    [theme=dark] .colab-df-convert {\n",
              "      background-color: #3B4455;\n",
              "      fill: #D2E3FC;\n",
              "    }\n",
              "\n",
              "    [theme=dark] .colab-df-convert:hover {\n",
              "      background-color: #434B5C;\n",
              "      box-shadow: 0px 1px 3px 1px rgba(0, 0, 0, 0.15);\n",
              "      filter: drop-shadow(0px 1px 2px rgba(0, 0, 0, 0.3));\n",
              "      fill: #FFFFFF;\n",
              "    }\n",
              "  </style>\n",
              "\n",
              "      <script>\n",
              "        const buttonEl =\n",
              "          document.querySelector('#df-8420985b-80e6-4878-baac-5ba6cc3f537b button.colab-df-convert');\n",
              "        buttonEl.style.display =\n",
              "          google.colab.kernel.accessAllowed ? 'block' : 'none';\n",
              "\n",
              "        async function convertToInteractive(key) {\n",
              "          const element = document.querySelector('#df-8420985b-80e6-4878-baac-5ba6cc3f537b');\n",
              "          const dataTable =\n",
              "            await google.colab.kernel.invokeFunction('convertToInteractive',\n",
              "                                                     [key], {});\n",
              "          if (!dataTable) return;\n",
              "\n",
              "          const docLinkHtml = 'Like what you see? Visit the ' +\n",
              "            '<a target=\"_blank\" href=https://colab.research.google.com/notebooks/data_table.ipynb>data table notebook</a>'\n",
              "            + ' to learn more about interactive tables.';\n",
              "          element.innerHTML = '';\n",
              "          dataTable['output_type'] = 'display_data';\n",
              "          await google.colab.output.renderOutput(dataTable, element);\n",
              "          const docLink = document.createElement('div');\n",
              "          docLink.innerHTML = docLinkHtml;\n",
              "          element.appendChild(docLink);\n",
              "        }\n",
              "      </script>\n",
              "    </div>\n",
              "  </div>\n",
              "  "
            ],
            "text/plain": [
              "        UserID  MovieID  Rating  Month  Hour Gender  Age State  Occupation  \\\n",
              "246667    1490      648       4     11     1      M   50    CA           7   \n",
              "449484    2771       47       4     11     1      M   18    CA           1   \n",
              "750684    4478     2385       2      3    21      M    1    MA          12   \n",
              "935407    5643     1758       4      5     6      F   35    UT           1   \n",
              "447463    2756     2028       5     11    19      M   18    OR           4   \n",
              "...        ...      ...     ...    ...   ...    ...  ...   ...         ...   \n",
              "556250    3418     1516       5      8    17      F   18    VA           3   \n",
              "744348    4447     1320       1      8    22      M   45    FL           5   \n",
              "285919    1706     3624       4     11     9      M   25    PA          20   \n",
              "37135      251     3916       4     12    17      M   56    MN          17   \n",
              "879066    5312     3175       4      6    19      M   25    NY           1   \n",
              "\n",
              "                                    Genres  sim_title_Word2Vec  \\\n",
              "246667        [Action, Adventure, Mystery]            0.349362   \n",
              "449484                   [Crime, Thriller]            0.586894   \n",
              "750684                   [Comedy, Romance]            0.198455   \n",
              "935407                             [Drama]            0.811012   \n",
              "447463                [Action, Drama, War]            0.840639   \n",
              "...                                    ...                 ...   \n",
              "556250                            [Comedy]            0.488522   \n",
              "744348  [Action, Horror, Sci-Fi, Thriller]            0.298340   \n",
              "285919                            [Action]            0.269315   \n",
              "37135                              [Drama]            0.412135   \n",
              "879066         [Adventure, Comedy, Sci-Fi]            0.176156   \n",
              "\n",
              "                           Genres_text  \n",
              "246667        Action Adventure Mystery  \n",
              "449484                  Crime Thriller  \n",
              "750684                  Comedy Romance  \n",
              "935407                           Drama  \n",
              "447463                Action Drama War  \n",
              "...                                ...  \n",
              "556250                          Comedy  \n",
              "744348   Action Horror Sci-Fi Thriller  \n",
              "285919                          Action  \n",
              "37135                            Drama  \n",
              "879066         Adventure Comedy Sci-Fi  \n",
              "\n",
              "[1000209 rows x 12 columns]"
            ]
          },
          "execution_count": 49,
          "metadata": {},
          "output_type": "execute_result"
        }
      ],
      "source": [
        "df"
      ]
    },
    {
      "cell_type": "code",
      "execution_count": null,
      "metadata": {
        "id": "Am4EPDTb0qGs"
      },
      "outputs": [],
      "source": [
        "sparse_features = [\"MovieID\", \"UserID\",\n",
        "                       \"Gender\", \"Age\", \"Occupation\", \"State\", \"Genres_text\" ]\n",
        "target = ['Rating']\n",
        "\n",
        "# 1.Label Encoding for sparse features,and process sequence features\n",
        "for feat in sparse_features:\n",
        "     lbe = LabelEncoder()\n",
        "     df[feat] = lbe.fit_transform(df[feat])\n",
        "    # preprocess the sequence feature"
      ]
    },
    {
      "cell_type": "code",
      "execution_count": null,
      "metadata": {
        "id": "jUR8bAtG0bkP"
      },
      "outputs": [],
      "source": [
        "key2index = {}\n",
        "# genres_list = list(map(split, data['genres'].values))\n",
        "# genres_length = np.array(list(map(len, genres_list)))\n",
        "# max_len = max(genres_length)\n",
        "# Notice : padding=`post`\n",
        "# genres_list = pad_sequences(genres_list, maxlen=max_len, padding='post', )\n",
        "\n",
        "# 2.count #unique features for each sparse field and generate feature config for sequence feature\n",
        "\n",
        "fixlen_feature_columns = [SparseFeat(feat, df[feat].nunique(), embedding_dim=4) for feat in sparse_features]\n",
        "\n",
        "# varlen_feature_columns = [VarLenSparseFeat(SparseFeat('genres', vocabulary_size=len(\n",
        "    # key2index) + 1, embedding_dim=4), maxlen=max_len, combiner='mean')]  # Notice : value 0 is for padding for sequence input feature\n",
        "\n",
        "linear_feature_columns = fixlen_feature_columns\n",
        "dnn_feature_columns = fixlen_feature_columns \n",
        "\n",
        "feature_names = get_feature_names(linear_feature_columns + dnn_feature_columns)\n",
        "\n",
        "# 3.generate input data for model\n",
        "model_input = {name: df[name] for name in sparse_features}  #\n",
        "# model_input[\"genres\"] = genres_list\n",
        "\n",
        "# 4.Define Model,compile and train\n",
        "\n",
        "device = 'cpu'\n",
        "use_cuda = True\n",
        "if use_cuda and torch.cuda.is_available():\n",
        "    print('cuda ready...')\n",
        "    device = 'cuda:0'"
      ]
    },
    {
      "cell_type": "code",
      "execution_count": null,
      "metadata": {
        "colab": {
          "background_save": true,
          "base_uri": "https://localhost:8080/"
        },
        "id": "aLhdoWF30h5z",
        "outputId": "72571115-17f7-45ee-dd8c-80120b607a60"
      },
      "outputs": [
        {
          "name": "stdout",
          "output_type": "stream",
          "text": [
            "cpu\n",
            "Train on 950198 samples, validate on 50011 samples, 3712 steps per epoch\n",
            "Epoch 1/20\n",
            "35s - loss:  0.9500 - mse:  0.9500 - val_mse:  0.8423\n",
            "Epoch 2/20\n",
            "37s - loss:  0.8371 - mse:  0.8371 - val_mse:  0.8423\n",
            "Epoch 3/20\n",
            "40s - loss:  0.8308 - mse:  0.8307 - val_mse:  0.8331\n",
            "Epoch 4/20\n",
            "35s - loss:  0.8163 - mse:  0.8163 - val_mse:  0.8101\n",
            "Epoch 5/20\n",
            "40s - loss:  0.7900 - mse:  0.7900 - val_mse:  0.7906\n",
            "Epoch 6/20\n",
            "35s - loss:  0.7693 - mse:  0.7692 - val_mse:  0.7768\n",
            "Epoch 7/20\n",
            "35s - loss:  0.7502 - mse:  0.7502 - val_mse:  0.7628\n",
            "Epoch 8/20\n",
            "36s - loss:  0.7336 - mse:  0.7336 - val_mse:  0.7531\n",
            "Epoch 9/20\n",
            "35s - loss:  0.7229 - mse:  0.7228 - val_mse:  0.7524\n",
            "Epoch 10/20\n",
            "35s - loss:  0.7159 - mse:  0.7158 - val_mse:  0.7456\n",
            "Epoch 11/20\n",
            "38s - loss:  0.7102 - mse:  0.7102 - val_mse:  0.7450\n",
            "Epoch 12/20\n",
            "35s - loss:  0.7057 - mse:  0.7056 - val_mse:  0.7427\n",
            "Epoch 13/20\n",
            "35s - loss:  0.7020 - mse:  0.7019 - val_mse:  0.7424\n",
            "Epoch 14/20\n",
            "35s - loss:  0.6991 - mse:  0.6990 - val_mse:  0.7443\n",
            "Epoch 15/20\n",
            "34s - loss:  0.6964 - mse:  0.6963 - val_mse:  0.7414\n",
            "Epoch 16/20\n",
            "34s - loss:  0.6941 - mse:  0.6939 - val_mse:  0.7420\n",
            "Epoch 17/20\n",
            "37s - loss:  0.6922 - mse:  0.6921 - val_mse:  0.7411\n",
            "Epoch 18/20\n",
            "40s - loss:  0.6901 - mse:  0.6900 - val_mse:  0.7402\n",
            "Epoch 19/20\n",
            "35s - loss:  0.6882 - mse:  0.6880 - val_mse:  0.7394\n",
            "Epoch 20/20\n",
            "35s - loss:  0.6863 - mse:  0.6862 - val_mse:  0.7412\n"
          ]
        }
      ],
      "source": [
        "from deepctr_torch.models import DeepFM\n",
        "model = DeepFM(linear_feature_columns, dnn_feature_columns, task='regression', device=device)\n",
        "model.compile(\"adam\", \"mse\", metrics=['mse'], )\n",
        "history = model.fit(model_input, df[target].values, batch_size=256, epochs=20, verbose=2, validation_split=0.05)\n",
        "mse = history.history['mse']"
      ]
    },
    {
      "cell_type": "code",
      "execution_count": null,
      "metadata": {
        "colab": {
          "base_uri": "https://localhost:8080/"
        },
        "id": "jn0VTV5U90t7",
        "outputId": "05f47ce3-1d63-48f1-d62d-af8771564590"
      },
      "outputs": [
        {
          "data": {
            "text/plain": [
              "[0.9465113841340781,\n",
              " 0.8362974203709712,\n",
              " 0.8321279658399302,\n",
              " 0.8281643325120093,\n",
              " 0.8061237244916273,\n",
              " 0.7818787443742591,\n",
              " 0.7617700110246945,\n",
              " 0.7438910014161944,\n",
              " 0.7290080274447704,\n",
              " 0.7185019372066737]"
            ]
          },
          "execution_count": 68,
          "metadata": {},
          "output_type": "execute_result"
        }
      ],
      "source": [
        "mse = history.history['mse']\n",
        "mse"
      ]
    },
    {
      "cell_type": "code",
      "execution_count": null,
      "metadata": {
        "id": "BzVxHpyB6wo6"
      },
      "outputs": [],
      "source": [
        "\"\"\"\n",
        "Instantiates the DeepFM Network architecture.\n",
        "\n",
        "    :param linear_feature_columns: An iterable containing all the features used by linear part of the model.\n",
        "    :param dnn_feature_columns: An iterable containing all the features used by deep part of the model.\n",
        "    :param use_fm: bool,use FM part or not\n",
        "    :param dnn_hidden_units: list,list of positive integer or empty list, the layer number and units in each layer of DNN\n",
        "    :param l2_reg_linear: float. L2 regularizer strength applied to linear part\n",
        "    :param l2_reg_embedding: float. L2 regularizer strength applied to embedding vector\n",
        "    :param l2_reg_dnn: float. L2 regularizer strength applied to DNN\n",
        "    :param init_std: float,to use as the initialize std of embedding vector\n",
        "    :param seed: integer ,to use as random seed.\n",
        "    :param dnn_dropout: float in [0,1), the probability we will drop out a given DNN coordinate.\n",
        "    :param dnn_activation: Activation function to use in DNN\n",
        "    :param dnn_use_bn: bool. Whether use BatchNormalization before activation or not in DNN\n",
        "    :param task: str, ``\"binary\"`` for  binary logloss or  ``\"regression\"`` for regression loss\n",
        "    :param device: str, ``\"cpu\"`` or ``\"cuda:0\"``\n",
        "    :param gpus: list of int or torch.device for multiple gpus. If None, run on `device`. `gpus[0]` should be the same gpu with `device`.\n",
        "    :return: A PyTorch model instance.\n",
        "\n",
        "\"\"\"\n",
        "\n"
      ]
    },
    {
      "cell_type": "code",
      "execution_count": null,
      "metadata": {
        "colab": {
          "base_uri": "https://localhost:8080/"
        },
        "id": "LKDDq_TX-9FB",
        "outputId": "3a66e8c7-88a8-49e8-bb91-8bb5c6422c46"
      },
      "outputs": [
        {
          "name": "stdout",
          "output_type": "stream",
          "text": [
            "Looking in indexes: https://pypi.org/simple, https://us-python.pkg.dev/colab-wheels/public/simple/\n",
            "Collecting hiplot\n",
            "  Downloading hiplot-0.1.33-py3-none-any.whl (863 kB)\n",
            "\u001b[K     |████████████████████████████████| 863 kB 5.2 MB/s \n",
            "\u001b[?25hCollecting flask-compress\n",
            "  Downloading Flask_Compress-1.13-py3-none-any.whl (7.9 kB)\n",
            "Requirement already satisfied: beautifulsoup4 in /usr/local/lib/python3.7/dist-packages (from hiplot) (4.6.3)\n",
            "Requirement already satisfied: ipython>=7.0.1 in /usr/local/lib/python3.7/dist-packages (from hiplot) (7.9.0)\n",
            "Requirement already satisfied: flask in /usr/local/lib/python3.7/dist-packages (from hiplot) (1.1.4)\n",
            "Requirement already satisfied: setuptools>=18.5 in /usr/local/lib/python3.7/dist-packages (from ipython>=7.0.1->hiplot) (57.4.0)\n",
            "Requirement already satisfied: prompt-toolkit<2.1.0,>=2.0.0 in /usr/local/lib/python3.7/dist-packages (from ipython>=7.0.1->hiplot) (2.0.10)\n",
            "Requirement already satisfied: pickleshare in /usr/local/lib/python3.7/dist-packages (from ipython>=7.0.1->hiplot) (0.7.5)\n",
            "Requirement already satisfied: pexpect in /usr/local/lib/python3.7/dist-packages (from ipython>=7.0.1->hiplot) (4.8.0)\n",
            "Requirement already satisfied: pygments in /usr/local/lib/python3.7/dist-packages (from ipython>=7.0.1->hiplot) (2.6.1)\n",
            "Requirement already satisfied: backcall in /usr/local/lib/python3.7/dist-packages (from ipython>=7.0.1->hiplot) (0.2.0)\n",
            "Requirement already satisfied: traitlets>=4.2 in /usr/local/lib/python3.7/dist-packages (from ipython>=7.0.1->hiplot) (5.1.1)\n",
            "Requirement already satisfied: decorator in /usr/local/lib/python3.7/dist-packages (from ipython>=7.0.1->hiplot) (4.4.2)\n",
            "Collecting jedi>=0.10\n",
            "  Downloading jedi-0.18.2-py2.py3-none-any.whl (1.6 MB)\n",
            "\u001b[K     |████████████████████████████████| 1.6 MB 30.3 MB/s \n",
            "\u001b[?25hRequirement already satisfied: parso<0.9.0,>=0.8.0 in /usr/local/lib/python3.7/dist-packages (from jedi>=0.10->ipython>=7.0.1->hiplot) (0.8.3)\n",
            "Requirement already satisfied: six>=1.9.0 in /usr/local/lib/python3.7/dist-packages (from prompt-toolkit<2.1.0,>=2.0.0->ipython>=7.0.1->hiplot) (1.15.0)\n",
            "Requirement already satisfied: wcwidth in /usr/local/lib/python3.7/dist-packages (from prompt-toolkit<2.1.0,>=2.0.0->ipython>=7.0.1->hiplot) (0.2.5)\n",
            "Requirement already satisfied: itsdangerous<2.0,>=0.24 in /usr/local/lib/python3.7/dist-packages (from flask->hiplot) (1.1.0)\n",
            "Requirement already satisfied: Werkzeug<2.0,>=0.15 in /usr/local/lib/python3.7/dist-packages (from flask->hiplot) (1.0.1)\n",
            "Requirement already satisfied: click<8.0,>=5.1 in /usr/local/lib/python3.7/dist-packages (from flask->hiplot) (7.1.2)\n",
            "Requirement already satisfied: Jinja2<3.0,>=2.10.1 in /usr/local/lib/python3.7/dist-packages (from flask->hiplot) (2.11.3)\n",
            "Requirement already satisfied: MarkupSafe>=0.23 in /usr/local/lib/python3.7/dist-packages (from Jinja2<3.0,>=2.10.1->flask->hiplot) (2.0.1)\n",
            "Collecting brotli\n",
            "  Downloading Brotli-1.0.9-cp37-cp37m-manylinux1_x86_64.whl (357 kB)\n",
            "\u001b[K     |████████████████████████████████| 357 kB 35.7 MB/s \n",
            "\u001b[?25hRequirement already satisfied: ptyprocess>=0.5 in /usr/local/lib/python3.7/dist-packages (from pexpect->ipython>=7.0.1->hiplot) (0.7.0)\n",
            "Installing collected packages: jedi, brotli, flask-compress, hiplot\n",
            "Successfully installed brotli-1.0.9 flask-compress-1.13 hiplot-0.1.33 jedi-0.18.2\n"
          ]
        }
      ],
      "source": [
        "!pip install hiplot"
      ]
    },
    {
      "cell_type": "code",
      "execution_count": null,
      "metadata": {
        "colab": {
          "base_uri": "https://localhost:8080/",
          "height": 298
        },
        "id": "JSvij8gr87fS",
        "outputId": "700f5c81-8192-406d-c788-1dbd0db084ec"
      },
      "outputs": [
        {
          "ename": "TypeError",
          "evalue": "ignored",
          "output_type": "error",
          "traceback": [
            "\u001b[0;31m---------------------------------------------------------------------------\u001b[0m",
            "\u001b[0;31mTypeError\u001b[0m                                 Traceback (most recent call last)",
            "\u001b[0;32m<ipython-input-78-e88824376414>\u001b[0m in \u001b[0;36m<module>\u001b[0;34m\u001b[0m\n\u001b[1;32m     11\u001b[0m           \u001b[0mmodel\u001b[0m \u001b[0;34m=\u001b[0m \u001b[0mDeepFM\u001b[0m\u001b[0;34m(\u001b[0m\u001b[0mlinear_feature_columns\u001b[0m\u001b[0;34m,\u001b[0m \u001b[0mdnn_feature_columns\u001b[0m\u001b[0;34m,\u001b[0m \u001b[0mtask\u001b[0m\u001b[0;34m=\u001b[0m\u001b[0;34m'regression'\u001b[0m\u001b[0;34m,\u001b[0m \u001b[0mdevice\u001b[0m\u001b[0;34m=\u001b[0m\u001b[0mdevice\u001b[0m\u001b[0;34m)\u001b[0m\u001b[0;34m\u001b[0m\u001b[0;34m\u001b[0m\u001b[0m\n\u001b[1;32m     12\u001b[0m           \u001b[0mmodel\u001b[0m\u001b[0;34m.\u001b[0m\u001b[0mcompile\u001b[0m\u001b[0;34m(\u001b[0m\u001b[0;34m\"adam\"\u001b[0m\u001b[0;34m,\u001b[0m \u001b[0;34m\"mse\"\u001b[0m\u001b[0;34m,\u001b[0m \u001b[0mmetrics\u001b[0m\u001b[0;34m=\u001b[0m\u001b[0;34m[\u001b[0m\u001b[0;34m'mse'\u001b[0m\u001b[0;34m]\u001b[0m\u001b[0;34m,\u001b[0m \u001b[0;34m)\u001b[0m\u001b[0;34m\u001b[0m\u001b[0;34m\u001b[0m\u001b[0m\n\u001b[0;32m---> 13\u001b[0;31m           \u001b[0mhistory\u001b[0m \u001b[0;34m=\u001b[0m \u001b[0mmodel\u001b[0m\u001b[0;34m.\u001b[0m\u001b[0mfit\u001b[0m\u001b[0;34m(\u001b[0m\u001b[0mmodel_input\u001b[0m\u001b[0;34m,\u001b[0m \u001b[0mdf\u001b[0m\u001b[0;34m[\u001b[0m\u001b[0mtarget\u001b[0m\u001b[0;34m]\u001b[0m\u001b[0;34m.\u001b[0m\u001b[0mvalues\u001b[0m\u001b[0;34m,\u001b[0m \u001b[0mbatch_size\u001b[0m\u001b[0;34m=\u001b[0m\u001b[0mbatch\u001b[0m\u001b[0;34m,\u001b[0m \u001b[0mepochs\u001b[0m\u001b[0;34m=\u001b[0m\u001b[0mep\u001b[0m\u001b[0;34m,\u001b[0m \u001b[0mverbose\u001b[0m\u001b[0;34m=\u001b[0m\u001b[0;36m2\u001b[0m\u001b[0;34m,\u001b[0m \u001b[0mdnn_dropout\u001b[0m\u001b[0;34m=\u001b[0m\u001b[0mdropout\u001b[0m\u001b[0;34m,\u001b[0m\u001b[0mvalidation_split\u001b[0m\u001b[0;34m=\u001b[0m\u001b[0;36m0.05\u001b[0m\u001b[0;34m)\u001b[0m\u001b[0;34m\u001b[0m\u001b[0;34m\u001b[0m\u001b[0m\n\u001b[0m\u001b[1;32m     14\u001b[0m           \u001b[0mmse\u001b[0m \u001b[0;34m=\u001b[0m \u001b[0mhistory\u001b[0m\u001b[0;34m.\u001b[0m\u001b[0mhistory\u001b[0m\u001b[0;34m[\u001b[0m\u001b[0;34m'mse'\u001b[0m\u001b[0;34m]\u001b[0m\u001b[0;34m[\u001b[0m\u001b[0;34m-\u001b[0m\u001b[0;36m1\u001b[0m\u001b[0;34m]\u001b[0m\u001b[0;34m\u001b[0m\u001b[0;34m\u001b[0m\u001b[0m\n\u001b[1;32m     15\u001b[0m           \u001b[0mhyperparameter_dict\u001b[0m \u001b[0;34m=\u001b[0m \u001b[0;34m{\u001b[0m\u001b[0;34m}\u001b[0m\u001b[0;34m\u001b[0m\u001b[0;34m\u001b[0m\u001b[0m\n",
            "\u001b[0;31mTypeError\u001b[0m: fit() got an unexpected keyword argument 'dnn_dropout'"
          ]
        }
      ],
      "source": [
        "import hiplot as hip\n",
        "\n",
        "data = []\n",
        "batchs = [128,256,512]\n",
        "epochs = [5,10,15,20,25,50]\n",
        "l2_reg_linears = [0.01,0.1,0.2,0.3]\n",
        "\n",
        "for batch in batchs:\n",
        "  for ep in epochs:\n",
        "    for dropout in dnn_dropouts:\n",
        "          model = DeepFM(linear_feature_columns, dnn_feature_columns, task='regression', device=device)\n",
        "          model.compile(\"adam\", \"mse\", metrics=['mse'], )\n",
        "          history = model.fit(model_input, df[target].values, batch_size=batch, epochs=ep, verbose=2, dnn_dropout=dropout,validation_split=0.05)\n",
        "          mse = history.history['mse'][-1]\n",
        "          hyperparameter_dict = {}\n",
        "          hyperparameter_dict['epoch'] = ep\n",
        "          hyperparameter_dict['batch_size'] = batch\n",
        "          hyperparameter_dict['dnn_dropouts'] = dropout\n",
        "          hyperparameter_dict['MSE'] = mse\n",
        "          print(hyperparameter_dict)\n",
        "          data.append(hyperparameter_dict)\n",
        "\n",
        "\n",
        "hip.Experiment.from_iterable(data).display()\n"
      ]
    },
    {
      "cell_type": "code",
      "execution_count": null,
      "metadata": {
        "id": "q0w7lDu30h8j"
      },
      "outputs": [],
      "source": [
        "def plotHistory(history):\n",
        "  rmse = history.history['mse']\n",
        "  val_rmse = history.history['val_mse']\n",
        "\n",
        "  loss = history.history['loss']\n",
        "  # val_loss = history.history['val_loss']\n",
        "\n",
        "  plt.figure(figsize=(8, 8))\n",
        "  plt.subplot(2, 1, 1)\n",
        "  plt.plot(rmse, label='Training MSE')\n",
        "  plt.plot(val_rmse, label='Validation MSE')\n",
        "  plt.legend(loc='lower right')\n",
        "  plt.ylabel('MSE')\n",
        "  plt.ylim([min(plt.ylim()),1])\n",
        "  plt.title('Training and Validation MSE on DeepFM-full-overfit')\n",
        "\n",
        "  # plt.subplot(2, 1, 2)\n",
        "  # plt.plot(loss, label='Training Loss')\n",
        "  # # plt.plot(val_loss, label='Validation Loss')\n",
        "  # plt.legend(loc='upper right')\n",
        "  # plt.ylabel('Loss')\n",
        "  # plt.ylim([0,2.0])\n",
        "  # plt.title('Training Loss')\n",
        "  # plt.xlabel('epoch')\n",
        "  # plt.show()"
      ]
    },
    {
      "cell_type": "code",
      "execution_count": null,
      "metadata": {
        "colab": {
          "base_uri": "https://localhost:8080/",
          "height": 262
        },
        "id": "zKLuexNo0h-d",
        "outputId": "b0b837b2-395a-46f1-9d34-a8355d72ce6b"
      },
      "outputs": [
        {
          "data": {
            "image/png": "[encoded data removed]",
            "text/plain": [
              "<Figure size 576x576 with 1 Axes>"
            ]
          },
          "metadata": {},
          "output_type": "display_data"
        }
      ],
      "source": [
        "plotHistory(history)"
      ]
    },
    {
      "cell_type": "code",
      "execution_count": null,
      "metadata": {
        "id": "bfn20lYB0bmr"
      },
      "outputs": [],
      "source": []
    },
    {
      "cell_type": "code",
      "execution_count": null,
      "metadata": {
        "id": "JGtATKAU0bpS"
      },
      "outputs": [],
      "source": []
    },
    {
      "cell_type": "code",
      "execution_count": null,
      "metadata": {
        "id": "3yBqgsZp0bri"
      },
      "outputs": [],
      "source": []
    },
    {
      "cell_type": "code",
      "execution_count": null,
      "metadata": {
        "id": "eA4HL7wSxzjo"
      },
      "outputs": [],
      "source": []
    },
    {
      "cell_type": "code",
      "execution_count": null,
      "metadata": {
        "id": "N9_DBFC_xzl3"
      },
      "outputs": [],
      "source": []
    }
  ],
  "metadata": {
    "colab": {
      "provenance": []
    },
    "kernelspec": {
      "display_name": "Python 3",
      "name": "python3"
    },
    "language_info": {
      "name": "python"
    }
  },
  "nbformat": 4,
  "nbformat_minor": 0
}