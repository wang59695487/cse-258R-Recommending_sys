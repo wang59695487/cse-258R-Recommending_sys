{
 "cells": [
  {
   "cell_type": "code",
   "execution_count": 2,
   "metadata": {
    "collapsed": true
   },
   "outputs": [],
   "source": [
    "import numpy\n",
    "import urllib\n",
    "import scipy.optimize\n",
    "import random\n",
    "from sklearn import linear_model\n",
    "import gzip\n",
    "from collections import defaultdict"
   ]
  },
  {
   "cell_type": "code",
   "execution_count": 3,
   "outputs": [],
   "source": [
    "import warnings\n",
    "warnings.filterwarnings(\"ignore\")"
   ],
   "metadata": {
    "collapsed": false
   }
  },
  {
   "cell_type": "code",
   "execution_count": 4,
   "outputs": [],
   "source": [
    "def assertFloat(x):\n",
    "    assert type(float(x)) == float\n",
    "\n",
    "def assertFloatList(items, N):\n",
    "    assert len(items) == N\n",
    "    assert [type(float(x)) for x in items] == [float]*N"
   ],
   "metadata": {
    "collapsed": false
   }
  },
  {
   "cell_type": "code",
   "execution_count": 5,
   "outputs": [],
   "source": [
    "f = open(\"5year.arff\", 'r')"
   ],
   "metadata": {
    "collapsed": false
   }
  },
  {
   "cell_type": "code",
   "execution_count": 6,
   "outputs": [],
   "source": [
    "# Read and parse the data\n",
    "while not '@data' in f.readline():\n",
    "    pass\n",
    "\n",
    "dataset = []\n",
    "for l in f:\n",
    "    if '?' in l: # Missing entry\n",
    "        continue\n",
    "    l = l.split(',')\n",
    "    values = [1] + [float(x) for x in l]\n",
    "    values[-1] = values[-1] > 0 # Convert to bool\n",
    "    dataset.append(values)"
   ],
   "metadata": {
    "collapsed": false
   }
  },
  {
   "cell_type": "code",
   "execution_count": 7,
   "outputs": [],
   "source": [
    "X = [d[:-1] for d in dataset]\n",
    "y = [d[-1] for d in dataset]"
   ],
   "metadata": {
    "collapsed": false
   }
  },
  {
   "cell_type": "code",
   "execution_count": 8,
   "outputs": [
    {
     "data": {
      "text/plain": "[[1,\n  0.048179,\n  0.55041,\n  0.10765,\n  1.2437,\n  -22.959,\n  0.0,\n  0.05928,\n  0.81682,\n  1.515,\n  0.44959,\n  0.09199,\n  0.13419,\n  0.055575,\n  0.05928,\n  2386.1,\n  0.15297,\n  1.8168,\n  0.05928,\n  0.039129,\n  36.074,\n  0.99455,\n  0.067616,\n  0.031802,\n  0.0,\n  0.4292,\n  0.1328,\n  2.0671,\n  0.23891,\n  5.8823,\n  0.36331,\n  0.039129,\n  140.12,\n  2.6583,\n  2.1336,\n  0.3642,\n  1.515,\n  6.3783,\n  0.51225,\n  0.2404,\n  0.067283,\n  0.19828,\n  0.044632,\n  125.21,\n  89.134,\n  0.32177,\n  0.90475,\n  46.538,\n  0.042701,\n  0.028186,\n  0.99819,\n  0.44176,\n  0.37618,\n  0.99779,\n  1.1369,\n  1.2437,\n  0.2404,\n  0.10716,\n  0.77048,\n  0.13938,\n  10.118,\n  4.095,\n  106.43,\n  3.4294,\n  3.3622],\n [1,\n  0.099486,\n  0.59991,\n  0.37489,\n  1.6529,\n  19.036,\n  0.21084,\n  0.12395,\n  0.6669,\n  1.0972,\n  0.40009,\n  0.12395,\n  0.21587,\n  0.082929,\n  0.12395,\n  1638.2,\n  0.22281,\n  1.6669,\n  0.12395,\n  0.076897,\n  66.783,\n  1.2422,\n  0.13452,\n  0.061722,\n  0.2644,\n  0.40009,\n  0.18204,\n  0.91571,\n  7.3601,\n  4.2136,\n  0.37159,\n  0.076897,\n  142.66,\n  2.5586,\n  0.22424,\n  0.13452,\n  1.6118,\n  25.411,\n  0.42583,\n  0.08346,\n  0.006603,\n  0.13673,\n  0.08346,\n  214.06,\n  147.27,\n  0.33734,\n  1.1393,\n  73.273,\n  0.1248,\n  0.077428,\n  1.582,\n  0.57417,\n  0.39084,\n  7.8547,\n  8.3601,\n  6131.0,\n  0.088581,\n  0.24866,\n  0.91142,\n  0.064344,\n  5.4655,\n  2.4784,\n  130.02,\n  2.8072,\n  31.645],\n [1,\n  0.078518,\n  0.20546,\n  0.10393,\n  2.7939,\n  77.784,\n  0.36515,\n  0.093388,\n  3.8672,\n  1.2322,\n  0.79454,\n  0.093388,\n  1.6119,\n  0.25844,\n  0.093388,\n  735.12,\n  0.49652,\n  4.8672,\n  0.093388,\n  0.23659,\n  32.076,\n  0.99207,\n  0.075428,\n  0.19892,\n  0.43626,\n  0.79454,\n  0.42414,\n  2.3545,\n  0.12401,\n  5.0933,\n  0.51863,\n  0.23659,\n  66.013,\n  5.5292,\n  0.36712,\n  0.075428,\n  0.41595,\n  0.86215,\n  0.94206,\n  0.19109,\n  0.045408,\n  0.080363,\n  0.19109,\n  147.25,\n  115.17,\n  2.2635,\n  2.1951,\n  39.524,\n  0.066803,\n  0.16924,\n  0.78786,\n  0.057938,\n  0.18086,\n  0.948,\n  1.124,\n  12885.0,\n  0.18842,\n  0.098822,\n  0.81158,\n  0.18566,\n  11.379,\n  3.1692,\n  53.575,\n  6.8129,\n  0.47096],\n [1,\n  0.12504,\n  0.3544,\n  0.31419,\n  2.7127,\n  17.942,\n  0.30575,\n  0.15843,\n  1.8217,\n  1.2362,\n  0.6456,\n  0.15843,\n  0.86364,\n  0.16079,\n  0.15843,\n  718.98,\n  0.50766,\n  2.8217,\n  0.15843,\n  0.14159,\n  76.461,\n  1.2607,\n  0.18736,\n  0.11175,\n  0.3773,\n  0.6456,\n  0.41343,\n  2.0699,\n  0.62544,\n  4.9928,\n  0.2874,\n  0.14159,\n  73.977,\n  4.9339,\n  0.52866,\n  0.18736,\n  1.1189,\n  1.5399,\n  0.81655,\n  0.16744,\n  0.37381,\n  0.055792,\n  0.16744,\n  139.96,\n  63.502,\n  0.53345,\n  1.435,\n  94.523,\n  0.16588,\n  0.14824,\n  1.4042,\n  0.18345,\n  0.20268,\n  1.2851,\n  1.6254,\n  30900.0,\n  0.19109,\n  0.19368,\n  0.80891,\n  0.26479,\n  4.7737,\n  5.7479,\n  59.841,\n  6.0995,\n  2.2274],\n [1,\n  0.090516,\n  0.31429,\n  0.42465,\n  3.2071,\n  24.874,\n  0.055652,\n  0.10528,\n  2.1499,\n  1.0488,\n  0.67569,\n  0.10528,\n  0.54719,\n  0.069037,\n  0.10528,\n  761.48,\n  0.47933,\n  3.1818,\n  0.10528,\n  0.048246,\n  47.339,\n  1.2102,\n  0.1112,\n  0.041481,\n  0.076551,\n  0.67569,\n  0.43236,\n  0.53447,\n  1.1089,\n  4.4784,\n  0.059976,\n  0.048246,\n  33.754,\n  10.814,\n  0.3538,\n  0.1112,\n  2.2146,\n  2.7404,\n  0.79758,\n  0.050957,\n  0.95864,\n  0.065997,\n  0.050957,\n  72.361,\n  25.023,\n  0.31983,\n  1.7362,\n  49.651,\n  0.065826,\n  0.030166,\n  1.9633,\n  0.1924,\n  0.092477,\n  1.7644,\n  2.0827,\n  12778.0,\n  0.046572,\n  0.13396,\n  0.95343,\n  0.1804,\n  7.7104,\n  14.587,\n  32.182,\n  11.342,\n  5.6981],\n [1,\n  -0.002132,\n  0.25065,\n  0.35125,\n  2.4799,\n  31.862,\n  0.12415,\n  0.005896,\n  2.337,\n  1.0637,\n  0.58577,\n  0.005896,\n  0.024839,\n  0.042382,\n  0.005896,\n  1674.2,\n  0.21802,\n  3.9896,\n  0.005896,\n  0.004572,\n  69.139,\n  1.1063,\n  0.027578,\n  -0.001653,\n  0.16666,\n  0.58577,\n  0.18599,\n  0.22751,\n  0.85381,\n  4.6293,\n  0.13751,\n  0.004572,\n  71.472,\n  5.1069,\n  0.11002,\n  0.027578,\n  1.312,\n  25.891,\n  0.59907,\n  0.021388,\n  0.3261,\n  0.10796,\n  0.021388,\n  144.71,\n  75.574,\n  -0.008727,\n  1.4509,\n  73.545,\n  -0.021174,\n  -0.016422,\n  2.3483,\n  0.23735,\n  0.19581,\n  1.4238,\n  1.4562,\n  14961.0,\n  0.059913,\n  -0.003639,\n  0.94009,\n  0.022707,\n  5.2793,\n  4.8297,\n  67.19,\n  5.4324,\n  3.1342],\n [1,\n  -0.21368,\n  0.79568,\n  0.026812,\n  1.0472,\n  -72.439,\n  -0.29501,\n  -0.21368,\n  0.20489,\n  0.88019,\n  0.16302,\n  -0.21368,\n  -0.37589,\n  -0.15562,\n  -0.21368,\n  -1817.1,\n  -0.20087,\n  1.2568,\n  -0.21368,\n  -0.20806,\n  88.749,\n  0.99603,\n  -0.13913,\n  -0.20806,\n  -0.29501,\n  0.16302,\n  -0.20087,\n  -1.1924,\n  0.066248,\n  4.9917,\n  0.73055,\n  -0.20806,\n  177.83,\n  2.0526,\n  -0.17485,\n  -0.13913,\n  1.0404,\n  1.5209,\n  0.39023,\n  -0.13547,\n  0.081684,\n  -0.30676,\n  -0.13547,\n  195.06,\n  106.31,\n  -0.85569,\n  0.60788,\n  78.116,\n  -0.19298,\n  -0.1879,\n  0.74814,\n  0.56847,\n  0.4872,\n  0.40281,\n  0.96421,\n  2630.1,\n  -0.13611,\n  -1.3107,\n  1.1361,\n  1.3937,\n  4.1127,\n  3.4334,\n  202.03,\n  1.8066,\n  2.5376],\n [1,\n  0.1225,\n  0.90363,\n  0.22935,\n  1.9469,\n  -5.294,\n  0.21896,\n  0.1225,\n  0.024442,\n  1.0929,\n  0.022087,\n  0.1225,\n  0.50579,\n  0.089172,\n  0.1225,\n  1963.8,\n  0.18586,\n  1.1066,\n  0.1225,\n  0.065042,\n  24.866,\n  1.0755,\n  0.16657,\n  0.065042,\n  0.21896,\n  0.022087,\n  0.18586,\n  0.96655,\n  0.43399,\n  4.0224,\n  0.45837,\n  0.065042,\n  51.297,\n  7.1155,\n  0.18434,\n  0.16657,\n  1.9548,\n  0.51892,\n  0.68352,\n  0.088441,\n  0.68552,\n  0.14012,\n  0.088441,\n  59.207,\n  34.341,\n  0.95473,\n  1.4171,\n  27.176,\n  0.12112,\n  0.064311,\n  0.52183,\n  0.2422,\n  0.14054,\n  0.041795,\n  1.2934,\n  2415.0,\n  0.084988,\n  5.5465,\n  0.91501,\n  29.947,\n  14.679,\n  10.629,\n  46.937,\n  7.7764,\n  3.564],\n [1,\n  0.12501,\n  0.40855,\n  0.37183,\n  2.0138,\n  -7.9209,\n  0.21389,\n  0.15688,\n  1.4032,\n  1.0942,\n  0.57327,\n  0.15688,\n  0.42772,\n  0.090918,\n  0.15688,\n  792.12,\n  0.46079,\n  2.4477,\n  0.15688,\n  0.075764,\n  71.736,\n  1.3179,\n  0.16781,\n  0.060372,\n  0.27176,\n  0.57327,\n  0.38278,\n  0.88677,\n  1.4224,\n  4.2097,\n  0.15682,\n  0.075764,\n  70.742,\n  5.1596,\n  0.41075,\n  0.16781,\n  2.0895,\n  7.9383,\n  0.61505,\n  0.081046,\n  0.24449,\n  0.067431,\n  0.081046,\n  114.39,\n  42.655,\n  0.30718,\n  0.90425,\n  78.491,\n  0.13643,\n  0.065891,\n  1.8079,\n  0.36677,\n  0.19381,\n  2.1931,\n  2.3529,\n  6026.8,\n  0.086059,\n  0.21806,\n  0.91394,\n  0.072877,\n  5.0881,\n  8.5569,\n  64.654,\n  5.6455,\n  7.9211]]"
     },
     "execution_count": 8,
     "metadata": {},
     "output_type": "execute_result"
    }
   ],
   "source": [
    "X[1:10]"
   ],
   "metadata": {
    "collapsed": false
   }
  },
  {
   "cell_type": "code",
   "execution_count": 13,
   "outputs": [
    {
     "data": {
      "text/plain": "[False, False, False, False, False, False, False, False, False]"
     },
     "execution_count": 13,
     "metadata": {},
     "output_type": "execute_result"
    }
   ],
   "source": [
    "y[1:10]"
   ],
   "metadata": {
    "collapsed": false
   }
  },
  {
   "cell_type": "code",
   "execution_count": 9,
   "outputs": [],
   "source": [
    "answers = {} # Your answers"
   ],
   "metadata": {
    "collapsed": false
   }
  },
  {
   "cell_type": "code",
   "execution_count": 10,
   "outputs": [],
   "source": [
    "def accuracy(predictions, y):\n",
    "    acc = 0\n",
    "    for i in range(len(y)):\n",
    "        if predictions[i] == y[i]:\n",
    "            acc += 1\n",
    "    return acc/len(y)"
   ],
   "metadata": {
    "collapsed": false
   }
  },
  {
   "cell_type": "code",
   "execution_count": 11,
   "outputs": [],
   "source": [
    "def BER(predictions, y):\n",
    "    TPi = numpy.logical_and(predictions, y)\n",
    "    FPi = numpy.logical_and(predictions, numpy.logical_not(y))\n",
    "    TNi = numpy.logical_and(numpy.logical_not(predictions), numpy.logical_not(y))\n",
    "    FNi = numpy.logical_and(numpy.logical_not(predictions), y)\n",
    "\n",
    "    TP = sum(TPi)\n",
    "    FP = sum(FPi)\n",
    "    TN = sum(TNi)\n",
    "    FN = sum(FNi)\n",
    "    ber =  1 - 0.5 * (TP / (TP + FN) + TN / (TN + FP))\n",
    "    return ber"
   ],
   "metadata": {
    "collapsed": false
   }
  },
  {
   "cell_type": "code",
   "execution_count": 12,
   "outputs": [],
   "source": [
    "### Question 1"
   ],
   "metadata": {
    "collapsed": false
   }
  },
  {
   "cell_type": "code",
   "execution_count": 919,
   "outputs": [],
   "source": [
    "mod = linear_model.LogisticRegression(C=1)\n",
    "mod.fit(X,y)\n",
    "\n",
    "pred = mod.predict(X)"
   ],
   "metadata": {
    "collapsed": false
   }
  },
  {
   "cell_type": "code",
   "execution_count": 920,
   "outputs": [],
   "source": [
    "acc1 = accuracy(pred, y)\n",
    "#print(acc1)"
   ],
   "metadata": {
    "collapsed": false
   }
  },
  {
   "cell_type": "code",
   "execution_count": 921,
   "outputs": [],
   "source": [
    "ber1 = BER(pred, y)\n",
    "#print(ber1)"
   ],
   "metadata": {
    "collapsed": false
   }
  },
  {
   "cell_type": "code",
   "execution_count": 922,
   "outputs": [],
   "source": [
    "answers['Q1'] = [acc1, ber1] # Accuracy and balanced error rate"
   ],
   "metadata": {
    "collapsed": false
   }
  },
  {
   "cell_type": "code",
   "execution_count": 923,
   "outputs": [],
   "source": [
    "assertFloatList(answers['Q1'], 2)"
   ],
   "metadata": {
    "collapsed": false
   }
  },
  {
   "cell_type": "code",
   "execution_count": 924,
   "outputs": [],
   "source": [
    "### Question 2"
   ],
   "metadata": {
    "collapsed": false
   }
  },
  {
   "cell_type": "code",
   "execution_count": 925,
   "outputs": [],
   "source": [
    "mod = linear_model.LogisticRegression(C=1, class_weight='balanced')\n",
    "mod.fit(X,y)\n",
    "\n",
    "pred = mod.predict(X)"
   ],
   "metadata": {
    "collapsed": false
   }
  },
  {
   "cell_type": "code",
   "execution_count": 926,
   "outputs": [],
   "source": [
    "acc2 = accuracy(pred, y)\n",
    "#print(acc2)"
   ],
   "metadata": {
    "collapsed": false
   }
  },
  {
   "cell_type": "code",
   "execution_count": 927,
   "outputs": [],
   "source": [
    "ber2 = BER(pred, y)\n",
    "#print(ber2)"
   ],
   "metadata": {
    "collapsed": false
   }
  },
  {
   "cell_type": "code",
   "execution_count": 928,
   "outputs": [],
   "source": [
    "answers['Q2'] = [acc2, ber2]"
   ],
   "metadata": {
    "collapsed": false
   }
  },
  {
   "cell_type": "code",
   "execution_count": 929,
   "outputs": [],
   "source": [
    "assertFloatList(answers['Q2'], 2)"
   ],
   "metadata": {
    "collapsed": false
   }
  },
  {
   "cell_type": "code",
   "execution_count": 930,
   "outputs": [],
   "source": [
    "### Question 3"
   ],
   "metadata": {
    "collapsed": false
   }
  },
  {
   "cell_type": "code",
   "execution_count": 931,
   "outputs": [],
   "source": [
    "random.seed(3)\n",
    "random.shuffle(dataset)"
   ],
   "metadata": {
    "collapsed": false
   }
  },
  {
   "cell_type": "code",
   "execution_count": 932,
   "outputs": [],
   "source": [
    "X = [d[:-1] for d in dataset]\n",
    "y = [d[-1] for d in dataset]"
   ],
   "metadata": {
    "collapsed": false
   }
  },
  {
   "cell_type": "code",
   "execution_count": 933,
   "outputs": [],
   "source": [
    "Xtrain, Xvalid, Xtest = X[:len(X)//2], X[len(X)//2:(3*len(X))//4], X[(3*len(X))//4:]\n",
    "ytrain, yvalid, ytest = y[:len(X)//2], y[len(X)//2:(3*len(X))//4], y[(3*len(X))//4:]"
   ],
   "metadata": {
    "collapsed": false
   }
  },
  {
   "cell_type": "code",
   "execution_count": 934,
   "outputs": [
    {
     "data": {
      "text/plain": "(1515, 758, 758)"
     },
     "execution_count": 934,
     "metadata": {},
     "output_type": "execute_result"
    }
   ],
   "source": [
    "len(Xtrain), len(Xvalid), len(Xtest)"
   ],
   "metadata": {
    "collapsed": false
   }
  },
  {
   "cell_type": "code",
   "execution_count": 935,
   "outputs": [],
   "source": [
    "mod = linear_model.LogisticRegression(C=1, class_weight='balanced')\n",
    "mod.fit(Xtrain,ytrain)\n",
    "\n",
    "pred_train = mod.predict(Xtrain)\n",
    "pred_valid = mod.predict(Xvalid)\n",
    "pred_test = mod.predict(Xtest)"
   ],
   "metadata": {
    "collapsed": false
   }
  },
  {
   "cell_type": "code",
   "execution_count": 936,
   "outputs": [
    {
     "name": "stdout",
     "output_type": "stream",
     "text": [
      "0.29287226079549855\n",
      "0.3159203980099503\n",
      "0.2585616438356164\n"
     ]
    }
   ],
   "source": [
    "berTrain = BER(pred_train, ytrain)\n",
    "print(berTrain)\n",
    "berValid = BER(pred_valid, yvalid)\n",
    "print(berValid)\n",
    "berTest = BER(pred_test, ytest)\n",
    "print(berTest)"
   ],
   "metadata": {
    "collapsed": false
   }
  },
  {
   "cell_type": "code",
   "execution_count": 937,
   "outputs": [],
   "source": [
    "answers['Q3'] = [berTrain, berValid, berTest]"
   ],
   "metadata": {
    "collapsed": false
   }
  },
  {
   "cell_type": "code",
   "execution_count": 938,
   "outputs": [],
   "source": [
    "assertFloatList(answers['Q3'], 3)"
   ],
   "metadata": {
    "collapsed": false
   }
  },
  {
   "cell_type": "code",
   "execution_count": 939,
   "outputs": [],
   "source": [
    "### Question 4"
   ],
   "metadata": {
    "collapsed": false
   }
  },
  {
   "cell_type": "code",
   "execution_count": 940,
   "outputs": [
    {
     "name": "stdout",
     "output_type": "stream",
     "text": [
      "[0.0001, 0.001, 0.01, 0.1, 1, 10, 100, 1000, 10000]\n"
     ]
    }
   ],
   "source": [
    "C = [10**i for i in range(-4,5)]\n",
    "print(C)"
   ],
   "metadata": {
    "collapsed": false
   }
  },
  {
   "cell_type": "code",
   "execution_count": 941,
   "outputs": [
    {
     "name": "stdout",
     "output_type": "stream",
     "text": [
      "[0.32677521483491634, 0.31931252826775225, 0.32948891904115785, 0.3233830845771144, 0.3159203980099503, 0.3111714156490276, 0.2955030044582283, 0.29618143050978873, 0.29618143050978873]\n"
     ]
    }
   ],
   "source": [
    "berList = []\n",
    "for c in C:\n",
    "   mod = linear_model.LogisticRegression(C=c, class_weight='balanced')\n",
    "   mod.fit(Xtrain,ytrain)\n",
    "   pred_valid = mod.predict(Xvalid)\n",
    "   berValid = BER(pred_valid, yvalid)\n",
    "   berList.append(berValid)\n",
    "print(berList)"
   ],
   "metadata": {
    "collapsed": false
   }
  },
  {
   "cell_type": "code",
   "execution_count": 942,
   "outputs": [],
   "source": [
    "answers['Q4'] = berList"
   ],
   "metadata": {
    "collapsed": false
   }
  },
  {
   "cell_type": "code",
   "execution_count": 943,
   "outputs": [],
   "source": [
    "assertFloatList(answers['Q4'], 9)"
   ],
   "metadata": {
    "collapsed": false
   }
  },
  {
   "cell_type": "code",
   "execution_count": 944,
   "outputs": [],
   "source": [
    "### Question 5"
   ],
   "metadata": {
    "collapsed": false
   }
  },
  {
   "cell_type": "code",
   "execution_count": 945,
   "outputs": [],
   "source": [
    "acc_train = []\n",
    "acc_test = []\n",
    "acc_valid = []\n",
    "ber_train = []\n",
    "ber_test = []\n",
    "ber_valid = []\n",
    "ber_C = {}\n",
    "\n",
    "for c in C:\n",
    "   mod = linear_model.LogisticRegression(C=c, class_weight='balanced')\n",
    "   mod.fit(Xtrain,ytrain)\n",
    "   pred_train = mod.predict(Xtrain)\n",
    "   pred_valid = mod.predict(Xvalid)\n",
    "   pred_test = mod.predict(Xtest)\n",
    "   acc_train.append(accuracy(pred_train,ytrain))\n",
    "   acc_test.append(accuracy(pred_test,ytest))\n",
    "   acc_valid.append(accuracy(pred_valid,yvalid))\n",
    "   ber_train.append(BER(pred_train,ytrain))\n",
    "   ber_test.append(BER(pred_test, ytest))\n",
    "   ber_valid.append(BER(pred_valid, yvalid))\n",
    "   ber_C[BER(pred_valid, yvalid)]=c"
   ],
   "metadata": {
    "collapsed": false
   }
  },
  {
   "cell_type": "code",
   "execution_count": 946,
   "outputs": [
    {
     "data": {
      "text/plain": "<Figure size 640x480 with 1 Axes>",
      "image/png": "[encoded data removed]"
     },
     "metadata": {},
     "output_type": "display_data"
    }
   ],
   "source": [
    "import matplotlib.pyplot as plt\n",
    "\n",
    "plt.plot(C, acc_train, 'b-', label='Acc for train set')\n",
    "plt.plot(C, ber_train, 'b--', label='BER for training set')\n",
    "plt.plot(C, acc_test, 'c-', label='Acc for test set')\n",
    "plt.plot(C, ber_test, 'c--', label='BER for test set')\n",
    "plt.plot(C, acc_valid, 'r-', label='Acc for valid set')\n",
    "plt.plot(C, ber_valid, 'r--', label='BER for valid set')\n",
    "\n",
    "plt.legend()\n",
    "plt.xlabel('Regularization coefficient')\n",
    "plt.xscale('log')\n",
    "plt.ylabel('Accuracy or BER')\n",
    "plt.show()"
   ],
   "metadata": {
    "collapsed": false
   }
  },
  {
   "cell_type": "code",
   "execution_count": 947,
   "outputs": [
    {
     "name": "stdout",
     "output_type": "stream",
     "text": [
      "100 0.2955030044582283\n",
      "10000 0.29618143050978873\n",
      "10000 0.29618143050978873\n",
      "10 0.3111714156490276\n",
      "1 0.3159203980099503\n",
      "0.001 0.31931252826775225\n",
      "0.1 0.3233830845771144\n",
      "0.0001 0.32677521483491634\n",
      "0.01 0.32948891904115785\n",
      "100\n",
      "0.3233830845771144\n"
     ]
    }
   ],
   "source": [
    "ber_valid.sort()\n",
    "for ber in ber_valid:\n",
    "    print(ber_C[ber],ber)\n",
    "\n",
    "bestC = C[6]\n",
    "print(bestC)\n",
    "ber5 = ber_valid[6]\n",
    "print(ber5)"
   ],
   "metadata": {
    "collapsed": false
   }
  },
  {
   "cell_type": "code",
   "execution_count": 948,
   "outputs": [],
   "source": [
    "answers['Q5'] = [bestC, ber5]"
   ],
   "metadata": {
    "collapsed": false
   }
  },
  {
   "cell_type": "code",
   "execution_count": 949,
   "outputs": [],
   "source": [
    "assertFloatList(answers['Q5'], 2)"
   ],
   "metadata": {
    "collapsed": false
   }
  },
  {
   "cell_type": "code",
   "execution_count": 950,
   "outputs": [],
   "source": [
    "### Question 6"
   ],
   "metadata": {
    "collapsed": false
   }
  },
  {
   "cell_type": "code",
   "execution_count": 951,
   "outputs": [],
   "source": [
    "f = gzip.open(\"young_adult_10000.json.gz\")\n",
    "dataset = []\n",
    "for l in f:\n",
    "    dataset.append(eval(l))"
   ],
   "metadata": {
    "collapsed": false
   }
  },
  {
   "cell_type": "code",
   "execution_count": 952,
   "outputs": [],
   "source": [
    "dataTrain = dataset[:9000]\n",
    "dataTest = dataset[9000:]"
   ],
   "metadata": {
    "collapsed": false
   }
  },
  {
   "cell_type": "code",
   "execution_count": 953,
   "outputs": [
    {
     "name": "stdout",
     "output_type": "stream",
     "text": [
      "{'user_id': '8842281e1d1347389f2ab93d60773d4d', 'book_id': '2767052', 'review_id': '248c011811e945eca861b5c31a549291', 'rating': 5, 'review_text': \"I cracked and finally picked this up. Very enjoyable quick read - couldn't put it down - it was like crack. \\n I'm a bit bothered by the lack of backstory of how Panem and the Hunger Games come about. It is just kind of explained away in a few paragraphs and we are left to accept this very strange world where teenagers are pitted into an arena each year to kill each other? I was expecting it because I've seen Battle Royale, but I would have appreciated knowing more of the backstory of how the world could have come into such a odd state. \\n I suppose what makes a book like this interesting is thinking about the strategy of it all. The players are going to be statistically encouraged to band together because they will last longer that way, but by definition of course any partnership will be broken, and the drama of how that unfolds is always interesting and full of friendships broken and betrayal. Each character approached the game in their own way. Some banded together in larger coalitions, some were loners initially and banded together later. And some were just loners, like Foxface. A lot depended on your survival skill: could you find food and water on your own? Self-dependence is highly valued - and of course our hero was strong there. \\n All in all, a fun read, but I feel kind of dirty for having read it.\", 'date_added': 'Wed Jan 13 13:38:25 -0800 2010', 'date_updated': 'Wed Mar 22 11:46:36 -0700 2017', 'read_at': 'Sun Mar 25 00:00:00 -0700 2012', 'started_at': 'Fri Mar 23 00:00:00 -0700 2012', 'n_votes': 24, 'n_comments': 25}\n"
     ]
    }
   ],
   "source": [
    "print(dataset[0])"
   ],
   "metadata": {
    "collapsed": false
   }
  },
  {
   "cell_type": "code",
   "execution_count": 954,
   "outputs": [],
   "source": [
    "# Some data structures you might want\n",
    "\n",
    "usersPerItem = defaultdict(set) # Maps an item to the users who rated it\n",
    "itemsPerUser = defaultdict(set) # Maps a user to the items that they rated\n",
    "reviewsPerUser = defaultdict(list)\n",
    "reviewsPerItem = defaultdict(list)\n",
    "ratingDict = {} # To retrieve a rating for a specific user/item pair\n",
    "\n",
    "for d in dataTrain:\n",
    "    usersPerItem[d['book_id']].add(d['user_id'])\n",
    "    itemsPerUser[d['user_id']].add(d['book_id'])\n",
    "    reviewsPerUser[d['user_id']].append(d)\n",
    "    reviewsPerItem[d['book_id']].append(d)\n",
    "\n",
    "\n",
    "#print(usersPerItem)\n",
    "#print(itemsPerUser)"
   ],
   "metadata": {
    "collapsed": false
   }
  },
  {
   "cell_type": "code",
   "execution_count": 955,
   "outputs": [],
   "source": [
    "def Jaccard(s1, s2):\n",
    "    numerator = len(s1.intersection(s2))\n",
    "    denominator = len(s1.union(s2))\n",
    "    if denominator==0:\n",
    "        return 0\n",
    "    return numerator/denominator"
   ],
   "metadata": {
    "collapsed": false
   }
  },
  {
   "cell_type": "code",
   "execution_count": 956,
   "outputs": [],
   "source": [
    "def mostSimilar(i, N):\n",
    "    rate=[]\n",
    "    rate_book_dict = {}\n",
    "    for book in usersPerItem.keys():\n",
    "      if book != i:\n",
    "        score = Jaccard(usersPerItem[i],usersPerItem[book])\n",
    "        rate_book_dict[score]=book\n",
    "        rate.append(score)\n",
    "    rate.sort()\n",
    "    #print(rate[0],rate[-1],rate_book_dict[rate[-1]])\n",
    "    result = []\n",
    "    for i in range(1,N+1):\n",
    "        result.append([rate[-i],rate_book_dict[rate[-i]]])\n",
    "    return result"
   ],
   "metadata": {
    "collapsed": false
   }
  },
  {
   "cell_type": "code",
   "execution_count": 957,
   "outputs": [
    {
     "name": "stdout",
     "output_type": "stream",
     "text": [
      "[[0.4125, '6148028'], [0.3411764705882353, '7260188'], [0.1590909090909091, '256683'], [0.1375, '1162543'], [0.11494252873563218, '11735983'], [0.10989010989010989, '13335037'], [0.10810810810810811, '28187'], [0.10666666666666667, '428263'], [0.09876543209876543, '49041'], [0.09782608695652174, '41865']]\n"
     ]
    }
   ],
   "source": [
    "print(mostSimilar('2767052', 10))"
   ],
   "metadata": {
    "collapsed": false
   }
  },
  {
   "cell_type": "code",
   "execution_count": 958,
   "outputs": [],
   "source": [
    "answers['Q6'] = mostSimilar('2767052', 10)"
   ],
   "metadata": {
    "collapsed": false
   }
  },
  {
   "cell_type": "code",
   "execution_count": 959,
   "outputs": [],
   "source": [
    "assert len(answers['Q6']) == 10\n",
    "assertFloatList([x[0] for x in answers['Q6']], 10)"
   ],
   "metadata": {
    "collapsed": false
   }
  },
  {
   "cell_type": "code",
   "execution_count": 960,
   "outputs": [],
   "source": [
    "### Question 7"
   ],
   "metadata": {
    "collapsed": false
   }
  },
  {
   "cell_type": "code",
   "execution_count": 961,
   "outputs": [],
   "source": [
    "ratingMean = sum([d['rating'] for d in dataset])/len(dataset)\n",
    "\n",
    "usersAverages = {}\n",
    "booksAverages = {}\n",
    "\n",
    "#average(Ru)\n",
    "for user in reviewsPerUser.keys():\n",
    "    usersAverages[user]=sum(d['rating'] for d in reviewsPerUser[user])/len(reviewsPerUser[user])\n",
    "\n",
    "#average(Ri)\n",
    "for item in reviewsPerItem.keys():\n",
    "    booksAverages[item]=sum(d['rating'] for d in reviewsPerItem[item])/len(reviewsPerItem[item])\n",
    "\n",
    "\n",
    "def predictRating_Jaccard(user,item):\n",
    "    ratings = []\n",
    "    similarities = []\n",
    "    for d in reviewsPerUser[user]:\n",
    "        j = d['book_id']\n",
    "        if j != item:\n",
    "          ratings.append(d['rating'] - booksAverages[j])\n",
    "          similarities.append(Jaccard(usersPerItem[item],usersPerItem[j]))\n",
    "    if (sum(similarities) > 0):\n",
    "        weightedRatings = [(x*y) for x,y in zip(ratings,similarities)]\n",
    "        return booksAverages[item] + sum(weightedRatings) / sum(similarities)\n",
    "    else:\n",
    "        # User hasn't rated any similar items\n",
    "        return ratingMean"
   ],
   "metadata": {
    "collapsed": false
   }
  },
  {
   "cell_type": "code",
   "execution_count": 962,
   "outputs": [
    {
     "name": "stdout",
     "output_type": "stream",
     "text": [
      "1.243812045890036\n"
     ]
    }
   ],
   "source": [
    "ratings_data = []\n",
    "ratings_pred = []\n",
    "for d in dataTest:\n",
    "    ratings_data.append(d['rating'])\n",
    "    ratings_pred.append(predictRating_Jaccard(d['user_id'],d['book_id']))\n",
    "\n",
    "mse7 = numpy.square(numpy.subtract(numpy.array(ratings_data),numpy.array(ratings_pred))).mean()\n",
    "print(mse7)"
   ],
   "metadata": {
    "collapsed": false
   }
  },
  {
   "cell_type": "code",
   "execution_count": 963,
   "outputs": [],
   "source": [
    "answers['Q7'] = mse7"
   ],
   "metadata": {
    "collapsed": false
   }
  },
  {
   "cell_type": "code",
   "execution_count": 964,
   "outputs": [],
   "source": [
    "assertFloat(answers['Q7'])"
   ],
   "metadata": {
    "collapsed": false
   }
  },
  {
   "cell_type": "code",
   "execution_count": 965,
   "outputs": [],
   "source": [
    "### Question 8"
   ],
   "metadata": {
    "collapsed": false
   }
  },
  {
   "cell_type": "code",
   "execution_count": 966,
   "outputs": [],
   "source": [
    "def predictRating_Jaccard_interchange(user,item):\n",
    "    ratings = []\n",
    "    similarities = []\n",
    "    for d in reviewsPerItem[item]:\n",
    "        v = d['user_id']\n",
    "        if v != user:\n",
    "          ratings.append(d['rating'] - usersAverages[v])\n",
    "          similarities.append(Jaccard(itemsPerUser[user],itemsPerUser[v]))\n",
    "    if (sum(similarities) > 0):\n",
    "        weightedRatings = [(x*y) for x,y in zip(ratings,similarities)]\n",
    "        return usersAverages[user] + sum(weightedRatings) / sum(similarities)\n",
    "    else:\n",
    "        # User hasn't rated any similar items\n",
    "        return ratingMean"
   ],
   "metadata": {
    "collapsed": false
   }
  },
  {
   "cell_type": "code",
   "execution_count": 967,
   "outputs": [
    {
     "name": "stdout",
     "output_type": "stream",
     "text": [
      "1.2411643259434213\n"
     ]
    }
   ],
   "source": [
    "ratings_data = []\n",
    "ratings_pred = []\n",
    "for d in dataTest:\n",
    "    ratings_data.append(d['rating'])\n",
    "    ratings_pred.append(predictRating_Jaccard_interchange(d['user_id'],d['book_id']))\n",
    "\n",
    "mse8 = numpy.square(numpy.subtract(numpy.array(ratings_data),numpy.array(ratings_pred))).mean()\n",
    "print(mse8)"
   ],
   "metadata": {
    "collapsed": false
   }
  },
  {
   "cell_type": "code",
   "execution_count": 968,
   "outputs": [],
   "source": [
    "answers['Q8'] = mse8\n",
    "assertFloat(answers['Q8'])"
   ],
   "metadata": {
    "collapsed": false
   }
  },
  {
   "cell_type": "code",
   "execution_count": 969,
   "outputs": [],
   "source": [
    "f = open(\"answers_hw2.txt\", 'w')\n",
    "f.write(str(answers) + '\\n')\n",
    "f.close()"
   ],
   "metadata": {
    "collapsed": false
   }
  },
  {
   "cell_type": "code",
   "execution_count": 969,
   "outputs": [],
   "source": [],
   "metadata": {
    "collapsed": false
   }
  }
 ],
 "metadata": {
  "kernelspec": {
   "display_name": "Python 3",
   "language": "python",
   "name": "python3"
  },
  "language_info": {
   "codemirror_mode": {
    "name": "ipython",
    "version": 2
   },
   "file_extension": ".py",
   "mimetype": "text/x-python",
   "name": "python",
   "nbconvert_exporter": "python",
   "pygments_lexer": "ipython2",
   "version": "2.7.6"
  }
 },
 "nbformat": 4,
 "nbformat_minor": 0
}
