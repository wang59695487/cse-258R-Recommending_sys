{
 "cells": [
  {
   "cell_type": "markdown",
   "metadata": {},
   "source": [
    "## Assignment 1 "
   ]
  },
  {
   "cell_type": "markdown",
   "metadata": {},
   "source": [
    "#### Read prediction"
   ]
  },
  {
   "cell_type": "code",
   "execution_count": 1,
   "metadata": {},
   "outputs": [],
   "source": [
    "import numpy\n",
    "import urllib\n",
    "import scipy.optimize\n",
    "import random\n",
    "import gzip\n",
    "import csv\n",
    "from collections import defaultdict\n",
    "from sklearn.metrics import accuracy_score\n",
    "import matplotlib.pyplot as plt"
   ]
  },
  {
   "cell_type": "code",
   "execution_count": 2,
   "metadata": {},
   "outputs": [],
   "source": [
    "# input file using gzip\n",
    "path = \"train_Interactions.csv.gz\"\n",
    "f = gzip.open(path,\"rt\",encoding=\"utf8\")\n",
    "reader = csv.reader(f,delimiter = \",\")"
   ]
  },
  {
   "cell_type": "code",
   "execution_count": 3,
   "metadata": {},
   "outputs": [],
   "source": [
    "# reading the file to build dataset\n",
    "dataset = []\n",
    "first = True\n",
    "for line in reader:\n",
    "    if first:\n",
    "        header = line\n",
    "        first = False\n",
    "    else:\n",
    "        d = dict(zip(header,line))\n",
    "        # convert strings to integers for some fields\n",
    "        d[\"rating\"] = int(d[\"rating\"])\n",
    "        dataset.append(d)"
   ]
  },
  {
   "cell_type": "code",
   "execution_count": 4,
   "metadata": {},
   "outputs": [],
   "source": [
    "# split the training data\n",
    "data_train = dataset[:190000]\n",
    "data_valid = dataset[190000:]"
   ]
  },
  {
   "cell_type": "code",
   "execution_count": 5,
   "outputs": [
    {
     "name": "stdout",
     "output_type": "stream",
     "text": [
      "190000\n"
     ]
    }
   ],
   "source": [
    "print(len(data_train))"
   ],
   "metadata": {
    "collapsed": false
   }
  },
  {
   "cell_type": "code",
   "execution_count": 6,
   "metadata": {},
   "outputs": [],
   "source": [
    "# find all user ids and book ids, and pair them\n",
    "allUserID=[]\n",
    "allBookID=[]\n",
    "UsersReadBooks = {}\n",
    "\n",
    "for i in dataset:\n",
    "    allUserID.append(i[\"userID\"])\n",
    "    allBookID.append(i[\"bookID\"])\n",
    "    if UsersReadBooks.get(i[\"userID\"]):\n",
    "        UsersReadBooks[i[\"userID\"]].append(i[\"bookID\"])\n",
    "    else:\n",
    "        UsersReadBooks[i[\"userID\"]] = [i[\"bookID\"]]\n",
    "\n",
    "unique_users = list(set(allUserID))\n",
    "unique_books = list(set(allBookID))"
   ]
  },
  {
   "cell_type": "code",
   "execution_count": 7,
   "metadata": {},
   "outputs": [
    {
     "name": "stdout",
     "output_type": "stream",
     "text": [
      "20000\n"
     ]
    }
   ],
   "source": [
    "#validation data\n",
    "Entry_Valid = []\n",
    "positive_valid = []\n",
    "for i in data_valid:\n",
    "    positive_valid.append([i[\"userID\"],i[\"bookID\"]])\n",
    "    u,b = i[\"userID\"],i[\"bookID\"]\n",
    "    #positive sample\n",
    "    Entry_Valid.append((u,b,1))\n",
    "    index = random.randint(0, len(unique_books)-1)\n",
    "    while unique_books[index] in UsersReadBooks[u]:\n",
    "        index = random.randint(0, len(unique_books)-1)\n",
    "    if unique_books[index] in UsersReadBooks[u]:\n",
    "        print(\"error\")\n",
    "    Entry_Valid.append((u,unique_books[index],0))\n",
    "\n",
    "print(len(Entry_Valid))\n"
   ]
  },
  {
   "cell_type": "code",
   "execution_count": 8,
   "metadata": {},
   "outputs": [],
   "source": [
    "# negative validation data\n",
    "negative_valid_dict = {}\n",
    "for c in data_valid:\n",
    "    bid = random.choice(unique_books)\n",
    "    uid = c[\"userID\"]\n",
    "    while bid in UsersReadBooks[c[\"userID\"]]:\n",
    "        bid = random.choice(unique_books)\n",
    "    if negative_valid_dict.get(uid):\n",
    "        negative_valid_dict[uid].append(bid)\n",
    "    else:\n",
    "        negative_valid_dict[uid]= [bid]\n",
    "        \n",
    "# negative validation dataset to list\n",
    "negative_valid = []\n",
    "\n",
    "for i in negative_valid_dict.keys():\n",
    "    if len(negative_valid_dict[i]) > 1:\n",
    "        for ii in negative_valid_dict[i]:\n",
    "            negative_valid.append([i,ii])\n",
    "    else:\n",
    "        negative_valid.append([i,negative_valid_dict[i][0]])"
   ]
  },
  {
   "cell_type": "code",
   "execution_count": 9,
   "metadata": {},
   "outputs": [],
   "source": [
    "y_valid = [0 for i in range(len(negative_valid))] + [1 for i in range(len(positive_valid))]\n",
    "X_valid = negative_valid + positive_valid "
   ]
  },
  {
   "cell_type": "markdown",
   "metadata": {},
   "source": [
    "#### Book popularity"
   ]
  },
  {
   "cell_type": "code",
   "execution_count": 10,
   "metadata": {},
   "outputs": [
    {
     "name": "stdout",
     "output_type": "stream",
     "text": [
      "29.904306220095695\n"
     ]
    }
   ],
   "source": [
    "# Baseline - using train dataset to get the most popular books data\n",
    "bookCount = defaultdict(int)\n",
    "userCount = defaultdict(int)\n",
    "totalRead = 0\n",
    "books = []\n",
    "\n",
    "for c in dataset:\n",
    "    user,book = c[\"userID\"],c[\"bookID\"]\n",
    "    bookCount[book] += 1\n",
    "    userCount[user] += 1\n",
    "    totalRead += 1\n",
    "\n",
    "mostPopular = [(bookCount[x], x) for x in bookCount]\n",
    "mostPopular.sort()\n",
    "mostPopular.reverse()\n",
    "\n",
    "Average_book_Count = 0\n",
    "for x in bookCount:\n",
    "    Average_book_Count += bookCount[x]\n",
    "Average_book_Count = Average_book_Count/len(bookCount)\n",
    "\n",
    "book_popular = []\n",
    "for i in range(int(len(mostPopular)*0.5)):\n",
    "    book_popular.append(mostPopular[i])\n",
    "print(Average_book_Count)"
   ]
  },
  {
   "cell_type": "markdown",
   "metadata": {},
   "source": [
    "#### Jaccard Similarity"
   ]
  },
  {
   "cell_type": "code",
   "execution_count": 11,
   "metadata": {},
   "outputs": [],
   "source": [
    "# pair users and books in dataset\n",
    "TrainUserID = []\n",
    "TrainBookID = []\n",
    "\n",
    "UsersPerBook = defaultdict(set)\n",
    "BooksPerUser = defaultdict(set)\n",
    "\n",
    "for i in data_train:\n",
    "    TrainUserID.append(i[\"userID\"])\n",
    "    TrainBookID.append(i[\"bookID\"])\n",
    "    UsersPerBook[i[\"bookID\"]].add(i[\"userID\"])\n",
    "    BooksPerUser[i[\"userID\"]].add(i[\"bookID\"])\n",
    "\n",
    "unique_users_train = list(set(TrainUserID))\n",
    "unique_books_train = list(set(TrainBookID))"
   ]
  },
  {
   "cell_type": "code",
   "execution_count": 12,
   "metadata": {},
   "outputs": [],
   "source": [
    "# Jaccard Predictor\n",
    "def Jaccard(s1, s2):\n",
    "    numerator = len(s1.intersection(s2))\n",
    "    denominator = len(s1.union(s2))\n",
    "    if(denominator == 0):\n",
    "        return 0\n",
    "    return numerator/denominator\n",
    "\n",
    "def mostSimilarFast(user, book):\n",
    "    similarities = []\n",
    "    books = BooksPerUser[user]\n",
    "\n",
    "    for b in books:\n",
    "        if b == book:\n",
    "            continue\n",
    "        users = UsersPerBook[b]\n",
    "        sim = Jaccard(users, UsersPerBook[book])\n",
    "        similarities.append(sim)\n",
    "\n",
    "    if len(similarities) > 0 :\n",
    "         mean = sum(similarities)/len(similarities)\n",
    "    else:\n",
    "         mean = 0\n",
    "   \n",
    "    return mean\n",
    "\n",
    "def mostSimilarFast_improve(user, book):\n",
    "    similarities = []\n",
    "\n",
    "    books = BooksPerUser[user]\n",
    "    users = UsersPerBook[book]\n",
    "\n",
    "    for b in books:\n",
    "        if b == book: continue\n",
    "\n",
    "        users = UsersPerBook[b]\n",
    "        sim = Jaccard(users, UsersPerBook[book])\n",
    "        similarities.append(sim)\n",
    "\n",
    "    if len(similarities) > 0 :\n",
    "         mean = sum(similarities)/len(similarities)\n",
    "    else:\n",
    "         #sometimes books are unseen\n",
    "         for u in users:\n",
    "            if u == user: continue\n",
    "            books = BooksPerUser[u]\n",
    "            sim = Jaccard(books, BooksPerUser[user])\n",
    "            similarities.append(sim)\n",
    "            if len(similarities) > 0 :\n",
    "               mean = sum(similarities)/len(similarities)\n",
    "            else:\n",
    "               mean = 0\n",
    "               print(\"error\")\n",
    "\n",
    "    return mean\n",
    "\n",
    "def mostSimilarFast_improve2(user, book, alpha = 0.5):\n",
    "    similarities1 = []\n",
    "    similarities2 = []\n",
    "\n",
    "    books = BooksPerUser[user]\n",
    "    users = UsersPerBook[book]\n",
    "\n",
    "    for b in books:\n",
    "        if b == book: continue\n",
    "\n",
    "        users = UsersPerBook[b]\n",
    "        sim = Jaccard(users, UsersPerBook[book])\n",
    "        similarities1.append(sim)\n",
    "\n",
    "    if len(similarities1) > 0 :\n",
    "           mean1 = sum(similarities1)/len(similarities1)\n",
    "    else:\n",
    "           mean1 = 0\n",
    "\n",
    "    for u in users:\n",
    "        if u == user: continue\n",
    "        books = BooksPerUser[u]\n",
    "        sim = Jaccard(books, BooksPerUser[user])\n",
    "        similarities2.append(sim)\n",
    "\n",
    "    if len(similarities2) > 0 :\n",
    "           mean2 = sum(similarities2)/len(similarities2)\n",
    "    else:\n",
    "           mean2 = 0\n",
    "\n",
    "    #there is a factor alpha that decides which part is more important in the similarity rating\n",
    "    mean = alpha * mean1 + (1-alpha) * mean2\n",
    "\n",
    "    return mean"
   ]
  },
  {
   "cell_type": "markdown",
   "metadata": {},
   "source": [
    "#### Prediction"
   ]
  },
  {
   "cell_type": "code",
   "execution_count": 427,
   "metadata": {},
   "outputs": [],
   "source": [
    "# test on validation dataset\n",
    "# from homework3 we know bookcount is an important factor\n",
    "user_book_sim = defaultdict(list)\n",
    "#for x in X_valid:\n",
    "for u,b,r in Entry_Valid:\n",
    "    #s = mostSimilarFast(u,b) * bookCount[b]\n",
    "    #s = mostSimilarFast_improve(u,b) * bookCount[b]\n",
    "    u,b = d[\"userID\"],d[\"bookID\"]\n",
    "    s = mostSimilarFast_improve2(u,b,0.97) * bookCount[b]\n",
    "    comb = (u,b)\n",
    "    user_book_sim[u].append ((s,comb))\n",
    "\n",
    "for i in user_book_sim:\n",
    "    user_book_sim[i].sort()"
   ]
  },
  {
   "cell_type": "code",
   "execution_count": 119,
   "outputs": [],
   "source": [
    "# fintuning\n",
    "# In the first try, the best occurs when alphas in 0.9 - 1\n",
    "alphas = [i/100 for i in range(90,101)]\n",
    "accs = []\n",
    "alpha_acc = defaultdict()\n",
    "threshold = 0.5\n",
    "for alpha in alphas:\n",
    "    user_book_sim = defaultdict(list)\n",
    "    for x in X_valid:\n",
    "       u = x[0]\n",
    "       b = x[1]\n",
    "       #s = mostSimilarFast(u,b) * bookCount[b]\n",
    "       #s = mostSimilarFast_improve(u,b) * bookCount[b]\n",
    "       s = mostSimilarFast_improve2(u,b,alpha) * bookCount[b]\n",
    "       comb = (u,b)\n",
    "       user_book_sim[u].append ((s,comb))\n",
    "\n",
    "    for i in user_book_sim:\n",
    "         user_book_sim[i].sort()\n",
    "\n",
    "    y_pred = []\n",
    "    for x in X_valid:\n",
    "       u = x[0]\n",
    "       b = x[1]\n",
    "       i = (u,b)\n",
    "       book_sim_list = user_book_sim[u]\n",
    "       p = 1\n",
    "       for n in range(int(len(book_sim_list)*threshold)):\n",
    "           if i in book_sim_list[n]:\n",
    "               p = 0\n",
    "       y_pred.append(p)\n",
    "    acc = accuracy_score(y_pred, y_valid)\n",
    "    accs.append(acc)\n",
    "    alpha_acc[acc] = alpha"
   ],
   "metadata": {
    "collapsed": false
   }
  },
  {
   "cell_type": "code",
   "execution_count": 120,
   "outputs": [
    {
     "name": "stdout",
     "output_type": "stream",
     "text": [
      "My best accurate 0.813000\n",
      "The best alpha is 0.970000 \n"
     ]
    }
   ],
   "source": [
    "max_acc = max(accs)\n",
    "best_alpha = alpha_acc[max_acc]\n",
    "print(\"My best accurate %f\" % max_acc)\n",
    "print(\"The best alpha is %f \" % best_alpha)"
   ],
   "metadata": {
    "collapsed": false
   }
  },
  {
   "cell_type": "code",
   "execution_count": 121,
   "outputs": [
    {
     "name": "stdout",
     "output_type": "stream",
     "text": [
      "defaultdict(None, {0.8113: 0.9, 0.8115: 0.96, 0.8114: 0.92, 0.8116: 0.94, 0.8122: 0.95, 0.813: 0.97, 0.8118: 0.98, 0.8112: 0.99, 0.7751: 1.0})\n"
     ]
    }
   ],
   "source": [
    "print(alpha_acc)"
   ],
   "metadata": {
    "collapsed": false
   }
  },
  {
   "cell_type": "code",
   "execution_count": 13,
   "outputs": [
    {
     "data": {
      "text/plain": "'\\nfor u,b,r in Entry_Valid:\\n   #if(len(user_book_sim1[u])==2):\\n       books = BooksPerUser[u]\\n       J_max = 0\\n       max_book = b\\n       for book in books:\\n           if book == b: continue\\n           J_sim = Jaccard(UsersPerBook[book],UsersPerBook[b])\\n           if J_sim > J_max:\\n               J_max = J_sim\\n               max_book = book\\n       if max_book != b:\\n          s1 = bookCount[b]\\n          user_book_sim1[u].append(s1)\\n    #user_book_sim2[u].append(s1)\\n'"
     },
     "execution_count": 13,
     "metadata": {},
     "output_type": "execute_result"
    }
   ],
   "source": [
    "user_book_sim = defaultdict(list)\n",
    "user_book_sim1 = defaultdict(list)\n",
    "user_book_sim2 = defaultdict(list)\n",
    "\n",
    "for u,b,r in Entry_Valid:\n",
    "    s = mostSimilarFast_improve2(u,b,0.97) * bookCount[b]\n",
    "    s1 = bookCount[b]\n",
    "    s2 = mostSimilarFast_improve2(u,b,0.97)\n",
    "    comb = (u,b)\n",
    "    user_book_sim[u].append((s,comb))\n",
    "    user_book_sim1[u].append((s1,comb))\n",
    "    user_book_sim2[u].append((s2,comb))\n",
    "\n",
    "'''\n",
    "for u,b,r in Entry_Valid:\n",
    "   #if(len(user_book_sim1[u])==2):\n",
    "       books = BooksPerUser[u]\n",
    "       J_max = 0\n",
    "       max_book = b\n",
    "       for book in books:\n",
    "           if book == b: continue\n",
    "           J_sim = Jaccard(UsersPerBook[book],UsersPerBook[b])\n",
    "           if J_sim > J_max:\n",
    "               J_max = J_sim\n",
    "               max_book = book\n",
    "       if max_book != b:\n",
    "          s1 = bookCount[b]\n",
    "          user_book_sim1[u].append(s1)\n",
    "    #user_book_sim2[u].append(s1)\n",
    "'''"
   ],
   "metadata": {
    "collapsed": false
   }
  },
  {
   "cell_type": "code",
   "execution_count": 14,
   "outputs": [],
   "source": [
    "for i in user_book_sim:\n",
    "    user_book_sim[i].sort()\n",
    "\n",
    "for i in user_book_sim1:\n",
    "    user_book_sim1[i].sort()\n",
    "\n",
    "for i in user_book_sim2:\n",
    "    user_book_sim2[i].sort()"
   ],
   "metadata": {
    "collapsed": false
   }
  },
  {
   "cell_type": "code",
   "execution_count": 15,
   "metadata": {},
   "outputs": [],
   "source": [
    "# user_book_sim(X_valid)"
   ]
  },
  {
   "cell_type": "code",
   "execution_count": 57,
   "outputs": [],
   "source": [
    "thresholds = [i for i in range(1,11)]\n",
    "thresholds = [0.583]"
   ],
   "metadata": {
    "collapsed": false
   }
  },
  {
   "cell_type": "code",
   "execution_count": 69,
   "metadata": {},
   "outputs": [],
   "source": [
    "accs = []\n",
    "threshold_acc = defaultdict()\n",
    "list_count = defaultdict(int)\n",
    "error_count = defaultdict(int)\n",
    "error_count2 = defaultdict(int)\n",
    "bookss = []\n",
    "\n",
    "for threshold in thresholds:\n",
    "   y_pred = []\n",
    "   y_valid = []\n",
    "   total1 = 0\n",
    "   #for x in X_valid:\n",
    "   for u,b,r in Entry_Valid:\n",
    "       i = (u,b)\n",
    "       book_sim_list = user_book_sim[u]\n",
    "       book_sim_list1 = user_book_sim1[u]\n",
    "       book_sim_list2 = user_book_sim2[u]\n",
    "       if len(book_sim_list) in list_count:\n",
    "                list_count[len(book_sim_list)]+=1\n",
    "       else:\n",
    "                list_count[len(book_sim_list)]=1\n",
    "\n",
    "       p = 1\n",
    "\n",
    "       for n in range(int(len(book_sim_list)*0.5)):\n",
    "          if i in book_sim_list[n]:\n",
    "               p = 0\n",
    "\n",
    "       sum = 0\n",
    "       for book in BooksPerUser[u]:\n",
    "           sum += bookCount[book]\n",
    "       if len(BooksPerUser[u]) > 0:\n",
    "            mean_book = sum/len(BooksPerUser[u])\n",
    "       else:\n",
    "           total1+=1\n",
    "           mean_book  = 0\n",
    "\n",
    "       bookss.append(bookCount[b])\n",
    "       if p == 0:\n",
    "          if bookCount[b] > 10:\n",
    "              p = 1\n",
    "\n",
    "\n",
    "       y_pred.append(p)\n",
    "       y_valid.append(int(r))\n",
    "\n",
    "   acc = accuracy_score(y_pred, y_valid)\n",
    "   accs.append(acc)\n",
    "   threshold_acc[acc] = threshold"
   ]
  },
  {
   "cell_type": "code",
   "execution_count": 70,
   "outputs": [
    {
     "name": "stdout",
     "output_type": "stream",
     "text": [
      "My best accurate 0.694050\n",
      "The best threshold is 0.583000 \n"
     ]
    }
   ],
   "source": [
    "max_acc = max(accs)\n",
    "best_threshold = threshold_acc[max_acc]\n",
    "print(\"My best accurate %f\" % max_acc)\n",
    "print(\"The best threshold is %f \" % best_threshold)"
   ],
   "metadata": {
    "collapsed": false
   }
  },
  {
   "cell_type": "code",
   "execution_count": 450,
   "outputs": [
    {
     "name": "stdout",
     "output_type": "stream",
     "text": [
      "defaultdict(<class 'int'>, {2: 13214000, 4: 5116000, 10: 110000, 6: 1236000, 12: 36000, 8: 288000})\n"
     ]
    }
   ],
   "source": [
    "print(list_count)"
   ],
   "metadata": {
    "collapsed": false
   }
  },
  {
   "cell_type": "code",
   "execution_count": 76,
   "outputs": [],
   "source": [
    "bookss.sort()"
   ],
   "metadata": {
    "collapsed": false
   }
  },
  {
   "cell_type": "code",
   "execution_count": 82,
   "outputs": [
    {
     "name": "stdout",
     "output_type": "stream",
     "text": [
      "273\n"
     ]
    }
   ],
   "source": [
    "print(bookss[-2000])"
   ],
   "metadata": {
    "collapsed": false
   }
  },
  {
   "cell_type": "code",
   "execution_count": 407,
   "outputs": [
    {
     "name": "stdout",
     "output_type": "stream",
     "text": [
      "1822\n"
     ]
    }
   ],
   "source": [],
   "metadata": {
    "collapsed": false
   }
  },
  {
   "cell_type": "code",
   "execution_count": 408,
   "metadata": {},
   "outputs": [
    {
     "name": "stdout",
     "output_type": "stream",
     "text": [
      "My best accurate 0.817800\n",
      "The best threshold is 0.583000 \n"
     ]
    }
   ],
   "source": [
    "max_acc = max(accs)\n",
    "best_threshold = threshold_acc[max_acc]\n",
    "print(\"My best accurate %f\" % max_acc)\n",
    "print(\"The best threshold is %f \" % best_threshold)"
   ]
  },
  {
   "cell_type": "markdown",
   "source": [
    "#### Use all the dataset"
   ],
   "metadata": {
    "collapsed": false
   }
  },
  {
   "cell_type": "code",
   "execution_count": 83,
   "outputs": [],
   "source": [
    "# pair users and books in dataset\n",
    "UsersPerBook = defaultdict(set)\n",
    "BooksPerUser = defaultdict(set)\n",
    "\n",
    "for i in dataset:\n",
    "    UsersPerBook[i[\"bookID\"]].add(i[\"userID\"])\n",
    "    BooksPerUser[i[\"userID\"]].add(i[\"bookID\"])"
   ],
   "metadata": {
    "collapsed": false
   }
  },
  {
   "cell_type": "markdown",
   "metadata": {},
   "source": [
    "#### predict on the testing set"
   ]
  },
  {
   "cell_type": "code",
   "execution_count": 13,
   "metadata": {},
   "outputs": [],
   "source": [
    "X_test = []\n",
    "for l in open(\"pairs_Read.csv\"):\n",
    "    if l.startswith(\"userID\"):\n",
    "        # header\n",
    "#         predictions.write(l)\n",
    "        continue\n",
    "    u, b = l.strip().split(\",\")\n",
    "    X_test.append([u,b])"
   ]
  },
  {
   "cell_type": "code",
   "execution_count": 47,
   "outputs": [],
   "source": [
    "best_alpha = 0.97\n",
    "best_threshold = 0.599\n",
    "#best_threshold = 0.583\n",
    "#best_threshold = 0.624  0.584  0.599-0.83\n",
    "best_threshold2 = 0.4"
   ],
   "metadata": {
    "collapsed": false
   }
  },
  {
   "cell_type": "code",
   "execution_count": 48,
   "metadata": {},
   "outputs": [],
   "source": [
    "user_book_sim = defaultdict(list)\n",
    "user_book_sim1 = defaultdict(list)\n",
    "for x in X_test:\n",
    "    u = x[0]\n",
    "    b = x[1]\n",
    "    s = bookCount[b]\n",
    "    s1 = mostSimilarFast_improve2(u,b,best_alpha) * bookCount[b]\n",
    "    s2 = bookCount[b]\n",
    "    comb = (u,b)\n",
    "    user_book_sim[u].append((s1,comb))\n",
    "    user_book_sim1[u].append(s2)\n",
    "\n",
    "for i in user_book_sim:\n",
    "    user_book_sim[i].sort()\n",
    "\n",
    "for i in user_book_sim1:\n",
    "    user_book_sim1[i].sort()"
   ]
  },
  {
   "cell_type": "code",
   "execution_count": 59,
   "metadata": {},
   "outputs": [
    {
     "name": "stdout",
     "output_type": "stream",
     "text": [
      "9\n"
     ]
    }
   ],
   "source": [
    "y_pred = []\n",
    "list_count = defaultdict(int)\n",
    "total = 0\n",
    "for x in X_test:\n",
    "    u = x[0]\n",
    "    b = x[1]\n",
    "    i = (u,b)\n",
    "    book_sim_list = user_book_sim[u]\n",
    "    book_sim_list1 = user_book_sim1[u]\n",
    "    p = 1\n",
    "\n",
    "    for n in range(int(len(book_sim_list)*best_threshold)):\n",
    "        if i in book_sim_list[n]:\n",
    "            p = 0\n",
    "\n",
    "    #when the book is so popular, predict to be 1\n",
    "\n",
    "    # when the bookCount is bigger than the mean\n",
    "\n",
    "    if bookCount[b] > (sum(book_sim_list1)/len(book_sim_list1))*1.6:\n",
    "        if p == 0:\n",
    "            p = 1\n",
    "            total+=1\n",
    "\n",
    "    y_pred.append(p)\n",
    "#0.599 - 0.8298\n",
    "#0.599 0.04 1.9 -  0.8299\n",
    "#0.599 0.04 1.77 - 0.83 - 0.0007(2/6-33.3%)\n",
    "#0.599 0.04 1.6 - 0.8301  - (3/7 42.857%)\n",
    "print(total)"
   ]
  },
  {
   "cell_type": "code",
   "execution_count": 61,
   "outputs": [
    {
     "name": "stdout",
     "output_type": "stream",
     "text": [
      "20000\n",
      "9995\n"
     ]
    }
   ],
   "source": [
    "total1 = 0\n",
    "for y in y_pred:\n",
    "    if y == 0:\n",
    "        total1+=1\n",
    "print(len(y_pred))\n",
    "print(total1)"
   ],
   "metadata": {
    "collapsed": false
   }
  },
  {
   "cell_type": "code",
   "execution_count": 60,
   "metadata": {},
   "outputs": [],
   "source": [
    "predictions = open(\"predictions_Read.csv\", \"w\")\n",
    "n = -2\n",
    "for l in open(\"pairs_Read.csv\"):\n",
    "    n += 1\n",
    "    if l.startswith(\"userID\"):\n",
    "        # header\n",
    "        predictions.write(l)\n",
    "        continue\n",
    "    u, b = l.strip().split(\",\")\n",
    "    p = y_pred[n]\n",
    "    predictions.write(u + \",\" + b + \",\" + str(p) + \"\\n\")\n",
    "\n",
    "predictions.close()\n"
   ]
  },
  {
   "cell_type": "code",
   "execution_count": null,
   "outputs": [],
   "source": [
    "#0.83"
   ],
   "metadata": {
    "collapsed": false
   }
  }
 ],
 "metadata": {
  "kernelspec": {
   "display_name": "Python 3",
   "language": "python",
   "name": "python3"
  },
  "language_info": {
   "codemirror_mode": {
    "name": "ipython",
    "version": 3
   },
   "file_extension": ".py",
   "mimetype": "text/x-python",
   "name": "python",
   "nbconvert_exporter": "python",
   "pygments_lexer": "ipython3",
   "version": "3.6.8"
  }
 },
 "nbformat": 4,
 "nbformat_minor": 4
}
