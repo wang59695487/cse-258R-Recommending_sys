{
 "cells": [
  {
   "cell_type": "code",
   "execution_count": 2,
   "metadata": {},
   "outputs": [],
   "source": [
    "import gzip\n",
    "import math\n",
    "import numpy\n",
    "import random\n",
    "import sklearn\n",
    "import nltk\n",
    "import string\n",
    "from collections import defaultdict\n",
    "from gensim.models import Word2Vec\n",
    "from nltk.stem.porter import *\n",
    "from sklearn import linear_model\n",
    "from sklearn.manifold import TSNE\n",
    "import dateutil"
   ]
  },
  {
   "cell_type": "code",
   "execution_count": 3,
   "metadata": {},
   "outputs": [],
   "source": [
    "import warnings\n",
    "warnings.filterwarnings(\"ignore\")"
   ]
  },
  {
   "cell_type": "code",
   "execution_count": 4,
   "metadata": {},
   "outputs": [],
   "source": [
    "def assertFloat(x):\n",
    "    assert type(float(x)) == float\n",
    "\n",
    "def assertFloatList(items, N):\n",
    "    assert len(items) == N\n",
    "    assert [type(float(x)) for x in items] == [float]*N"
   ]
  },
  {
   "cell_type": "code",
   "execution_count": 5,
   "metadata": {},
   "outputs": [],
   "source": [
    "dataset = []\n",
    "\n",
    "f = gzip.open(\"young_adult_20000.json.gz\")\n",
    "for l in f:\n",
    "    d = eval(l)\n",
    "    dataset.append(d)\n",
    "    if len(dataset) >= 20000:\n",
    "        break\n",
    "        \n",
    "f.close()"
   ]
  },
  {
   "cell_type": "code",
   "execution_count": 6,
   "metadata": {},
   "outputs": [],
   "source": [
    "answers = {}"
   ]
  },
  {
   "cell_type": "code",
   "execution_count": 7,
   "metadata": {},
   "outputs": [],
   "source": [
    "### Question 1"
   ]
  },
  {
   "cell_type": "code",
   "execution_count": 8,
   "outputs": [],
   "source": [
    "data = dataset[:20000]\n",
    "train = data[:10000]\n",
    "test = data[10000:]"
   ],
   "metadata": {
    "collapsed": false
   }
  },
  {
   "cell_type": "code",
   "execution_count": 9,
   "outputs": [
    {
     "name": "stdout",
     "output_type": "stream",
     "text": [
      "20000\n",
      "10000\n",
      "10000\n"
     ]
    }
   ],
   "source": [
    "print(len(dataset))\n",
    "print(len(train))\n",
    "print(len(test))"
   ],
   "metadata": {
    "collapsed": false
   }
  },
  {
   "cell_type": "code",
   "execution_count": 10,
   "outputs": [
    {
     "name": "stdout",
     "output_type": "stream",
     "text": [
      "59814\n",
      "528310\n",
      "588124\n"
     ]
    }
   ],
   "source": [
    "wordCount = defaultdict(int)\n",
    "wordCount_combine = defaultdict(int)\n",
    "wordCount_big = defaultdict(int)\n",
    "punctuation = set(string.punctuation)\n",
    "for d in data:\n",
    "    r = ''.join([c for c in d['review_text'].lower() if not c in punctuation])\n",
    "    ws = r.split()\n",
    "    ws2 = [' '.join(x) for x in list(zip(ws[:-1],ws[1:]))]\n",
    "    for w in ws:\n",
    "        wordCount[w] += 1\n",
    "    for w in ws2:\n",
    "        wordCount_big[w] += 1\n",
    "    for w in ws + ws2:\n",
    "        wordCount_combine[w] += 1\n",
    "print(len(wordCount))\n",
    "print(len(wordCount_big))\n",
    "print(len(wordCount_combine))"
   ],
   "metadata": {
    "collapsed": false
   }
  },
  {
   "cell_type": "code",
   "execution_count": 11,
   "outputs": [],
   "source": [
    "d = data[0]\n",
    "r = ''.join([c for c in d['review_text'].lower() if not c in punctuation])\n",
    "ws = r.split()\n",
    "ws2 = [' '.join(x) for x in list(zip(ws[:-1],ws[1:]))]"
   ],
   "metadata": {
    "collapsed": false
   }
  },
  {
   "cell_type": "code",
   "execution_count": 12,
   "outputs": [],
   "source": [
    "counts = [(wordCount[w], w) for w in wordCount]\n",
    "counts.sort()\n",
    "counts.reverse()\n",
    "\n",
    "counts_big = [(wordCount_big[w], w) for w in wordCount_big]\n",
    "counts_big.sort()\n",
    "counts_big.reverse()\n",
    "\n",
    "counts_combine = [(wordCount_combine[w], w) for w in wordCount_combine]\n",
    "counts_combine.sort()\n",
    "counts_combine.reverse()"
   ],
   "metadata": {
    "collapsed": false
   }
  },
  {
   "cell_type": "code",
   "execution_count": 13,
   "outputs": [
    {
     "name": "stdout",
     "output_type": "stream",
     "text": [
      "['the', 'and', 'a', 'of', 'to', 'i', 'is', 'this', 'it', 'in']\n",
      "['of the', 'in the', 'the story', 'and the', 'is a', 'to the', 'this is', 'to be', 'it was', 'with the']\n",
      "['the', 'and', 'a', 'of', 'to', 'i', 'is', 'this', 'it', 'in', 'that', 'but', 'was', 'with', 'as', 'story', 'for', 'of the', 'its', 'on', 'are', 'not', 'have', 'you', 'so', 'be', 'one', 'book', 'read', 'in the', 'more', 'like', 'all', 'at', 'an', 'his', 'just', 'really', 'about', 'from', 'me', 'some', 'my', 'he', 'up', 'what', 'her', 'good', 'the story', 'by']\n"
     ]
    }
   ],
   "source": [
    "unigrams = [w[1] for w in counts[:1000]]\n",
    "print(unigrams[:10])\n",
    "unigramId = dict(zip(unigrams, range(len(unigrams))))\n",
    "unigramSet = set(unigrams)\n",
    "\n",
    "bigrams = [w[1] for w in counts_big[:1000]]\n",
    "print(bigrams[:10])\n",
    "bigramId = dict(zip(bigrams, range(len(bigrams))))\n",
    "bigramSet = set(bigrams)\n",
    "\n",
    "combined = [w[1] for w in counts_combine[:1000]]\n",
    "print(combined[:50])\n",
    "combinedId = dict(zip(combined, range(len(combined))))\n",
    "combinedSet = set(combined)\n"
   ],
   "metadata": {
    "collapsed": false
   }
  },
  {
   "cell_type": "code",
   "execution_count": 14,
   "outputs": [],
   "source": [
    "#Train a regressor\n",
    "def feature_unigram(datum):\n",
    "    feat = [0]*len(unigrams)\n",
    "    r = ''.join([c for c in datum['review_text'].lower() if not c in punctuation])\n",
    "    ws = r.split()\n",
    "\n",
    "    for w in ws :\n",
    "        if w in unigrams:\n",
    "            feat[unigramId[w]] += 1\n",
    "    feat.append(1) #offset\n",
    "    return feat"
   ],
   "metadata": {
    "collapsed": false
   }
  },
  {
   "cell_type": "code",
   "execution_count": 15,
   "outputs": [],
   "source": [
    "def feature_bigram(datum):\n",
    "    feat = [0]*len(bigrams)\n",
    "    r = ''.join([c for c in datum['review_text'].lower() if not c in punctuation])\n",
    "    ws = r.split()\n",
    "    ws2 = [' '.join(x) for x in list(zip(ws[:-1],ws[1:]))]\n",
    "\n",
    "    for w in ws2 :\n",
    "        if w in bigrams:\n",
    "            feat[bigramId[w]] += 1\n",
    "    feat.append(1) #offset\n",
    "    return feat"
   ],
   "metadata": {
    "collapsed": false
   }
  },
  {
   "cell_type": "code",
   "execution_count": 16,
   "outputs": [],
   "source": [
    "def feature_combined(datum):\n",
    "    feat = [0]*len(combined)\n",
    "    r = ''.join([c for c in datum['review_text'].lower() if not c in punctuation])\n",
    "    ws = r.split()\n",
    "    ws2 = [' '.join(x) for x in list(zip(ws[:-1],ws[1:]))]\n",
    "\n",
    "    for w in ws + ws2 :\n",
    "        if w in combined:\n",
    "            feat[combinedId[w]] += 1\n",
    "    feat.append(1) #offset\n",
    "    return feat"
   ],
   "metadata": {
    "collapsed": false
   }
  },
  {
   "cell_type": "code",
   "execution_count": 17,
   "outputs": [
    {
     "name": "stdout",
     "output_type": "stream",
     "text": [
      "[20, 16, 18, 23, 21, 17, 8, 10, 13, 7, 13, 9, 11, 3, 8, 8, 6, 3, 4, 4]\n"
     ]
    }
   ],
   "source": [
    "# unigram\n",
    "X_train = [feature_unigram(d) for d in train]\n",
    "y_train = [d['rating'] for d in train]\n",
    "print(X_train[0][:20])\n",
    "X_test = [feature_unigram(d) for d in test]\n",
    "y_test = [d['rating'] for d in test]\n",
    "\n",
    "clf = linear_model.Ridge(1.0, fit_intercept=False) # MSE + 1.0 l2\n",
    "clf.fit(X_train, y_train)\n",
    "theta = clf.coef_\n",
    "pred_train = clf.predict(X_train)\n",
    "MSEtrain = sum((y_train - pred_train)**2)/len(y_train)\n",
    "pred_test = clf.predict(X_test)\n",
    "MSEtest = sum((y_test - pred_test)**2)/len(y_test)\n"
   ],
   "metadata": {
    "collapsed": false
   }
  },
  {
   "cell_type": "code",
   "execution_count": 18,
   "outputs": [
    {
     "name": "stdout",
     "output_type": "stream",
     "text": [
      "1.2390553477075859\n"
     ]
    }
   ],
   "source": [
    "print(MSEtest)\n",
    "mostCommonUnigrams = []\n",
    "mostCommonUnigrams.append(MSEtest)\n",
    "\n",
    "wordSort = list(zip(theta, ws + ['_constant_']))\n",
    "wordSort.sort()\n",
    "wordSort.reverse()\n",
    "mostCommonUnigrams.append(wordSort)"
   ],
   "metadata": {
    "collapsed": false
   }
  },
  {
   "cell_type": "code",
   "execution_count": 19,
   "outputs": [],
   "source": [
    "# bigram\n",
    "X_train = [feature_bigram(d) for d in train]\n",
    "y_train = [d['rating'] for d in train]\n",
    "X_test = [feature_bigram(d) for d in test]\n",
    "y_test = [d['rating'] for d in test]\n",
    "\n",
    "\n",
    "clf = linear_model.Ridge(1.0, fit_intercept=False) # MSE + 1.0 l2\n",
    "clf.fit(X_train, y_train)\n",
    "theta = clf.coef_\n",
    "pred_train = clf.predict(X_train)\n",
    "MSEtrain = sum((y_train - pred_train)**2)/len(y_train)\n",
    "pred_test = clf.predict(X_test)\n",
    "MSEtest = sum((y_test - pred_test)**2)/len(y_test)\n"
   ],
   "metadata": {
    "collapsed": false
   }
  },
  {
   "cell_type": "code",
   "execution_count": 20,
   "outputs": [
    {
     "name": "stdout",
     "output_type": "stream",
     "text": [
      "1.2930626118603759\n"
     ]
    }
   ],
   "source": [
    "print(MSEtest)\n",
    "mostCommonBigrams = []\n",
    "mostCommonBigrams.append(MSEtest)\n",
    "\n",
    "wordSort = list(zip(theta, ws + ['_constant_']))\n",
    "wordSort.sort()\n",
    "wordSort.reverse()\n",
    "mostCommonBigrams.append(wordSort)"
   ],
   "metadata": {
    "collapsed": false
   }
  },
  {
   "cell_type": "code",
   "execution_count": 21,
   "outputs": [],
   "source": [
    "# combined\n",
    "X_train = [feature_combined(d) for d in train]\n",
    "y_train = [d['rating'] for d in train]\n",
    "X_test = [feature_combined(d) for d in test]\n",
    "y_test = [d['rating'] for d in test]\n",
    "\n",
    "clf = linear_model.Ridge(1.0, fit_intercept=False) # MSE + 1.0 l2\n",
    "clf.fit(X_train, y_train)\n",
    "theta = clf.coef_\n",
    "pred_train = clf.predict(X_train)\n",
    "MSEtrain = sum((y_train - pred_train)**2)/len(y_train)\n",
    "pred_test = clf.predict(X_test)\n",
    "MSEtest = sum((y_test - pred_test)**2)/len(y_test)\n"
   ],
   "metadata": {
    "collapsed": false
   }
  },
  {
   "cell_type": "code",
   "execution_count": 22,
   "outputs": [
    {
     "name": "stdout",
     "output_type": "stream",
     "text": [
      "1.2366939869514826\n"
     ]
    }
   ],
   "source": [
    "print(MSEtest)\n",
    "mostCommonBoth = []\n",
    "mostCommonBoth.append(MSEtest)\n",
    "\n",
    "wordSort = list(zip(theta, ws + ['_constant_']))\n",
    "wordSort.sort()\n",
    "wordSort.reverse()\n",
    "mostCommonBoth.append(wordSort)"
   ],
   "metadata": {
    "collapsed": false
   }
  },
  {
   "cell_type": "code",
   "execution_count": 23,
   "metadata": {},
   "outputs": [],
   "source": [
    "for q,wList in ('Q1a', mostCommonUnigrams), ('Q1b', mostCommonBigrams), ('Q1c', mostCommonBoth):\n",
    "    mse = wList[0]\n",
    "    wordSort = wList[1]\n",
    "    answers[q] = [float(mse), [x[1] for x in wordSort[:5]], [x[1] for x in wordSort[-5:]]]"
   ]
  },
  {
   "cell_type": "code",
   "execution_count": 24,
   "metadata": {},
   "outputs": [],
   "source": [
    "for q in 'Q1a', 'Q1b', 'Q1c':\n",
    "    assert len(answers[q]) == 3\n",
    "    assertFloat(answers[q][0])\n",
    "    assert [type(x) for x in answers[q][1]] == [str]*5\n",
    "    assert [type(x) for x in answers[q][2]] == [str]*5"
   ]
  },
  {
   "cell_type": "code",
   "execution_count": 25,
   "metadata": {},
   "outputs": [],
   "source": [
    "### Question 2"
   ]
  },
  {
   "cell_type": "code",
   "execution_count": 26,
   "metadata": {},
   "outputs": [],
   "source": [
    "#unigram\n",
    "wordCount = defaultdict(int)\n",
    "punctuation = set(string.punctuation)\n",
    "for d in dataset:\n",
    "    r = ''.join([c for c in d['review_text'].lower() if not c in punctuation])\n",
    "    for w in r.split():\n",
    "        wordCount[w] += 1"
   ]
  },
  {
   "cell_type": "code",
   "execution_count": 27,
   "outputs": [],
   "source": [
    "counts = [(wordCount[w], w) for w in wordCount]\n",
    "counts.sort()\n",
    "counts.reverse()"
   ],
   "metadata": {
    "collapsed": false
   }
  },
  {
   "cell_type": "code",
   "execution_count": 28,
   "outputs": [],
   "source": [
    "words = [x[1] for x in counts[:1000]]"
   ],
   "metadata": {
    "collapsed": false
   }
  },
  {
   "cell_type": "code",
   "execution_count": 29,
   "outputs": [],
   "source": [
    "#Document frequency (df)\n",
    "df = defaultdict(int)\n",
    "for d in train:\n",
    "    r = ''.join([c for c in d['review_text'].lower() if not c in punctuation])\n",
    "    for w in set(r.split()):\n",
    "        df[w] += 1"
   ],
   "metadata": {
    "collapsed": false
   }
  },
  {
   "cell_type": "code",
   "execution_count": 30,
   "outputs": [],
   "source": [
    "#Term frequency (tf)\n",
    "#first review\n",
    "rev = train[0]\n",
    "tf = defaultdict(int)\n",
    "r = ''.join([c for c in rev['review_text'].lower() if not c in punctuation])\n",
    "for w in r.split():\n",
    "    if w in unigrams:\n",
    "        tf[w] += 1"
   ],
   "metadata": {
    "collapsed": false
   }
  },
  {
   "cell_type": "code",
   "execution_count": 31,
   "outputs": [],
   "source": [
    "tfidf = dict(zip(words,[tf[w] * math.log2(len(dataset) / df[w]) for w in words]))\n",
    "tfidfQuery = [tf[w] * math.log2(len(dataset) / df[w]) for w in words]"
   ],
   "metadata": {
    "collapsed": false
   }
  },
  {
   "cell_type": "code",
   "execution_count": 32,
   "outputs": [],
   "source": [
    "#Find the highest tf-idf words in our example review\n",
    "maxTf = [(tf[w],w) for w in words]\n",
    "maxTf.sort(reverse=True)\n",
    "maxTfIdf = [(tfidf[w],w) for w in words]\n",
    "maxTfIdf.sort(reverse=True)"
   ],
   "metadata": {
    "collapsed": false
   }
  },
  {
   "cell_type": "code",
   "execution_count": 33,
   "outputs": [
    {
     "data": {
      "text/plain": "[(61.79796532638507, 'vampires'),\n (37.55561038286728, 'of'),\n (36.11488238681364, 'to'),\n (33.161016694700045, 'i'),\n (28.90488135831419, 'was'),\n (27.82381514648952, 'the'),\n (27.31058918311369, 'a'),\n (26.820400074142356, 'that'),\n (26.575424759098897, 'cover'),\n (26.154425303967734, 'it')]"
     },
     "execution_count": 33,
     "metadata": {},
     "output_type": "execute_result"
    }
   ],
   "source": [
    "maxTfIdf[:10]"
   ],
   "metadata": {
    "collapsed": false
   }
  },
  {
   "cell_type": "code",
   "execution_count": 34,
   "outputs": [],
   "source": [
    "#Cosine similarity\n",
    "def Cosine(x1,x2):\n",
    "    numer = 0\n",
    "    norm1 = 0\n",
    "    norm2 = 0\n",
    "    for a1,a2 in zip(x1,x2):\n",
    "        numer += a1*a2\n",
    "        norm1 += a1**2\n",
    "        norm2 += a2**2\n",
    "    if norm1*norm2:\n",
    "        return numer / math.sqrt(norm1*norm2)\n",
    "    return 0"
   ],
   "metadata": {
    "collapsed": false
   }
  },
  {
   "cell_type": "code",
   "execution_count": 35,
   "outputs": [],
   "source": [
    "#Find the other reviews in the corpus with the highest cosine similarity between tf-idf vectors\n",
    "similarities = []\n",
    "for rev2 in train:\n",
    "    tf = defaultdict(int)\n",
    "    r = ''.join([c for c in rev2['review_text'].lower() if not c in punctuation])\n",
    "    for w in r.split():\n",
    "        # Note = rather than +=\n",
    "        tf[w] = 1\n",
    "    tfidf2 = [tf[w] * math.log2(len(dataset) / df[w]) for w in words]\n",
    "    similarities.append((Cosine(tfidfQuery, tfidf2), rev2['review_text']))\n",
    "similarities.sort(reverse=True)"
   ],
   "metadata": {
    "collapsed": false
   }
  },
  {
   "cell_type": "code",
   "execution_count": 36,
   "outputs": [
    {
     "data": {
      "text/plain": "[(0.699974110076679,\n  'Sherlock Holmes and the Vampires of London \\n Release Date: April 2014 \\n Publisher: Darkhorse Comics \\n Story by: Sylvain Cordurie \\n Art by: Laci \\n Colors by: Axel Gonzabo \\n Cover by: Jean Sebastien Rossbach \\n ISDN: 9781616552664 \\n MSRP: $17.99 Hardcover \\n \"Sherlock Holmes died fighting Professor Moriarty in the Reichenbach Falls. \\n At least, that\\'s what the press claims. \\n However, Holmes is alive and well and taking advantage of his presumed death to travel the globe. \\n Unfortunately, Holmes\\'s plans are thwarted when a plague of vampirism haunts Britain. \\n This book collects Sherlock Holmes and the Vampires of London Volumes 1 and 2, originally created by French publisher Soleil.\" - Darkhorse Comics \\n When I received this copy of \"Sherlock Holmes and the Vampires of London\" I was Ecstatic! The cover art was awesome and it was about two of my favorite things, Sherlock Holmes and Vampires. I couldn\\'t wait to dive into this! \\n Unfortunately, that is where my excitement ended. The story takes place a month after Sherlock Holmes supposed death in his battle with Professor Moriarty. Sherlock\\'s plan to stay hidden and out of site are ruined when on a trip with his brother Mycroft, they stumble on the presence of vampires. That is about as much of Sherlock\\'s character that comes through the book. I can\\'t even tell you the story really because nothing and I mean nothing stuck with me after reading it. I never, ever got the sense of Sherlock Holmes anywhere in this graphic novel, nor any real sense of mystery or crime. It was just Sherlock somehow battling vampires that should have had absolutely no trouble snuffing him out in a fight, but somehow always surviving and holding his own against supernatural, super powerful, blazingly fast creatures. \\n The cover art is awesome and it truly made me excited to read this but everything else feel completely flat for me. I tried telling myself that \"it\\'s a graphic novel, it would be hard to translate mystery, details, emotion\" but then I remembered reading DC Comic\\'s \"Identity Crisis\" and realized that was a load of crap. I know it\\'s unfair to compare the two as \"Identity Crisis\" had popular mystery author Brad Meltzer writing it right? Yeah....no. The standard was set that day and there is more than enough talent out there to create a great story in a graphic novel. \\n That being said, it wasn\\'t a horrible story, it just didn\\'t grip me for feel anything like Sherlock Holmes to me. It was easy enough to follow but I felt no sense of tension, stakes or compassion for any of the characters. \\n As far as the vampires go, it\\'s hard to know what to expect anymore as there are so many different versions these days. This was the more classic version which I personally prefer, but again I didn\\'t find anything that portrayed their dominance, calm confidence or sexuality. There was definitely a presence of their physical prowess but somehow that was lost on me as easily as Sherlock was able to defend himself. I know it, wouldn\\'t do to kill of the main character, but this would have a been a great opportunity to build around the experience and beguiling nature of a vampire that had lived so many years of experience. Another chance to showcase Sherlock\\'s intellect in a battle of wits over strength in something more suitable for this sort of story as apposed to trying to make it feel like an action movie. \\n Maybe I expected to much and hoped to have at least a gripping premise or some sort of interesting plot or mystery but I didn\\'t find it here. This may be a must have for serious Sherlock Holmes fans that have to collect everything about him, but if you are looking for a great story inside a graphic novel, I would have to say pass on this one. \\n That artwork is good, cover is great, story is lacking so I am giving it 2.5 out of 5 stars.'),\n (0.3369350395553657,\n  'Side stories in the world of american vampires. The visuals are good, as always, and the story was interesting. A nice read.'),\n (0.3319334003103044,\n  'Not much to it, but fun ... I like the art, and everything about it reminds me of a Tennapal book.'),\n (0.33021752003057964,\n  \"I received a copy of this book as part of a Goodreads giveaway. \\n Somehow I didn't quite realize that this graphic novel was focused on polyamory -- which I know is not for me, but I have a lot of respect for people who do manage to successfully negotiate polyamorous relationships. \\n There's a lot of wisdom in this little book, even if you're not polyamorous or even interested in the subject. A nice reminder not to take the people we love for granted.\"),\n (0.31927285798773314, 'it was a great ful of anticipation'),\n (0.3177771242841729,\n  'This is a graphic novel and is a prequel to his Odd Thomas series. In this one, Odd and Stormy are asked to investigate a house that was recently purchased by a movie producer. She believes the house is haunted. \\n This was a quick read but I prefer the prose novels over the graphic novels. I didn\\'t think the artwork was the best. I have read different types of graphic novels and this one\\'s artwork seemed like it was on the inexpensive side. I think what was a downer for me was when the illustrator tried to convey sounds. It didn\\'t feel natural. As of the story, it was nothing special. It never had the sense of Odd\\'s humor that I have come to love from the novels. And the ending was \"deus ex machina\" and left me unsatisfied. \\n I would only recommend this to the most die hard fans of Dean Koontz. Even if you come to love the character Odd Thomas, this graphic novel can be skipped as the reader will not be missing much.'),\n (0.317245858989301,\n  \"Fight for Avalon (13-15). Cornell's final three issues are a fair conclusion to his run. He's set up the plotlines, and this is mainly about bringing them to a conclusion. I have no idea why this wasn't in the previous volume, as it's just three issues long and it's the end of that story [7/10]. \\n Vampires! (16-19). Venditti's Demon Knights is unfortunately another step down. I felt like the characterization wasn't as strong and wasn't thrilled by his decision to remove two of the characters with a 20-year time jump. Venditti's story was somewhat more epic and had a grittier feel to it, though, and so I have some hope for improvement as he comes to know the characters [6/10]. \\n The Grail (20-23). In the comic's last arc, Venditti starts to make the comic his own, advancing some new ideas, rather than just building on Cornell's concepts. The result never catches the same spark as Cornell's writing, but this is still a fine storyline, and an OK ending for the comic. The interactions between Blood and Savage are particularly great [6+/10].\"),\n (0.31716879281781185,\n  \"I somehow read this without realizing that it was the second volume in a trilogy, so now I am going to have to go back and read the first. Even without the background of the first volume, the story was easy enough to follow. Faith Erin Hicks rarely disappoints me with her art and stories, and this was no exception. Sort of a political thriller, but also a story about friendship and the importance of striving to do the right thing (even when it's dangerous or difficult). Really excited to read the other volumes in this trilogy and to see where Hicks takes her talents in the future.\"),\n (0.3135342708485474,\n  \"Before reading, I'm not sure whether this kind of story will be my type or not. \\n I seldom read the book about western, so it's really fresh for me to have a taste to the story. \\n To my surprise, I can't stop turning pages on it. And I really like the way that how it makes those characters be so impressive, especially the main character Wynonna. I LOVE HER SOOOOO MUCH!!! \\n She slaughters the grisly zombies and vampires with her bravery and wisdom. While they fight, they will do many cool actions that make me also want to be a hunter. Haha \\n Moreover, the story is not that serious as I predict at first. There are lots of sense of humor in it, making me chuckle all the time. \\n I really have to say it's a very impressive work! \\n Though I think that the TV series adaption of Wynonna Earp is more astonishing than the comic, I still enjoy the original one! And I hope I can get other Wynonna's comic in the future. \\n (Honestly, I think the way that the vampires die is so wired and ridiculous. I can't stop frowning as watching the episodes.)\"),\n (0.31335105103214533,\n  \"What a mess this turned out to be. What a great cover (and the other covers from the 4 issue run, they are shown in the back of the book). Too bad the writing was so bad. The premise and the setting and the potential are great. An immortal ex-soldier is kind of a detective for hire in the supernatural world of L.A. (unbeknownst to the 'normals'). He's hired by this super rich super racist that wants to bring about hell on earth (or at least California, though arguably it's already there [ba dum tsh]) by sacrificing his daughter, who is somehow the antichrist (her name is Anita Christ....) and it's partially concocted by this old vampire. \\n For pointless reasons, our hero is involved in a dispute about rising rent for his friend named Freddy Chtonic, who has to do with Lovecraftian Old Ones and he has tentacles for his mouth, and also speaks frequently in alliteration (which ends up more annoying than anything. Also the guy that can't pronounce Rs is irritating to read). There are some other vampires, and they are also connected to the bigger vampire. The writing is just all so convoluted and dry. I get mostly what's going on, but none of it really makes any sense. The ending in particular was questionable. Anita turns into this werewolf beast after the hero, named Antoine Wolfe (who apparently has this huge reputation), gets all shot up (but remember he can't die). Then they drive away together. The end. what? I think volume 2 said it takes place 20 years later or something. I'm still deciding whether I should bother reading it. \\n The artwork is passable. It's simple linework with broad flat colors. It works, but it's anything but exciting. Which fits the writing I guess. Unrealized potential in both aspects. Also, there were tons of inconsistency in continuity. One moment a girl is in the back of a police car, nothing in her hand. Then the officer mentions something about her never letting go of this necklace. Next thing you know, she's holding it. It makes no sense to not be consistent there. Also, some shadows under someones nose. Now they're there, now they're not. And other things.\")]"
     },
     "execution_count": 36,
     "metadata": {},
     "output_type": "execute_result"
    }
   ],
   "source": [
    "similarities[:10]"
   ],
   "metadata": {
    "collapsed": false
   }
  },
  {
   "cell_type": "code",
   "execution_count": 37,
   "outputs": [],
   "source": [
    "sim = similarities[0][0]\n",
    "review = similarities[0][1]"
   ],
   "metadata": {
    "collapsed": false
   }
  },
  {
   "cell_type": "code",
   "execution_count": 38,
   "metadata": {},
   "outputs": [],
   "source": [
    "answers['Q2'] = [sim, review]"
   ]
  },
  {
   "cell_type": "code",
   "execution_count": 39,
   "metadata": {},
   "outputs": [],
   "source": [
    "assert len(answers['Q2']) == 2\n",
    "assertFloat(answers['Q2'][0])\n",
    "assert type(answers['Q2'][1]) == str"
   ]
  },
  {
   "cell_type": "code",
   "execution_count": 40,
   "metadata": {},
   "outputs": [],
   "source": [
    "### Question 3"
   ]
  },
  {
   "cell_type": "code",
   "execution_count": 41,
   "metadata": {},
   "outputs": [],
   "source": [
    "reviewsPerUser = defaultdict(list)"
   ]
  },
  {
   "cell_type": "code",
   "execution_count": 42,
   "metadata": {},
   "outputs": [],
   "source": [
    "for d in dataset:\n",
    "    reviewsPerUser[d['user_id']].append((dateutil.parser.parse(d['date_added']), d['book_id']))"
   ]
  },
  {
   "cell_type": "code",
   "execution_count": 43,
   "metadata": {},
   "outputs": [],
   "source": [
    "reviewLists = []\n",
    "for u in reviewsPerUser:\n",
    "    rl = list(reviewsPerUser[u])\n",
    "    rl.sort()\n",
    "    reviewLists.append([x[1] for x in rl])"
   ]
  },
  {
   "cell_type": "code",
   "execution_count": 43,
   "outputs": [],
   "source": [
    "model10 = Word2Vec(reviewLists,\n",
    "                 min_count=1, # Words/items with fewer instances are discarded\n",
    "                 vector_size=10, # Model dimensionality\n",
    "                 window=3, # Window size\n",
    "                 sg=1) # Skip-gram model"
   ],
   "metadata": {
    "collapsed": false
   }
  },
  {
   "cell_type": "code",
   "execution_count": 44,
   "outputs": [
    {
     "data": {
      "text/plain": "'18471619'"
     },
     "execution_count": 44,
     "metadata": {},
     "output_type": "execute_result"
    }
   ],
   "source": [
    "reviewLists[0][0]"
   ],
   "metadata": {
    "collapsed": false
   }
  },
  {
   "cell_type": "code",
   "execution_count": 45,
   "outputs": [],
   "source": [
    "similarities = model10.wv.similar_by_word(reviewLists[0][0])[:5]"
   ],
   "metadata": {
    "collapsed": false
   }
  },
  {
   "cell_type": "code",
   "execution_count": 46,
   "metadata": {},
   "outputs": [],
   "source": [
    "answers['Q3'] = similarities # probably want model10.wv.similar_by_word(...)[:5]"
   ]
  },
  {
   "cell_type": "code",
   "execution_count": 47,
   "metadata": {},
   "outputs": [],
   "source": [
    "assert len(answers['Q3']) == 5\n",
    "assert [type(x[0]) for x in answers['Q3']] == [str]*5\n",
    "assertFloatList([x[1] for x in answers['Q3']], 5)"
   ]
  },
  {
   "cell_type": "code",
   "execution_count": 48,
   "metadata": {},
   "outputs": [],
   "source": [
    "### Question 4"
   ]
  },
  {
   "cell_type": "code",
   "execution_count": 65,
   "outputs": [],
   "source": [
    "def Cosine(x1,x2):\n",
    "    numer = 0\n",
    "    norm1 = 0\n",
    "    norm2 = 0\n",
    "    for a1,a2 in zip(x1,x2):\n",
    "        numer += a1*a2\n",
    "        norm1 += a1**2\n",
    "        norm2 += a2**2\n",
    "    if norm1*norm2 != 0:\n",
    "        return numer / math.sqrt(norm1*norm2)\n",
    "    return 0"
   ],
   "metadata": {
    "collapsed": false
   }
  },
  {
   "cell_type": "code",
   "execution_count": 110,
   "outputs": [],
   "source": [
    "RatingPerItem = defaultdict(list)\n",
    "RatingPerUser = defaultdict(list)\n",
    "RatingPerPair = defaultdict()\n",
    "UserPerItem = defaultdict(set)\n",
    "ItemPerUser = defaultdict(set)\n",
    "items = set()\n",
    "users = set()\n",
    "for d in dataset:\n",
    "    u,b,r = d['user_id'],d['book_id'],d['rating']\n",
    "    r = int(r)\n",
    "    RatingPerUser[u].append(r)\n",
    "    RatingPerItem[b].append(r)\n",
    "    RatingPerPair[(u,b)]=r\n",
    "    UserPerItem[b].add(u)\n",
    "    ItemPerUser[u].add(b)\n",
    "    items.add(b)\n",
    "    users.add(u)"
   ],
   "metadata": {
    "collapsed": false
   }
  },
  {
   "cell_type": "code",
   "execution_count": 111,
   "outputs": [
    {
     "name": "stdout",
     "output_type": "stream",
     "text": [
      "{'22823536', '8230486', '8849965', '16108357', '29633067', '873540', '420315', '31410680', '22357', '32580518', '28109970', '25489242', '27396492', '18734029', '599046', '7595078', '9142875', '23250222', '13569386', '7202496', '92377', '1192744', '33836740', '25111227', '191213', '8160690', '15844954', '34312937', '1303186', '1386313', '34601031', '20613754', '23278618', '876383', '15784159', '17689328', '19630774', '24684906', '24042598', '28501505', '8301077', '435879', '555478', '13194', '7976759', '50602', '11029822', '3255665', '24939795', '395021', '435650', '271365', '17347674', '25066786', '7345903', '400678', '1281681', '2072057', '20758441', '31305482', '34072', '734309', '22259483', '154531', '333731', '26987292', '643534', '32855795', '15894542', '981876', '9555120', '724114', '10536697', '6430460', '754007', '154374', '29094002', '21285064', '13276507', '6314730', '17251111', '30842154', '15744312', '6740287', '12483428', '9593396', '29775342', '17671941', '32704048', '17137635', '22773051', '1244284', '3130373', '27760676', '11327621', '7433668', '4720660', '1777991', '17131957', '27181415', '106042', '569721', '17879619', '558884', '13547187', '13640537', '31409097', '33362145', '418107', '25785995', '5441236', '17703439', '31115447', '571444', '5150897', '27415714', '100714', '23012549', '17227910', '570045', '2305555', '2353052', '13532252', '13537845', '17658126', '30209', '10256016', '22318515', '5967064', '23911614', '33898752', '1258337', '25784105', '2415460', '17137607', '21287743', '9797600', '6626295', '15813640', '31855855', '484146', '33931235', '2021842', '31343032', '2880', '10600390', '23546812', '23754', '18848890', '152154', '2116771', '7293070', '11066468', '7938617', '22181024', '13254257', '32047309', '851411', '30328171', '30740285', '3283608', '36312938', '379199', '1096125', '8693600', '7244839', '13339925', '18188160', '17131902', '6203215', '1915661', '18359938', '15789158', '29436571', '23000709', '29467797', '33001532', '17301772', '9918278', '12696989', '429264', '6285750', '25066773', '5463883', '8150885', '6081223', '13227874', '1259942', '304975', '32766807', '25949203', '13446818', '34114691', '6526203', '7961296', '2012550', '25664515', '13479661', '22850214', '11683435', '396142', '31675862', '1140696', '5657775', '24983948', '25239996', '7668272', '382998', '22358169', '545015', '29780171', '16164271', '26135825', '20299736', '15821388', '19065010', '14540071', '1791288', '20691157', '29775602', '2108213', '71292', '79539', '22849275', '351243', '2506073', '13155275', '167010', '13175917', '18213224', '21569391', '154576', '11926860', '15761104', '11288185', '425329', '282356', '13183510', '2834890', '30621532', '7112902', '1659539', '30231947', '22246897', '13588689', '17905976', '6338430', '6748076', '1288885', '1232492', '10810608', '16054793', '9728108', '195932', '20734073', '11030741', '6315584', '17672761', '181182', '18478259', '1188314', '36127210', '17131913', '9864921', '30335382', '22926794', '8446931', '34804604', '7915861', '17264821', '27859950', '6522341', '967050', '9484097', '33837329', '141488', '18332558', '9923757', '35456428', '3246200', '20761874', '105973', '31423189', '12220304', '151872', '1969181', '2324953', '27947984', '2000458', '331201', '535954', '29430600', '28818791', '6691917', '6394175', '160541', '15897235', '11677080', '7986827', '7748829', '23685', '22798021', '32940366', '17910619', '3426089', '1819837', '25700914', '1335621', '13055493', '34896911', '333759', '28111692', '21329', '6060267', '6662883', '379059', '30142576', '28020947', '158457', '9195723', '15788807', '164017', '924865', '31180643', '26125072', '13573583', '33624672', '6797476', '10117397', '1346309', '25033203', '17277800', '4678227', '102920', '5283058', '8077165', '373155', '26109143', '630622', '25652706', '6533996', '3941024', '32857409', '18373334', '27799750', '10117387', '22456341', '107009', '1390442', '1997886', '1606316', '12176944', '30334124', '18430349', '16120706', '25066804', '154534', '30896668', '359327', '6693587', '79840', '7885945', '33828210', '6914770', '29507370', '22237295', '11257298', '23017963', '195806', '17456953', '1819742', '2950294', '10117393', '287260', '41179', '27040145', '1022588', '138397', '6294884', '34381388', '4738532', '17864644', '13235786', '34506912', '709811', '6697018', '7806854', '25483861', '8325000', '24298667', '828985', '7286699', '12369278', '18948768', '23250227', '1736355', '34435050', '17620969', '6389355', '26152411', '1810502', '26025654', '5321848', '53888', '1296838', '6294847', '1893249', '160875', '31945224', '299081', '12032873', '2116130', '422910', '2324954', '11489682', '7222210', '7966441', '26198530', '7841628', '514788', '25543572', '13538675', '27278986', '332990', '1383672', '466150', '26673', '20898006', '10198317', '30896651', '234352', '17737067', '3444617', '18517574', '30205', '6846560', '727906', '847562', '22283948', '2887157', '23308491', '91468', '8678705', '28389345', '35080112', '23515539', '22388', '23017871', '13513205', '24612216', '13079314', '8110748', '21433273', '25810224', '31339546', '16154582', '24031825', '4768866', '20724668', '3770138', '38333', '16231346', '9142239', '7029747', '515861', '18661903', '963345', '10644600', '16094096', '11238185', '18869791', '400631', '31824664', '6681610', '12767304', '52597', '17571467', '2086580', '8862456', '844564', '10915080', '13174895', '11029899', '22856232', '8411880', '17857666', '5826448', '17315524', '2396554', '31663880', '23751233', '2970418', '32606767', '2116738', '13228403', '31119416', '17929619', '960972', '328345', '22358666', '23259349', '148420', '28121065', '23308456', '5746955', '15783182', '7734683', '1116482', '7973143', '2266022', '12565070', '18885642', '9249565', '1542575', '17671972', '79837', '5173602', '20743809', '10975195', '552364', '9375959', '573208', '32194510', '13528777', '16255272', '1778007', '30797604', '22732225', '22488052', '7567', '23281096', '21978231', '25810137', '30027115', '10367579', '23043731', '24568872', '17368270', '13029524', '1812701', '739860', '23676960', '33108714', '13511633', '24778834', '26400739', '16088727', '11349230', '7570713', '110164', '18502665', '28319821', '6080797', '28204537', '25241952', '36142555', '7175950', '8868344', '20176529', '94515', '7113368', '31222865', '18230514', '35820565', '22554204', '2578347', '21532285', '296903', '9705871', '20898018', '25245223', '12017979', '7069509', '139680', '25165245', '16794', '17785978', '17131950', '269369', '8146965', '7269284', '119501', '25546167', '6846562', '27276077', '880405', '27833695', '2323068', '80252', '1305333', '25446804', '25066791', '2451912', '32856393', '17899544', '22083139', '21282260', '7885911', '1297291', '28862528', '6488483', '7004022', '102904', '23165675', '15776754', '3142864', '12265111', '160848', '12261568', '7214515', '22746698', '22609131', '6907672', '8287494', '11597011', '13226173', '15698722', '15854426', '17307208', '20176575', '6531173', '313162', '899138', '15803931', '2491366', '18166872', '1628665', '11708720', '22559', '10765633', '28668778', '1237398', '10854410', '20447799', '2568939', '13183554', '2021843', '2956516', '917694', '652504', '28387573', '29011', '22130447', '2789640', '17571351', '32279474', '34819798', '16163013', '29997716', '7296219', '865028', '18359967', '30103887', '34601375', '3390159', '17938417', '26192732', '17655544', '170466', '25653883', '7852333', '25861677', '21443191', '29633017', '5080445', '377623', '22058361', '24817753', '6489045', '7147087', '9284237', '19477241', '716627', '8959555', '103111', '17315231', '6193557', '25620779', '27426188', '67967', '20405464', '18128653', '21955445', '18404438', '778150', '28204536', '10311942', '25330056', '25486101', '4091770', '2167585', '13021244', '19730812', '17571154', '17793931', '2480280', '25066761', '9725232', '35823399', '15731418', '4768864', '6441286', '23509228', '18465531', '71298', '26839666', '18339935', '35095647', '3710603', '18216543', '214867', '79839', '33380654', '82861', '30724372', '29467805', '1178129', '4137400', '6681037', '9884764', '1940376', '23127752', '8780477', '91469', '557451', '16126395', '30007120', '17671930', '17137605', '8393530', '31616114', '6764204', '1819862', '7326778', '951060', '6547953', '193813', '17900333', '548418', '325753', '20405462', '23630103', '6832685', '9106900', '13571760', '29507115', '15669', '8663883', '21534240', '305770', '476911', '9794812', '270589', '18900931', '17194603', '160222', '6666487', '21556022', '6775318', '23529', '46774', '197935', '31549546', '23593885', '3233526', '6215832', '105963', '28462333', '15757284', '25861113', '6642716', '9293295', '13532150', '3237364', '31383618', '634790', '6456431', '441674', '32002', '16002159', '400328', '10361139', '29885594', '33776323', '10147556', '76579', '13618037', '160706', '28251069', '16152189', '18124640', '30042718', '6846504', '17785935', '500463', '1079971', '23907383', '6515833', '4952677', '8968323', '1818369', '17794133', '70489', '27406792', '14459701', '23751194', '25968404', '1819632', '21988570', '30272304', '34198124', '24189', '271267', '9079764', '7092306', '25746675', '30144481', '7721515', '11393079', '8299354', '7972098', '869979', '6420318', '2308650', '9536856', '17315237', '28333412', '17262586', '7183266', '7991404', '22378623', '16146215', '821810', '21432374', '20702056', '17137654', '30168368', '13536298', '195298', '6652328', '1843804', '1284047', '18893820', '23702', '21532179', '179172', '22417', '24464123', '28818214', '22864590', '25955070', '8500922', '160839', '595960', '56267', '751835', '43747', '416082', '6660561', '17976368', '25784126', '25626438', '34934766', '2755885', '23275646', '8044557', '2557589', '12578474', '3185048', '13573580', '21322', '13146799', '18902850', '759773', '10499106', '7695240', '1561948', '16092', '30345802', '6578490', '13614', '19018866', '7047570', '9419124', '2233549', '11720044', '12306359', '8446644', '25982690', '17671997', '3917912', '9924456', '23732103', '31224381', '3175654', '17854035', '10364162', '18471619', '28665325', '13094398', '17791456', '17372081', '14885879', '13569', '405640', '25903297', '25103', '34690732', '2206174', '18747937', '13227268', '13069569', '17794082', '18738869', '707086', '11240505', '106997', '18471616', '22929002', '30896813', '264451', '30521143', '3839392', '437765', '18306345', '27867628', '13227276', '7235155', '1187803', '8152607', '10520353', '106586', '11938931', '18197199', '23259742', '15789299', '246179', '80748', '3048590', '320813', '25786957', '13231279', '18128654', '107034', '282271', '133034', '17251097', '6856933', '137894', '1896346', '485091', '9533165', '20563704', '6867998', '25332017', '24904330', '1364054', '23528363', '141613', '485941', '437093', '24426209', '4809485', '25233409', '550801', '17785907', '22259476', '36061008', '9780831', '29616558', '9803043', '1747345', '25470797', '43744', '9013623', '5401262', '27403315', '22416', '8446960', '555369', '11389540', '1121157', '26164745', '10989841', '15698712', '13115079', '32471984', '379892', '24845538', '23625467', '1641695', '6749785', '16174015', '15735904', '7937420', '29775584', '9335069', '3316474', '18562972', '166580', '30621636', '18909022', '62316', '23605285', '13410769', '7390881', '34871', '8923266', '28691896', '16005565', '1402686', '16064350', '8275167', '470708', '18138837', '24287366', '29603083', '4180102', '28116830', '13575595', '841237', '21532236', '27776950', '16162802', '287262', '289289', '17251110', '552412', '5582295', '1783689', '23012581', '5954329', '1722689', '1435390', '25656784', '15996746', '8931902', '32273164', '58096', '2142516', '18363260', '27239017', '17277786', '9630403', '6902644', '11479343', '2880140', '30058117', '18364789', '880402', '21412046', '224571', '1007355', '18469557', '25074137', '23577199', '34349299', '7893995', '25273209', '21461096', '1246931', '27180091', '95406', '282358', '13621', '94518', '13262276', '2324902', '11266113', '397641', '29286982', '6403045', '23209984', '6388919', '1087212', '28503853', '104596', '12079365', '6070804', '12159895', '11806950', '23128381', '6928429', '26001926', '29775599', '27163018', '621864', '3285161', '516787', '379055', '24464117', '975461', '2282928', '32994380', '35679972', '7200290', '31850463', '17251115', '271244', '15854106', '17730945', '30891894', '11369799', '7131867', '154809', '34871465', '31557018', '28159929', '259831', '979193', '13429614', '13495085', '7084135', '30407983', '12510887', '25076719', '2249189', '8684523', '28110019', '598895', '26881042', '2179167', '30365245', '38381', '7043630', '25955143', '7750092', '2059529', '25066751', '2121340', '738723', '25332016', '6523694', '18295923', '133033', '26259221', '18359955', '20749607', '485952', '776175', '19494928', '18275594', '1927111', '8643306', '23012563', '6963654', '17857529', '12342758', '609361', '12232282', '31609074', '22294630', '8319262', '30419647', '13616', '19070409', '23090542', '8581764', '3399036', '13138478', '2184895', '546807', '4684992', '33536235', '31179750', '13435621', '35173558', '1192070', '28109912', '9532901', '1169741', '15797760', '4927961', '18444223', '11025097', '7304324', '36679', '24490415', '160841', '23333021', '28389357', '1598309', '3217221', '6057815', '17370445', '71300', '29467583', '1769740', '8543895', '1783071', '7334967', '7739304', '6177582', '20295150', '880397', '30027126', '18764190', '5497136', '18564360', '25341277', '10777565', '107018', '1119718', '22442319', '22292489', '25024464', '28262830', '6576968', '102462', '34849267', '1731831', '31358706', '6118609', '7959911', '6217793', '244813', '17666248', '3328828', '17899551', '31804330', '445420', '838933', '26790859', '73455', '398916', '72112', '8527056', '32473026', '21566692', '6338432', '27277565', '6500640', '1544143', '1593257', '16077120', '7905401', '1819743', '855733', '17887364', '7633496', '12854150', '9997666', '13183551', '33478', '758650', '76722', '25677586', '28009879', '15817454', '166579', '13170019', '24886016', '18359944', '1395132', '23751153', '1487823', '359324', '13617446', '32280028', '7893970', '23475505', '9011228', '1293012', '14885901', '18430214', '9803042', '22432426', '1209878', '1200394', '824328', '23018000', '11499188', '7326785', '26825303', '22233344', '6172964', '15984342', '23017989', '5440194', '282346', '33657999', '15779363', '8013757', '1212906', '33833966', '15789474', '18363261', '24550842', '2998760', '1111643', '26484929', '17573665', '8609838', '93370', '33632812', '2601016', '10186345', '17412274', '9041662', '5675194', '2239435', '135754', '19862996', '7194448', '22237294', '26215227', '26148503', '22446523', '16163026', '1977777', '12187375', '3478792', '2116748', '26224465', '26030945', '7125371', '28696068', '25904029', '22733426', '2396827', '30279200', '566008', '28018260', '25066770', '1022985', '6474544', '21412045', '13536522', '754126', '43726', '357403', '6373979', '107029', '8475827', '43723', '1335586', '10937707', '31556047', '25986936', '43555', '6522014', '18000221', '569720', '17412749', '25074239', '16292157', '1119046', '23290951', '1304644', '8513471', '20710540', '1912030', '7744091', '13573080', '26779816', '8709880', '6406017', '918861', '27830408', '8658005', '7382083', '32856147', '8865608', '32703992', '9212037', '8857848', '7814774', '30333750', '6055161', '32867454', '12160809', '122443', '23159453', '22809350', '20431035', '30621662', '7964386', '35389606', '22729006', '8569435', '402857', '33161254', '8679773', '30827011', '3189884', '163831', '1246018', '30256966', '25111808', '7548113', '72111', '712113', '32895631', '25387768', '18187531', '21813487', '16086', '19496175', '6345893', '293475', '10397752', '17834868', '1163899', '8730915', '2473053', '9102974', '10226366', '29507123', '13623', '13584745', '23012571', '14498', '18246072', '28449846', '11491844', '13139295', '8721000', '11344160', '8171206', '1261302', '1126525', '17934391', '23657454', '1252643', '6911529', '2147558', '16052294', '13370972', '35271965', '15850521', '13571762', '1261267', '25426046', '30286954', '16117892', '13092860', '26218652', '15798661', '25955202', '305766', '25319038', '22798032', '1025685', '193850', '32329645', '28963358', '16165585', '2506071', '13348614', '6057544', '28389355', '7852911', '33153548', '24971700', '10746920', '59978', '23017946', '22600820', '9884177', '23278662', '1154253', '131267', '10866058', '22718721', '6105312', '8536652', '24819910', '25180913', '10561495', '156529', '2567987', '18307569', '9825620', '5090994', '2489990', '37264', '23492248', '28862807', '6718729', '25955205', '27774547', '524498', '20694299', '13183499', '25810150', '3032192', '6522214', '20738195', '32052250', '8712359', '16990', '1054961', '116508', '296884', '1839624', '6393630', '23597730', '545016', '23886139', '318658', '9849379', '6916562', '2249196', '370308', '7269165', '32926680', '15719812', '18759312', '6236925', '30341613', '15854408', '19087989', '1000059', '5161225', '844320', '23012574', '11100681', '43727', '22932', '262844', '59960', '22716175', '29911188', '15788389', '6860432', '2382804', '12174318', '21813301', '24955233', '9696113', '8229399', '1664292', '294884', '14477355', '10231271', '6758016', '30025791', '1411838', '2491085', '25242005', '20454375', '18042446', '13183512', '11141699', '6113633', '551206', '6068784', '5071310', '6693775', '7054980', '6493836', '6289450', '13582987', '28814935', '11222364', '158989', '599038', '15792851', '23166351', '13642635', '35380238', '13006307', '43725', '32496114', '1114600', '14431283', '19604533', '13536828', '25814450', '17317052', '555372', '357557', '28222746', '10696795', '22798025', '6797471', '14539987', '5418388', '13228182', '13154441', '13414989', '435899', '948240', '9894259', '10191063', '26240658', '29507387', '33271012', '13537853', '29277088', '30724543', '24739417', '6493842', '25814006', '33632611', '17737072', '80250', '33567258', '23379808', '1911719', '32295936', '1025039', '23259285', '21411877', '21535705', '1837161', '25032624', '27233058', '533011', '18857905', '15745903', '15800496', '15797754', '11192821', '17934659', '3672667', '11054430', '2509963', '33835705', '356346', '18811348', '26071563', '16242149', '11094740', '20702405', '2274096', '1604909', '507690', '29800', '2121330', '27246000', '30810324', '6658773', '602517', '1218959', '1624669', '21839826', '22358943', '33123676', '16255292', '2473642', '2650927', '22675397', '26071037', '25987760', '102958', '165966', '18594655', '27415383', '43739', '8845506', '24013985', '18734038', '20881139', '479712', '11784455', '11869961', '31339241', '16002089', '2786590', '16137185', '11841474', '911879', '34605229', '10450750', '24983889', '3101764', '25225801', '34664208', '7593816', '6409170', '20184069', '13536521', '10211375', '2506078', '836559', '22749725', '17137599', '2891819', '31359033', '836607', '105703', '1697725', '18689104', '16209469', '64006', '16002128', '1718009', '35081362', '1019924', '23131087', '331700', '23012586', '299129', '1992778', '10355499', '34355196', '25689054', '25663519', '26631602', '3765336', '28149868', '426608', '3437311', '7326831', '25344687', '8450597', '191960', '30175737', '22064521', '2726281', '23635845', '24796699', '6839093', '224574', '11003175', '25066822', '8285713', '19040552', '7841675', '4512309', '555366', '12964394', '237558', '408466', '26127549', '68836', '5321613', '8903425', '13084331', '1037815', '1322535', '1163898', '1291604', '100386', '324882', '18594683', '9265676', '18128207', '32597956', '17671978', '28630177', '27067732', '956328', '34227618', '35158825', '11888231', '102460', '10451814', '9821523', '35251493', '13256067', '35703902', '34117437', '25080303', '27215593', '5983742', '504374', '25744691', '4947327', '17137614', '7102975', '28868525', '13262886', '1324764', '1610505', '3340384', '12221098', '26067592', '19709261', '15779359', '3094394', '516784', '17824754', '1677319', '762311', '13356825', '9970966', '6892138', '7952087', '23569895', '34219756', '17211042', '28333411', '5990138', '13228244', '15700795', '35158002', '26030853', '16005771', '727901', '6846164', '609363', '93371', '15747210', '22718708', '87420', '2189426', '775083', '25063166', '13033293', '441242', '15650', '14356823', '11197606', '3016317', '1112838', '26870025', '19043683', '11951697', '1261277', '287261', '20176531', '6856700', '464437', '883781', '11172997', '15773611', '29507120', '18363232', '11042098', '7965835', '7065106', '25137473', '36325824', '18730815', '17192113', '19040550', '6289120', '18652488', '24520334', '25707118', '29633670', '298472', '22807620', '1079962', '8248334', '836610', '873', '1271712', '1019917', '35502227', '1451620', '13572829', '25241733', '9811610', '25970223', '4361492', '18187267', '6726717', '97051', '6238080', '16081601', '3041314', '18478261', '9919140', '29449229', '734820', '11880612', '9919139', '12363721', '22422', '25893837', '2021857', '25698374', '22487952', '2270848', '25205337', '21412040', '13228440', '4437831', '1858667', '15817083', '8092387', '543961', '6964028', '23012596', '1506855', '9422248', '23492424', '77729', '543979', '25167356', '18490664', '12172226', '3368983', '13277252', '462288', '107022', '25319017', '21489192', '302701', '13574', '17925150', '975454', '32841045', '28818635', '2183273', '17671915', '353702', '27181414', '106126', '11751972', '187973', '2705951', '17591963', '5147134', '14759206', '23331520', '11277525', '991197', '10837494', '7471903', '1087204', '6801652', '6882599', '9615347', '25116062', '26025656', '1246007', '23310794', '25318902', '34536946', '6130353', '21324', '580541', '107117', '29436002', '13148375', '542064', '497250', '93374', '15798387', '7966504', '31934846', '4036916', '5320748', '11427699', '191220', '18335282', '18623232', '28016727', '17402909', '25319044', '32761530', '26486589', '25575220', '676948', '6405304', '6225668', '23551518', '12909189', '17671923', '2078798', '13276506', '21640', '2880235', '26856659', '12897781', '10977745', '8192296', '18745872', '24796279', '13083474', '6362971', '154530', '29233599', '28387459', '228356', '10916648', '23546878', '9780810', '6186053', '15800497', '26483911', '1126101', '10630620', '17182366', '13228445', '1357170', '6304795', '1603948', '6283781', '387300', '35873', '194479', '6340264', '27390639', '121173', '608883', '13573388', '423144', '13014501', '191217', '7097993', '1172306', '8542105', '15739430', '23294727', '23366723', '6743968', '3314013', '13409893', '13526219', '23991333', '12976792', '25111323', '6408536', '29584611', '17906245', '6479007', '4555477', '12967475', '23870525', '1626389', '3858474', '13556942', '84639', '35577588', '24926955', '14744381', '33566369', '23012598', '516782', '26878930', '30621656', '121793', '3905051', '24560714', '429918', '4064032', '7946252', '707669', '23625163', '25814543', '22504701', '2168737', '91467', '23829815', '15762914', '13275521', '11029842', '28473212', '24501670', '105865', '23356228', '27876500', '25319043', '7911840', '19255946', '7198004', '6335174', '18310944', '10393370', '1500315', '25652567', '962111', '22464826', '72115', '64251', '7253433', '17261249', '18359989', '590415', '17277808', '107026', '31944977', '18691025', '19351043', '13213231', '22180679', '204042', '6846553', '359193', '21922376', '30621671', '23241668', '18295929', '6277410', '1501212', '12813436', '9375484', '29765403', '678555', '2272352', '22040598', '17974620', '5096899', '25066790', '29507371', '17137662', '262847', '2839037', '16255051', '10254690', '31415713', '922952', '370247', '243274', '6826439', '8441010', '1394491', '25241757', '31311781', '79364', '25066769', '856715', '1366028', '2637138', '2864204', '1610250', '23604448', '6878670', '1037817', '1091692', '2159943', '107082', '195276', '13526176', '23017995', '6368766', '4548161', '22379', '23331568', '9722408', '17900459', '6782368', '395081', '15798794', '25363446', '282267', '21984786', '11596985', '25500257', '52362', '33520647', '20898014', '6639768', '8126017', '6303499', '89665', '13417739', '23633978', '2546282', '2083597', '7713662', '1734543', '7008373', '98022', '28954366', '1635053', '880404', '2774858', '12510886', '17910885', '15984356', '23668533', '1666439', '485938', '18780024', '10147146', '13546416', '7007792', '7112241', '11514260', '7654542', '15798392', '18444207', '7139151', '59966', '5346063', '7150647', '11494710', '15851406', '105961', '35613306', '1395119', '23459778', '30042726', '16163008', '6285182', '25013184', '3321998', '287257', '12033364', '22018424', '18948771', '13529076', '20910160', '16002113', '17694052', '18359941', '313106', '26020978', '12887922', '18101129', '30239319', '18761801', '13528743', '179295', '32911707', '13773326', '569346', '9639649', '162653', '188181', '25135501', '25570630', '13414538', '17456990', '2317178', '17157752', '22539548', '22129920', '778111', '23012877', '597475', '2935420', '30050914', '1475205', '23017974', '9831', '116197', '13339825', '33536487', '22353', '2409206', '3427455', '15801924', '12252723', '18630193', '4100152', '29279343', '667985', '24722137', '6948286', '18101127', '26030381', '10454982', '17651573', '11389735', '13002123', '25126106', '17277797', '15746777', '1103549', '19318921', '730937', '25165331', '9727043', '335959', '30891735', '196927', '10343340', '6371553', '15984359', '28222706', '962144', '6613611', '9792887', '33829999', '23093379', '3220423', '9572809', '12623655', '352840', '437113', '231914', '20302133', '25909164', '114680', '23625486', '3032216', '17315830', '7905345', '26783214', '27395434', '33350060', '21519443', '17785916', '12446780', '1303308', '30043876', '3965186', '3176577', '9422161', '1517152', '25047212', '91499', '8258510', '1142222', '828140', '25460501', '20299674', '103980', '8042956', '10871782', '25195850', '25110933', '22092614', '16057061', '7304437', '18966582', '105876', '810532', '20613787', '26889709', '1003760', '23546840', '18295919', '373150', '23093362', '3907241', '819832', '382483', '12963705', '62321', '23017976', '1261274', '7178694', '27260956', '24952880', '13167853', '12016023', '34057427', '8976454', '1786015', '1282260', '151620', '2660314', '22716067', '24395629', '8234681', '22857311', '277182', '7510618', '23556336', '1001525', '34371917', '34808468', '1642134', '6514961', '17316533', '19519133', '25934317', '707649', '18527488', '17824758', '27415707', '10112502', '106134', '24718416', '26067495', '2599533', '12752371', '28634265', '25813290', '18766771', '18666070', '662621', '137781', '13528753', '22746972', '20318486', '8044106', '21911639', '21955422', '569361', '31338721', '7204534', '33238716', '370548', '28503858', '296978', '726624', '24655816', '22259518', '1037811', '270542', '1593254', '534180', '13611043', '536835', '6337464', '8479049', '10225194', '25241766', '29633042', '358856', '8691414', '4745145', '1869465', '10796225', '531808', '3159880', '18809235', '29771047', '2607793', '1121387', '35016676', '25483530', '13003894', '9642340', '2682261', '23310679', '26200319', '11094568', '6742166', '262322', '18741199', '2882738', '25785932', '544595', '19150434', '2730263', '20405483', '17818461', '25784128', '135489', '6185966', '12365795', '10898448', '13536829', '22324827', '18619306', '22595543', '614242', '848684', '31933458', '6455661', '18360008', '12993862', '29283754', '282357', '24864028', '790658', '27753931', '17317077', '6029320', '13253341', '25661173', '8077545', '1272967', '20578900', '16094382', '12471274', '2320474', '26486378', '33487', '35431574', '6696407', '976125', '2286315', '17465333', '1831345', '28379525', '25186289', '12499145', '2483820', '13528708', '26067699', '25233269', '8571073', '2183913', '1039102', '9302291', '27247280', '324939', '28146168', '1063629', '17864702', '7149631', '555417', '6503780', '35393381', '353701', '13528705', '6296507', '2986611', '13336085', '516797', '17663666', '31522213', '33787407', '6345452', '10478269', '34506913', '35610192', '15834670', '880399', '15984364', '17671952', '8073506', '11928699', '2596611', '21489183', '2261584', '15785887', '219241', '2672090', '838404', '9195650', '835460', '918329', '11875634', '122441', '8163161', '8440306', '569714', '23492703', '13765', '31855861', '13533742', '23119547', '2599321', '539148', '46906', '702415', '25319026', '34373251', '15799192', '7135917', '1014568', '287258', '58094', '17193510', '14489588', '2370847', '17591524', '36362656', '13238282', '531911', '7296120', '18167929', '9839106', '7236642', '1906143', '34227897', '11254882', '359319', '133017', '8606191', '19539420', '9754326', '1020538', '12305515', '7967592', '1867066', '1309620', '21870959', '23017961', '23128355', '7711707', '24819813', '17158619', '23017935', '19396102', '30339859', '16268988', '30302629', '11389398', '2879197', '33957737', '95405', '11580', '1409195', '15726018', '59973', '34858281', '26218626', '609497', '30796084', '26889702', '26240698', '2324841', '2396479', '356348', '7989498', '23012550', '33966463', '487391', '110743', '16001801', '11331615', '13619', '35413362', '34506920', '5957997', '332631', '17346698', '7442051', '20702037', '19078252', '10943324', '298476', '23093372', '31491000', '865079', '20702532', '18010028', '25938014', '28118847', '8572561', '17927463', '11821529', '35843645', '4673422', '23017873', '16089', '102957', '9177289', '25168201', '105720', '7982114', '30032549', '33100831', '19081738', '18948757', '35218608', '19800753', '16158179', '24914564', '7919542', '13573235', '79538', '18685078', '7802934', '16059658', '30771', '15803934', '2371677', '28668763', '22798058', '6811130', '9952918', '16005652', '6690979', '7962031', '180566', '4193454', '9571720', '23625093', '298470', '18522220', '3907962', '2755884', '5949320', '952526', '31338652', '15984349', '12969685', '374840', '3474928', '7721516', '132786', '43554', '626603', '13235673', '3676337', '1600757', '2458808', '17671925', '17185650', '357561', '12153951', '28491513', '1118756', '19358975', '17604979', '3392172', '2133652', '6491219', '20823711', '18280790', '18248517', '6496463', '7554496', '19082295', '19259850', '25430714', '36393896', '23017997', '10870772', '18948738', '3517318', '28929459', '6797842', '147026', '20175260', '3321279', '30208534', '18259634', '77730', '11470711', '13194740', '23546849', '13449407', '72113', '8573826', '6694210', '10518562', '22318516', '26889813', '2021859', '21544670', '2648258', '8092508', '13491053', '20621454', '3463792', '1274867', '23503006', '21855292', '20176586', '27884346', '31423340', '12959045', '25667060', '18525170', '17265276', '19058212', '16231349', '34466641', '880400', '17124883', '441241', '34440198', '1653988', '13609842', '11153344', '10408722', '25031769', '13529037', '25243735', '11477945', '274533', '13736', '28020950', '32766083', '154765', '12180405', '16146049', '569717', '9700137', '107036', '35706447', '3003909', '9973296', '32479654', '2189436', '6419549', '880396', '25861681', '676943', '17226345', '22334014', '12178803', '10348895', '8722386', '21848405', '12216870', '29927240', '13577801', '20894028', '29230623', '105398', '1381991', '33560555', '13227265', '324888', '26051611', '307631', '8432908', '21420351', '71301', '306608', '27406715', '25179', '24394733', '21428519', '5071434', '21532172', '27418207', '359330', '1875447', '343311', '23546862', '1754779', '17621666', '13528706', '21535712', '25763571', '18765951', '17835727', '1641887', '12075523', '19078208', '214866', '14612588', '897138', '8120187', '425246', '12433918', '70491', '105863', '59706', '569454', '107000', '877752', '105959', '779370', '14498307', '7973496', '17401550', '47696', '16235119', '19539413', '1014663', '21458599', '30223514', '59370', '21488388', '11468888', '10081832', '7369161', '29977239', '228063', '23310828', '106988', '26871670', '276466', '476915', '7267446', '30290979', '33585540', '2142177', '32921610', '18359997', '1357873', '23452895', '15981719', '30795613', '3375878', '26527323', '13335774', '25153', '18359988', '25577558', '8378948', '7700299', '17794805', '97998', '4816875', '23846777', '10117407', '22710140', '484167', '13164379', '30206744', '34095478', '3430853', '20906540', '8939297', '17995485', '25548979', '34381526', '17824746', '751834', '25810147', '13528709', '30774', '97050', '23126311', '589072', '1252640', '1311028', '2935566', '24926259', '507689', '10403445', '21555978', '34857744', '10117379', '158458', '248871', '751806', '36232397', '3283572', '6457981', '5321716', '8103702', '26891639', '28389352', '28020946', '539152', '13539472', '8092501', '37596', '29622590', '23784621', '8567225', '2329199', '569713', '3451948', '1927112', '541094', '2075611', '6145304', '13528791', '23093371', '17689064', '24421255', '16002028', '17571358', '6390645', '332856', '27874940', '18513593', '17137627', '32492330', '25088104', '13227839', '1819655', '7181003', '31033', '23562107', '16154668', '17277987', '6757950', '4784304', '15770131', '7011031', '13528784', '23017960', '22845708', '21227493', '3571155', '23397505', '23397837', '25101', '9901618', '456114', '18766275', '979169', '728118', '7955881', '27220223', '11596984', '9422236', '22323685', '2716219', '2182780', '8564722', '2045074', '13532172', '20998333', '2476448', '10105459', '6136798', '880403', '10919425', '30419637', '22399348', '25167353', '21469087', '20890584', '21976076', '7338243', '23395779', '7620623', '15789134', '16163023', '6022121', '23901106', '6746752', '31375031', '29966648', '15758864', '32841044', '4673605', '25786751', '25241703', '34237919', '35132729', '23433847', '17332289', '160509', '10316929', '29343566', '17137623', '8853214', '30775', '10249080', '23748889', '1781324', '6018955', '18886800', '8325080', '707835', '10088114', '36154664', '198346', '1087176', '11948211', '1992777', '5071396', '6390528', '32162909', '20300540', '18074683', '7155567', '22425', '133030', '21064509', '595589', '28107168', '423123', '610450', '18402359', '24623481', '23353593', '18273751', '3036800', '28109898', '7362781', '16002137', '16002008', '93321', '9260372', '15789132', '25893817', '22426', '6419671', '2121253', '7668524', '27854159', '18430205', '22552', '1754780', '1347330', '607911', '29744166', '33486', '114860', '31423361', '6558209', '10098885', '12257276', '17995256', '23268841', '56239', '11979157', '94510', '745282', '17317034', '230868', '379894', '9571719', '3647089', '2998756', '1777993', '10096022', '1702037', '18483919', '25241747', '539887', '1082363', '761719', '154542', '10478274', '17931841', '23012588', '8564402', '95431', '24352045', '325751', '479921', '4783737', '31850464', '138395', '6337466', '59982', '22273076', '22347', '7052524', '1721386', '18493322', '6681865', '22378', '9533196', '13577', '14475543', '361482', '12399456', '22913019', '1063628', '10479905', '14475346', '20726481', '18911113', '16002167', '851412', '18488980', '1401608', '2011599', '12111176', '36189987', '24494', '24727094', '17829602', '32478696', '26893430', '439363', '25912352', '9620218', '28593090', '51244', '33898477', '6087483', '359323', '13259308', '6601048', '10531011', '17659589', '12804446', '17332249', '899860', '5950118', '32988133', '29498953', '824335', '29801', '160858', '15798858', '232000', '2777431', '1569144', '533012', '17828326', '7326784', '18339901', '105889', '1919879', '22846579', '25369371', '12481074', '13130783', '25482994', '12143925', '28762820', '23546859', '284223', '8596865', '23848561', '29790412', '1574310', '25855506', '652506', '5428776', '2258253', '43743', '357558', '359325', '17850562', '724310', '158683', '8462608', '16153651', '270538', '15057544', '26167896', '20801010', '12962439', '9588023', '15748119', '11158181', '25287476', '7662143', '13238472', '9373796', '25032602', '2470373', '47558', '13485480', '22747990', '9624106', '732141', '68314', '6665174', '34886386', '738699', '3225754', '93375', '384897', '106039', '11076310', '7372923', '240065', '8174533', '26778330', '3144765', '16678351', '8085989', '102954', '30621322', '7531207', '3032233', '27873211', '17671908', '10756860', '103078', '21839329', '7960256', '25353374', '3193969', '15748654', '12508851', '20429278', '7237480', '546836', '6482978', '13418360', '29875880', '6457980', '10378957', '2065096', '18361516', '154808', '36113383', '25815565', '7960776', '6162282', '26251358', '346518', '28963359', '18144588', '107055', '10117408', '23129421', '1300885', '12502370', '15850150', '7071998', '31121675', '106054', '24015494', '18881672', '6609611', '28116143', '1631156', '7822726', '492968', '25104', '30056854', '31949121', '28075386', '15736709', '28818221', '1818336', '5865861', '28818262', '17671993', '33232801', '8071169', '7326799', '13491967', '106838', '91470', '33930539', '18208500', '426289', '4244856', '18359940', '6846389', '1116488', '1681741', '121792', '10640506', '22374', '31981', '4068957', '13166720', '18781037', '30628690', '10942340', '17131770', '6145711', '33837267', '25712017', '4831356', '10756755', '28600786', '9564829', '15702796', '15800522', '17795965', '8483751', '6789147', '282733', '10747373', '9232420', '2272635', '9907431', '7619292', '6132199', '9824902', '3606129', '7571653', '25624966', '22892058', '6477942', '194719', '25779090', '868', '879119', '20881158', '261153', '79465', '2956515', '17995259', '23226447', '2421124', '16101623', '9607987', '27414436', '18775329', '22270641', '23862438', '17785931', '17251107', '3145384', '15798391', '20176483', '15764560', '17829444', '17864549', '2741147', '6629792', '1795583', '31944649', '541101', '138398', '965319', '28964164', '23210033', '15955739', '36428710', '15834002', '8890606', '7037465', '6597080', '27153078', '25069009', '28792991', '161275', '6971198', '18809067', '54597', '21461083', '1307242', '885751', '8230418', '47694', '16002116', '9884768', '836609', '34536956', '9270432', '1445488', '18752626', '18482146', '17465578', '7619091', '7339487', '18242926', '16386195', '30621688', '18633094', '18430294', '31201683', '36225782', '8079312', '2692798', '12706869', '7115960', '34842758', '625296', '17701131', '15794909', '7939733', '106038', '79426', '1019913', '25734220', '35010925', '20653650', '7137785', '1605198', '198475', '772226', '8230467', '6150473', '23983685', '9883106', '33560540', '5986331', '31752495', '23197442', '105947', '34313777', '6092686', '29430593', '32296380', '27912785', '25163963', '21341', '21937391', '11168421', '18074666', '1158698', '843002', '1807523', '35354019', '6081686', '30254', '32783835', '16075920', '23012580', '25319040', '6665175', '15731783', '2454986', '13354244', '23395761', '23440085', '18361506', '25577739', '25746512', '21556003', '5811461', '18222546', '822389', '27405590', '58652', '2297296', '7213851', '1722943', '1503423', '32856436', '6940471', '13150418', '30419640', '25297903', '27247278', '11389675', '690291', '11583355', '677153', '1819769', '18171002', '32445379', '35543106', '21432552', '13228422', '1438725', '22440090', '30725693', '25066771', '156534', '29408020', '22561335', '1780680', '18430213', '17226363', '11924046', '16005824', '105875', '879113', '62320', '3355236', '17220622', '1993015', '17675373', '6400992', '16162998', '3240740', '16074903', '30079697', '1309276', '5210326', '1173879', '23518316', '966742', '102902', '28399446', '7669410', '7326875', '541347', '13499154', '31979', '35393379', '17995486', '15904816', '23167775', '35486085', '493690', '8477057', '17465630', '25628088', '25186720', '28073923', '2661389', '19539375', '26179652', '15730342', '6283767', '33346355', '4015884', '13445549', '25111281', '7334265', '1118930', '9400518', '20665534', '22387819', '305768', '11711995', '551094', '849034', '296996', '17404936', '25874155', '13227731', '16166837', '27406770', '10883729', '35510283', '17671906', '1734542', '17370448', '17447109', '22354', '9685940', '16151692', '320814', '10767466', '26030895', '11513102', '162074', '20901598', '1456034', '14885892', '17182033', '22405660', '198464', '32052249', '28389343', '102955', '13537846', '6039586', '1870129', '22602111', '9727038', '331206', '32332710', '396033', '9399520', '6977183', '775075', '22095206', '720370', '1039101', '2686721', '24484259', '11378548', '26838100', '1819755', '13163846', '18774077', '12756412', '6093798', '86142', '24703319', '35123011', '11753927', '7977007', '22711886', '10092289', '562868', '17262714', '33385926', '8534909', '22401', '20578979', '476914', '7953772', '17785957', '262321', '17285133', '18174115', '26067688', '4745141', '1661170', '27397876', '6240281', '17570797', '26057237', '16398552', '17137660', '13446640', '1803934', '1022591', '6670295', '26486370', '2626490', '590210', '296901', '18402072', '412285', '6784917', '1443057', '2745807', '3016311', '29848428', '17785933', '23017945', '15783495', '23274724', '25784119', '14830188', '34433024', '25548172', '25786965', '6050101', '6541601', '23502845', '507688', '15791586', '667986', '13631', '5973711', '9450350', '25497425', '2239436', '7469664', '438068', '28116794', '11874662', '18690262', '590546', '25382928', '36107967', '13575549', '6387196', '2574748', '1408925', '104602', '17131910', '21556016', '30065', '27761913', '9433132', '2210634', '302699', '22716599', '12090646', '25111278', '16279749', '26130475', '282296', '32652', '6810599', '6411441', '13150427', '34536952', '23848562', '821799', '17137596', '7753598', '1717990', '17470178', '28007885', '15791600', '360214', '7150566', '10195969', '6783427', '16002099', '13035053', '7074482', '539149', '22548344', '26067594', '100578', '30842271', '2371821', '18373323', '13228436', '22464828', '10368294', '4215177', '329599', '16032633', '18257822', '22694572', '18875988', '28118840', '21532165', '16997', '21532163', '10051438', '664149', '15842216', '23546886', '6263601', '7331572', '3430763', '375162', '6835217', '6393631', '8152510', '25663501', '2210630', '13629444', '18775957', '34227894', '27131667', '598638', '3680834', '7259888', '7094630', '52596', '25620783', '18463391', '282268', '26240977', '7326764', '1952950', '25241758', '17333322', '6928713', '17205284', '405552', '2586722', '12004619', '26129318', '15720319', '12948800', '19449250', '7713625', '160486', '533013', '18264900', '6915339', '8888690', '16002109', '1117136', '1087184', '17671987', '17899538', '821530', '166560', '1272463', '25330303', '107021', '836611', '34544', '21412476', '36381987', '26123782', '23563247', '3301148', '1369395', '11242668', '13330664', '39916', '15798411', '17184715', '836560', '23230472', '20575438', '9192046', '20930269', '2462243', '569109', '8132739', '17262825', '7549717', '7217312', '165556', '684159', '31387196', '18160775', '91823', '35700016', '739861', '26087043', '17251112', '8552417', '324877', '18513580', '1680505', '18296069', '34435174', '154537', '85574', '9366879', '13565721', '3212596', '21506712', '13592198', '11596999', '357563', '34228967', '29653775', '4645370', '5497712', '13414819', '27163013', '10479920', '26067596', '3470668', '27777993', '333760', '19018864', '9408670', '144378', '10459449', '26129677', '25332015', '28453322', '2442299', '328373', '21031838', '34466947', '11504610', '13262882', '9844619', '6341576', '28318431', '25534845', '5826700', '133035', '12234982', '12942774', '13528668', '15841841', '15984187', '16276856', '3577319', '1782543', '4691079', '11172440', '12101436', '13231149', '12191040', '17824750', '768938', '17973194', '22753505', '4965665', '21489187', '1845371', '718003', '13414115', '21555970', '8549962', '1142008', '158384', '18004257', '15940925', '15739016', '10161461', '1124521', '11332145', '17659671', '13265983', '23690', '36359947', '29790410', '32330', '16033895', '10416148', '12061780', '1999907', '13532143', '233691', '17290329', '16248023', '21064511', '15818651', '29584612', '681046', '3069355', '26236797', '25893720', '1982002', '47559', '6348402', '15791566', '18712836', '18143095', '32592054', '89646', '22055286', '5199185', '1014657', '29802', '122413', '20613613', '1037819', '7157747', '11441943', '12728025', '24502388', '29071051', '18360789', '28389338', '17194468', '543967', '17910618', '609483', '2448118', '324900', '1198719', '616318', '802408', '30128637', '643799', '22391', '29495369', '27276091', '24630575', '18665363', '9244949', '23276498', '10420795', '3562196', '1415833', '7810429', '14976', '34599509', '175834', '3016335', '18668467', '20613678', '7276362', '77283', '588809', '23017992', '24496462', '15894967', '403755', '28508620', '10879668', '158570', '1294247', '10474309', '25136610', '29507111', '8036920', '2280874', '10993223', '251912', '33233032', '36181336', '13420973', '1777999', '1624900', '399550', '2641602', '419103', '31309786', '24612600', '11526807', '23128395', '17335614', '107173', '28407627', '18399849', '25449278', '31222856', '11311549', '33163390', '1227727', '98011', '198463', '8607450', '23546847', '4192261', '17342205', '23519505', '6225476', '933311', '13592171', '15797759', '10348689', '8113942', '24774494', '6438151', '60244', '408445', '29972009', '2074764', '5599692', '47700', '405632', '18216541', '1838709', '11596955', '13037817', '30134340', '2752977', '431274', '582263', '1575373', '30776605', '7997630', '16005680', '3173558', '8347819', '634157', '34885410', '15984307', '277745', '135755', '6735082', '452298', '17280563', '12095596', '20518880', '663836', '7963597', '33163366', '1681464', '19919472', '584590', '18692619', '2862345', '511546', '36463', '432923', '11288225', '6791058', '9586985', '16231091', '7059447', '18339834', '2795053', '25212916', '916594', '19519664', '23012543', '29241746', '107142', '22090805', '9898038', '2388005', '13273786', '13171377', '17586834', '18373350', '24063644', '11783552', '21544276', '24334181', '25761329', '15803907', '7946437', '30272307', '10862067', '14431282', '8497638', '22459740', '893088', '77726', '7128775', '13537848', '24935407', '13154150', '976123', '20890543', '23539', '20299666', '6125565', '2101653', '30338780', '24694116', '28589527', '4975269', '36317063', '9049521', '236251', '1437031', '24554880', '31371502', '12235487', '13108803', '9209985', '22259477', '299796', '20638318', '13166600', '21325', '18643828', '1166728', '21895563', '10361100', '15803913', '30652441', '7720278', '12089125', '29739841', '25319030', '25667474', '106055', '26888296', '32162906', '30289606', '72479', '1438726', '24202995', '18853251', '462236', '768170', '1587307', '5976149', '3888718', '1818367', '10842223', '10788452', '5309', '16154574', '26876080', '15754080', '12043598', '7601064', '23309843', '900750', '18373319', '25823323', '107017', '262304', '14760974', '516774', '6000579', '2001255', '20530924', '30287730', '17226355', '13183556', '18775972', '6672183', '1456291', '10429416', '25276428', '17824753', '28217782', '17934457', '6741620', '24062042', '2212954', '18492200', '7657484', '7785067', '201196', '1258333', '17295975', '6871845', '17259302', '26030874', '16131106', '6462958', '12354201', '9696114', '23492381', '24812', '27426749', '20611407', '1154091', '20299681', '47723', '13182787', '6885492', '7785796', '6559834', '26013087', '20176547', '34227671', '18159860', '7695469', '31692635', '26030947', '17591933', '4644456', '22522797', '3422847', '30144482', '165555', '31423317', '6311161', '27778008', '937247', '21519194', '33793629', '1019912', '555353', '204043', '1242827', '122418', '27406747', '121171', '13227873', '555350', '79799', '6536936', '11077977', '28109905', '17376357', '10397159', '15853965', '20898016', '359220', '13379434', '707905', '23112254', '13617', '10568334', '3749130', '19539416', '6594437', '13152092', '8628528', '28577198', '10225299', '25699685', '31344338', '9539092', '6640295', '25504024', '7201626', '26067585', '20321176', '2213390', '7735482', '19126', '15797953', '25953773', '36312388', '568564', '1437906', '26839372', '4774358', '27588291', '7002363', '585700', '6063932', '15941522', '12349653', '595990', '156530', '1335949', '6036185', '2354277', '13228097', '1612776', '27252584', '21524934', '833462', '29093863', '31145292', '32504630', '458341', '11029797', '27876507', '59980', '20405461', '209962', '30254987', '12743538', '7143642', '21854453', '28116220', '3563478', '1334278', '1999908', '18774941', '23436642', '19057566', '13445555', '1475206', '12948008', '17370446', '28952534', '13112767', '11253748', '6217999', '324883', '102956', '107104', '951529', '34435303', '1247376', '497248', '25335337', '17899539', '11687079', '10480582', '26486587', '434254', '10727734', '13526225', '209966', '7713577', '36245046', '160220', '4427020', '8161898', '106069', '26107282', '634161', '2489097', '4900291', '555364', '106036', '31219059', '27163017', '1487924', '1997805', '1819709', '12427465', '21433251', '10356635', '18077954', '4801938', '15780165', '852259', '32941132', '28926893', '2442678', '25387876', '25787335', '16049562', '403459', '52438', '9066223', '8553604', '26148424', '1115358', '25165311', '30989347', '10149910', '6599658', '8751729', '18373340', '32469646', '16231270', '393644', '4522811', '43559', '18813717', '343386', '18931663', '13491974', '10207041', '808903', '271320', '7618064', '160845', '3079171', '2853435', '2776654', '542448', '11028644', '15800495', '10124252', '105898', '11328971', '7006562', '10710392', '33163459', '2613598', '1938938', '23462550', '6759791', '22392', '3186100', '6408561', '20947660', '13228443', '25527966', '6972220', '12226318', '2806627', '6283092', '8498471', '18430342', '3137423', '251992', '116104', '30650156', '973680', '667261', '31376629', '34761133', '23612682', '24117780', '20896461', '28668734', '11218003', '1997884', '18474136', '33283271', '16002120', '21870958', '1472120', '23524', '1126111', '6594946', '25448261', '33408384', '282730', '9259280', '89313', '591631', '16992', '18711980', '13130861', '19539376', '17616812', '23012554', '22398283', '8565357', '1796727', '22722662', '5463882', '29989615', '7140609', '6657154', '9703510', '36009556', '23012564', '6284142', '462231', '625293', '2378750', '1222780', '13482215', '2336407', '8976455', '13578685', '28790738', '2363331', '27268692', '2651128', '22259487', '465543', '6670697', '4790411', '680357', '10549661', '17317033', '24702345', '5631772', '25921', '7061696', '7326881', '27882930', '106053', '33638477', '28219402', '18125353', '6801619', '13239458', '799650', '3948764', '35437', '15793128', '10321650', '408956', '6624738', '27843242', '6356891', '539147', '1155227', '160869', '33232295', '570822', '2050404', '11517637', '10880552', '25425999', '30253', '33656744', '8067175', '17785885', '22754082', '226556', '25842909', '17850861', '17884047', '6022122', '16132075', '28204545', '107025', '7965228', '656975', '30387559', '23208642', '8213306', '3479319', '9018370', '5970382', '21327', '11104382', '13581999', '57948', '9647906', '20202394', '32989782', '844355', '33230533', '18867493', '22729977', '17689326', '12132930', '35003515', '20898015', '23492391', '17159515', '16117423', '19480404', '821533', '22522686', '18167096', '16002121', '3032210', '15984379', '25688979', '21976085', '19017445', '31670261', '28451561', '6577958', '27405504', '18051200', '22934', '31223882', '25319042', '29077815', '23507433', '36109303', '28016734', '31808199', '965900', '7390889', '35489512', '1259940', '2050454', '25158637', '832966', '33382640', '2918465', '5067355', '28118845', '22069087', '34686088', '7870457', '29726950', '16160798', '18129124', '690209', '8582943', '3252700', '555421', '27037927', '13622985', '516788', '29086531', '8754345', '1463296', '28462220', '22032959', '31445569', '16118561', '945168', '17188326', '1014575', '10721463', '6945534', '16163028', '7144690', '9215086', '13618', '1768624', '1063513', '28508624', '21535530', '2923529', '19084457', '18479576', '3429791', '17824751', '20775020', '8296211', '1728291', '1066674', '27405564', '25430710', '1022101', '10997557', '5383683', '30056940', '20151073', '30010337', '13432526', '23701505', '9335063', '10830065', '543956', '23846899', '18073149', '18101853', '29584610', '27910127', '33595688', '4844335', '35703417', '9179493', '745285', '36096781', '82599', '13185646', '13595736', '11029790', '630623', '6357804', '290497', '92058', '1501665', '6419521', '28228840', '35524400', '271198', '110155', '514787', '36183186', '2322340', '3053342', '707867', '7982166', '25558821', '3311978', '6555278', '25449268', '22807866', '100712', '13653941', '441665', '13027727', '6706706', '893505', '11329536', '24961944', '18528162', '1039289', '17671903', '31579423', '29019', '2618329', '16104234', '10937680', '357562', '3347521', '15803915', '105960', '296900', '2021841', '11596987', '1037816', '17591977', '9755795', '33897635', '29075679', '13007907', '25366502', '31574931', '6503758', '105879', '18139182', '8065071', '22358462', '29767310', '30279507', '12065308', '196925', '12706067', '22718720', '59962', '2027503', '2950497', '20587888', '25570825', '19286543', '9363241', '18373307', '1324678', '26234358', '10385657', '2809004', '408597', '1336842', '22345', '2081447', '2241527', '827010', '6323711', '22797052', '32573182', '18656890', '2667951', '17317079', '357213', '6236000', '630611', '1300548', '26883195', '28284127', '25205300', '11687076', '29737453', '2488137', '318200', '22323394', '25835553', '105902', '16386987', '13528734', '1198715', '17277818', '20980802', '35870', '6488140', '535578', '12090357', '2975971', '15842218', '8932593', '758656', '18691060', '1996909', '25870111', '333732', '1252669', '13330623', '13062456', '2322359', '25314017', '24830030', '18586340', '15711203', '670571', '23793429', '622717', '10257463', '16002168', '23492457', '28016718', '1529811', '702411', '8096600', '34885417', '198076', '13436384', '32469657', '24813', '13618546', '707653', '461064', '1397861', '15744161', '25130857', '31217227', '4193686', '23546873', '13130878', '32953372', '24965199', '15827499', '13528778', '396032', '400516', '34317007', '1992278', '18752478', '17785941', '14742411', '13614440', '100388', '16111899', '35954005', '29449225', '9061220', '30315', '1187281', '2529437', '17182372', '377254', '1136855', '7717', '26128871', '2934272', '5996166', '107110', '19539379', '6406101', '26783213', '8490961', '28116167', '160479', '715070', '8832511', '9304907', '21532173', '2961304', '13262880', '14885899', '6096829', '18911119', '23116815', '8195692', '1003758', '22140016', '43070', '10557843', '30985874', '20939175', '3160465', '18220552', '17671934', '13330340', '6582494', '13445566', '30740608', '836608', '12179677', '10390076', '26892076', '1146185', '10108380', '2626492', '6606842', '28146402', '3409425', '1003761', '21457895', '6709269', '105893', '221240', '18923008', '28396942', '7781779', '21823465', '3940', '33664658', '1198700', '1215544', '810512', '1487773', '7716382', '158682', '899858', '13536824', '13006264', '18513591', '6796708', '25154', '17454629', '485093', '6482046', '21556017', '25066781', '282345', '27406750', '6226623', '33516443', '7338279', '7905119', '6284131', '13223349', '154539', '32615337', '43573', '7825954', '5104495', '17787266', '495166', '2499141', '1395564', '247178', '18630542', '10726086', '26116107', '13227911', '46658', '1753714', '6811442', '607323', '25451887', '30754980', '23505378', '12064342', '328377', '10317252', '36130933', '18778459', '60116', '25732465', '18488973', '23154653', '6775126', '18373312', '18167035', '404920', '15798389', '23557010', '1207771', '12024200', '6810626', '25876972', '25601220', '1497658', '27214564', '30841805', '6434752', '4797376', '20321810', '624693', '1865013', '6608313', '33543217', '326756', '22609546', '22553541', '31111313', '6867952', '6933450', '2811128', '24820220', '106058', '31220490', '1184753', '611140', '806101', '16006353', '6468645', '33232669', '19061404', '25628439', '18360007', '23787347', '245797', '12037551', '10105465', '13352743', '18338960', '28109904', '7390906', '8299902', '6575638', '244120', '3277', '18893591', '25350554', '24791753', '29277919', '16002170', '12172425', '26876058', '21544278', '22731357', '18225810', '198078', '23168840', '32473024', '2344780', '6512723', '6298793', '957972', '13170037', '6919783', '5596923', '6795597', '30129449', '6413286', '19376877', '7554754', '15700873', '6347495', '10871925', '25528454', '22214721', '52367', '2402674', '23995491', '6291415', '7673573', '9201727', '17704953', '316446', '412284', '31825555', '9921208', '18215802', '11961391', '5250087', '17131868', '913059', '20829013', '236250', '18937726', '3343370', '18293439', '23848079', '13608062', '21936131', '1330929', '25810263', '28129403', '7544946', '15748997', '20759686', '954304', '472331', '13539483', '21433339', '71241', '30312558', '31223410', '13067072', '17791463', '146104', '11381638', '13599736', '1818348', '24824140', '6713189', '6258999', '17169311', '13228289', '23396639', '2183274', '34832365', '9042168', '25744688', '979194', '18396454', '23228585', '15789109', '6046729', '15740554', '18480112', '12214502', '25301772', '2881823', '2022219', '17853495', '10426296', '17453831', '23137382', '25571941', '16176210', '7390792', '7131445', '1312359', '10985662', '1666438', '17381668', '1361769', '14539934', '10169816', '6203292', '541334', '22808355', '82191', '13021242', '2113535', '23907358', '825073', '1014578', '17704956', '13060857', '24590059', '26778333', '6704775', '10431610', '2325430', '29844814', '16146273', '15850708', '35422981', '106060', '9270406', '18373336', '10343907', '17824752', '17875415', '2220905', '8576268', '654041', '218062', '29218643', '29233589', '25614330', '13528798', '31019793', '11414571', '27311530', '35015966', '13245485', '33123108', '27406774', '18260384', '2273418', '21561020', '17435804', '340077', '6775623', '22369', '21433253', '552410', '11376372', '12413836', '33517044', '2935134', '877245', '18669981', '32277', '22350294', '17156569', '31247173', '7771380', '6162308', '462232', '1999849', '107088', '12839794', '1675725', '744615', '7326833', '22609569', '18490689', '30740315', '6698149', '741481', '4143479', '10117384', '2353138', '254463', '418083', '15800525', '6393098', '16005585', '349348', '25986932', '336791', '28219404', '3321096', '30174853', '14472483', '4056878', '17277817', '6810671', '35892646', '12215432', '27412518', '33981460', '17238004', '857241', '9723976', '17445105', '1115807', '472453', '17834872', '568478', '22418', '9492585', '2786406', '19018868', '6764258', '2142791', '107172', '2539870', '6619507', '10573791', '10370166', '2282462', '2575231', '707667', '6514574', '20898012', '2662182', '1734544', '20898007', '13494528', '25072668', '22139265', '17315242', '13528712', '844971', '14761165', '66727', '22924429', '3321961', '851410', '485381', '25314913', '7145361', '111262', '6235902', '12199233', '29504341', '11060426', '30294669', '24818', '1754738', '25751669', '28041833', '10847106', '3304843', '7095503', '18371690', '401200', '32856235', '25260066', '625297', '6954438', '20636547', '7309945', '26827497', '6280888', '1812209', '23434637', '23097082', '88511', '11020991', '100175', '15760129', '35417', '33585545', '25689013', '17675119', '13592251', '13537838', '24484261', '568559', '5567522', '17861701', '844321', '18656735', '17564511', '25331999', '6496545', '7620690', '110148', '17785915', '1503420', '20405472', '22841327', '23606740', '12818113', '32187635', '12811455', '650722', '17737071', '2425355', '3326046', '10245617', '18070208', '330724', '6095195', '18260385', '12614733', '21555979', '24864266', '17131818', '28803074', '13526221', '25323336', '9142240', '10041173', '15789608', '16002141', '13235845', '6552939', '25264699', '3197145', '707654', '28953405', '20579418', '13456239', '6409804', '9586984', '13424447', '1154252', '33652847', '93372', '5650304', '32849625', '23494321', '28762824', '27556268', '541325', '22409', '454259', '13578492', '28814844', '17296267', '23515562', '18761373', '1182350', '1605197', '18950744', '17137602', '5948578', '90973', '282432', '899845', '12795185', '26030857', '6928428', '3922195', '26067591', '465260', '106064', '2020452', '13538042', '11426110', '18295927', '20299686', '10275691', '33154874', '25659873', '31279606', '25656566', '2371823', '26595110', '29771816', '7904429', '1795895', '35430196', '6908180', '23164970', '160519', '5826803', '26494684', '20940879', '334783', '1109208', '29971013', '19539378', '135757', '28780043', '15789152', '18398634', '7848360', '1409168', '3322036', '721280', '568472', '32804501', '32930494', '819284', '16248229', '22008601', '2028530', '13528745', '25861939', '12769349', '13227944', '31222827', '7961571', '22570405', '22882047', '27852349', '359322', '23848350', '1655560', '6403060', '31312262', '231714', '475276', '22551869', '217624', '18770354', '20919812', '18691078', '7333109', '11354252', '10471959', '25263384', '25820268', '13356190', '804953', '17591893', '4084142', '26192680', '18170149', '28020938', '25817', '24966586', '3678413', '22313644', '8560639', '15896692', '728919', '22747696', '35022977', '30896658', '16038836', '29775585', '6468571', '22063924', '22149136', '18339951', '34222', '25355457', '43722', '7342071', '34629027', '1311026', '25440979', '4837759', '15841905', '30150963', '10661149', '29102806', '698328', '23245659', '6282962', '6537607', '9245108', '19162328', '107115', '13426084', '17883512', '5594873', '8480308', '29240046', '5326359', '8350897', '451707', '25752013', '18162835', '22089572', '15799936', '1016474', '23854993', '34660851', '32932720', '23012579', '15744640', '12308801', '16075916', '8701864', '6351237', '10935132', '11980216', '146128', '18050186', '824977', '15701190', '402252', '100583', '7040390', '94512', '3160051', '26025679', '506600', '1593518', '22421', '1114323', '2506344', '1595887', '244812', '17880550', '7961218', '6370586', '306934', '7192173', '13224407', '13560943', '10874478', '17398763', '1491778', '22812135', '7576530', '707587', '13228239', '25094565', '283968', '19286605', '1412134', '18631568', '107007', '8447014', '28159930', '10483904', '13528775', '347221', '3564998', '27110702', '6390373', '32321', '36149807', '7232432', '29847729', '23017973', '1612671', '17251109', '12171031', '738782', '625604', '34446803', '24855657', '21455124', '10853145', '98411', '1911223', '25853351', '17785932', '27804236', '15984350', '506593', '17785940', '22259485', '402225', '29902673', '720859', '18259639', '12220100', '247333', '35580684', '282425', '1596154', '19286526', '23874431', '26025984', '11990757', '543975', '34397547', '158988', '10503130', '15726505', '1329178', '17182373', '1149909', '1128967', '9219546', '16002153', '28204534', '21854178', '1003759', '1205134', '13035325', '22791946', '23874814', '4674149', '18470108', '5804884', '30740403', '13096848', '12211997', '13591174', '17277806', '28114503', '6503656', '23167725', '18221048', '28412089', '43612', '4426890', '11385887', '3047397', '17277772', '569436', '18068411', '8016118', '3388147', '26025705', '25363511', '20691198', '56257', '24129200', '3115272', '27272357', '424599', '15992501', '30144480', '32461500', '29467566', '18805816', '2325421', '287264', '13630153', '11115022', '27247274', '1943808', '30204', '22358438', '17612724', '22808336', '6759166', '25047175', '4893327', '29499611', '6843274', '6696278', '4818993', '7276636', '27405489', '222307', '17937062', '18528201', '13456895', '18809258', '3366825', '176533', '6695178', '34873765', '6517382', '16088900', '15774120', '23012567', '105925', '19253529', '24961642', '1819872', '10135392', '1785575', '29768051', '807092', '64581', '26169927', '555357', '25049282', '25387791', '22070496', '21544228', '244125', '24905371', '19090568', '8538900', '28916517', '26023697', '13540537', '18883808', '25954756', '4445951', '4836566', '7507909', '122442', '9656273', '17367275', '28462823', '32941135', '14431299', '343376', '35528944', '32970950', '25785993', '6779672', '6236912', '544325', '676605', '25764833', '18296046', '9646886', '11932166', '204775', '6569015', '1303414', '26113718', '12926233', '569120', '32783357', '15984373', '30193055', '29016982', '9414540', '25514493', '22338433', '13635366', '7830683', '154763', '30027119', '18248520', '5948514', '1497542', '282270', '33977336', '9040209', '2290696', '1731827', '35561526', '6310302', '28953800', '527686', '17210469', '15719', '836561', '18259563', '16288548', '18902387', '443101', '60241', '26030923', '161703', '33163388', '35968428', '15771323', '571977', '4513012', '13637492', '25167346', '6552584', '18582279', '105968', '1395735', '3734250', '707088', '17671911', '33477', '21524971', '9555121', '13532147', '7200287', '17190360', '11138695', '17671943', '18109298', '528924', '17827396', '9927240', '18733951', '11960373', '6324804', '343288', '12791521', '1881621', '29840108', '6469575', '107103', '15792848', '32768394', '2029932', '34466874', '17137604', '1037813', '3865166', '27753929', '10239333', '16205975', '973677', '2319528', '17214302', '2249571', '9517', '14475357', '22605161', '18761227', '17281269', '9777563', '20987604', '3927823', '28278193', '629112', '400283', '1599963', '23904736', '26591831', '9857257', '13093629', '27180089', '28350922', '1148875', '1552769', '5901071', '4714126', '8717321', '17671913', '25032587', '22090768', '374415', '7870276', '25743539', '401192', '8860912', '35704434', '7684644', '12507103', '18264901', '8675569', '2885527', '144143', '18360011', '6488230', '2184644', '23546848', '20299733', '13734', '1198617', '23209983', '33794150', '300678', '33533841', '30983255', '26052237', '6695173', '397542', '15765671', '33543215', '8962287', '95440', '229317', '8666601', '26128227', '6285607', '6307040', '16300563', '4522769', '13528785', '18465634', '3585221', '18690641', '977829', '25025663', '12887028', '543959', '23492734', '2021894', '364956', '4882377', '11395909', '25234126', '160870', '25241785', '17874365', '1261243', '22848357', '680339', '25937959', '707857', '31353032', '2210700', '1588633', '15789157', '23310808', '26086', '18693805', '152227', '613699', '17864387', '11596992', '856937', '363124', '35830397', '2163420', '25566235', '18405488', '870', '9047894', '313416', '17978546', '22822839', '8462605', '13767', '8793349', '16057353', '871081', '32856218', '544568', '18594657', '17785950', '7949930', '20775040', '1550100', '33341061', '18333021', '17284939', '9711953', '27134675', '21328', '13538680', '27881692', '878180', '1903112', '19536001', '12509617', '15798616', '13596149', '21556027', '32454292', '5321611', '123911', '727903', '23203653', '32829340', '32560363', '18869719', '17287350', '20926077', '12733540', '12612620', '25262162', '7857993', '8573653', '12566566', '262838', '383006', '270759', '3295354', '18902597', '6294840', '25066828', '13505813', '24980111', '6296495', '33252306', '22925604', '36223789', '20945105', '548934', '359309', '773414', '6554331', '923989', '27405547', '29749955', '6533687', '17693557', '24129127', '22558726', '25661166', '880634', '17137637', '13132379', '1258330', '500505', '860949', '22398', '21556002', '9534854', '29942666', '18935268', '27247225', '4379564', '6553720', '633892', '1936368', '10334572', '500494', '645870', '166570', '546920', '133027', '22822935', '29102943', '899855', '2121329', '7229730', '29772863', '25986934', '33558698', '18687142', '294963', '16012', '29534432', '17182374', '12351103', '1894269', '5989573', '27753586', '6607302', '18295931', '5354065', '22358458', '7208402', '34660092', '1540813', '3430856', '17591945', '17569392', '2785713', '539151', '3058907', '9397689', '33296490', '24830036', '222223', '23546877', '3338751', '15800514', '10480489', '13532245', '35665890', '18774901', '19352539', '102324', '7247463', '329175', '565895', '31490999', '17783293', '8949011', '28317039', '28020940', '30824324', '2931637', '23492418', '24644337', '973679', '22716055', '13262877', '15984333', '25889672', '8194329', '17616902', '11100147', '6978944', '8891233', '521502', '2882739', '13573481', '5193153', '26030214', '13330628', '30810420', '30731387', '2161903', '17290260', '476898', '28117390', '18174105', '2388006', '111508', '28350916', '30754972', '25066765', '30400205', '626613', '271213', '28862254', '31701172', '170470', '26020963', '9521006', '739862', '12643508', '21407288', '6080796', '10479668', '19535999', '790395', '23249719', '26247019', '2706103', '330748', '23836427', '25571062', '1256276', '23602582', '8167067', '21412008', '15984324', '1040756', '33232777', '2274750', '2851269', '7880221', '32592590', '24867280', '771577', '23128387', '13573616', '808963', '17884046', '34376310', '20827787', '6102159', '34098567', '17345321', '14475377', '6627183', '18192415', '34507247', '12234185', '25018900', '25493792', '22889931', '24940344', '17364835', '2706829', '25864193', '15852329', '14475516', '13532176', '1812926', '1619603', '497249', '24896744', '32021495', '5322056', '7726216', '1420922', '28434612', '16069104', '22092264', '27853412', '29638980', '127603', '13339919', '19419075', '13528772', '23639285', '6676833', '21984779', '5722533', '4692999', '7841582', '14431297', '31136069', '3430777', '11442672', '7989499', '27209455', '800190', '7935162', '13526229', '30312557', '16031545', '1188313', '30279209', '19747183', '6661575', '10856704', '848765', '29844757', '25922922', '6481449', '29865598', '4054590', '18465544', '11040918', '914569', '12028681', '17364473', '19171596', '25943106', '28279984', '35305', '25264628', '11237672', '979018', '26070978', '34662217', '13528760', '16306977', '13576305', '13532152', '2418888', '22839489', '29467562', '9195356', '18405536', '13504184', '6393176', '5310', '8145088', '59708', '16792', '12298971', '546131', '324907', '6239064', '191218', '30094', '7856846', '271199', '6369467', '18691061', '50647', '23601952', '3259434', '14498304', '1173925', '27876828', '8679393', '18805549', '18002423', '30256', '8618110', '22933', '191219', '8589579', '105864', '17251103', '31206567', '690283', '2140338', '10339799', '9484096', '1077591', '270771', '4555481', '25717953', '476909', '17185598', '16231347', '6640034', '18490879', '106861', '18109414', '9620343', '13575961', '15995154', '7706970', '9363619', '6778976', '6308744', '15778', '9466897', '29957717', '14760387', '342694', '11921365', '35154387', '17277833', '355072', '7159950', '8896690', '6881206', '3545687', '1717890', '177395', '106031', '347904', '18359983', '7905406', '23200006', '198182', '6396590', '22423', '19539419', '13035792', '6716612', '30753647', '11421406', '22358942', '25350563', '8714027', '18853321', '18555274', '18369284', '17834870', '70487', '28965489', '7841563', '25982689', '769126', '106037', '7556245', '105931', '564874', '6503608', '29069374', '165847', '30896677', '1007857', '9314952', '15789310', '10351563', '1122260', '168403', '602525', '6657356', '3321289', '3110165', '12123436', '767614', '7360245', '23645555', '30139738', '119453', '18759381', '3714426', '21555990', '263145', '13532153', '3430169', '1149274', '22357946', '7619398', '2713119', '27777539', '15984322', '545952', '9369325', '2109931', '24815', '4502503', '96908', '217331', '32783833', '11010430', '21555986', '1116487', '13528795', '13538702', '17789141', '8446293', '5127068', '1407409', '23258139', '18965300', '31387205', '1586905', '17899418', '20347483', '25529076', '25786076', '12779171', '16002164', '24795941', '18003811', '16146214', '30340280', '23014675', '23352348', '20405466', '25644467', '17161930', '29015', '214077', '12079362', '18774084', '9862558', '2111326', '773415', '6817958', '17261174', '34537904', '16292250', '1349040', '7965053', '27247275', '15721742', '17978547', '3301126', '23398979', '25706527', '10615190', '98410', '6218001', '2325142', '7543231', '679608', '23694092', '24796212', '18295918', '19539373', '168406', '25332035', '445046', '435951', '16005688', '17910617', '22355', '25241698', '23995507', '7829373', '92059', '22363', '23282029', '27163019', '43748', '33230310', '16073237', '564876', '23310686', '2021844', '17936698', '377521', '10469840', '754066', '27168412', '32940860', '1878831', '29013298', '17277814', '13211116', '105920', '17317088', '2371345', '11439723', '7331622', '13597992', '545765', '19064661', '1475204', '6854668', '31254171', '25746478', '26698491', '48706', '6225834', '6364999', '13228121', '13227866', '7390851', '17251104', '22129854', '18765957', '22812132', '216305', '138396', '23107716', '15898732', '6359290', '29632242', '7802887', '511240', '15842695', '17899533', '27846352', '23732096', '25666072', '15783638', '27876084', '11775972', '22270644', '1218218', '10810611', '17824757', '17702564', '23576505', '26030950', '7938838', '25276318', '106045', '13796801', '31621570', '17137634', '16003909', '11242328', '24795950', '20313288', '154929', '22361', '24848383', '9908518', '33540347', '18528240', '12867825', '16161115', '18853315', '6405611', '30029', '24380284', '17934770', '16181114', '17348705', '25855505', '33853408', '523262', '9150427', '28016728', '3188793', '13792952', '2984587', '627055', '23546807', '21922315', '31390219', '36326747', '17671954', '11687082', '31223254', '6351480', '1120825', '676725', '11465282', '26868792', '30132221', '2371152', '8721963', '12137592', '23110084', '1966272', '500506', '31224224', '163182', '27163016', '3864040', '19288679', '22728301', '5509441', '36011009', '20405491', '17137630', '6338429', '23499558', '102322', '19800516', '3516953', '15746781', '10419499', '235648', '3059750', '1070555', '7083980', '27993867', '30206', '2753420', '31181169', '1492344', '6351980', '26843707', '35697693', '1315744', '22924472', '30027062', '12993106', '23612830', '21858473', '156532', '18491564', '21412000', '700306', '306931', '25256034', '18803790', '133031', '33790316', '2098840', '21472060', '8547103', '280959', '62953', '18948772', '21555997', '25241732', '18101130', '23249990', '630007', '12381074', '17713533', '4033569', '10408721', '6608091', '105938', '25186940', '23310721', '624695', '2056659', '15850698', '17785960', '22358440', '244107', '10806653', '10985587', '31085011', '17182539', '4640624', '28016723', '18076224', '707855', '8865405', '25988450', '23735609', '19270288', '9390055', '21636', '22105703', '107019', '18691098', '25241707', '28389337', '1087205', '6474554', '6348133', '17137618', '533009', '10170920', '35232852', '595980', '7633404', '1410102', '26494110', '16005841', '53179', '501052', '191212', '20706688', '12692266', '25105', '25019443', '3101799', '2915026', '196387', '3147972', '21870611', '31949090', '20898009', '1923628', '400712', '12926143', '12966158', '13177620', '17137600', '12023617', '12376075', '552417', '2662547', '22518381', '30220906', '10105949', '7824133', '1664200', '22675624', '18360004', '21991166', '22733327', '413044', '2243595', '18687079', '36311217', '9305960', '28129400', '267219', '23705530', '7863399', '6443638', '2183914', '22367', '30754976', '26484926', '435892', '25502359', '25113095', '23507765', '160666', '25360556', '29507117', '29429566', '22979184', '24515711', '6261474', '1357161', '26067600', '262320', '6797427', '34051369', '6303498', '22358410', '7021989', '35704423', '28302707', '2251815', '3191206', '107105', '105725', '707696', '6112957', '29890878', '13531010', '472672', '53936', '25445979', '1787852', '9516', '13227319', '12103281', '35561162', '3317686', '8591478', '1438791', '198474', '30203', '6544541', '61352', '32594942', '17671919', '15832934', '34803594', '20300537', '1758559', '23705479', '389519', '17137593', '12464070', '7819029', '20898017', '2765545', '850654', '8429651', '160669', '13445542', '25254201', '2074563', '282347', '24550864', '29005818', '455246', '17277807', '25307263', '1621563', '13723789', '10885553', '30621645', '29778463', '15737777', '160518', '760035', '160865', '27388805', '8363885', '1921476', '4745146', '461067', '1609290', '191216', '34932264', '13049226', '32941150', '539153', '24763666', '22716579', '25861688', '8460218', '15798403', '7352220', '2754727', '13280695', '6915117', '17173645', '22551867', '17370450', '9044506', '598918', '5497760', '9279336', '582608', '26067581', '5812896', '33547680', '25031519', '11296959', '29012', '15737245', '25233412', '31868290', '165853', '31423339', '50323', '2663232', '15789300', '1898882', '1767721', '20345921', '17864389', '333512', '18465923', '8380403', '35481378', '1085771', '23846750', '154795', '23017955', '590744', '29963413', '500383', '13591145', '2067406', '1603732', '2034261', '11496412', '2976584', '35259647', '8846503', '987073', '661772', '11646671', '25449191', '840692', '598944', '22464457', '400629', '29737444', '25810101', '13109615', '30627629', '16137205', '16116434', '12492518', '7343299', '12221869', '29456195', '2363402', '17290255', '17001', '2455675', '17785917', '35897929', '11142767', '4309574', '490789', '31812556', '17785934', '34907992', '106034', '15788783', '25529994', '15984331', '8445394', '22752445', '3623806', '24203072', '19906668', '1088266', '28424916', '10858445', '5739076', '18478258', '9877818', '29431094', '30102358', '514789', '6327801', '6314683', '25611937', '18850666', '7326730', '1936367', '6325689', '2227486', '3623273', '25614407', '8065813', '18143847', '23546832', '20907603', '18188823', '154529', '11438326', '17705149', '3622981', '28820820', '17290284', '10941969', '999208', '17137615', '13059054', '784222', '18119043', '933827', '9267091', '6319504', '739858', '91714', '6837503', '32848662', '18128234', '17381690', '124628', '13536515', '26060734', '9895044', '12454310', '32202287', '7061625', '9903243', '35427934', '105860', '13541584', '9884759', '9253754', '831829', '9810645', '7159898', '1281495', '266599', '10314163', '16255271', '2730331', '33161035', '196388', '13017981', '2480342', '17372366', '34224947', '595992', '6545414', '1320589', '8791503', '4725898', '30182122', '94514', '17671940', '27218309', '28585567', '18902308', '1647503', '25241770', '26818574', '22716582', '29237211', '18360005', '11538014', '1446927', '31451220', '5321812', '13698', '7106724', '10479881', '6496414', '22349', '25263481', '36390484', '19539377', '26952655', '3096421', '6360772', '18853328', '159856', '13537835', '27037926', '23358889', '12924743', '2331616', '8230409', '1853934', '10537195', '7674991', '10406210', '836998', '17194569', '28695484', '3559591', '22358443', '22358464', '20718290', '160471', '8107593', '1198717', '935570', '25734020', '8736902', '18295924', '17277801', '6845839', '16002149', '35271997', '9493661', '21532254', '18159853', '15789263', '34953490', '18804290', '29429568', '8615275', '693895', '20405488', '844349', '17188322', '23012559', '28389336', '22594672', '8533890', '11234579', '865021', '331692', '16010', '9047567', '59952', '15749666', '15984348', '2335549', '10215178', '313429', '533016', '2693619', '14546630', '30321354', '2185510', '23622918', '29844605', '15926779', '18360003', '22678790', '31139997', '33776084', '27279102', '12791491', '19660131', '899856', '17277785', '27415716', '6867994', '2338283', '18406315', '6871847', '423262', '23017947', '7743662', '106050', '189277', '26855263', '7698575', '17370449', '145240', '30896666', '15787167', '19943950', '16057218', '768168', '308424', '18128260', '1819747', '3239487', '13609806', '20257440', '20222966', '32951507', '13564293', '25089749', '17785925', '30328187', '6471140', '16104370', '7841237', '4893643', '25893783', '14759146', '79842', '13555390', '655103', '529678', '1212015', '7848264', '9520998', '17414486', '23605131', '57477', '13532244', '18444226', '23242443', '22358798', '899862', '154669', '17157304', '565896', '33100447', '6483367', '3233388', '12573049', '1819717', '20299664', '105956', '26067733', '824332', '35905318', '17343474', '13531564', '19457266', '8503220', '27166057', '12966218', '122326', '12424012', '723777', '22926824', '9127380', '28274414', '8016514', '6419607', '6046598', '17262720', '103658', '11279472', '7293595', '1238684', '663099', '8643220', '30027125', '7980864', '25439115', '23546867', '18373318', '9024149', '31171072', '808964', '28957268', '24718291', '21529469', '1232244', '33472', '17824756', '18163737', '539150', '13533744', '22752448', '17137628', '17856300', '10555316', '18295922', '13255096', '6018627', '17454621', '282266', '21555982', '18359995', '32194575', '2121483', '2829029', '7112874', '769712', '2961658', '359195', '6281077', '7671764', '28118570', '17929637', '6966115', '16002117', '18710631', '1111704', '10518632', '15780174', '7259889', '30082504', '678556', '92684', '21532212', '23247947', '22129919', '15764700', '18715033', '30399055', '1035541', '9918889', '1264554', '14843171', '29467563', '18766276', '32982694', '87425', '24803912', '21966687', '25014861', '18332529', '5067627', '17277798', '18659623', '29507104', '22259511', '5804930', '23153104', '244111', '328147', '25614325', '18007665', '26067595', '7005910', '16982', '13536830', '423063', '1721081', '20575446', '23303691', '11385401', '9897887', '572035', '35107076', '142182', '11130150', '9594093', '23128353', '30375423', '25814105', '1593256', '146122', '28251028', '2423151', '8725440', '1269464', '17987059', '299134', '22734964', '5051000', '335294', '7759872', '282401', '1151315', '16150753', '30842269', '22926796', '2076907', '27168415', '18774075', '6387496', '11543545', '22609177', '27778634', '26940131', '1216834', '28260539', '12933850', '30656426', '25898265', '1573780', '146475', '808996', '22875240', '821802', '17667898', '15724880', '23012669', '24039347', '26030866', '25602622', '27405492', '114857', '18404435', '2386561', '34461645', '13528792', '7842325', '87424', '6217804', '31808197', '25241697', '18465632', '30621644', '28696601', '1824521', '3345585', '20702421', '32934474', '18260387', '17307212', '299418', '9228038', '816196', '1314603', '512890', '26030870', '29767833', '7675868', '487581', '15798394', '27843037', '25287360', '1119044', '13528740', '11850266', '160514', '13497711', '47697', '26591832', '347314', '17173644', '32191901', '18899876', '6883138', '6344664', '5465183', '17671962', '30365244', '22807615', '17789372', '25872892', '993861', '714029', '1992805', '2480372', '17824759', '13528736', '7106740', '12307299', '2062614', '3663985', '287263', '20718289', '10876064', '1111162', '16090', '22016212', '10959222', '9143014', '9367040', '7932994', '24352009', '13614620', '160545', '11459042', '10910172', '1219028', '1137638', '17659580', '31177599', '7572399', '100389', '160527', '321821', '1124512', '18231561', '7042766', '33784844', '972723', '1870771', '19018861', '10858443', '25118017', '16173662', '217330', '1908946', '3884131', '22358451', '15704320', '17405337', '6773954', '16103255', '16002119', '32565405', '5508525', '9526', '10863384', '26891641', '28389342', '5598325', '28109895', '26215223', '13050138', '25806183', '605151', '6362843', '13255105', '1258027', '23601922', '1030028', '24662560', '12993826', '102463', '10842222', '26067734', '25422604', '4677060', '366970', '16155151', '77318', '15789138', '11029933', '17277825', '15797747', '11871508', '24977049', '15793709', '6553625', '1235226', '2610714', '9750705', '1014569', '25267408', '29429585', '12127171', '3367608', '16082264', '30255', '23492430', '1283685', '13556957', '154206', '20335758', '32461515', '419104', '569320', '107008', '645871', '4557107', '3352456', '31386637', '18373348', '3422445', '25067266', '27790145', '663561', '35215627', '541335', '684160', '25027693', '1039752', '28084628', '25185859', '1792694', '23341720', '307629', '16005590', '160849', '21462023', '33215582', '31145083', '243080', '227725', '17137633', '159929', '2849196', '19042111', '5097514', '17671918', '6471550', '2700453', '25205435', '16616', '7650231', '752073', '296902', '6402466', '17445144', '31825554', '27247272', '21919214', '26486384', '392297', '28433627', '2570137', '1305017', '12232248', '22678', '21950548', '20898021', '24722130', '22716584', '11130243', '33310122', '18126581', '357399', '2029517', '28016733', '28439699', '17671929', '26617537', '25410393', '10523073', '6477330', '23116816', '5456152', '14539948', '1484773', '36112936', '20872562', '31145178', '23218702', '1395113', '3066745', '13623923', '8549745', '223795', '13584063', '26867551', '6408523', '15163701', '32919010', '14477380', '821803', '2116832', '23475447', '23451572', '17787259', '151404', '13173726', '54225', '17727', '17450840', '6081685', '12339928', '1470483', '18971549', '16146279', '25439852', '11858435', '22521841', '164015', '18478257', '1329079', '23167768', '8609843', '13414105', '29058963', '25982692', '1205950', '902929', '26857656', '7651825', '704576', '27405502', '8441872', '13568472', '4983247', '5195362', '19537419', '18373335', '11513110', '12220594', '33533892', '330747', '1702887', '11446795', '35109416', '26617460', '35822253', '2250580', '25066772', '22079941', '754041', '2186848', '22922328', '23012642', '6597538', '4495015', '15803940', '27753938', '16655006', '1205136', '25664507', '27257065', '29455398', '2272713', '17317061', '2261594', '1020839', '18101132', '15984378', '19013145', '13235670', '553676', '106124', '2239432', '2412215', '23017952', '1216390', '6322461', '506607', '18937246', '31216009', '36236624', '17887374', '33130261', '8849969', '1088775', '25205428', '8302507', '111651', '30056840', '34198128', '18765952', '25937956', '18491514', '106033', '30024834', '9765156', '13602490', '32856219', '1020935', '102461', '22358444', '2336412', '6433054', '31117259', '154762', '9602111', '13228101', '33596299', '13632219', '13076215', '23546891', '22323426', '6314737', '17137601', '6330726', '276467', '17668176', '25408396', '3618548', '25885809', '23012589', '1016479', '13249064', '24929163', '883284', '1179394', '30230817', '20007922', '30333227', '25354742', '1487774', '28953137', '33286891', '29507385', '34317004', '1759224', '17899537', '46908', '18051187', '15062370', '22907414', '29325104', '34600367', '590085', '6562898', '6678079', '35842270', '271367', '198095', '30287874', '25764778', '34536960', '32494952', '102953', '289283', '1087207', '1778009', '54596', '25553727', '9306087', '29240056', '16002166', '30621521', '696177', '70488', '835491', '12311725', '22915862', '32730775', '14781536', '21897983', '7195809', '16002124', '7692378', '5811954', '25014832', '4930396', '17662660', '30233', '595988', '229823', '16206031', '198093', '26088888', '22571758', '25241743', '25072585', '8085858', '13270774', '18853322', '210946', '7780861', '22751155', '23123279', '4589731', '375134', '30845939', '64359', '437094', '22424', '7347819', '36128221', '29467560', '18465920', '7815839', '1777965', '64001', '36063266', '31451222', '13536299', '23546846', '2655630', '10697934', '232005', '23654134', '27881799', '14643120', '18904057', '21826085', '329840', '11207994', '6948400', '8312781', '32959665', '19414794', '13537841', '34225043', '588807', '15789256', '28119793', '23546854', '171054', '30419639', '25684358', '21852512', '8493612', '8616116', '1948371', '2322339', '29499044', '17691605', '7373670', '27163021', '26050016', '25614801', '28097465', '575753', '26120519', '17187327', '17209700', '445044', '17925427', '17694056', '15749000', '1715194', '32816429', '3264146', '25181826', '569663', '25893538', '29519436', '17934767', '10361242', '920469', '1286080', '2404623', '6697968', '331205', '17738567', '2511534', '25814062', '11389624', '13166589', '25563330', '21470677', '6707388', '18189479', '3451225', '6928839', '1598246', '23012547', '157313', '14431300', '9999672', '25131030', '589330', '18162833', '3629642', '26128356', '7677744', '7962360', '5764', '17137621', '488384', '15752115', '838412', '305782', '18765936', '3301931', '93376', '22915482', '33121246', '244126', '5905538', '19288673', '21805525', '6912600', '23546858', '30250', '23546821', '14454757', '6728531', '34667815', '20702030', '6314741', '7483068', '11494711', '13532148', '11912098', '21301528', '6139276', '21984774', '20621569', '9142241', '16053507', '25387808', '23546890', '106130', '8433530', '1792693', '20906790', '34390407', '33534632', '299135', '7442052', '20317889', '33830449', '10796645', '5030435', '30330398', '571982', '10182392', '3776558', '17318920', '585701', '11528242', '10611711', '23732101', '30056942', '25754213', '10464720', '33233008', '30139736', '16070795', '13108409', '18902598', '13043582', '25330238', '3430692', '34456457', '23546857', '2633556', '27970272', '6046599', '98408', '25732455', '342064', '22664265', '35218847', '9721811', '34311341', '18775094', '29908160', '15784201', '25852877', '17277781', '5459563', '64229', '20176552', '2869086', '59705', '30752416', '25066780', '7067764', '271208', '6346036', '15732094', '19539409', '27040378', '672235', '13225179', '34681024', '15702995', '6343129', '298290', '7159363', '17671974', '6505418', '22082593', '133765', '11386424', '1992277', '305672', '543968', '17666232', '24686208', '13155247', '19305119', '21535713', '15751026', '13143306', '6741420', '256627', '16005831', '2314946', '7219667', '15787196', '412286', '22728992', '332266', '271238', '13332696', '10628915', '205001', '396141', '11223180', '4722510', '11222378', '12138927', '848837', '30126207', '17137643', '17724777', '7626588', '29499019', '330745', '13764', '22814652', '1157452', '10334446', '13591212', '26832750', '146107', '9810195', '21801060', '15764677', '30357924', '7612548', '32714267', '1725523', '17158637', '597629', '17999159', '6356897', '28186137', '301007', '324973', '23555926', '22339', '3261275', '15920694', '17185214', '703765', '17438743', '23331563', '35514808', '18948778', '9919142', '32052246', '30341591', '11186458', '602526', '766981', '32932996', '3753377', '1404465', '21853498', '30229960', '33296399', '30740632', '2256311', '105878', '33964649', '196392', '15984353', '21869898', '7097992', '10810606', '28443498', '29936927', '36116504', '23017934', '18948739', '31538678', '20691158', '18444218', '17902683', '15842705', '8420859', '7619103', '26062248', '23450920', '36012794', '29964282', '759775', '21870088', '16131399', '20491984', '23499019', '33897765', '17727303', '107076', '26541908', '543971', '18345615', '14760166', '18373347', '8473170', '23551366', '66731', '908951', '13637111', '25138266', '6587', '22545983', '12151211', '759771', '13228175', '36318250', '23590848', '25100', '485090', '6236809', '300946', '31019189', '724336', '14623253', '17158610', '30225195', '31218093', '22551', '29207761', '19546063', '25570650', '34948204', '634054', '27066782', '33542094', '10594036', '28550625', '25241706', '6060377', '25852959', '59709', '6957640', '18920679', '1214578', '34934771', '16091753', '32489030', '885181', '16165639', '31223739', '21213847', '21340038', '6673985', '25902599', '33788947', '30069', '12859402', '17671920', '8728918', '2506075', '29231900', '196924', '30843523', '23753', '17934768', '28871911', '3430835', '22609137', '110660', '17317081', '17785927', '12266251', '22246293', '34371924', '25520460', '15744654', '33410783', '6081493', '27828610', '25238429', '17785976', '555367', '707512', '18899465', '899493', '17293172', '23307959', '4618569', '28477116', '262319', '79368', '23825837', '30378538', '595582', '8569434', '30843472', '100582', '23163852', '832132', '12714937', '22338430', '29429565', '2696970', '22518382', '20262401', '21454045', '18430295', '546887', '25075361', '1178358', '19964', '6333755', '5149515', '6552940', '12632596', '25241787', '22442339', '160534', '25111299', '12372752', '2210628', '32734295', '702410', '94509', '3134981', '15789282', '3430760', '458343', '19539418', '25711622', '33233051', '18890451', '11250295', '2506072', '18889955', '47720', '11568779', '10912036', '28916414', '77172', '24983896', '105935', '1709874', '412264', '27279123', '11596962', '9533110', '277186', '16154585', '15984305', '30372469', '30312555', '13021243', '29430485', '15798410', '21555996', '569716', '9639648', '25762069', '4639910', '7966445', '297627', '26779809', '1514678', '13070942', '35479848', '544567', '599240', '8492102', '20641931', '13531561', '1424373', '3106983', '595959', '18465539', '24807439', '9367562', '411654', '18430291', '8407512', '6408553', '32145123', '22447840', '17848997', '22733332', '22394', '11253749', '25903308', '26129284', '648044', '22883', '6461975', '615492', '17736104', '16177217', '13411390', '17671951', '12803252', '6707035', '17934370', '13110839', '22812127', '24060592', '282318', '7159926', '28593074', '16125774', '397543', '6502836', '1416750', '13497718', '59988', '13181243', '27406772', '17899543', '7956520', '17277788', '17878163', '1641496', '16077425', '29927323', '36133916', '2641379', '6465803', '2282290', '12873781', '141482', '27803866', '7389', '115713', '333758', '154209', '13398200', '1829040', '6381559', '10325099', '35203366', '2371219', '17405333', '10974311', '30647793', '29891442', '2592108', '17857664', '12353351', '142310', '25862127', '25602608', '204698', '26203876', '2100074', '17277775', '20405500', '23445209', '2021858', '24611872', '9844623', '16231869', '838915', '29093060', '28254384', '15756269', '23704466', '6338433', '20673699', '24777150', '20901532', '1090454', '27163011', '6821718', '29766244', '10163136', '5626060', '8476225', '17842932', '851800', '7577078', '2116133', '26150634', '31410604', '24046339', '11480909', '27415715', '13130794', '1424453', '25473281', '6746648', '2010071', '5805', '26107315', '10877197', '16162232', '13227852', '14744175', '1519089', '16002107', '25066819', '10189548', '7421244', '3032053', '22912998', '15783260', '15852522', '36271728', '555477', '60112', '3135895', '29790397', '23163853', '8074255', '34558240', '17663591', '28015751', '29102807', '2597878', '3319537', '28201361', '29430487', '12964547', '13602241', '20442885', '9504754', '1341870', '17331402', '1722037', '11015163', '10408501', '2903410', '14612562', '28153562', '16157721', '7765306', '11566956', '17277789', '97052', '29241356', '110161', '22591295', '1598249', '196926', '104597', '23093380', '160475', '18333945', '596972', '227350', '29775593', '9461971', '3392123', '32000', '26026972', '21855289', '17302526', '23241667', '1044499', '15735932', '26030927', '7915496', '4772663', '26591771', '23699496', '6406109', '23618016', '324398', '22214720', '1911846', '13798', '4855530', '16002134', '546814', '25509953', '646785', '5997952', '17185609', '184040', '25099255', '1595177', '298471', '9399521', '68311', '1997885', '18666533', '35435', '918866', '23602579', '22237290', '2218363', '15992122', '2075412', '32993476', '17571396', '105909', '107023', '12365333', '6534412', '1926253', '65977', '31812382', '20405487', '15787208', '8542107', '20906544', '18490858', '13228458', '28007982', '188172', '17137585', '2210620', '15799191', '20256612', '94516', '13228177', '9919143', '25018758', '19106804', '28159931', '29016', '19227573', '29606984', '22362', '18774074', '7959392', '20491132', '936906', '26030906', '4639066', '10422888', '34727930', '23080211', '232002', '1335572', '33621854', '33784845', '17157312', '25241746', '15704307', '546541', '160842', '3302813', '15816406', '6364521', '412281', '217376', '26234607', '16173301', '29972029', '24678959', '2741356', '13594590', '568558', '1609239', '20898024', '282269', '1412127', '625294', '7306986', '17383106', '26247042', '22259515', '18005582', '23093358', '154205', '6364017', '1819836', '22798022', '2034295', '25099', '20452208', '7947726', '29330766', '18630598', '14475342', '15195', '16039112', '21555995', '10323887', '15197', '22350', '18129480', '7436080', '12978254', '10241987', '31217834', '17333340', '2116739', '271259', '25232862', '10518163', '6239178', '15196', '13528769', '990174', '18513589', '6164405', '7823459', '97045', '30975752', '3402645', '15713149', '25986973', '25538379', '22461759', '25471281', '2387969', '35954559', '11369933', '2425354', '13360860', '10822174', '190652', '6519892', '21794615', '17675268', '9865936', '9222916', '262845', '8608289', '2041835', '6846199', '3546920', '11799225', '25664553', '25335894', '13228444', '68313', '8771078', '22130104', '12986780', '22558777', '18478255', '17659691', '28634268', '1461703', '12396284', '20310556', '6930049', '7736086', '34128281', '654160', '14431298', '8888689', '13630', '97486', '13528722', '797651', '15894960', '6261260', '277184', '12931480', '17137667', '7057056', '11325591', '10334529', '29238791', '4261631', '6526222', '2387968', '13448019', '30142015', '21556020', '17277819', '17408517', '514820', '22553', '8409380', '6700070', '267792', '11057594', '17137594', '17899542', '313419', '27275643', '21454033', '6245236', '10858446', '31221320', '23492428', '53935', '31312261', '22259481', '22754854', '10954336', '18373305', '15786110', '3422722', '16013', '11362175', '36097215', '13227314', '102459', '556175', '794926', '34658929', '2122039', '532633', '910303', '1546592', '2202230', '12356086', '32941138', '10390120', '31371668', '18369902', '1111617', '22072641', '160872', '32052244', '77132', '643845', '1037814', '15894066', '27225228', '13492513', '30806567', '26128250', '885171', '31182079', '14610732', '72114', '2993457', '7312683', '386125', '6963988', '13528425', '836606', '22072341', '9466331', '25241525', '17201399', '15984355', '27405498', '2532302', '12389027', '23742836', '5453025', '6419563', '18363242', '12378329', '6093797', '347937', '7202841', '20454376', '26185748', '21856232', '270760', '476918', '12104789', '7478330', '1717891', '18920657', '14498301', '25221407', '6098370', '13643517', '25479949', '17566113', '23531232', '23119262', '2314055', '357559', '20922156', '17368866', '32616800', '28109893', '6075820', '23741944', '9748281', '13620', '7992565', '23914266', '25734076', '6443100', '26245050', '16398965', '15768390', '20262571', '16173578', '168872', '30964196', '7326861', '31915855', '33828209', '27135066', '25577705', '409913', '18159809', '17610479', '26206240', '357560', '2365881', '23263556', '5948529', '8579803', '25241774', '17137629', '23634430', '29277177', '22344', '17742014', '988105', '34085461', '28155104', '59959', '95388', '25111296', '233712', '12833770', '266641', '98412', '23017978', '4070095', '17899554', '11596990', '244112', '6406018', '17724774', '10742460', '533010', '30842268', '7719640', '36107954', '6952720', '17818456', '15803905', '17995223', '803142', '17671938', '26240629', '6463676', '19546202', '2302907', '13150808', '96358', '899854', '156533', '754080', '27881813', '1125168', '1617695', '17226341', '10809463', '17238955', '6397993', '20890539', '25014824', '7744092', '6938920', '30221917', '105969', '28473213', '15714118', '13048485', '10814619', '18896477', '10261761', '31476878', '1247695', '24814', '1297352', '17824765', '8547102', '6322460', '28260562', '20007131', '24970339', '306846', '16173087', '71252', '6050680', '6338437', '11805170', '3954901', '23332879', '20890583', '8500719', '17671931', '1754969', '810514', '10889279', '23492461', '1434598', '26150489', '30324426', '24978468', '17124884', '27860183', '6338426', '31345732', '29246432', '13799', '13825604', '33825562', '9543444', '33108878', '18809215', '198472', '17256441', '13537842', '13532146', '33163320', '2210644', '751805', '20444960', '18369686', '18051195', '28953803', '9858341', '6820948', '558839', '377317', '7241922', '1731830', '24281162', '17624342', '434217', '13013456', '31821325', '3754399', '28118839', '24334503', '31685529', '11596997', '18359975', '21432474', '306932', '13183490', '194720', '17671914', '2861991', '24242359', '3258619', '18104576', '5874065', '9319007', '7484163', '1004979', '36217274', '17251114', '7140936', '25532284', '35108048', '13528716', '13532247', '33232512', '437382', '25450357', '26023794', '75488', '573205', '20405493', '29396738', '3701534', '20300341', '17671927', '17857681', '25578781', '5071315', '17899535', '1898952', '1777995', '22390', '17137590', '11703437', '25509889', '107159', '2353065', '27417725', '960880', '107153', '6621329', '9674335', '25466903', '2358690', '22617104', '17158627', '9037770', '18948759', '569872', '13167786', '25241734', '26172530', '34729155', '1714035', '1252641', '98456', '135756', '35379975', '9619273', '11538190', '6227095', '141734', '635606', '13228124', '29277200', '10479893', '12966224', '542338', '9593394', '13481648', '34330547', '19520989', '569715', '26189542', '6657541', '23117690', '34506915', '138399', '9482285', '103546', '9399657', '13640691', '33197566', '25011719', '321778', '19138879', '676823', '7885622', '30621654', '6621357', '2211995', '20980944', '8418905', '18463433', '21412023', '3655282', '33444441', '25363212', '16074588', '8601702', '1725518', '33163319', '22514439', '803169', '998579', '27134953', '10279556', '16153690', '282294', '1992058', '11518995', '118634', '18803140', '26483913', '34092008', '15736397', '12869245', '3400211', '28695374', '6003027', '24612623', '2383701', '6577116', '29908816', '29236398', '10502182', '21432363', '2391515', '22716583', '25770371', '1052310', '20578515', '6072519', '7663586', '7774894', '325754', '356345', '1198725', '18430221', '26595686', '23450918', '3596856', '13047127', '21525596', '21489175', '23546779', '23310797', '22548691', '25810120', '555332', '4721942', '34626375', '10606224', '13528781', '297839', '25066811', '29632723', '14498292', '13448944', '6687485', '462235', '17137659', '13644998', '2116747', '12095983', '2610218', '10241986', '9040718', '1120824', '13144469', '522597', '2763036', '27405476', '15789129', '52439', '10827737', '282737', '30740392', '1014669', '26809081', '24483076', '12488384', '25356679', '33389360', '29430592', '105966', '30893251', '2095632', '27875924', '25241772', '11350177', '30220714', '26138110', '961670', '28808761', '105871', '30842275', '25106', '33931295', '36350416', '1347656', '21532169', '21556028', '558869', '35175157', '17377806', '102458', '2804823', '23399304', '22756005', '15757817', '24357289', '3887304', '409432', '18101264', '25532708', '3663978', '2575230', '6345453', '307355', '516770', '35380555', '13228111', '10117409', '13538043', '13707561', '500503', '33403762', '32808408', '25862145', '1475747', '543976', '2824337', '11036352', '6469238', '24981942', '13414556', '28721956', '25671331', '23017950', '7969754', '17910622', '22360', '30772', '749380', '688763', '18811393', '35894484', '17671957', '370625', '32856146', '11389419', '25176597', '27209296', '8335144', '18525841', '357400', '33591658', '10886051', '6375833', '15984351', '16002151', '12685077', '13482575', '30711897', '15798385', '20625032', '16691370', '25614997', '707666', '13284283', '36190790', '160522', '23617730', '448079', '25241784', '32612120', '34836330', '31415835', '11721735', '27876965', '35395644', '23158930', '1216833', '28204541', '26138086', '34888715', '22129850', '6375845', '22572739', '6250037', '1094011', '13564990', '8700082', '6565760', '29075669', '26101403', '8591319', '13542990', '22548340', '6797602', '2000670', '160840', '27199051', '20299683', '25987020', '30860182', '133028', '22913004', '23385000', '2637386', '20940168', '667275', '758436', '555491', '15854422', '27853203', '485685', '26030942', '26104862', '20313289', '25140294', '29496283', '379056', '6764756', '17465735', '6344097', '1844975', '17789315', '24820', '25319023', '535596', '485092', '26067700', '10835981', '1839817', '353700', '18373343', '754022', '17571371', '17571360', '13408352', '754100', '146173', '198469', '21555983', '8340788', '5291529', '6407300', '16255467', '758726', '666976', '28225467', '11975111', '160507', '25677503', '23363650', '29331718', '6963653', '20932171', '16005575', '23532871', '27774522', '207413', '17137655', '13354243', '6356903', '25790655', '24666002', '22419', '7750168', '6854667', '541134', '1335269', '31224156', '59323', '6967935', '1188248', '2021840', '16141433', '754123', '13528665', '24476149', '9116302', '13588085', '191215', '7130591', '160458', '34978810', '34457070', '34504726', '25976141', '6660793', '95198', '10753863', '3284582', '25343236', '20766120', '923747', '17998967', '8542106', '3233137', '25603203', '359196', '25387790', '839151', '35522982', '26067587', '6707734', '9620259', '6435893', '9521005', '17591980', '4888770', '6488554', '22701414', '3429820', '591133', '15798409', '6458987', '27414462', '8730931', '10264328', '17577474', '47090', '24159849', '43265', '29938437', '13022038', '33275414', '29737448', '806013', '8679704', '21412496', '25784360', '9453889', '2186736', '427867', '1949778', '7767200', '7619313', '5055369', '3801649', '30740378', '27240971', '29429584', '14540084', '359258', '270762', '790192', '17858407', '27415869', '91466', '25717553', '119145', '30220713', '568454', '17797407', '7947676', '3187901', '221245', '17454691', '22812133', '1000846', '6465707', '35353950', '1037812', '29844341', '18341382', '198462', '6226719', '21500588', '129354', '7802983', '181012', '23602583', '31743694', '7632053', '29790411', '572917', '1962091', '27910503', '1143754', '14540073', '32452883', '13022967', '13445571', '1631157', '7267445', '12398582', '1421447', '11477944', '30795571', '20980803', '1576850', '17265216', '690289', '17591892', '7744089', '17694058', '27178123', '18077957', '874497', '25030371', '16163027', '11162304', '16181109', '154799', '6606379', '18919888', '2728900', '31544568', '23131088', '6378899', '599055', '2702948', '2149664', '291865', '9399522', '79363', '8355330', '26250416', '18493464', '763429', '7303811', '16077548', '13183494', '543980', '423360', '3823978', '25066802', '871', '27402328', '20698303', '17785922', '3840160', '7986540', '565893', '29429580', '31138123', '20318855', '32740461', '43718', '13363136', '1140553', '20519098', '22812131', '211461', '15798396', '8408981', '1182649', '17395902', '25319028', '18359965', '30002312', '64005', '25066779', '95389', '27414475', '54588', '2413845', '9144810', '7164325', '2179229', '808965', '1440453', '844422', '6523068', '18660684', '27797730', '747219', '12060981', '20313287', '7724139', '25451555', '1140552', '534309', '9970421', '29496286', '930287', '7268', '34370777', '27163014', '13536296', '18465559', '5520449', '1797149', '20299735', '10166380', '179301', '100581', '26067583', '30534851', '13058150', '8285714', '11029828', '1185123', '21814536', '1928769', '28803160', '7965054', '357868', '235650', '28384533', '109249', '15095791', '4280231', '832721', '1654123', '25117148', '23491221', '282272', '34438768', '9005701', '1600771', '33572519', '146495', '13538044', '13635652', '34150927', '7116280', '18359977', '182554', '29633708', '553840', '16088015', '342445', '3003908', '825378', '114725', '965128', '17671947', '1819756', '1625224', '7571816', '21482875', '10685273', '23017932', '12174867', '28259085', '30824287', '135642', '13414107', '21525765', '631292', '223791', '21326', '8965223', '2147714', '26251867', '476919', '32273171', '9352347', '22753504', '3246201', '4589730', '17899556', '25066783', '18373344', '22055285', '6440051', '10387381', '10060596', '18513583', '1762424', '1332999', '13142648', '11863947', '7095217', '11101050', '1003034', '30968460', '25088157', '27882934', '19121592', '16002139', '224615', '2507385', '16074607', '13629415', '8677892', '19539423', '27970787', '35460', '25074849', '2929794', '15844740', '2570403', '1805527', '3779455', '18167800', '6609784', '2480741', '2583424', '2705069', '16173091', '893506', '3301150', '440960', '15854415', '3316487', '23309848', '9695203', '6557890', '9834785', '25547717', '146140', '1992056', '26779818', '6407303', '6759789', '33539060', '20701984', '6767044', '3294622', '25213237', '23451753', '30975748', '26913953', '603336', '10479859', '30120861', '23651632', '196386', '22420', '22820337', '10438248', '17559248', '23263563', '26527680', '17182376', '29246912', '10879564', '28160830', '40533', '13271352', '3388812', '1702279', '380040', '10262159', '11794326', '18333764', '2412696', '7872817', '97997', '8962093', '18143802', '11687073', '34536961', '22718678', '35402937', '20945089', '13533745', '821800', '851409', '26779817', '10195966', '13532149', '24808306', '2512012', '2382803', '10626496', '17691680', '11596981', '10327665', '8150979', '17251113', '17927477', '29467561', '9486602', '649731', '11477932', '18345614', '602519', '13622', '1564148', '8480135', '12159288', '6797474', '13640664', '20906789', '6749791', '28552563', '20742278', '17137653', '13536803', '6398559', '9433049', '591113', '1442300', '16040140', '23637030', '10663664', '5984456', '11557023', '727886', '30983876', '15800553', '25061099', '27415713', '31576708', '418149', '8702433', '7879834', '7058482', '9047566', '8543896', '22609118', '32151207', '1589849', '4065472', '18770327', '370853', '7963103', '22752444', '30843653', '20697563', '29003844', '30809493', '1144824', '23448644', '29358522', '7980565', '15896699', '76530', '358675', '12354715', '25753564', '7840940', '42261', '864958', '6345999', '24795940', '34227681', '12324733', '10812954', '1740049', '17277803', '17661337', '6407304', '13228438', '28119049', '17131852', '282282', '13153242', '461059', '11010029', '271264', '26486398', '17570208', '28960025', '106837', '13406963', '5475925', '25921079', '8469631', '1456344', '18685128', '7639606', '22588375', '247334', '6749787', '25337337', '25592452', '16103146', '11501608', '26235770', '25266411', '9256590', '20718095', '6130507', '3430837', '356347', '25677593', '23546591', '960885', '179288', '6545940', '1374450', '15812325', '98413', '28862808', '22536584', '28533221', '7964050', '1113393', '559460', '13571757', '6149314', '8933955', '2370697', '17277795', '26137482', '22181030', '31160314', '1799012', '32503528', '1470484', '9555857', '18490856', '25241723', '14623274', '17277816', '3284740', '11117109', '95395', '56269', '10864762', '35272007', '16002011', '8558020', '17857946', '5822950', '22561346', '23017791', '269353', '74928', '33386082', '17450822', '12349647', '6846474', '1118758', '10765631', '12756810', '10397757', '25887246', '18074900', '17138271', '260409', '2454990', '32930485', '605029', '133018', '18465496', '30621637', '12231033', '17689256', '23395763', '23580469', '570393', '11186443', '13533746', '223154', '6734866', '27881827', '27824315', '9171326', '4882254', '204045', '25066826', '26067588', '25852873', '21519210', '11251704', '16074606', '16121414', '34371957', '900320', '26064744', '30725737', '244128', '30740349', '806094', '13796', '8411446', '8445406', '34043787', '26088', '22464456', '25747529', '16719034', '476899', '1524751', '31079883', '2706101', '18714827', '4054622', '13152852', '20454128', '1117355', '569322', '2513105', '1087173', '9533131', '25699680', '22798019', '25139783', '17264824', '16163012', '1404466', '21505564', '138190', '154544', '2422736', '8734132', '271215', '31448130', '31140465', '2086132', '3025139', '1406814', '21470698', '25241760', '16002145', '6957810', '229145', '26150423', '31224364', '11707621', '18259729', '2001695', '22812134', '12361258', '22358944', '18666071', '30773', '759774', '17124882', '16089316', '7134034', '6685263', '28450397', '1823114', '24831669', '3570272', '6120349', '34119500', '1077521', '23012548', '15778217', '17287065', '16163031', '25371946', '18271943', '2365247', '27884345', '16255052', '23093369', '17571859', '103661', '6012324', '12096145', '9380340', '8400423', '13594985', '1807678', '26626097', '6425878', '13586996', '17837762', '16127591', '6545885', '18752148', '1239430', '76575', '26889696', '17785929', '12078722', '7030043', '1328163', '8744427', '390134', '9427629', '7390884', '26486583', '8666523', '21870089', '35011416', '33536409', '17925261', '21912388', '17557825', '827407', '1893208', '7945932', '10351522', '12870767', '13532151', '595982', '146106', '13538672', '26221382', '21984790', '1990503', '29790361', '9255082', '25387750', '44579', '29775742', '34235800', '7025254', '7928125', '1096748', '10478711', '20503501', '2489799', '15789265', '7283336', '1347657', '17317064', '15894053', '20894044', '51928', '34150762', '43737', '15829277', '22587197', '21555984', '16255247', '20898022', '26150665', '1758929', '15794740', '8651048', '2350837', '79422', '13532173', '1681474', '21465529', '6775903', '29567266', '8078027', '110918', '639340', '23995508', '5605370', '62322', '26225895', '28186151', '20998948', '144172', '54743', '6323718', '1731832', '33780609', '4616177', '6735054', '25470811', '30621655', '8504491', '27130705', '271210', '877725', '3138825', '22245973', '6622568', '28129401', '22837466', '107128', '4753449', '5995832', '6378575', '23590474', '12349654', '2489098', '25185383', '27876508', '17978256', '33296484', '187892', '28926501', '34506476', '100387', '17839590', '15764583', '18430347', '23546893', '12161383', '11127700', '27169925', '100579', '27753928', '25362114', '6393092', '6072520', '1795595', '2220938', '1731833', '10333413', '22358461', '2183912', '13572891', '30252', '29146074', '17210471', '8148668', '19885046', '27431021', '688686', '33821053', '23017870', '16002102', '22464464', '18594658', '15984314', '28204540', '24570059', '3581328', '17364932', '553678', '23522284', '13505836', '18775475', '4855525', '18271968', '857125', '25895273', '29209037', '6420788', '925826', '3204379', '32314798', '23012546', '25111012', '22917881', '520980', '6476516', '639341', '6338424', '158584', '12590235', '6338605', '355515', '3032215', '20697505', '18456922', '30685072', '22709473', '30621653', '13615', '30072349', '11596986', '93327', '3032052', '22548046', '17137622', '10890609', '31386984', '7778223', '1261279', '12944455', '6307035', '6826566', '32162894', '20454868', '6608886', '707656', '3392178', '29958494', '422579', '6335124', '105942', '2295823', '160672', '21949165', '22373', '15834138', '8878694', '3401224', '9525', '18691177', '25319035', '28016724', '19592175', '28803140', '720858', '23548127', '8614629', '25007055', '648046', '27824370', '35406198', '17295620', '7852907', '7980865', '16002126', '6019613', '23401591', '8911496', '17899546', '516781', '7741693', '13389694', '59969', '1682416', '15790911', '6398040', '7889803', '7395327', '8447005', '16300652', '11674823', '90975', '22350863', '12213010', '32603783', '7633998', '30068810', '33798977', '12995856', '161266', '8446214', '35481357', '566019', '331203', '13226246', '28118848', '7554', '2280873', '30621652', '1099595', '1114427', '6002396', '761005', '3309428', '3273918', '24704894', '17571564', '9839113', '28186148', '754915', '1807090', '9533116', '25393112', '27840859', '13154701', '17370447', '1497699', '20518876', '136180', '10481306', '7724199', '7607300', '245054', '241614', '21556013', '49807', '23017956', '6314849', '23546870', '12959021', '13153400', '24997635', '777681', '26044461', '582562', '7424524', '1189324', '140148', '16070456', '3159549', '13227480', '17899550', '7062587', '22926803', '29429567', '6351990', '7352661', '2391517', '8631665', '715010', '24388442', '12159923', '22716071', '17888953', '12372951', '17995419', '16098629', '18275990', '140261', '105880', '16117503', '25888544', '13330237', '7518210', '10081000', '1169556', '129030', '36055885', '6681038', '17374231', '33783409', '54741', '13006596', '14896694', '15984334', '23546865', '33824305', '13532145', '22006602', '346484', '13568232', '662613', '22265219', '28862488', '1225518', '23719226', '15800523', '1668584', '15298964', '2506081', '15761108', '203944', '17226336', '35155069', '7890024', '1357871', '4065522', '13570', '36145803', '12696733', '18961783', '23366837', '17911256', '209577', '25130856', '66394', '3354905', '146968', '59715', '13504055', '37261', '6775624', '282736', '500502', '25334680', '20407988', '546965', '9655052', '36350418', '29430981', '1609292', '10986661', '13227969', '16255309', '28953665', '6810679', '13377883', '2869356', '14287958', '7778742', '10908487', '2195245', '597641', '2970420', '4018150', '160843', '32918996', '22358457', '520990', '6494601', '1121045', '12556680', '16231275', '138660', '26247784', '77727', '22571688', '23845801', '1122441', '6394174', '50587', '100585', '3033244', '1063528', '18752062', '25699332', '1798813', '27802791', '34504729', '17666237', '8323661', '26891643', '3283549', '157713', '21480313', '1057285', '22798023', '43574', '10473294', '1918249', '23129889', '6394754', '1091531', '18888452', '25810268', '13529688', '27163020', '18468897', '2314379', '456973', '21635', '6474754', '12920740', '16002131', '1277260', '25660975', '2384828', '11486931', '29562589', '31423327', '18995628', '13227761', '25364367', '18379021', '31180162', '32961079', '14623529', '13446828', '6575654', '2888896', '389808', '43575', '19572098', '1799011', '26138258', '8879121', '23130299', '1019918', '18490859', '20423941', '596003', '1037818', '16141', '15803935', '35855012', '8968665', '22230807', '6565407', '6634538', '8489053', '29324755', '4939241', '30027123', '25641524', '6860662', '516786', '592771', '7165204', '17027036', '17465574', '2263927', '1352645', '20889333', '18427106', '22036437', '8433044', '2254566', '16099205', '106843', '1593255', '862485', '18691083', '15995501', '20945102', '20059529', '18465566', '29845008', '22718664', '13191639', '13773346', '5944956', '4192242', '10538234', '1828256', '6552582', '34889804', '25810226', '21058275', '6609612', '3124317', '13350818', '8544958', '23128379', '287404', '25263415', '13572830', '35154164', '13616238', '5852045', '1856538', '195688', '27387469', '1504271', '7846463', '16005579', '59707', '707894', '391413', '7661897', '953078', '4806025', '18484058', '23155407', '2798708', '24907926', '35703438', '263699', '6343125', '357402', '30334524', '341133', '299947', '7260186', '2766771', '7517343', '26783535', '25456928', '31075944', '12061811', '23484592', '899861', '6218002', '1607839', '10397939', '34860135', '1118746', '19539425', '555351', '25353376', '18359993', '7688663', '1056273', '18144175', '12612730', '22524237', '60295', '33362062', '34467891', '9395668', '18465601', '2198434', '22078240', '23398088', '2354170', '754024', '2599233', '18757876', '305765', '132527', '23551529', '21461089', '20951421', '13496721', '7059393', '20906545', '23546880', '33013263', '356343', '107038', '35215644', '23949397', '57893', '25511472', '1521926', '5893518', '6576852', '19190057', '4355668', '14489582', '28119040', '17929633', '1608940', '1497663', '2098897', '18295928', '2354165', '25066792', '116408', '2893804', '33560557', '1259931', '2050687', '4745144', '480083', '89816', '25783832', '16198478', '1620836', '15798408', '32559779', '3620908', '16687209', '8522794', '14060068', '18333113', '6795143', '1261280', '35583084', '17137665', '25773451', '23211439', '6149789', '5321787', '13088716', '2656653', '564774', '23625605', '23164969', '98414', '1198716', '516795', '882944', '1562646', '31423354', '23012597', '46640', '15799394', '16300639', '13540540', '103917', '3418754', '7852909', '17131968', '1431179', '29058237', '11687083', '1487926', '8657908', '6759677', '33352786', '6347769', '21412487', '16231271', '5055368', '17227893', '13528790', '1014576', '18430370', '13166598', '11725494', '20405467', '7698312', '1850420', '25614383', '3054154', '571984', '3610698', '18430203', '26182107', '12254643', '17704957', '9798108', '13528744', '20945095', '287417', '34938912', '18404437', '199915', '15736533', '21544277', '17594812', '1532254', '2427848', '2377953', '15789361', '31576015', '485933', '18128655', '22707177', '824763', '1739025', '15748644', '23880368', '8612832', '1118899', '2790821', '34508022', '3032213', '14523416', '10590543', '13288775', '17210470', '533014', '23017886', '516783', '33098847', '15772914', '6889271', '28941637', '25353373', '31383622', '30071', '20300538', '32704032', '13610028', '543977', '35669801', '23546906', '24130341', '24722075', '13532251', '32353', '170815', '20702415', '7713249', '129846', '516785', '15841840', '17571007', '5321671', '7932660', '16161174', '3430739', '231715', '8468008', '11817105', '25629228', '20945101', '13630859', '33632674', '17671992', '5321778', '29965826', '8957865', '7295169', '13077588', '17207843', '755526', '34504722', '20518978', '102903', '30126395', '12939492', '24518647', '582615', '31215986', '1030245', '8697402', '10443798', '10729075', '24792637', '569318', '1819656', '107024', '32990738', '107174', '23346470', '22352689', '6493321', '7264270', '31269844', '12084319', '24423372', '19546053', '17182371', '17131962', '79367', '71618', '18682902', '3918010', '27276083', '17785953', '22876260', '46911', '16255242', '18430216', '25787656', '33623562', '34096323', '1311355', '18244494', '8667851', '22055284', '10117381', '6399454', '6928854', '10256353', '635332', '11626473', '6397224', '6550232', '21111646', '849700', '17164564', '17290290', '13533748', '9437524', '20736579', '16143398', '32333014', '22392208', '28963593', '144173', '135760', '47562', '784938', '26030887', '31387199', '33473', '25849579', '26129273', '1350727', '107032', '282735', '13022976', '32473027', '12848809', '107125', '34536949', '32052243', '18295932', '8928004', '31522236', '17277815', '34085580', '18761243', '2669901', '1731834', '26744757', '16071864', '6781271', '9559650', '33233923', '6131723', '327676', '30630464', '5141027', '28260229', '11919476', '856917', '453541', '13573499', '24727085', '26021051', '25618818', '17277802', '3502948', '425611', '31423326', '29233565', '7519918', '12180222', '29934239', '27853424', '19018859', '21524937', '18526544', '26861719', '34788274', '13228235', '30971730', '660067', '14612559', '24862251', '6235920', '12762744', '25233279', '7020686', '2794976', '23609469', '1778008', '13218383', '5948554', '26218846', '6340265', '985386', '3430164', '10648932', '35054830', '1598760', '18478251', '18271951', '148613', '1041763', '30220', '152225', '16255631', '381572', '7873307', '2034492', '22259498', '7963189', '12963707', '298317', '1112141', '26025704', '30201087', '5563473', '12430050', '3734050', '6338434', '2741051', '31338727', '35080975', '31224404', '10293610', '5688586', '204044', '1529810', '25632613', '30652105', '1298892', '13528776', '19435483', '7009918', '17368880', '26832769', '24484258', '6393082', '26030934', '754151', '20299776', '9765253', '34523385', '26073066', '85577', '10398269', '21519431', '28962979', '23395762', '6633531', '27415871', '25216', '1909041', '18278842', '629190', '888825', '313107', '187813', '6343568', '30754981', '29865326', '13374105', '23058187', '22129225', '24796154', '13638518', '14539978', '21433338', '1722923', '1847848', '330744', '32597690', '19536000', '18269934', '25604488', '1961259', '543969', '3577321', '1056806', '26030872', '17182367', '15000181', '22617396', '43734', '176537', '555354', '15789260', '34435148', '33146779', '7278915', '29248706', '23308488', '34214097', '6810624', '1292944', '209968', '24616853', '131268', '698477', '26532133', '10788451', '25861648', '1972664', '8547947', '2200458', '7959097', '24816', '24830026', '30842272', '11687078', '35274632', '263173', '16123326', '271229', '18513581', '13328525', '2980540', '25741828', '6277757', '2143109', '19963', '7455307', '105890', '7703037', '22798034', '33155469', '550803', '7977874', '28165652', '14475529', '18295926', '29534784', '24796116', '23340880', '1272465', '71299', '35500630', '544565', '102440', '283583', '18764191', '26219375', '35489642', '31975', '18775095', '17665388', '21461074', '27415870', '23546826', '17801394', '32177892', '7056265', '94513', '10602455', '6342005', '25937766', '22015649', '7173422', '27252885', '23201054', '16136945', '7456105', '13526222', '5804201', '22735668', '160450', '29207455', '10593913', '105910', '1309332', '43730', '6795596', '36434792', '850492', '29741476', '34803562', '957071', '13587253', '5497737', '18774919', '15789311', '26107554', '79366', '17284349', '2822917', '1385983', '105731', '18373339', '8896691', '39441', '9533112', '8504892', '18744954', '13999567', '1722945', '9805386', '1778001', '23017893', '7939077', '25924776', '357555', '23411834', '3264330', '10360507', '17559628', '18332570', '1220508', '6655371', '30896674', '92143', '7442849', '25903764', '22716172', '17261194', '8523441', '488388', '24848311', '6341742', '6400846', '7095215', '12416280', '2371824', '29282786', '14540140', '7637957', '17137642', '8335312', '17262246', '391002', '261359', '12694011', '25489034', '18527982', '13769', '25577674', '1725193', '12467354', '16049255', '276464', '6391360', '12932636', '668040', '1725517', '31179559', '568596', '25458831', '325730', '25573579', '412279', '8539797', '27238663', '22259494', '2667197', '2116396', '17277791', '87232', '9048265', '954248', '6854502', '32498369', '1011359', '17137641', '23017944', '8602054', '24809729', '993755', '2011600', '861023', '28182790', '4837760', '24530967', '13138831', '36271330', '27476467', '32333007', '28389349', '6449648', '23846185', '9767625', '31951880', '728042', '9260507', '25162010', '583855', '772222', '6795576', '28116246', '11063646', '76574', '13226217', '18775109', '25066752', '16002136', '22595520', '13580807', '31415519', '29331402', '16091', '30249', '33629046', '20610059', '2382805', '13532195', '10852315', '1048450', '6164174', '17183983', '30144488', '28389335', '11097473', '105892', '18713042', '21555998', '16095534', '21855295', '22441432', '23269616', '25861679', '7883365', '6505315', '27246006', '6284107', '10175785', '6912692', '27804382', '8453265', '1228710', '13436373', '9594076', '9359546', '7740364', '180567', '24914024', '22716590', '1898916', '11867736', '812061', '330751', '18899466', '8045586', '18778198', '16058162', '17822774', '22565395', '31420732', '34118582', '282731', '21532247', '32497573', '79841', '25241708', '25956333', '16255243', '2247766', '9682796', '34030308', '20638291', '29467568', '7765853', '15787564', '7390818', '26833050', '13536525', '2384829', '114967', '759776', '35438', '146108', '1054188', '17780860', '30369972', '562835', '19546047', '7028202', '2056075', '18174109', '24564625', '17405342', '4504345', '29499010', '34443773', '8232072', '287237', '35489484', '25066759', '27881921', '8013596', '508567', '16991', '31269230', '35154167', '13260140', '31949122', '34525892', '6337530', '9000564', '5527835', '30139740', '277185', '15854436', '6754926', '18454118', '29507109', '7063178', '410237', '25212890', '31423332', '133924', '11450360', '22738104', '22716587', '30841817', '7082420', '10117395', '27876509', '11311763', '17671971', '24834875', '12761042', '4831029', '936903', '1993014', '6811562', '3622978', '9738685', '4151049', '13051105', '31159613', '6192566', '29775579', '34523172', '3358601', '11277643', '3261230', '29430467', '6331852', '2479215', '33156225', '1227736', '29056624', '25591124', '20815999', '30137584', '1481979', '630624', '12643015', '1485466', '10283693', '2022301', '17259306', '25628034', '15814442', '29332093', '13528797', '22181559', '30288', '7605737', '30731789', '4436767', '25970230', '15894878', '18754802', '12349682', '708693', '18754825', '141486', '31848333', '3769623', '25577608', '21895518', '445937', '562869', '17791477', '21532162', '25934404', '13228236', '13345588', '3596929', '6419634', '33002155', '6372672', '27247279', '25689025', '25473841', '21750696', '13637', '19455067', '18513586', '66483', '166430', '4677763', '582607', '2573173', '32669698', '31678171', '43738', '11356255', '1487923', '23012593', '4745140', '27512250', '1878516', '100623', '10097335', '10850148', '7038468', '13528685', '17137617', '15815091', '1031600', '28109894', '555371', '13611440', '42258', '289232', '13539475', '21524950', '8390854', '17568430', '21998105', '1593072', '790396', '28389339', '18332566', '12349200', '43808', '270547', '23362267', '25463372', '1758441', '9399519', '6553624', '20616508', '35967198', '21524921', '2874995', '161287', '29391630', '23241658', '920607', '30971765', '28458687', '24531650', '174536', '28953805', '13576260', '2269902', '16160462', '1735603', '3130597', '13435262', '24869259', '2283469', '9533132', '6354331', '43733', '6276218', '16117426', '7079985', '5476712', '7362775', '17934766', '222229', '156703', '3577320', '28803101', '34096991', '12731487', '900475', '7232293', '32460152', '1722688', '15772079', '379893', '31338724', '31387202', '34330558', '2353134', '13273802', '1593519', '69735', '25786000', '357556', '35500625', '6496544', '6086315', '34895950', '20613619', '19455120', '5822949', '26214559', '34804342', '18853461', '11389753', '5513689', '8530148', '23624332', '13155842', '35130444', '35059669', '19150438', '31085012', '13414820', '13528761', '12413203', '23093359', '280931', '4834618', '23339814', '2977406', '33126598', '14781525', '25608207', '1212016', '12981097', '249790', '17611127', '118944', '6856942', '9249566', '30419642', '21813486', '22034888', '9107928', '28222737', '6892613', '15871576', '3613431', '402228', '5212751', '109243', '1601177', '21469092', '27829367', '8497641', '17277783', '3418697', '969395', '6407014', '7118999', '12639841', '10142794', '4961959', '13592071', '20837178', '154629', '1967070', '5321608', '16070162', '7779474', '22887973', '8421509', '429228', '7619569', '17671939', '24209891', '1426373', '1903233', '4447734', '9065071', '923015', '325752', '8248529', '284000', '6686671', '25614994', '25295181', '23008245', '23907430', '7314147', '23688', '9673504', '33346365', '9207753', '18373324', '23848567', '32445058', '17561435', '376454', '25216223', '13635297', '27209219', '8770502', '19539380', '2116553', '412287', '2013472', '26568784', '21489170', '23122898', '8542640', '23397496', '18689586', '29507113', '18687155', '18359974', '17794084', '23399671', '175216', '630621', '13244793', '559756', '8462092', '62311', '13557891', '6019653', '6232218', '23225941', '5663327', '74927', '3306103', '4184715', '19024655', '2006432', '16098198', '1081965', '24886283', '4022610', '32768402', '15798792', '104036', '4469788', '1382693', '587594', '47695', '31855850', '17785918', '15714509', '18594409', '7091922', '19186361', '7750169', '16071889', '4008489', '7244837', '28389358', '5948569', '476912', '8172', '938935', '271973', '32454526', '3122161', '6266051', '22756095', '23310720', '9179491', '2775836', '342065', '22356', '1725519', '7494986', '18739039', '11081964', '13415039', '21555973', '673369', '14431290', '11007020', '9644153', '9866153', '6028413', '676946', '698056', '18360556', '627201', '92062', '2261603', '821804', '24930218', '13336522', '17454779', '26527730', '17157646', '9622278', '412282', '23017878', '12448433', '11921769', '11106218', '715052', '25332000', '25054299', '6215968', '105868', '32569155', '850297', '11066469', '15867178', '811592', '1426703', '3707661', '4670831', '33985811', '1103544', '9640779', '32600766', '7167845', '4630300', '11475048', '11451417', '1273012', '16136707', '17851883', '1357165', '22351', '10479943', '20898019', '6053825', '918864', '343984', '32478892', '13153403', '17131869', '25810153', '806609', '85596', '16099213', '6283949', '9002750', '18691080', '21330', '18513596', '29151467', '13537847', '25747541', '553444', '15984326', '69139', '6797500', '52365', '16181343', '400676', '29359046', '2383130', '28588125', '17834869', '7740365', '17671959', '321100', '7285962', '6205658', '6415456', '10138607', '1121053', '16176724', '1992804', '22406', '27247277', '542337', '34594082', '30032548', '451932', '273612', '117683', '1807568', '25241782', '28222785', '3340195', '18782123', '25415799', '954303', '36259780', '33541512', '10796571', '10796565', '8791502', '7195196', '8933023', '18691064', '6771193', '23257942', '17671968', '1445527', '6792156', '22464750', '26255703', '226545', '2424362', '22469', '22809398', '32332713', '13227798', '412001', '788178', '2999495', '33163379', '13501322', '3013721', '32619995', '90967', '1159556', '564758', '34379387', '595981', '29071035', '80834', '3995495', '310515', '8045163', '5291282', '1020032', '22245601', '12396960', '10458297', '25415083', '3768830', '32997216', '26124614', '26138090', '1020986', '231915', '15789145', '34804625', '2970434', '12680555', '25252441', '9446190', '6339840', '27157815', '3535760', '17874171', '556247', '15765623', '2486619', '2344489', '23241666', '2876033', '2324092', '9476367', '13636', '18515603', '24888224', '29569551', '20420436', '23093367', '2250839', '6419566', '207585', '30809500', '15831930', '27474528', '750692', '10224596', '13457078', '14568235', '18143822', '5702914', '10104846', '30752420', '7776019', '31080', '11823225', '26031288', '1443668', '5605371', '13172196', '30301478', '25699327', '22716197', '538865', '30621661', '7221887', '29775583', '16255304', '769129', '52437', '3183466', '8265825', '23546845', '13228357', '18373317', '18310283', '17137619', '296593', '33623160', '34803729', '33368446', '15764112', '298473', '34832639', '27207279', '16107880', '23123945', '30181373', '22372904', '22092273', '7905977', '6403058', '18373326', '12852746', '273607', '25810152', '10889905', '7965565', '20601426', '26212962', '383240', '476913', '32783840', '2200042', '4621739', '424597', '6047620', '1720701', '12541221', '17454635', '25846801', '13228306', '28695406', '13273985', '15798852', '17137606', '18004366', '29239071', '15798377', '610448', '106032', '111828', '13089975', '1497104', '17826863', '21800926', '17277838', '33153951', '11037469', '13779506', '16163025', '30251', '402223', '31343810', '174529', '30842156', '22383', '25864001', '23686', '28339299', '330659', '13085985', '22080668', '873414', '26060180', '6681611', '25330323', '8481983', '1842008', '29332094', '25074182', '9015611', '642194', '9864447', '422285', '35232851', '5202318', '14857498', '22358', '26102969', '603250', '33542066', '795228', '23017994', '23440067', '10480048', '1898374', '357401', '6089864', '18373313', '5023878', '782653', '1163897', '13093226', '32473025', '18907585', '28109971', '161282', '19288089', '18430804', '18691099', '4986746', '10862575', '18667307', '17157751', '6307034', '7825897', '195670', '22089227', '179174', '9122754', '154577', '19172115', '17671973', '24456193', '17927470', '5948534', '21556001', '11593458', '28109902', '23546843', '11261335', '14885886', '30341615', '644083', '26127561', '15925055', '24722087', '23492382', '3128795', '222308', '13539209', '18954391', '35656993', '206762', '20691043', '15868875', '15798404', '21638', '7326169', '21873010', '20341911', '23017929', '31390214', '32861797', '2277025', '11251505', '27217506', '19539421', '25066824', '21469048', '9129474', '6353855', '6413330', '9361864', '1535935', '23546887', '23546815', '6304240', '3296718', '2314378', '25814053', '7941986', '1440882', '441679', '13398198', '17671896', '30823364', '25972218', '1722944', '24778888', '154798', '6285252', '20244336', '105874', '13641445', '22544655', '15731604', '28798322', '9883775', '22807865', '11389343', '16280879', '17159512', '10032313', '13573077', '287259', '1206335', '3090299', '18719974', '31927586', '6730644', '23126186', '16132891', '13528805', '22609163', '4589025', '12535224', '24686213', '707621', '18465536', '18734043', '17663557', '24775981', '11711994', '1299981', '1284030', '27405551', '17228458', '109246', '22878114', '28235596', '28159719', '10333414', '10215800', '25032883', '6526211', '3032187', '26831328', '8456710', '2539522', '21948094', '15746861', '3362227', '8354416', '11296523', '27247273', '21556007', '33785508', '26146581', '16791', '30821703', '7594392', '880401', '9422029', '12243857', '27068565', '248869', '3581352', '13008262', '11464905', '10968887', '14738347', '7326835', '6673071', '30301502', '2793265', '27248586', '8202441', '31140450', '8930217', '1835662', '30301451', '330746', '821801', '2439175', '6130907', '10339042', '13561733', '106076', '1168196', '17287069', '6017795', '25810156', '9914560', '18373331', '18777607', '29916460', '9634198', '23167766', '25536846', '3179941', '270540', '24366586', '22600759', '302696', '30534809', '1259925', '739985', '16987', '17137595', '21480575', '10460297', '582601', '7132696', '8539798', '916790', '8225326', '17315224', '28116796', '25932842', '5196592', '9276509', '17287068', '1022587', '31446714', '1957267', '168405', '22291145', '35833506', '258028', '12477413', '27843647', '471899', '22812023', '1214485', '21248430', '30270589', '6700361', '8496909', '105861', '38990', '25456263', '38424', '25111295', '25620711', '23017880', '29102847', '16277248', '6470075', '9464942', '15789163', '6076524', '32856237', '18782124', '11805165', '239418', '21408127', '44101', '2473632', '15809699', '1311025', '31839011', '24778909', '30813192', '19532233', '18490857', '863050', '43288', '271321', '7118507', '601341', '18174114', '15798418', '25152', '33119312', '2261591', '27272338', '1373038', '13810165', '23492421', '716631', '18468276', '6408524', '35432376', '305767', '17698701', '15668', '1187422', '1936454', '873431', '23568138', '29790393', '34363421', '23352889', '23577092', '15666', '18373333', '2725066', '26810301', '23017547', '34726979', '416534', '25387789', '516772', '15705318', '33362146', '26872190', '9501285', '19924693', '29430813', '26235242', '218391', '12668720', '18050189', '19082163', '11912708', '34661229', '1735835', '7942604', '570831', '17296221', '8337608', '15808508', '14472513', '7204652', '12905050', '26313803', '7364390', '27760675', '29507125', '3032188', '11389455', '15797746', '9367853', '6584405', '13532197', '17137611', '17832686', '2208892', '21489166', '29467580', '20313290', '18121289', '17934765', '1136465', '19147953', '22464757', '32478893', '23829282', '31616111', '1270615', '7150178', '24811858', '591632', '23503834', '4657014', '30325381', '30831908', '22324602', '25102', '18259637', '30193070', '18635092', '1849108', '16002165', '25741817', '26085', '506636', '6940239', '22246166', '13308447', '17182377', '14654395', '20638245', '10117368', '34933354', '667987', '2279896', '18765926', '18248518', '1028516', '8596384', '10127884', '1133725', '17364168', '23197447', '5497742', '205981', '17257618', '3310926', '15803891', '18208501', '20299680', '13490570', '10402722', '2681418', '20673698', '10807515', '22401671', '6796462', '6362841'}\n"
     ]
    }
   ],
   "source": [
    "print(items)"
   ],
   "metadata": {
    "collapsed": false
   }
  },
  {
   "cell_type": "code",
   "execution_count": 112,
   "outputs": [
    {
     "data": {
      "text/plain": "array([-0.0250452 ,  0.05349835, -0.01671794,  0.07662286, -0.06373516,\n       -0.02672544, -0.06240458,  0.09797559, -0.02655385, -0.06740941],\n      dtype=float32)"
     },
     "execution_count": 112,
     "metadata": {},
     "output_type": "execute_result"
    }
   ],
   "source": [
    "item1 = model10.wv['8230486']\n",
    "item1\n",
    "item2 = model10.wv['8849965']\n",
    "item2"
   ],
   "metadata": {
    "collapsed": false
   }
  },
  {
   "cell_type": "code",
   "execution_count": 113,
   "outputs": [
    {
     "name": "stdout",
     "output_type": "stream",
     "text": [
      "-0.014061371776140126\n"
     ]
    }
   ],
   "source": [
    "print(Cosine(item1,item2))"
   ],
   "metadata": {
    "collapsed": false
   }
  },
  {
   "cell_type": "code",
   "execution_count": 114,
   "metadata": {},
   "outputs": [],
   "source": [
    "def predit_rating(user,item):\n",
    "    Rating_mean = sum(RatingPerUser[user])/len(RatingPerUser[user])\n",
    "    numer = 0\n",
    "    denom = 0\n",
    "    for j in ItemPerUser[user]:\n",
    "         if item == j: continue\n",
    "         sim = Cosine(model10.wv[item],model10.wv[j])\n",
    "         numer += (RatingPerPair[(user,j)]-sum(RatingPerItem[j])/len(RatingPerItem[j]))*sim\n",
    "         denom += sim\n",
    "    if denom == 0: return Rating_mean\n",
    "    return Rating_mean + numer/denom"
   ]
  },
  {
   "cell_type": "code",
   "execution_count": 115,
   "outputs": [],
   "source": [
    "def MSE(Y,Y_pred):\n",
    "    mse = numpy.square(numpy.subtract(numpy.array(Y),numpy.array(Y_pred))).mean()\n",
    "    return mse"
   ],
   "metadata": {
    "collapsed": false
   }
  },
  {
   "cell_type": "code",
   "execution_count": 116,
   "outputs": [],
   "source": [
    "y = []\n",
    "y_pred=[]\n",
    "for d in dataset[:1000]:\n",
    "    u,b,r = d['user_id'],d['book_id'],d['rating']\n",
    "    y.append(int(r))\n",
    "    y_pred.append(predit_rating(u,b))"
   ],
   "metadata": {
    "collapsed": false
   }
  },
  {
   "cell_type": "code",
   "execution_count": 117,
   "outputs": [
    {
     "name": "stdout",
     "output_type": "stream",
     "text": [
      "1000\n",
      "4.6193260018382585\n",
      "110.4315724309804\n"
     ]
    }
   ],
   "source": [
    "mse4 = MSE(y,y_pred)\n",
    "print(len(y))\n",
    "print(y_pred[1])\n",
    "print(mse4)"
   ],
   "metadata": {
    "collapsed": false
   }
  },
  {
   "cell_type": "code",
   "execution_count": 118,
   "metadata": {},
   "outputs": [],
   "source": [
    "answers['Q4'] = mse4"
   ]
  },
  {
   "cell_type": "code",
   "execution_count": 119,
   "metadata": {},
   "outputs": [],
   "source": [
    "assertFloat(answers['Q4'])"
   ]
  },
  {
   "cell_type": "code",
   "execution_count": 120,
   "metadata": {},
   "outputs": [],
   "source": [
    "### Q5"
   ]
  },
  {
   "cell_type": "code",
   "execution_count": 121,
   "outputs": [],
   "source": [
    "def Jaccard(s1, s2):\n",
    "    numer = len(s1.intersection(s2))\n",
    "    denom = len(s1.union(s2))\n",
    "    if denom == 0:\n",
    "        return 0\n",
    "    return numer / denom"
   ],
   "metadata": {
    "collapsed": false
   }
  },
  {
   "cell_type": "code",
   "execution_count": 136,
   "metadata": {},
   "outputs": [],
   "source": [
    "def predit_rating2(user,item):\n",
    "    Rating_mean = sum(RatingPerUser[user])/len(RatingPerUser[user])\n",
    "    numer = 0\n",
    "    denom = 0\n",
    "    for j in ItemPerUser[user]:\n",
    "         if item == j: continue\n",
    "         sim = Jaccard(set(model10.wv[item]),set(model10.wv[j]))\n",
    "         numer += (RatingPerPair[(u,j)]-sum(RatingPerItem[j])/len(RatingPerItem[j]))*sim\n",
    "         denom += sim\n",
    "    #deal with the cold start\n",
    "    if denom == 0: return Rating_mean\n",
    "    return Rating_mean + numer/denom"
   ]
  },
  {
   "cell_type": "code",
   "execution_count": 137,
   "outputs": [],
   "source": [
    "def predit_rating_iterchange(user,item):\n",
    "    Rating_mean = sum(RatingPerItem[item])/len(RatingPerItem[item])\n",
    "    numer = 0\n",
    "    denom = 0\n",
    "    for u in UserPerItem[item]:\n",
    "         if user == u: continue\n",
    "         sim = Jaccard(ItemPerUser[u],ItemPerUser[user])\n",
    "         numer += (RatingPerPair[(u,item)]-sum(RatingPerUser[u])/len(RatingPerUser[u]))*sim\n",
    "         denom += sim\n",
    "    if denom == 0: return Rating_mean\n",
    "    return Rating_mean + numer/denom"
   ],
   "metadata": {
    "collapsed": false
   }
  },
  {
   "cell_type": "code",
   "execution_count": 140,
   "outputs": [],
   "source": [
    "y = []\n",
    "y_pred=[]\n",
    "for d in dataset[:1000]:\n",
    "    u,b,r = d['user_id'],d['book_id'],d['rating']\n",
    "    y.append(int(r))\n",
    "    y_pred.append(predit_rating2(u,b))"
   ],
   "metadata": {
    "collapsed": false
   }
  },
  {
   "cell_type": "code",
   "execution_count": 141,
   "outputs": [
    {
     "name": "stdout",
     "output_type": "stream",
     "text": [
      "1000\n",
      "4.125\n",
      "0.9219204538702108\n"
     ]
    }
   ],
   "source": [
    "mse5 = MSE(y,y_pred)\n",
    "print(len(y))\n",
    "print(y_pred[1])\n",
    "print(mse5)"
   ],
   "metadata": {
    "collapsed": false
   }
  },
  {
   "cell_type": "code",
   "execution_count": 142,
   "metadata": {},
   "outputs": [],
   "source": [
    "answers['Q5'] = [\"Use the jaccard similarity to replace cosine\",\n",
    "                 mse5]"
   ]
  },
  {
   "cell_type": "code",
   "execution_count": 143,
   "metadata": {},
   "outputs": [],
   "source": [
    "assert len(answers['Q5']) == 2\n",
    "assert type(answers['Q5'][0]) == str\n",
    "assertFloat(answers['Q5'][1])"
   ]
  },
  {
   "cell_type": "code",
   "execution_count": 144,
   "metadata": {},
   "outputs": [],
   "source": [
    "f = open(\"answers_hw4.txt\", 'w')\n",
    "f.write(str(answers) + '\\n')\n",
    "f.close()"
   ]
  },
  {
   "cell_type": "code",
   "execution_count": null,
   "metadata": {},
   "outputs": [],
   "source": []
  }
 ],
 "metadata": {
  "kernelspec": {
   "display_name": "Python 3 (ipykernel)",
   "language": "python",
   "name": "python3"
  },
  "language_info": {
   "codemirror_mode": {
    "name": "ipython",
    "version": 3
   },
   "file_extension": ".py",
   "mimetype": "text/x-python",
   "name": "python",
   "nbconvert_exporter": "python",
   "pygments_lexer": "ipython3",
   "version": "3.7.3"
  }
 },
 "nbformat": 4,
 "nbformat_minor": 2
}
