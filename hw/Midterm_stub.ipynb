{
 "cells": [
  {
   "cell_type": "code",
   "execution_count": 8,
   "metadata": {
    "collapsed": true
   },
   "outputs": [],
   "source": [
    "import json\n",
    "import gzip\n",
    "import math\n",
    "from collections import defaultdict\n",
    "import numpy\n",
    "from sklearn import linear_model"
   ]
  },
  {
   "cell_type": "code",
   "execution_count": 9,
   "outputs": [],
   "source": [
    "# This will suppress any warnings, comment out if you'd like to preserve them\n",
    "import warnings\n",
    "warnings.filterwarnings(\"ignore\")"
   ],
   "metadata": {
    "collapsed": false
   }
  },
  {
   "cell_type": "code",
   "execution_count": 10,
   "outputs": [],
   "source": [
    "# Check formatting of submissions\n",
    "def assertFloat(x):\n",
    "    assert type(float(x)) == float\n",
    "\n",
    "def assertFloatList(items, N):\n",
    "    assert len(items) == N\n",
    "    assert [type(float(x)) for x in items] == [float]*N"
   ],
   "metadata": {
    "collapsed": false
   }
  },
  {
   "cell_type": "code",
   "execution_count": 11,
   "outputs": [],
   "source": [
    "answers = {}"
   ],
   "metadata": {
    "collapsed": false
   }
  },
  {
   "cell_type": "code",
   "execution_count": 12,
   "outputs": [],
   "source": [
    "f = open(\"spoilers.json.gz\", 'r')\n",
    "#f = gzip.open(\"spoilers.json.gz\", 'r')"
   ],
   "metadata": {
    "collapsed": false
   }
  },
  {
   "cell_type": "code",
   "execution_count": 13,
   "outputs": [],
   "source": [
    "dataset = []\n",
    "for l in f:\n",
    "    d = eval(l)\n",
    "    dataset.append(d)"
   ],
   "metadata": {
    "collapsed": false
   }
  },
  {
   "cell_type": "code",
   "execution_count": 14,
   "outputs": [],
   "source": [
    "f.close()"
   ],
   "metadata": {
    "collapsed": false
   }
  },
  {
   "cell_type": "code",
   "execution_count": 15,
   "outputs": [],
   "source": [
    "# A few utility data structures\n",
    "reviewsPerUser = defaultdict(list)\n",
    "reviewsPerItem = defaultdict(list)\n",
    "\n",
    "userPerItem = defaultdict(set)\n",
    "ItemPerUser = defaultdict(set)\n",
    "users = set()\n",
    "items = set()\n",
    "\n",
    "for d in dataset:\n",
    "    u,i,r = d['user_id'],d['book_id'],d['rating']\n",
    "    reviewsPerUser[u].append(d)\n",
    "    reviewsPerItem[i].append(d)\n",
    "    userPerItem[i].add(u)\n",
    "    ItemPerUser[u].add(i)\n",
    "    users.add(u)\n",
    "    items.add(i)\n",
    "\n",
    "# Sort reviews per user by timestamp\n",
    "for u in reviewsPerUser:\n",
    "    reviewsPerUser[u].sort(key=lambda x: x['timestamp'])\n",
    "\n",
    "# Same for reviews per item\n",
    "for i in reviewsPerItem:\n",
    "    reviewsPerItem[i].sort(key=lambda x: x['timestamp'])"
   ],
   "metadata": {
    "collapsed": false
   }
  },
  {
   "cell_type": "code",
   "execution_count": 16,
   "outputs": [
    {
     "data": {
      "text/plain": "['2012-03-13',\n '2013-05-06',\n '2013-09-03',\n '2015-04-05',\n '2016-02-10',\n '2016-05-29']"
     },
     "execution_count": 16,
     "metadata": {},
     "output_type": "execute_result"
    }
   ],
   "source": [
    "# E.g. reviews for this user are sorted from earliest to most recent\n",
    "[d['timestamp'] for d in reviewsPerUser['b0d7e561ca59e313b728dc30a5b1862e']]"
   ],
   "metadata": {
    "collapsed": false
   }
  },
  {
   "cell_type": "code",
   "execution_count": 17,
   "outputs": [],
   "source": [
    "### 1a"
   ],
   "metadata": {
    "collapsed": false
   }
  },
  {
   "cell_type": "code",
   "execution_count": 18,
   "outputs": [],
   "source": [
    "def MSE(Y,Y_pred):\n",
    "    mse = numpy.square(numpy.subtract(numpy.array(Y),numpy.array(Y_pred))).mean()\n",
    "    return mse"
   ],
   "metadata": {
    "collapsed": false
   }
  },
  {
   "cell_type": "code",
   "execution_count": 19,
   "outputs": [
    {
     "name": "stdout",
     "output_type": "stream",
     "text": [
      "6\n"
     ]
    }
   ],
   "source": [
    "print(len(reviewsPerUser['b0d7e561ca59e313b728dc30a5b1862e']))"
   ],
   "metadata": {
    "collapsed": false
   }
  },
  {
   "cell_type": "code",
   "execution_count": 20,
   "outputs": [],
   "source": [
    "y = []\n",
    "y_pred = []"
   ],
   "metadata": {
    "collapsed": false
   }
  },
  {
   "cell_type": "code",
   "execution_count": 21,
   "outputs": [],
   "source": [
    "for u in reviewsPerUser.keys():\n",
    "    if len(reviewsPerUser[u]) <= 1: continue\n",
    "    sum_rating = []\n",
    "    d = reviewsPerUser[u][-1]\n",
    "    r = int(d['rating'])\n",
    "    y.append(r)\n",
    "    for i in range(2,len(reviewsPerUser[u])+1):\n",
    "        d = reviewsPerUser[u][-i]\n",
    "        r = int(d['rating'])\n",
    "        sum_rating.append(r)\n",
    "    y_pred.append(numpy.mean(sum_rating))"
   ],
   "metadata": {
    "collapsed": false
   }
  },
  {
   "cell_type": "code",
   "execution_count": 22,
   "outputs": [],
   "source": [
    "answers['Q1a'] = MSE(y,y_pred)"
   ],
   "metadata": {
    "collapsed": false
   }
  },
  {
   "cell_type": "code",
   "execution_count": 23,
   "outputs": [],
   "source": [
    "assertFloat(answers['Q1a'])"
   ],
   "metadata": {
    "collapsed": false
   }
  },
  {
   "cell_type": "code",
   "execution_count": 24,
   "outputs": [],
   "source": [
    "y = []\n",
    "y_pred = []"
   ],
   "metadata": {
    "collapsed": false
   }
  },
  {
   "cell_type": "code",
   "execution_count": 25,
   "outputs": [],
   "source": [
    "for i in reviewsPerItem.keys():\n",
    "    if len(reviewsPerItem[i]) <= 1: continue\n",
    "    sum_rating = []\n",
    "    d = reviewsPerItem[i][-1]\n",
    "    r = int(d['rating'])\n",
    "    y.append(r)\n",
    "    for j in range(2,len(reviewsPerItem[i])+1):\n",
    "        d = reviewsPerItem[i][-j]\n",
    "        r = int(d['rating'])\n",
    "        sum_rating.append(r)\n",
    "    y_pred.append(numpy.mean(sum_rating))"
   ],
   "metadata": {
    "collapsed": false
   }
  },
  {
   "cell_type": "code",
   "execution_count": 26,
   "outputs": [],
   "source": [
    "answers['Q1b'] = MSE(y,y_pred)"
   ],
   "metadata": {
    "collapsed": false
   }
  },
  {
   "cell_type": "code",
   "execution_count": 27,
   "outputs": [],
   "source": [
    "assertFloat(answers['Q1b'])"
   ],
   "metadata": {
    "collapsed": false
   }
  },
  {
   "cell_type": "code",
   "execution_count": 28,
   "outputs": [],
   "source": [
    "### 2"
   ],
   "metadata": {
    "collapsed": false
   }
  },
  {
   "cell_type": "code",
   "execution_count": 29,
   "outputs": [],
   "source": [
    "answers['Q2'] = []\n",
    "for N in [1,2,3]:\n",
    "  y = []\n",
    "  y_pred = []\n",
    "  for u in reviewsPerUser.keys():\n",
    "    if len(reviewsPerUser[u]) <= 1: continue\n",
    "    sum_rating = []\n",
    "    d = reviewsPerUser[u][-1]\n",
    "    r = int(d['rating'])\n",
    "    y.append(r)\n",
    "    for i in range(2,len(reviewsPerUser[u])+1):\n",
    "        d = reviewsPerUser[u][-i]\n",
    "        r = int(d['rating'])\n",
    "        sum_rating.append(r)\n",
    "        if  len(sum_rating) == N:\n",
    "           #sum_rating.remove(sum_rating[0])\n",
    "           break\n",
    "    y_pred.append(numpy.mean(sum_rating))\n",
    "  answers['Q2'].append(MSE(y,y_pred))"
   ],
   "metadata": {
    "collapsed": false
   }
  },
  {
   "cell_type": "code",
   "execution_count": 30,
   "outputs": [],
   "source": [
    "assertFloatList(answers['Q2'], 3)"
   ],
   "metadata": {
    "collapsed": false
   }
  },
  {
   "cell_type": "code",
   "execution_count": 31,
   "outputs": [],
   "source": [
    "### 3a"
   ],
   "metadata": {
    "collapsed": false
   }
  },
  {
   "cell_type": "code",
   "execution_count": 32,
   "outputs": [],
   "source": [
    "def feature3(N, u): # For a user u and a window size of N\n",
    "    sum_rating = []\n",
    "    sum_rating.append(1)\n",
    "    for i in range(2,len(reviewsPerUser[u])+1):\n",
    "        #print(i)\n",
    "        d = reviewsPerUser[u][-i]\n",
    "        r = int(d['rating'])\n",
    "        sum_rating.append(r)\n",
    "        if len(sum_rating) == N+1:\n",
    "           break\n",
    "    return sum_rating"
   ],
   "metadata": {
    "collapsed": false
   }
  },
  {
   "cell_type": "code",
   "execution_count": 33,
   "outputs": [],
   "source": [
    "answers['Q3a'] = [feature3(2,dataset[0]['user_id']), feature3(3,dataset[0]['user_id'])]"
   ],
   "metadata": {
    "collapsed": false
   }
  },
  {
   "cell_type": "code",
   "execution_count": 34,
   "outputs": [],
   "source": [
    "assert len(answers['Q3a']) == 2\n",
    "assert len(answers['Q3a'][0]) == 3\n",
    "assert len(answers['Q3a'][1]) == 4"
   ],
   "metadata": {
    "collapsed": false
   }
  },
  {
   "cell_type": "code",
   "execution_count": 35,
   "outputs": [
    {
     "data": {
      "text/plain": "3"
     },
     "execution_count": 35,
     "metadata": {},
     "output_type": "execute_result"
    }
   ],
   "source": [
    "len(answers['Q3a'][0])"
   ],
   "metadata": {
    "collapsed": false
   }
  },
  {
   "cell_type": "code",
   "execution_count": 36,
   "outputs": [],
   "source": [
    "### 3b"
   ],
   "metadata": {
    "collapsed": false
   }
  },
  {
   "cell_type": "code",
   "execution_count": 37,
   "outputs": [],
   "source": [
    "answers['Q3b'] = []\n",
    "for N in [1,2,3]:\n",
    "    Y = []\n",
    "    X = []\n",
    "    for u in reviewsPerUser.keys():\n",
    "        if len(reviewsPerUser[u]) <= N+1: continue\n",
    "        Y.append(reviewsPerUser[u][-1]['rating'])\n",
    "        X.append(feature3(N,u))\n",
    "    X = numpy.matrix(X)\n",
    "    Y = numpy.matrix(Y).T\n",
    "    model = linear_model.LinearRegression(fit_intercept=False)\n",
    "    model.fit(X, Y)\n",
    "    theta = model.coef_\n",
    "    Y_pred = model.predict(X)\n",
    "    mse = MSE(Y,Y_pred)\n",
    "    answers['Q3b'].append(mse)"
   ],
   "metadata": {
    "collapsed": false
   }
  },
  {
   "cell_type": "code",
   "execution_count": 38,
   "outputs": [],
   "source": [
    "assertFloatList(answers['Q3b'], 3)"
   ],
   "metadata": {
    "collapsed": false
   }
  },
  {
   "cell_type": "code",
   "execution_count": 39,
   "outputs": [],
   "source": [
    "### 4a"
   ],
   "metadata": {
    "collapsed": false
   }
  },
  {
   "cell_type": "code",
   "execution_count": 40,
   "outputs": [],
   "source": [
    "globalAverage = [d['rating'] for d in dataset]\n",
    "globalAverage = sum(globalAverage) / len(globalAverage)"
   ],
   "metadata": {
    "collapsed": false
   }
  },
  {
   "cell_type": "code",
   "execution_count": 41,
   "outputs": [],
   "source": [
    "def featureMeanValue(N, u): # For a user u and a window size of N\n",
    "    sum_rating = []\n",
    "    sum_rating.append(1)\n",
    "    sum = 0\n",
    "    for i in range(2,N+2):\n",
    "        #print(i)\n",
    "      if i <= len(reviewsPerUser[u]):\n",
    "        d = reviewsPerUser[u][-i]\n",
    "        r = int(d['rating'])\n",
    "        sum_rating.append(r)\n",
    "        sum += r\n",
    "      else:\n",
    "        sum_rating.append(sum/(len(reviewsPerUser[u])-1))\n",
    "    return sum_rating"
   ],
   "metadata": {
    "collapsed": false
   }
  },
  {
   "cell_type": "code",
   "execution_count": 42,
   "outputs": [],
   "source": [
    "def featureMissingValue(N, u):\n",
    "    sum_rating = []\n",
    "    sum_rating.append(1)\n",
    "    for i in range(2,N+2):\n",
    "      if i <= len(reviewsPerUser[u]):\n",
    "        d = reviewsPerUser[u][-i]\n",
    "        r = int(d['rating'])\n",
    "        sum_rating.append(0)\n",
    "        sum_rating.append(r)\n",
    "      else:\n",
    "        sum_rating.append(1)\n",
    "        sum_rating.append(0)\n",
    "    return sum_rating"
   ],
   "metadata": {
    "collapsed": false
   }
  },
  {
   "cell_type": "code",
   "execution_count": 43,
   "outputs": [],
   "source": [
    "answers['Q4a'] = [featureMeanValue(10, dataset[0]['user_id']), featureMissingValue(10, dataset[0]['user_id'])]"
   ],
   "metadata": {
    "collapsed": false
   }
  },
  {
   "cell_type": "code",
   "execution_count": 44,
   "outputs": [],
   "source": [
    "assert len(answers['Q4a']) == 2\n",
    "assert len(answers['Q4a'][0]) == 11\n",
    "assert len(answers['Q4a'][1]) == 21"
   ],
   "metadata": {
    "collapsed": false
   }
  },
  {
   "cell_type": "code",
   "execution_count": 45,
   "outputs": [],
   "source": [
    "### 4b"
   ],
   "metadata": {
    "collapsed": false
   }
  },
  {
   "cell_type": "code",
   "execution_count": 46,
   "outputs": [],
   "source": [
    "answers['Q4b'] = []\n",
    "for featFunc in [featureMeanValue, featureMissingValue]:\n",
    "    Y = []\n",
    "    X = []\n",
    "    for u in reviewsPerUser.keys():\n",
    "       if len(reviewsPerUser[u]) <= 1: continue\n",
    "       Y.append(reviewsPerUser[u][-1]['rating'])\n",
    "       X.append(featFunc(10,u))\n",
    "    X = numpy.matrix(X)\n",
    "    Y = numpy.matrix(Y).T\n",
    "    model = linear_model.LinearRegression(fit_intercept=False)\n",
    "    model.fit(X, Y)\n",
    "    theta = model.coef_\n",
    "    Y_pred = model.predict(X)\n",
    "    mse = MSE(Y,Y_pred)\n",
    "    answers['Q4b'].append(mse)"
   ],
   "metadata": {
    "collapsed": false
   }
  },
  {
   "cell_type": "code",
   "execution_count": 47,
   "outputs": [],
   "source": [
    "assertFloatList(answers[\"Q4b\"], 2)"
   ],
   "metadata": {
    "collapsed": false
   }
  },
  {
   "cell_type": "code",
   "execution_count": 48,
   "outputs": [],
   "source": [
    "### 5"
   ],
   "metadata": {
    "collapsed": false
   }
  },
  {
   "cell_type": "code",
   "execution_count": 49,
   "outputs": [],
   "source": [
    "def feature5(sentence):\n",
    "    feature = []\n",
    "    feature.append(1)\n",
    "    feature.append(len(sentence))\n",
    "    fea1 = 0\n",
    "    fea2 = 0\n",
    "    for ch in sentence:\n",
    "        if ch == '!': fea1 += 1\n",
    "        if ch.isupper(): fea2 += 1\n",
    "    feature.append(fea1)\n",
    "    feature.append(fea2)\n",
    "    return feature"
   ],
   "metadata": {
    "collapsed": false
   }
  },
  {
   "cell_type": "code",
   "execution_count": 50,
   "outputs": [],
   "source": [
    "Y = []\n",
    "X = []\n",
    "\n",
    "for d in dataset:\n",
    "    for spoiler,sentence in d['review_sentences']:\n",
    "        X.append(feature5(sentence))\n",
    "        Y.append(spoiler)"
   ],
   "metadata": {
    "collapsed": false
   }
  },
  {
   "cell_type": "code",
   "execution_count": 51,
   "outputs": [
    {
     "name": "stdout",
     "output_type": "stream",
     "text": [
      "[[-0.10011676  0.00121171  0.05295309  0.03518246]]\n",
      "[0 1]\n"
     ]
    }
   ],
   "source": [
    "# Logistic regression classifier\n",
    "clf = linear_model.LogisticRegression(C=1, class_weight='balanced')\n",
    "clf.fit(X, Y)\n",
    "print(clf.coef_)\n",
    "print(clf.classes_)\n",
    "pred = clf.predict(X)\n",
    "theta = numpy.matrix(clf.coef_)"
   ],
   "metadata": {
    "collapsed": false
   }
  },
  {
   "cell_type": "code",
   "execution_count": 52,
   "outputs": [],
   "source": [
    "answers['Q5a'] = X[0]"
   ],
   "metadata": {
    "collapsed": false
   }
  },
  {
   "cell_type": "code",
   "execution_count": 53,
   "outputs": [
    {
     "name": "stdout",
     "output_type": "stream",
     "text": [
      "TP =  2384\n",
      "FP =  86232\n",
      "TN =  168945\n",
      "FN =  3615\n",
      "ACC =  0.6559905963794529\n",
      "BER =  0.4702652880062319\n"
     ]
    }
   ],
   "source": [
    "# True positives, false positives, etc.\n",
    "TP_ = numpy.logical_and(pred, Y)\n",
    "TP = sum(TP_)\n",
    "print('TP = ', TP)\n",
    "\n",
    "FP_ = numpy.logical_and(pred, numpy.logical_not(Y))\n",
    "FP = sum(FP_)\n",
    "print('FP = ', FP)\n",
    "\n",
    "TN_ = numpy.logical_and(numpy.logical_not(pred), numpy.logical_not(Y))\n",
    "TN = sum(TN_)\n",
    "print('TN = ', TN)\n",
    "\n",
    "FN_ = numpy.logical_and(numpy.logical_not(pred), Y)\n",
    "FN = sum(FN_)\n",
    "print('FN = ', FN)\n",
    "\n",
    "# accuracy sum(correct) / len(correct)\n",
    "accuracy = (TP + TN) / (TP + FP + TN + FN)\n",
    "print('ACC = ', accuracy)\n",
    "# BER\n",
    "BER = 1 - 0.5 * (TP / (TP + FN) + TN / (TN + FP))\n",
    "print('BER = ', BER)"
   ],
   "metadata": {
    "collapsed": false
   }
  },
  {
   "cell_type": "code",
   "execution_count": 54,
   "outputs": [],
   "source": [
    "answers['Q5b'] = [TP, TN, FP, FN, BER]"
   ],
   "metadata": {
    "collapsed": false
   }
  },
  {
   "cell_type": "code",
   "execution_count": 55,
   "outputs": [],
   "source": [
    "assert len(answers['Q5a']) == 4\n",
    "assertFloatList(answers['Q5b'], 5)"
   ],
   "metadata": {
    "collapsed": false
   }
  },
  {
   "cell_type": "code",
   "execution_count": 56,
   "outputs": [],
   "source": [
    "### 6"
   ],
   "metadata": {
    "collapsed": false
   }
  },
  {
   "cell_type": "code",
   "execution_count": 57,
   "outputs": [],
   "source": [
    "def feature6(review):\n",
    "    feature = []\n",
    "    for i in range(6):\n",
    "        spoiler,sentence = review['review_sentences'][i]\n",
    "        if i != 5:\n",
    "            feature.append(spoiler)\n",
    "        else:\n",
    "            feature += feature5(sentence)\n",
    "    return feature"
   ],
   "metadata": {
    "collapsed": false
   }
  },
  {
   "cell_type": "code",
   "execution_count": 58,
   "outputs": [],
   "source": [
    "Y = []\n",
    "X = []\n",
    "\n",
    "for d in dataset:\n",
    "    sentences = d['review_sentences']\n",
    "    if len(sentences) < 6: continue\n",
    "    X.append(feature6(d))\n",
    "    Y.append(sentences[5][0])\n",
    "\n",
    "#etc."
   ],
   "metadata": {
    "collapsed": false
   }
  },
  {
   "cell_type": "code",
   "execution_count": 59,
   "outputs": [
    {
     "name": "stdout",
     "output_type": "stream",
     "text": [
      "[[-0.29264875  1.2723029   0.10869029  2.30166218  5.76080724 -0.93231298\n",
      "   0.00715562  0.48517314  0.07792321]]\n",
      "[0 1]\n"
     ]
    }
   ],
   "source": [
    "# Logistic regression classifier\n",
    "clf = linear_model.LogisticRegression(C=1, class_weight='balanced')\n",
    "clf.fit(X, Y)\n",
    "print(clf.coef_)\n",
    "print(clf.classes_)\n",
    "pred = clf.predict(X)\n",
    "theta = numpy.matrix(clf.coef_)"
   ],
   "metadata": {
    "collapsed": false
   }
  },
  {
   "cell_type": "code",
   "execution_count": 60,
   "outputs": [
    {
     "name": "stdout",
     "output_type": "stream",
     "text": [
      "TP =  144\n",
      "FP =  437\n",
      "TN =  11263\n",
      "FN =  63\n",
      "ACC =  0.958007894515831\n",
      "BER =  0.170849126718692\n"
     ]
    }
   ],
   "source": [
    "# True positives, false positives, etc.\n",
    "TP_ = numpy.logical_and(pred, Y)\n",
    "TP = sum(TP_)\n",
    "print('TP = ', TP)\n",
    "\n",
    "FP_ = numpy.logical_and(pred, numpy.logical_not(Y))\n",
    "FP = sum(FP_)\n",
    "print('FP = ', FP)\n",
    "\n",
    "TN_ = numpy.logical_and(numpy.logical_not(pred), numpy.logical_not(Y))\n",
    "TN = sum(TN_)\n",
    "print('TN = ', TN)\n",
    "\n",
    "FN_ = numpy.logical_and(numpy.logical_not(pred), Y)\n",
    "FN = sum(FN_)\n",
    "print('FN = ', FN)\n",
    "\n",
    "# accuracy sum(correct) / len(correct)\n",
    "accuracy = (TP + TN) / (TP + FP + TN + FN)\n",
    "print('ACC = ', accuracy)\n",
    "# BER\n",
    "BER = 1 - 0.5 * (TP / (TP + FN) + TN / (TN + FP))\n",
    "print('BER = ', BER)"
   ],
   "metadata": {
    "collapsed": false
   }
  },
  {
   "cell_type": "code",
   "execution_count": 61,
   "outputs": [],
   "source": [
    "answers['Q6a'] = X[0]"
   ],
   "metadata": {
    "collapsed": false
   }
  },
  {
   "cell_type": "code",
   "execution_count": 62,
   "outputs": [],
   "source": [
    "answers['Q6b'] = BER"
   ],
   "metadata": {
    "collapsed": false
   }
  },
  {
   "cell_type": "code",
   "execution_count": 63,
   "outputs": [],
   "source": [
    "assert len(answers['Q6a']) == 9\n",
    "assertFloat(answers['Q6b'])"
   ],
   "metadata": {
    "collapsed": false
   }
  },
  {
   "cell_type": "code",
   "execution_count": 64,
   "outputs": [],
   "source": [
    "### 7"
   ],
   "metadata": {
    "collapsed": false
   }
  },
  {
   "cell_type": "code",
   "execution_count": 65,
   "outputs": [],
   "source": [
    "# 50/25/25% train/valid/test split\n",
    "Xtrain, Xvalid, Xtest = X[:len(X)//2], X[len(X)//2:(3*len(X))//4], X[(3*len(X))//4:]\n",
    "Ytrain, Yvalid, Ytest = Y[:len(X)//2], Y[len(X)//2:(3*len(X))//4], Y[(3*len(X))//4:]"
   ],
   "metadata": {
    "collapsed": false
   }
  },
  {
   "cell_type": "code",
   "execution_count": 66,
   "outputs": [],
   "source": [
    "def accuracy(predictions, y):\n",
    "    acc = 0\n",
    "    for i in range(len(y)):\n",
    "        if predictions[i] == y[i]:\n",
    "            acc += 1\n",
    "    return acc/len(y)"
   ],
   "metadata": {
    "collapsed": false
   }
  },
  {
   "cell_type": "code",
   "execution_count": 67,
   "outputs": [],
   "source": [
    "def BER(predictions, y):\n",
    "    TPi = numpy.logical_and(predictions, y)\n",
    "    FPi = numpy.logical_and(predictions, numpy.logical_not(y))\n",
    "    TNi = numpy.logical_and(numpy.logical_not(predictions), numpy.logical_not(y))\n",
    "    FNi = numpy.logical_and(numpy.logical_not(predictions), y)\n",
    "\n",
    "    TP = sum(TPi)\n",
    "    FP = sum(FPi)\n",
    "    TN = sum(TNi)\n",
    "    FN = sum(FNi)\n",
    "    ber =  1 - 0.5 * (TP / (TP + FN) + TN / (TN + FP))\n",
    "    return ber"
   ],
   "metadata": {
    "collapsed": false
   }
  },
  {
   "cell_type": "code",
   "execution_count": 68,
   "outputs": [],
   "source": [
    "acc_train = []\n",
    "acc_test = []\n",
    "acc_valid = []\n",
    "ber_train = []\n",
    "ber_test = []\n",
    "ber_valid = []\n",
    "ber_C = {}\n",
    "C = [0.01, 0.1, 1, 10, 100]"
   ],
   "metadata": {
    "collapsed": false
   }
  },
  {
   "cell_type": "code",
   "execution_count": 69,
   "outputs": [],
   "source": [
    "for c in [0.01, 0.1, 1, 10, 100]:\n",
    "    mod = linear_model.LogisticRegression(C=c, class_weight='balanced')\n",
    "    mod.fit(Xtrain, Ytrain)\n",
    "    pred_train = mod.predict(Xtrain)\n",
    "    pred_valid = mod.predict(Xvalid)\n",
    "    pred_test = mod.predict(Xtest)\n",
    "    acc_train.append(accuracy(pred_train,Ytrain))\n",
    "    acc_test.append(accuracy(pred_test,Ytest))\n",
    "    acc_valid.append(accuracy(pred_valid,Yvalid))\n",
    "    ber_train.append(BER(pred_train,Ytrain))\n",
    "    ber_test.append(BER(pred_test, Ytest))\n",
    "    ber_valid.append(BER(pred_valid, Yvalid))\n",
    "    ber_C[BER(pred_valid, Yvalid)]=c"
   ],
   "metadata": {
    "collapsed": false
   }
  },
  {
   "cell_type": "code",
   "execution_count": 70,
   "outputs": [
    {
     "data": {
      "text/plain": "<Figure size 640x480 with 1 Axes>",
      "image/png": "[encoded data removed]"
     },
     "metadata": {},
     "output_type": "display_data"
    }
   ],
   "source": [
    "import matplotlib.pyplot as plt\n",
    "\n",
    "plt.plot(C, acc_train, 'b-', label='Acc for train set')\n",
    "plt.plot(C, ber_train, 'b--', label='BER for training set')\n",
    "plt.plot(C, acc_test, 'c-', label='Acc for test set')\n",
    "plt.plot(C, ber_test, 'c--', label='BER for test set')\n",
    "plt.plot(C, acc_valid, 'r-', label='Acc for valid set')\n",
    "plt.plot(C, ber_valid, 'r--', label='BER for valid set')\n",
    "\n",
    "plt.legend()\n",
    "plt.xlabel('Regularization coefficient')\n",
    "plt.xscale('log')\n",
    "plt.ylabel('Accuracy or BER')\n",
    "plt.show()"
   ],
   "metadata": {
    "collapsed": false
   }
  },
  {
   "cell_type": "code",
   "execution_count": 71,
   "outputs": [
    {
     "name": "stdout",
     "output_type": "stream",
     "text": [
      "0.1 0.13310974685463095\n",
      "0.01 0.13345081097468547\n",
      "100 0.14268606942549644\n",
      "100 0.14268606942549644\n",
      "1 0.14353872972563286\n"
     ]
    }
   ],
   "source": [
    "ber_valid.sort()\n",
    "for ber in ber_valid:\n",
    "    print(ber_C[ber],ber)\n",
    "bers = ber_valid\n",
    "bestC = ber_C[ber_valid[0]]\n",
    "#index1 -> 0.1\n",
    "ber = ber_test[1]"
   ],
   "metadata": {
    "collapsed": false
   }
  },
  {
   "cell_type": "code",
   "execution_count": 72,
   "outputs": [],
   "source": [
    "answers['Q7'] = bers + [bestC] + [ber]"
   ],
   "metadata": {
    "collapsed": false
   }
  },
  {
   "cell_type": "code",
   "execution_count": 73,
   "outputs": [],
   "source": [
    "assertFloatList(answers['Q7'], 7)"
   ],
   "metadata": {
    "collapsed": false
   }
  },
  {
   "cell_type": "code",
   "execution_count": 74,
   "outputs": [],
   "source": [
    "### 8"
   ],
   "metadata": {
    "collapsed": false
   }
  },
  {
   "cell_type": "code",
   "execution_count": 75,
   "outputs": [],
   "source": [
    "def Jaccard(s1, s2):\n",
    "    numer = len(s1.intersection(s2))\n",
    "    denom = len(s1.union(s2))\n",
    "    if denom == 0:\n",
    "        return 0\n",
    "    return numer / denom"
   ],
   "metadata": {
    "collapsed": false
   }
  },
  {
   "cell_type": "code",
   "execution_count": 76,
   "outputs": [],
   "source": [
    "# 75/25% train/test split\n",
    "dataTrain = dataset[:15000]\n",
    "dataTest = dataset[15000:]"
   ],
   "metadata": {
    "collapsed": false
   }
  },
  {
   "cell_type": "code",
   "execution_count": 77,
   "outputs": [],
   "source": [
    "# A few utilities\n",
    "itemAverages = defaultdict(list)\n",
    "usersAverages = defaultdict(list)\n",
    "ratingMean = []\n",
    "\n",
    "for d in dataTrain:\n",
    "    itemAverages[d['book_id']].append(d['rating'])\n",
    "    usersAverages[d['user_id']].append(d['rating'])\n",
    "    ratingMean.append(d['rating'])\n",
    "\n",
    "for i in itemAverages:\n",
    "    itemAverages[i] = sum(itemAverages[i]) / len(itemAverages[i])\n",
    "\n",
    "for u in usersAverages:\n",
    "    usersAverages[u] = sum(usersAverages[u]) / len(usersAverages[u])\n",
    "\n",
    "ratingMean = sum(ratingMean) / len(ratingMean)"
   ],
   "metadata": {
    "collapsed": false
   }
  },
  {
   "cell_type": "code",
   "execution_count": 78,
   "outputs": [],
   "source": [
    "reviewsPerUser = defaultdict(list)\n",
    "reviewsPerItem = defaultdict(list)\n",
    "usersPerItem = defaultdict(set)\n",
    "itemsPerUser = defaultdict(set)\n",
    "timesPerItem = defaultdict(list)\n",
    "items = set()\n",
    "\n",
    "for d in dataTrain:\n",
    "    u,i = d['user_id'], d['book_id']\n",
    "    reviewsPerUser[u].append(d)\n",
    "    reviewsPerItem[i].append(d)\n",
    "    usersPerItem[i].add(u)\n",
    "    itemsPerUser[u].add(i)\n",
    "    items.add(i)\n",
    "    timesPerItem[i].append(int(1))"
   ],
   "metadata": {
    "collapsed": false
   }
  },
  {
   "cell_type": "code",
   "execution_count": 79,
   "outputs": [],
   "source": [
    "# From my HW2 solution, welcome to reuse\n",
    "def predictRating(user,item):\n",
    "    ratings = []\n",
    "    similarities = []\n",
    "    for d in reviewsPerUser[user]:\n",
    "        i2 = d['book_id']\n",
    "        if i2 == item: continue\n",
    "        ratings.append(d['rating'] - itemAverages[i2])\n",
    "        similarities.append(Jaccard(usersPerItem[item],usersPerItem[i2]))\n",
    "    if (sum(similarities) > 0):\n",
    "        weightedRatings = [(x*y) for x,y in zip(ratings,similarities)]\n",
    "        return itemAverages[item] + sum(weightedRatings) / sum(similarities)\n",
    "    else:\n",
    "        # User hasn't rated any similar items\n",
    "        if item in itemAverages:\n",
    "            return itemAverages[item]\n",
    "        else:\n",
    "            return ratingMean\n"
   ],
   "metadata": {
    "collapsed": false
   }
  },
  {
   "cell_type": "code",
   "execution_count": 81,
   "outputs": [
    {
     "data": {
      "text/plain": "1.816493441279133"
     },
     "execution_count": 81,
     "metadata": {},
     "output_type": "execute_result"
    }
   ],
   "source": [
    "ratings_data = []\n",
    "ratings_pred = []\n",
    "for d in dataTest:\n",
    "    ratings_data.append(d['rating'])\n",
    "    ratings_pred.append(predictRating(d['user_id'],d['book_id']))\n",
    "MSE(ratings_pred, ratings_data)"
   ],
   "metadata": {
    "collapsed": false
   }
  },
  {
   "cell_type": "code",
   "execution_count": 295,
   "outputs": [],
   "source": [
    "answers[\"Q8\"] = MSE(ratings_pred, ratings_data)"
   ],
   "metadata": {
    "collapsed": false
   }
  },
  {
   "cell_type": "code",
   "execution_count": 296,
   "outputs": [],
   "source": [
    "assertFloat(answers[\"Q8\"])"
   ],
   "metadata": {
    "collapsed": false
   }
  },
  {
   "cell_type": "code",
   "execution_count": 297,
   "outputs": [],
   "source": [
    "### 9"
   ],
   "metadata": {
    "collapsed": false
   }
  },
  {
   "cell_type": "code",
   "execution_count": 298,
   "outputs": [],
   "source": [
    "ratings_data0 = []\n",
    "ratings_pred0 = []\n",
    "ratings_data1 = []\n",
    "ratings_pred1 = []\n",
    "ratings_data2 = []\n",
    "ratings_pred2 = []\n",
    "\n",
    "for d in dataTest:\n",
    "    u,i,r = d['user_id'],d['book_id'],d['rating']\n",
    "    if i not in items:\n",
    "        ratings_data0.append(r)\n",
    "        ratings_pred0.append(predictRating(u,i))\n",
    "    elif len(timesPerItem[i])<=5:\n",
    "        ratings_data1.append(r)\n",
    "        ratings_pred1.append(predictRating(u,i))\n",
    "    else:\n",
    "        ratings_data2.append(r)\n",
    "        ratings_pred2.append(predictRating(u,i))\n",
    "\n",
    "mse0 = MSE(ratings_pred0, ratings_data0)\n",
    "mse1to5 = MSE(ratings_pred1, ratings_data1)\n",
    "mse5 = MSE(ratings_pred2, ratings_data2)"
   ],
   "metadata": {
    "collapsed": false
   }
  },
  {
   "cell_type": "code",
   "execution_count": 299,
   "outputs": [],
   "source": [
    "answers[\"Q9\"] = [mse0, mse1to5, mse5]"
   ],
   "metadata": {
    "collapsed": false
   }
  },
  {
   "cell_type": "code",
   "execution_count": 300,
   "outputs": [],
   "source": [
    "assertFloatList(answers[\"Q9\"], 3)"
   ],
   "metadata": {
    "collapsed": false
   }
  },
  {
   "cell_type": "code",
   "execution_count": 301,
   "outputs": [],
   "source": [
    "### 10"
   ],
   "metadata": {
    "collapsed": false
   }
  },
  {
   "cell_type": "code",
   "execution_count": 302,
   "outputs": [],
   "source": [
    "def predictRating_interchange(user,item):\n",
    "    ratings = []\n",
    "    similarities = []\n",
    "    for d in reviewsPerItem[item]:\n",
    "        v = d['user_id']\n",
    "        if v != user:\n",
    "          ratings.append(d['rating'] - usersAverages[v])\n",
    "          similarities.append(Jaccard(itemsPerUser[user],itemsPerUser[v]))\n",
    "    if (sum(similarities) > 0):\n",
    "        weightedRatings = [(x*y) for x,y in zip(ratings,similarities)]\n",
    "        return usersAverages[user] + sum(weightedRatings) / sum(similarities)\n",
    "    else:\n",
    "        # User hasn't rated any similar items\n",
    "        # User hasn't rated any similar items\n",
    "        if user in usersAverages:\n",
    "            return usersAverages[user]\n",
    "        return ratingMean"
   ],
   "metadata": {
    "collapsed": false
   }
  },
  {
   "cell_type": "code",
   "execution_count": 303,
   "outputs": [
    {
     "name": "stdout",
     "output_type": "stream",
     "text": [
      "1.7420124844444445\n"
     ]
    }
   ],
   "source": [
    "print(mse0)"
   ],
   "metadata": {
    "collapsed": false
   }
  },
  {
   "cell_type": "code",
   "execution_count": 331,
   "outputs": [
    {
     "name": "stdout",
     "output_type": "stream",
     "text": [
      "1.6696633366192306\n"
     ]
    }
   ],
   "source": [
    "ratings_data4 = []\n",
    "ratings_pred4 = []\n",
    "for d in dataTest:\n",
    "    u,i,r = d['user_id'],d['book_id'],d['rating']\n",
    "    if i not in items:\n",
    "        ratings_data4.append(r)\n",
    "        ratings_pred4.append(predictRating_interchange(u,i))\n",
    "itsMSE = MSE(ratings_pred4, ratings_data4)\n",
    "print(itsMSE)"
   ],
   "metadata": {
    "collapsed": false
   }
  },
  {
   "cell_type": "code",
   "execution_count": 338,
   "outputs": [],
   "source": [
    "def feature10(spoiler,sentence):\n",
    "    feature = []\n",
    "    feature.append(spoiler)\n",
    "    feature.append(len(sentence))\n",
    "    fea1 = 0\n",
    "    fea2 = 0\n",
    "    for ch in sentence:\n",
    "        if ch == '!': fea1 += 1\n",
    "        if ch.isupper(): fea2 += 1\n",
    "    feature.append(fea1)\n",
    "    feature.append(fea2)\n",
    "    return feature"
   ],
   "metadata": {
    "collapsed": false
   }
  },
  {
   "cell_type": "code",
   "execution_count": 343,
   "outputs": [],
   "source": [
    "featurePerItem = defaultdict(list)\n",
    "for d in dataTrain:\n",
    "    u,i,r = d['user_id'],d['book_id'],d['rating']\n",
    "    for spoiler,sentence in d['review_sentences']:\n",
    "        featurePerItem[i].append(feature10(spoiler,sentence))\n",
    "\n",
    "#average the features\n",
    "featureAverage = defaultdict(list)\n",
    "for i in featurePerItem:\n",
    "    featureAverage[i] = numpy.mean(featurePerItem[i],axis=0)\n",
    "    numpy.append(featureAverage[i],len(reviewsPerItem[i]))"
   ],
   "metadata": {
    "collapsed": false
   }
  },
  {
   "cell_type": "code",
   "execution_count": 344,
   "outputs": [],
   "source": [
    "def cos_dis(l1,l2):\n",
    "    inter = 0\n",
    "    sum = 0\n",
    "    for i in range(len(l1)):\n",
    "        sum += l1[i]*l1[i]\n",
    "        sum += l2[i]*l2[i]\n",
    "        inter += l1[i]*l2[i]\n",
    "    return inter/numpy.sqrt(sum)"
   ],
   "metadata": {
    "collapsed": false
   }
  },
  {
   "cell_type": "code",
   "execution_count": 346,
   "outputs": [],
   "source": [
    "# features way to do\n",
    "def predictRating_improve(user,item):\n",
    "    ratings = []\n",
    "    similarities = []\n",
    "    for d in reviewsPerUser[user]:\n",
    "        i2 = d['book_id']\n",
    "        if i2 == item: continue\n",
    "        ratings.append(d['rating'] - itemAverages[i2])\n",
    "        similarities.append(Jaccard(usersPerItem[item],usersPerItem[i2]))\n",
    "    if (sum(similarities) > 0):\n",
    "        weightedRatings = [(x*y) for x,y in zip(ratings,similarities)]\n",
    "        return itemAverages[item] + sum(weightedRatings) / sum(similarities)\n",
    "    else:\n",
    "        # User hasn't rated any similar items\n",
    "        if item in itemAverages:\n",
    "            return itemAverages[item]\n",
    "        else:\n",
    "            #store the distance between the vectors\n",
    "            cos_distances = []\n",
    "            item_feature = featureAverage_test[item]\n",
    "            dis_item = defaultdict()\n",
    "            for item_train in featureAverage:\n",
    "                cos_value = cos_dis(featureAverage[item_train],item_feature)\n",
    "                cos_distances.append(cos_value)\n",
    "                dis_item[cos_value] = item_train\n",
    "            #find the closest item_train\n",
    "            cos_distances.sort()\n",
    "            item_closests = []\n",
    "            sample = 20\n",
    "            for k in range(1,sample+1):\n",
    "                item_closests.append(dis_item[cos_distances[-k]])\n",
    "            predict = []\n",
    "            for item in item_closests:\n",
    "                predict.append(predictRating_improve(user,item))\n",
    "            return numpy.mean(predict)"
   ],
   "metadata": {
    "collapsed": false
   }
  },
  {
   "cell_type": "code",
   "execution_count": 352,
   "outputs": [
    {
     "name": "stdout",
     "output_type": "stream",
     "text": [
      "1.7291852422284035\n"
     ]
    }
   ],
   "source": [
    "ratings_data5 = []\n",
    "ratings_pred5 = []\n",
    "featurePerItem_test = defaultdict(list)\n",
    "#average the features\n",
    "featureAverage_test = defaultdict(list)\n",
    "reviewsPerItem_test = defaultdict(list)\n",
    "for d in dataTest:\n",
    "    u,i,r = d['user_id'],d['book_id'],d['rating']\n",
    "    reviewsPerItem_test[i].append(d)\n",
    "    for spoiler,sentence in d['review_sentences']:\n",
    "        featurePerItem_test[i].append(feature10(spoiler,sentence))\n",
    "\n",
    "for i in featurePerItem_test:\n",
    "    featureAverage_test[i] = numpy.mean(featurePerItem_test[i],axis=0)\n",
    "    numpy.append(featureAverage_test[i],len(reviewsPerItem_test[i]))\n",
    "\n",
    "for d in dataTest:\n",
    "    u,i,r = d['user_id'],d['book_id'],d['rating']\n",
    "    if i not in items:\n",
    "        ratings_data5.append(r)\n",
    "        ratings_pred5.append(0.4 * ratingMean + 0.6 * predictRating_improve(u,i))\n",
    "itsMSE2 = MSE(ratings_pred5, ratings_data5)\n",
    "print(itsMSE2)"
   ],
   "metadata": {
    "collapsed": false
   }
  },
  {
   "cell_type": "code",
   "execution_count": 330,
   "outputs": [
    {
     "name": "stdout",
     "output_type": "stream",
     "text": [
      "1.501864970293575\n"
     ]
    }
   ],
   "source": [
    "ratings_data6 = []\n",
    "ratings_pred6 = []\n",
    "for d in dataTest:\n",
    "    u,i,r = d['user_id'],d['book_id'],d['rating']\n",
    "    if i not in items:\n",
    "        ratings_data6.append(r)\n",
    "        if u in users:\n",
    "            ratings_pred6.append(0.5 * predictRating_interchange(u,i) + 0.5 * predictRating(u,i))\n",
    "        else:\n",
    "           #both user and item are not in here\n",
    "           ratings_pred6.append(0.6 * ratingMean + 0.4 * predictRating_improve(u,i))\n",
    "itsMSE3 = MSE(ratings_pred6, ratings_data6)\n",
    "print(itsMSE3)"
   ],
   "metadata": {
    "collapsed": false
   }
  },
  {
   "cell_type": "code",
   "execution_count": 327,
   "outputs": [],
   "source": [
    "improvements = \\\n",
    "     \"From q9a, mse0 is 1.7420. \\\n",
    "     The item is unseen, but the user who rates the item may be seen. \\\n",
    "     In this situation, we can use information from users. \\\n",
    "     So we modify the similarity function to interchange users and items rating prediction and get the fucntion predictRating_interchange. \\\n",
    "     In this way, we could slightly improve the mse to 1.6697. \\\n",
    "     We can also use weights like 0.5 * predictRating_interchange + 0.5 * predictRating to predict. \\\n",
    "     In this way, we could slightly improve the mse to 1.5019. \\\n",
    "     If the both of the item and user are not seen(the situation not in this dataset) \\\n",
    "     we can find the most similar item or user based on the some features in the review. \\\n",
    "     For example, we can create a feature vector like [length in chars,number of ‘!’,number of capital letters]. \\\n",
    "     Compare the vectors' cos distances between the unseen item and seen items, and choose the most similar one.\""
   ],
   "metadata": {
    "collapsed": false
   }
  },
  {
   "cell_type": "code",
   "execution_count": 328,
   "outputs": [],
   "source": [
    "answers[\"Q10\"] = (improvements, itsMSE3)"
   ],
   "metadata": {
    "collapsed": false
   }
  },
  {
   "cell_type": "code",
   "execution_count": 440,
   "outputs": [],
   "source": [
    "assert type(answers[\"Q10\"][0]) == str\n",
    "assertFloat(answers[\"Q10\"][1])"
   ],
   "metadata": {
    "collapsed": false
   }
  },
  {
   "cell_type": "code",
   "execution_count": 441,
   "outputs": [],
   "source": [
    "f = open(\"answers_midterm.txt\", 'w')\n",
    "f.write(str(answers) + '\\n')\n",
    "f.close()"
   ],
   "metadata": {
    "collapsed": false
   }
  },
  {
   "cell_type": "code",
   "execution_count": 441,
   "outputs": [],
   "source": [],
   "metadata": {
    "collapsed": false
   }
  }
 ],
 "metadata": {
  "kernelspec": {
   "display_name": "Python 3",
   "language": "python",
   "name": "python3"
  },
  "language_info": {
   "codemirror_mode": {
    "name": "ipython",
    "version": 2
   },
   "file_extension": ".py",
   "mimetype": "text/x-python",
   "name": "python",
   "nbconvert_exporter": "python",
   "pygments_lexer": "ipython2",
   "version": "2.7.6"
  }
 },
 "nbformat": 4,
 "nbformat_minor": 0
}
