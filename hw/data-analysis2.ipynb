{
 "cells": [
  {
   "cell_type": "code",
   "execution_count": 2,
   "metadata": {
    "collapsed": true
   },
   "outputs": [
    {
     "name": "stderr",
     "output_type": "stream",
     "text": [
      "/Users/gakiara/Desktop/258R/hw/venv/lib/python3.9/site-packages/fuzzywuzzy/fuzz.py:11: UserWarning: Using slow pure-python SequenceMatcher. Install python-Levenshtein to remove this warning\n",
      "  warnings.warn('Using slow pure-python SequenceMatcher. Install python-Levenshtein to remove this warning')\n"
     ]
    }
   ],
   "source": [
    "import json\n",
    "import gzip\n",
    "import math\n",
    "import numpy as np\n",
    "from sklearn import linear_model\n",
    "import pandas as pd\n",
    "import datetime\n",
    "from collections import defaultdict\n",
    "import matplotlib.pyplot as plt\n",
    "from uszipcode import SearchEngine\n",
    "engine = SearchEngine()"
   ]
  },
  {
   "cell_type": "code",
   "execution_count": 3,
   "outputs": [],
   "source": [
    "path = \"~/Desktop/258R/assignment2/ml-25m/\""
   ],
   "metadata": {
    "collapsed": false
   }
  },
  {
   "cell_type": "code",
   "execution_count": 12,
   "outputs": [],
   "source": [
    "df_rating = pd.read_csv(path+\"ratings.csv\", sep = \",\", header=0,\n",
    "names=[\"UserID\",\"movieId\",\"rating\",\"timestamp\"])"
   ],
   "metadata": {
    "collapsed": false
   }
  },
  {
   "cell_type": "code",
   "execution_count": 13,
   "outputs": [
    {
     "data": {
      "text/plain": "          UserID  movieId  rating   timestamp\n0              1      296     5.0  1147880044\n1              1      306     3.5  1147868817\n2              1      307     5.0  1147868828\n3              1      665     5.0  1147878820\n4              1      899     3.5  1147868510\n...          ...      ...     ...         ...\n25000090  162541    50872     4.5  1240953372\n25000091  162541    55768     2.5  1240951998\n25000092  162541    56176     2.0  1240950697\n25000093  162541    58559     4.0  1240953434\n25000094  162541    63876     5.0  1240952515\n\n[25000095 rows x 4 columns]",
      "text/html": "<div>\n<style scoped>\n    .dataframe tbody tr th:only-of-type {\n        vertical-align: middle;\n    }\n\n    .dataframe tbody tr th {\n        vertical-align: top;\n    }\n\n    .dataframe thead th {\n        text-align: right;\n    }\n</style>\n<table border=\"1\" class=\"dataframe\">\n  <thead>\n    <tr style=\"text-align: right;\">\n      <th></th>\n      <th>UserID</th>\n      <th>movieId</th>\n      <th>rating</th>\n      <th>timestamp</th>\n    </tr>\n  </thead>\n  <tbody>\n    <tr>\n      <th>0</th>\n      <td>1</td>\n      <td>296</td>\n      <td>5.0</td>\n      <td>1147880044</td>\n    </tr>\n    <tr>\n      <th>1</th>\n      <td>1</td>\n      <td>306</td>\n      <td>3.5</td>\n      <td>1147868817</td>\n    </tr>\n    <tr>\n      <th>2</th>\n      <td>1</td>\n      <td>307</td>\n      <td>5.0</td>\n      <td>1147868828</td>\n    </tr>\n    <tr>\n      <th>3</th>\n      <td>1</td>\n      <td>665</td>\n      <td>5.0</td>\n      <td>1147878820</td>\n    </tr>\n    <tr>\n      <th>4</th>\n      <td>1</td>\n      <td>899</td>\n      <td>3.5</td>\n      <td>1147868510</td>\n    </tr>\n    <tr>\n      <th>...</th>\n      <td>...</td>\n      <td>...</td>\n      <td>...</td>\n      <td>...</td>\n    </tr>\n    <tr>\n      <th>25000090</th>\n      <td>162541</td>\n      <td>50872</td>\n      <td>4.5</td>\n      <td>1240953372</td>\n    </tr>\n    <tr>\n      <th>25000091</th>\n      <td>162541</td>\n      <td>55768</td>\n      <td>2.5</td>\n      <td>1240951998</td>\n    </tr>\n    <tr>\n      <th>25000092</th>\n      <td>162541</td>\n      <td>56176</td>\n      <td>2.0</td>\n      <td>1240950697</td>\n    </tr>\n    <tr>\n      <th>25000093</th>\n      <td>162541</td>\n      <td>58559</td>\n      <td>4.0</td>\n      <td>1240953434</td>\n    </tr>\n    <tr>\n      <th>25000094</th>\n      <td>162541</td>\n      <td>63876</td>\n      <td>5.0</td>\n      <td>1240952515</td>\n    </tr>\n  </tbody>\n</table>\n<p>25000095 rows × 4 columns</p>\n</div>"
     },
     "execution_count": 13,
     "metadata": {},
     "output_type": "execute_result"
    }
   ],
   "source": [
    "df_rating"
   ],
   "metadata": {
    "collapsed": false
   }
  },
  {
   "cell_type": "code",
   "execution_count": 15,
   "outputs": [],
   "source": [
    "date = []\n",
    "for i in range(len(df_rating)):\n",
    "    ts = df_rating['timestamp'][i]\n",
    "    date.append(datetime.datetime.fromtimestamp(ts))\n",
    "df_rating['date'] = date"
   ],
   "metadata": {
    "collapsed": false
   }
  },
  {
   "cell_type": "code",
   "execution_count": 16,
   "outputs": [
    {
     "data": {
      "text/plain": "          UserID  movieId  rating   timestamp                date\n326761      2262       21     3.0   789652009 1995-01-09 03:46:49\n326810      2262     1079     3.0   789652009 1995-01-09 03:46:49\n326767      2262       47     5.0   789652009 1995-01-09 03:46:49\n15845015  102689        1     4.0   822873600 1996-01-28 16:00:00\n15845023  102689       39     5.0   822873600 1996-01-28 16:00:00\n...          ...      ...     ...         ...                 ...\n13207880   85523   168252     4.0  1574327479 2019-11-21 01:11:19\n1284508     8642   202101     2.0  1574327512 2019-11-21 01:11:52\n13207893   85523   204704     4.0  1574327533 2019-11-21 01:12:13\n1284464     8642   122914     4.0  1574327549 2019-11-21 01:12:29\n13207877   85523   149406     4.5  1574327703 2019-11-21 01:15:03\n\n[25000095 rows x 5 columns]",
      "text/html": "<div>\n<style scoped>\n    .dataframe tbody tr th:only-of-type {\n        vertical-align: middle;\n    }\n\n    .dataframe tbody tr th {\n        vertical-align: top;\n    }\n\n    .dataframe thead th {\n        text-align: right;\n    }\n</style>\n<table border=\"1\" class=\"dataframe\">\n  <thead>\n    <tr style=\"text-align: right;\">\n      <th></th>\n      <th>UserID</th>\n      <th>movieId</th>\n      <th>rating</th>\n      <th>timestamp</th>\n      <th>date</th>\n    </tr>\n  </thead>\n  <tbody>\n    <tr>\n      <th>326761</th>\n      <td>2262</td>\n      <td>21</td>\n      <td>3.0</td>\n      <td>789652009</td>\n      <td>1995-01-09 03:46:49</td>\n    </tr>\n    <tr>\n      <th>326810</th>\n      <td>2262</td>\n      <td>1079</td>\n      <td>3.0</td>\n      <td>789652009</td>\n      <td>1995-01-09 03:46:49</td>\n    </tr>\n    <tr>\n      <th>326767</th>\n      <td>2262</td>\n      <td>47</td>\n      <td>5.0</td>\n      <td>789652009</td>\n      <td>1995-01-09 03:46:49</td>\n    </tr>\n    <tr>\n      <th>15845015</th>\n      <td>102689</td>\n      <td>1</td>\n      <td>4.0</td>\n      <td>822873600</td>\n      <td>1996-01-28 16:00:00</td>\n    </tr>\n    <tr>\n      <th>15845023</th>\n      <td>102689</td>\n      <td>39</td>\n      <td>5.0</td>\n      <td>822873600</td>\n      <td>1996-01-28 16:00:00</td>\n    </tr>\n    <tr>\n      <th>...</th>\n      <td>...</td>\n      <td>...</td>\n      <td>...</td>\n      <td>...</td>\n      <td>...</td>\n    </tr>\n    <tr>\n      <th>13207880</th>\n      <td>85523</td>\n      <td>168252</td>\n      <td>4.0</td>\n      <td>1574327479</td>\n      <td>2019-11-21 01:11:19</td>\n    </tr>\n    <tr>\n      <th>1284508</th>\n      <td>8642</td>\n      <td>202101</td>\n      <td>2.0</td>\n      <td>1574327512</td>\n      <td>2019-11-21 01:11:52</td>\n    </tr>\n    <tr>\n      <th>13207893</th>\n      <td>85523</td>\n      <td>204704</td>\n      <td>4.0</td>\n      <td>1574327533</td>\n      <td>2019-11-21 01:12:13</td>\n    </tr>\n    <tr>\n      <th>1284464</th>\n      <td>8642</td>\n      <td>122914</td>\n      <td>4.0</td>\n      <td>1574327549</td>\n      <td>2019-11-21 01:12:29</td>\n    </tr>\n    <tr>\n      <th>13207877</th>\n      <td>85523</td>\n      <td>149406</td>\n      <td>4.5</td>\n      <td>1574327703</td>\n      <td>2019-11-21 01:15:03</td>\n    </tr>\n  </tbody>\n</table>\n<p>25000095 rows × 5 columns</p>\n</div>"
     },
     "execution_count": 16,
     "metadata": {},
     "output_type": "execute_result"
    }
   ],
   "source": [
    "df_rating.sort_values(\"date\",inplace=True)\n",
    "df_rating"
   ],
   "metadata": {
    "collapsed": false
   }
  },
  {
   "cell_type": "code",
   "execution_count": null,
   "outputs": [],
   "source": [],
   "metadata": {
    "collapsed": false
   }
  }
 ],
 "metadata": {
  "kernelspec": {
   "display_name": "Python 3",
   "language": "python",
   "name": "python3"
  },
  "language_info": {
   "codemirror_mode": {
    "name": "ipython",
    "version": 2
   },
   "file_extension": ".py",
   "mimetype": "text/x-python",
   "name": "python",
   "nbconvert_exporter": "python",
   "pygments_lexer": "ipython2",
   "version": "2.7.6"
  }
 },
 "nbformat": 4,
 "nbformat_minor": 0
}
