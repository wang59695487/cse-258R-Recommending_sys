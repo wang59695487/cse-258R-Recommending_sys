{
 "cells": [
  {
   "cell_type": "code",
   "execution_count": 481,
   "id": "d545425e",
   "metadata": {},
   "outputs": [],
   "source": [
    "import json\n",
    "from matplotlib import pyplot as plt\n",
    "from collections import defaultdict\n",
    "from sklearn import linear_model\n",
    "import numpy\n",
    "import random\n",
    "import gzip\n",
    "import math"
   ]
  },
  {
   "cell_type": "code",
   "execution_count": 482,
   "outputs": [],
   "source": [
    "def assertFloat(x): # Checks that an answer is a float\n",
    "    assert type(float(x)) == float\n",
    "\n",
    "def assertFloatList(items, N):\n",
    "    assert len(items) == N\n",
    "    assert [type(float(x)) for x in items] == [float]*N"
   ],
   "metadata": {
    "collapsed": false
   }
  },
  {
   "cell_type": "code",
   "execution_count": 483,
   "id": "1a7911bf",
   "metadata": {},
   "outputs": [],
   "source": [
    "f = gzip.open(\"young_adult_10000.json.gz\")\n",
    "dataset = []\n",
    "for l in f:\n",
    "    dataset.append(json.loads(l))"
   ]
  },
  {
   "cell_type": "code",
   "execution_count": 484,
   "id": "85100ed3",
   "metadata": {},
   "outputs": [
    {
     "data": {
      "text/plain": "10000"
     },
     "execution_count": 484,
     "metadata": {},
     "output_type": "execute_result"
    }
   ],
   "source": [
    "len(dataset)"
   ]
  },
  {
   "cell_type": "code",
   "execution_count": 485,
   "id": "e716aa89",
   "metadata": {},
   "outputs": [],
   "source": [
    "answers = {} # Put your answers to each question in this dictionary"
   ]
  },
  {
   "cell_type": "code",
   "execution_count": 486,
   "id": "cb2c286a",
   "metadata": {},
   "outputs": [
    {
     "data": {
      "text/plain": "{'user_id': '7504b2aee1ecb5b2872d3da381c6c91e',\n 'book_id': '23302416',\n 'review_id': '84c0936a0f9868f38e75d2f9a5cb761e',\n 'rating': 5,\n 'review_text': \"I read this book because my fifth grade son was required to for school. I'm so glad I did! I experienced a range of emotions & just loved it. Glad these middle schoolers are being exposed to the topics discussed in the book.\",\n 'date_added': 'Wed Jan 21 18:40:59 -0800 2015',\n 'date_updated': 'Wed Oct 26 03:44:13 -0700 2016',\n 'read_at': '',\n 'started_at': '',\n 'n_votes': 0,\n 'n_comments': 0}"
     },
     "execution_count": 486,
     "metadata": {},
     "output_type": "execute_result"
    }
   ],
   "source": [
    "dataset[1]"
   ]
  },
  {
   "cell_type": "code",
   "execution_count": 487,
   "id": "2a260695",
   "metadata": {},
   "outputs": [],
   "source": [
    "### Question 1\n",
    "def feature(datum):\n",
    "    review_count = 0\n",
    "    for ch in datum['review_text']:\n",
    "        if ch == '!':\n",
    "            review_count+=1;\n",
    "    return review_count\n",
    "    # your implementation"
   ]
  },
  {
   "cell_type": "code",
   "execution_count": 488,
   "id": "fea5f8f2",
   "metadata": {},
   "outputs": [],
   "source": [
    "X = [[1,feature(d)] for d in dataset]\n",
    "Y = [d['rating'] for d in dataset]\n",
    "X = numpy.matrix(X)\n",
    "Y = numpy.matrix(Y).T\n",
    "#X = numpy.matrix([1,feature(d)] for d in dataset)\n",
    "#y = numpy.matrix(int(d['rating']) for d in dataset).T"
   ]
  },
  {
   "cell_type": "code",
   "execution_count": 489,
   "outputs": [
    {
     "data": {
      "text/plain": "dtype('int64')"
     },
     "execution_count": 489,
     "metadata": {},
     "output_type": "execute_result"
    }
   ],
   "source": [
    "X[0][0].dtype"
   ],
   "metadata": {
    "collapsed": false
   }
  },
  {
   "cell_type": "code",
   "execution_count": 490,
   "outputs": [
    {
     "data": {
      "text/plain": "dtype('int64')"
     },
     "execution_count": 490,
     "metadata": {},
     "output_type": "execute_result"
    }
   ],
   "source": [
    "Y.dtype"
   ],
   "metadata": {
    "collapsed": false
   }
  },
  {
   "cell_type": "code",
   "execution_count": 491,
   "id": "d42edb2b",
   "metadata": {},
   "outputs": [
    {
     "name": "stdout",
     "output_type": "stream",
     "text": [
      "theta0: 3.6885330408319774\n",
      "theta1: 0.07109019019954012\n",
      "mse: 1.5231747404538287\n"
     ]
    },
    {
     "name": "stderr",
     "output_type": "stream",
     "text": [
      "/Users/gakiara/Desktop/258R/hw/venv/lib/python3.9/site-packages/sklearn/utils/validation.py:727: FutureWarning: np.matrix usage is deprecated in 1.0 and will raise a TypeError in 1.2. Please convert to a numpy array with np.asarray. For more information see: https://numpy.org/doc/stable/reference/generated/numpy.matrix.html\n",
      "  warnings.warn(\n",
      "/Users/gakiara/Desktop/258R/hw/venv/lib/python3.9/site-packages/sklearn/utils/validation.py:727: FutureWarning: np.matrix usage is deprecated in 1.0 and will raise a TypeError in 1.2. Please convert to a numpy array with np.asarray. For more information see: https://numpy.org/doc/stable/reference/generated/numpy.matrix.html\n",
      "  warnings.warn(\n",
      "/Users/gakiara/Desktop/258R/hw/venv/lib/python3.9/site-packages/sklearn/utils/validation.py:727: FutureWarning: np.matrix usage is deprecated in 1.0 and will raise a TypeError in 1.2. Please convert to a numpy array with np.asarray. For more information see: https://numpy.org/doc/stable/reference/generated/numpy.matrix.html\n",
      "  warnings.warn(\n"
     ]
    }
   ],
   "source": [
    "# sklearn model\n",
    "model = linear_model.LinearRegression(fit_intercept=False)\n",
    "model.fit(X, Y)\n",
    "theta = model.coef_\n",
    "Y_pred = model.predict(X)\n",
    "theta0,theta1 = theta[0]\n",
    "mse = (numpy.square(Y - Y_pred)).mean(axis=0)\n",
    "mse = float(mse)\n",
    "print(\"theta0:\",theta0)\n",
    "print(\"theta1:\",theta1)\n",
    "print(\"mse:\",mse)"
   ]
  },
  {
   "cell_type": "code",
   "execution_count": 492,
   "id": "fce7d968",
   "metadata": {},
   "outputs": [],
   "source": [
    "answers['Q1'] = [theta0, theta1, mse]"
   ]
  },
  {
   "cell_type": "code",
   "execution_count": 493,
   "id": "51581a4f",
   "metadata": {},
   "outputs": [],
   "source": [
    "assertFloatList(answers['Q1'], 3) # Check the format of your answer (three floats)"
   ]
  },
  {
   "cell_type": "code",
   "execution_count": 494,
   "id": "525fd954",
   "metadata": {},
   "outputs": [],
   "source": [
    "### Question 2"
   ]
  },
  {
   "cell_type": "code",
   "execution_count": 495,
   "id": "cda70702",
   "metadata": {},
   "outputs": [],
   "source": [
    "X = [[1,len(d['review_text']),feature(d)] for d in dataset]\n",
    "Y = [d['rating'] for d in dataset]"
   ]
  },
  {
   "cell_type": "code",
   "execution_count": 496,
   "outputs": [
    {
     "data": {
      "text/plain": "[[1, 1326, 0],\n [1, 224, 1],\n [1, 118, 0],\n [1, 1952, 0],\n [1, 554, 0],\n [1, 486, 0],\n [1, 257, 4],\n [1, 10, 2],\n [1, 31, 1],\n [1, 62, 0]]"
     },
     "execution_count": 496,
     "metadata": {},
     "output_type": "execute_result"
    }
   ],
   "source": [
    "X[:10]"
   ],
   "metadata": {
    "collapsed": false
   }
  },
  {
   "cell_type": "code",
   "execution_count": 497,
   "outputs": [
    {
     "data": {
      "text/plain": "[5, 5, 4, 2, 5, 5, 5, 5, 5, 5]"
     },
     "execution_count": 497,
     "metadata": {},
     "output_type": "execute_result"
    }
   ],
   "source": [
    "Y[:10]"
   ],
   "metadata": {
    "collapsed": false
   }
  },
  {
   "cell_type": "code",
   "execution_count": 498,
   "outputs": [],
   "source": [
    "X = numpy.matrix(X)\n",
    "Y = numpy.matrix(Y).T"
   ],
   "metadata": {
    "collapsed": false
   }
  },
  {
   "cell_type": "code",
   "execution_count": 499,
   "outputs": [
    {
     "name": "stdout",
     "output_type": "stream",
     "text": [
      "theta0: 3.717512807797146\n",
      "theta1: -4.1215065294879825e-05\n",
      "theta2: 0.07527591733232668\n",
      "mse: 1.5214029246165832\n"
     ]
    },
    {
     "name": "stderr",
     "output_type": "stream",
     "text": [
      "/Users/gakiara/Desktop/258R/hw/venv/lib/python3.9/site-packages/sklearn/utils/validation.py:727: FutureWarning: np.matrix usage is deprecated in 1.0 and will raise a TypeError in 1.2. Please convert to a numpy array with np.asarray. For more information see: https://numpy.org/doc/stable/reference/generated/numpy.matrix.html\n",
      "  warnings.warn(\n",
      "/Users/gakiara/Desktop/258R/hw/venv/lib/python3.9/site-packages/sklearn/utils/validation.py:727: FutureWarning: np.matrix usage is deprecated in 1.0 and will raise a TypeError in 1.2. Please convert to a numpy array with np.asarray. For more information see: https://numpy.org/doc/stable/reference/generated/numpy.matrix.html\n",
      "  warnings.warn(\n",
      "/Users/gakiara/Desktop/258R/hw/venv/lib/python3.9/site-packages/sklearn/utils/validation.py:727: FutureWarning: np.matrix usage is deprecated in 1.0 and will raise a TypeError in 1.2. Please convert to a numpy array with np.asarray. For more information see: https://numpy.org/doc/stable/reference/generated/numpy.matrix.html\n",
      "  warnings.warn(\n"
     ]
    }
   ],
   "source": [
    "# sklearn model\n",
    "model = linear_model.LinearRegression(fit_intercept=False)\n",
    "model.fit(X, Y)\n",
    "theta = model.coef_\n",
    "Y_pred = model.predict(X)\n",
    "theta0,theta1,theta2 = theta[0]\n",
    "mse = (numpy.square(Y - Y_pred)).mean(axis=0)\n",
    "mse = float(mse)\n",
    "print(\"theta0:\",theta0)\n",
    "print(\"theta1:\",theta1)\n",
    "print(\"theta2:\",theta2)\n",
    "print(\"mse:\",mse)"
   ],
   "metadata": {
    "collapsed": false
   }
  },
  {
   "cell_type": "code",
   "execution_count": 500,
   "id": "f099afd8",
   "metadata": {},
   "outputs": [],
   "source": [
    "answers['Q2'] = [theta0, theta1, theta2, mse]"
   ]
  },
  {
   "cell_type": "code",
   "execution_count": 501,
   "id": "31e2f9e8",
   "metadata": {},
   "outputs": [],
   "source": [
    "assertFloatList(answers['Q2'], 4)"
   ]
  },
  {
   "cell_type": "code",
   "execution_count": 502,
   "id": "1147c4f6",
   "metadata": {},
   "outputs": [],
   "source": [
    "### Question 3"
   ]
  },
  {
   "cell_type": "code",
   "execution_count": 503,
   "id": "78ef0f1e",
   "metadata": {},
   "outputs": [],
   "source": [
    "def feature(datum, deg):\n",
    "    features = [1]\n",
    "    review_count = 0\n",
    "    for ch in datum['review_text']:\n",
    "        if ch == '!':\n",
    "            review_count+=1;\n",
    "    for i in range(1,deg+1):\n",
    "        features.append(review_count**i)\n",
    "    return features\n",
    "    # feature for a specific polynomial degree"
   ]
  },
  {
   "cell_type": "code",
   "execution_count": 504,
   "outputs": [],
   "source": [
    "Y = [d['rating'] for d in dataset]\n",
    "Y = numpy.matrix(Y).T\n",
    "def predict(deg):\n",
    "    # sklearn model\n",
    "\n",
    "    X = [feature(d,deg) for d in dataset]\n",
    "    X = numpy.matrix(X)\n",
    "    theta,residuals,rank,s = numpy.linalg.lstsq(X, Y, rcond=None)\n",
    "    Y_pred = X*theta\n",
    "    mse = (numpy.square(Y - Y_pred)).mean(axis=0)\n",
    "    '''\n",
    "    model = linear_model.LinearRegression(fit_intercept=False)\n",
    "    model.fit(X, Y)\n",
    "    theta = model.coef_\n",
    "    Y_pred = model.predict(X)\n",
    "    mse = (numpy.square(Y - Y_pred)).mean(axis=0)\n",
    "    mse = float(mse)\n",
    "    '''\n",
    "    print(\"theta:\",theta)\n",
    "    print(\"rank:\",rank)\n",
    "    print(\"mse:\",float(mse))\n",
    "    return float(mse)"
   ],
   "metadata": {
    "collapsed": false
   }
  },
  {
   "cell_type": "code",
   "execution_count": 505,
   "outputs": [
    {
     "name": "stdout",
     "output_type": "stream",
     "text": [
      "theta: [[3.68853304]\n",
      " [0.07109019]]\n",
      "rank: 2\n",
      "mse: 1.5231747404538287\n",
      "theta: [[ 3.6505779 ]\n",
      " [ 0.13746771]\n",
      " [-0.00378271]]\n",
      "rank: 3\n",
      "mse: 1.5046686106250917\n",
      "theta: [[ 3.62478057e+00]\n",
      " [ 2.06720982e-01]\n",
      " [-1.22920755e-02]\n",
      " [ 1.51501685e-04]]\n",
      "rank: 4\n",
      "mse: 1.4966845515179226\n",
      "theta: [[ 3.60598965e+00]\n",
      " [ 2.86522319e-01]\n",
      " [-3.02351463e-02]\n",
      " [ 1.04623040e-03]\n",
      " [-1.08917613e-05]]\n",
      "rank: 5\n",
      "mse: 1.490447730223069\n",
      "theta: [[ 3.60026772e+00]\n",
      " [ 3.21702721e-01]\n",
      " [-4.17739020e-02]\n",
      " [ 2.02489606e-03]\n",
      " [-3.93946094e-05]\n",
      " [ 2.59479662e-07]]\n",
      "rank: 6\n",
      "mse: 1.4896106953961643\n",
      "[1.5231747404538287, 1.5046686106250917, 1.4966845515179226, 1.490447730223069, 1.4896106953961643]\n"
     ]
    }
   ],
   "source": [
    "mses = []\n",
    "for i in range(1,6):\n",
    "    mses.append(predict(i))\n",
    "print(mses)"
   ],
   "metadata": {
    "collapsed": false
   }
  },
  {
   "cell_type": "code",
   "execution_count": 506,
   "id": "559faac4",
   "metadata": {},
   "outputs": [],
   "source": [
    "answers['Q3'] = mses"
   ]
  },
  {
   "cell_type": "code",
   "execution_count": 507,
   "id": "bbb5da71",
   "metadata": {},
   "outputs": [],
   "source": [
    "assertFloatList(answers['Q3'], 5)# List of length 5"
   ]
  },
  {
   "cell_type": "code",
   "execution_count": 508,
   "id": "dcbb8263",
   "metadata": {},
   "outputs": [],
   "source": [
    "### Question 4"
   ]
  },
  {
   "cell_type": "code",
   "execution_count": 509,
   "id": "e91bc048",
   "metadata": {},
   "outputs": [
    {
     "name": "stdout",
     "output_type": "stream",
     "text": [
      "5000.0\n"
     ]
    }
   ],
   "source": [
    "Y = [d['rating'] for d in dataset]\n",
    "print(len(Y)/2)\n",
    "train_indices = [i for i in range(0, int(len(Y)/2))]\n",
    "test_indices = [i for i in range(int(len(Y)/2), len(Y))]"
   ]
  },
  {
   "cell_type": "code",
   "execution_count": 510,
   "outputs": [
    {
     "name": "stdout",
     "output_type": "stream",
     "text": [
      "5000\n",
      "5000\n"
     ]
    }
   ],
   "source": [
    "Y_train = [Y[i] for i in train_indices]\n",
    "Y_test = [Y[i] for i in test_indices]\n",
    "print(len(Y_train))\n",
    "print(len(Y_test))\n",
    "#Using values directly as features\n",
    "Y_train = numpy.matrix(Y_train).T\n",
    "Y_test = numpy.matrix(Y_test).T"
   ],
   "metadata": {
    "collapsed": false
   }
  },
  {
   "cell_type": "code",
   "execution_count": 511,
   "outputs": [],
   "source": [
    "def predict(deg):\n",
    "    # sklearn model\n",
    "    model = linear_model.LinearRegression(fit_intercept=False)\n",
    "    X_train = [feature(dataset[i],deg) for i in train_indices]\n",
    "    X_train = numpy.matrix(X_train)\n",
    "    X_test = [feature(dataset[i],deg) for i in test_indices]\n",
    "    X_test = numpy.matrix(X_test)\n",
    "    model.fit(X_train, Y_train)\n",
    "    #mse on test set\n",
    "    Y_pred = model.predict(X_train)\n",
    "    mse_train = (numpy.square(Y_train - Y_pred)).mean(axis=0)\n",
    "    mse_train = float(mse_train)\n",
    "    print(\"mse_train:\",mse_train)\n",
    "    #mse on test set\n",
    "    Y_pred = model.predict(X_test)\n",
    "    mse_test = (numpy.square(Y_test - Y_pred)).mean(axis=0)\n",
    "    mse_test = float(mse_test)\n",
    "    print(\"mse_test:\",mse_test)\n",
    "    return mse_test"
   ],
   "metadata": {
    "collapsed": false
   }
  },
  {
   "cell_type": "code",
   "execution_count": 512,
   "outputs": [
    {
     "name": "stdout",
     "output_type": "stream",
     "text": [
      "mse_train: 1.531071038368391\n",
      "mse_test: 1.524874385986629\n"
     ]
    },
    {
     "name": "stderr",
     "output_type": "stream",
     "text": [
      "/Users/gakiara/Desktop/258R/hw/venv/lib/python3.9/site-packages/sklearn/utils/validation.py:727: FutureWarning: np.matrix usage is deprecated in 1.0 and will raise a TypeError in 1.2. Please convert to a numpy array with np.asarray. For more information see: https://numpy.org/doc/stable/reference/generated/numpy.matrix.html\n",
      "  warnings.warn(\n",
      "/Users/gakiara/Desktop/258R/hw/venv/lib/python3.9/site-packages/sklearn/utils/validation.py:727: FutureWarning: np.matrix usage is deprecated in 1.0 and will raise a TypeError in 1.2. Please convert to a numpy array with np.asarray. For more information see: https://numpy.org/doc/stable/reference/generated/numpy.matrix.html\n",
      "  warnings.warn(\n",
      "/Users/gakiara/Desktop/258R/hw/venv/lib/python3.9/site-packages/sklearn/utils/validation.py:727: FutureWarning: np.matrix usage is deprecated in 1.0 and will raise a TypeError in 1.2. Please convert to a numpy array with np.asarray. For more information see: https://numpy.org/doc/stable/reference/generated/numpy.matrix.html\n",
      "  warnings.warn(\n",
      "/Users/gakiara/Desktop/258R/hw/venv/lib/python3.9/site-packages/sklearn/utils/validation.py:727: FutureWarning: np.matrix usage is deprecated in 1.0 and will raise a TypeError in 1.2. Please convert to a numpy array with np.asarray. For more information see: https://numpy.org/doc/stable/reference/generated/numpy.matrix.html\n",
      "  warnings.warn(\n",
      "/Users/gakiara/Desktop/258R/hw/venv/lib/python3.9/site-packages/sklearn/utils/validation.py:727: FutureWarning: np.matrix usage is deprecated in 1.0 and will raise a TypeError in 1.2. Please convert to a numpy array with np.asarray. For more information see: https://numpy.org/doc/stable/reference/generated/numpy.matrix.html\n",
      "  warnings.warn(\n",
      "/Users/gakiara/Desktop/258R/hw/venv/lib/python3.9/site-packages/sklearn/utils/validation.py:727: FutureWarning: np.matrix usage is deprecated in 1.0 and will raise a TypeError in 1.2. Please convert to a numpy array with np.asarray. For more information see: https://numpy.org/doc/stable/reference/generated/numpy.matrix.html\n",
      "  warnings.warn(\n",
      "/Users/gakiara/Desktop/258R/hw/venv/lib/python3.9/site-packages/sklearn/utils/validation.py:727: FutureWarning: np.matrix usage is deprecated in 1.0 and will raise a TypeError in 1.2. Please convert to a numpy array with np.asarray. For more information see: https://numpy.org/doc/stable/reference/generated/numpy.matrix.html\n",
      "  warnings.warn(\n",
      "/Users/gakiara/Desktop/258R/hw/venv/lib/python3.9/site-packages/sklearn/utils/validation.py:727: FutureWarning: np.matrix usage is deprecated in 1.0 and will raise a TypeError in 1.2. Please convert to a numpy array with np.asarray. For more information see: https://numpy.org/doc/stable/reference/generated/numpy.matrix.html\n",
      "  warnings.warn(\n"
     ]
    },
    {
     "name": "stdout",
     "output_type": "stream",
     "text": [
      "mse_train: 1.518959500167773\n",
      "mse_test: 1.497719925932243\n"
     ]
    },
    {
     "name": "stderr",
     "output_type": "stream",
     "text": [
      "/Users/gakiara/Desktop/258R/hw/venv/lib/python3.9/site-packages/sklearn/utils/validation.py:727: FutureWarning: np.matrix usage is deprecated in 1.0 and will raise a TypeError in 1.2. Please convert to a numpy array with np.asarray. For more information see: https://numpy.org/doc/stable/reference/generated/numpy.matrix.html\n",
      "  warnings.warn(\n",
      "/Users/gakiara/Desktop/258R/hw/venv/lib/python3.9/site-packages/sklearn/utils/validation.py:727: FutureWarning: np.matrix usage is deprecated in 1.0 and will raise a TypeError in 1.2. Please convert to a numpy array with np.asarray. For more information see: https://numpy.org/doc/stable/reference/generated/numpy.matrix.html\n",
      "  warnings.warn(\n",
      "/Users/gakiara/Desktop/258R/hw/venv/lib/python3.9/site-packages/sklearn/utils/validation.py:727: FutureWarning: np.matrix usage is deprecated in 1.0 and will raise a TypeError in 1.2. Please convert to a numpy array with np.asarray. For more information see: https://numpy.org/doc/stable/reference/generated/numpy.matrix.html\n",
      "  warnings.warn(\n",
      "/Users/gakiara/Desktop/258R/hw/venv/lib/python3.9/site-packages/sklearn/utils/validation.py:727: FutureWarning: np.matrix usage is deprecated in 1.0 and will raise a TypeError in 1.2. Please convert to a numpy array with np.asarray. For more information see: https://numpy.org/doc/stable/reference/generated/numpy.matrix.html\n",
      "  warnings.warn(\n"
     ]
    },
    {
     "name": "stdout",
     "output_type": "stream",
     "text": [
      "mse_train: 1.5151651496669822\n",
      "mse_test: 1.4856632190311116\n"
     ]
    },
    {
     "name": "stderr",
     "output_type": "stream",
     "text": [
      "/Users/gakiara/Desktop/258R/hw/venv/lib/python3.9/site-packages/sklearn/utils/validation.py:727: FutureWarning: np.matrix usage is deprecated in 1.0 and will raise a TypeError in 1.2. Please convert to a numpy array with np.asarray. For more information see: https://numpy.org/doc/stable/reference/generated/numpy.matrix.html\n",
      "  warnings.warn(\n",
      "/Users/gakiara/Desktop/258R/hw/venv/lib/python3.9/site-packages/sklearn/utils/validation.py:727: FutureWarning: np.matrix usage is deprecated in 1.0 and will raise a TypeError in 1.2. Please convert to a numpy array with np.asarray. For more information see: https://numpy.org/doc/stable/reference/generated/numpy.matrix.html\n",
      "  warnings.warn(\n",
      "/Users/gakiara/Desktop/258R/hw/venv/lib/python3.9/site-packages/sklearn/utils/validation.py:727: FutureWarning: np.matrix usage is deprecated in 1.0 and will raise a TypeError in 1.2. Please convert to a numpy array with np.asarray. For more information see: https://numpy.org/doc/stable/reference/generated/numpy.matrix.html\n",
      "  warnings.warn(\n",
      "/Users/gakiara/Desktop/258R/hw/venv/lib/python3.9/site-packages/sklearn/utils/validation.py:727: FutureWarning: np.matrix usage is deprecated in 1.0 and will raise a TypeError in 1.2. Please convert to a numpy array with np.asarray. For more information see: https://numpy.org/doc/stable/reference/generated/numpy.matrix.html\n",
      "  warnings.warn(\n"
     ]
    },
    {
     "name": "stdout",
     "output_type": "stream",
     "text": [
      "mse_train: 1.514053641922522\n",
      "mse_test: 1.476733744007722\n",
      "mse_train: 1.5140024540161265\n",
      "mse_test: 1.4809577272884418\n",
      "[1.524874385986629, 1.497719925932243, 1.4856632190311116, 1.476733744007722, 1.4809577272884418]\n"
     ]
    },
    {
     "name": "stderr",
     "output_type": "stream",
     "text": [
      "/Users/gakiara/Desktop/258R/hw/venv/lib/python3.9/site-packages/sklearn/utils/validation.py:727: FutureWarning: np.matrix usage is deprecated in 1.0 and will raise a TypeError in 1.2. Please convert to a numpy array with np.asarray. For more information see: https://numpy.org/doc/stable/reference/generated/numpy.matrix.html\n",
      "  warnings.warn(\n",
      "/Users/gakiara/Desktop/258R/hw/venv/lib/python3.9/site-packages/sklearn/utils/validation.py:727: FutureWarning: np.matrix usage is deprecated in 1.0 and will raise a TypeError in 1.2. Please convert to a numpy array with np.asarray. For more information see: https://numpy.org/doc/stable/reference/generated/numpy.matrix.html\n",
      "  warnings.warn(\n",
      "/Users/gakiara/Desktop/258R/hw/venv/lib/python3.9/site-packages/sklearn/utils/validation.py:727: FutureWarning: np.matrix usage is deprecated in 1.0 and will raise a TypeError in 1.2. Please convert to a numpy array with np.asarray. For more information see: https://numpy.org/doc/stable/reference/generated/numpy.matrix.html\n",
      "  warnings.warn(\n",
      "/Users/gakiara/Desktop/258R/hw/venv/lib/python3.9/site-packages/sklearn/utils/validation.py:727: FutureWarning: np.matrix usage is deprecated in 1.0 and will raise a TypeError in 1.2. Please convert to a numpy array with np.asarray. For more information see: https://numpy.org/doc/stable/reference/generated/numpy.matrix.html\n",
      "  warnings.warn(\n"
     ]
    }
   ],
   "source": [
    "mses = []\n",
    "for i in range(1,6):\n",
    "    mses.append(predict(i))\n",
    "print(mses)"
   ],
   "metadata": {
    "collapsed": false
   }
  },
  {
   "cell_type": "code",
   "execution_count": 513,
   "id": "fdd505ff",
   "metadata": {},
   "outputs": [],
   "source": [
    "answers['Q4'] = mses"
   ]
  },
  {
   "cell_type": "code",
   "execution_count": 514,
   "id": "d2954061",
   "metadata": {},
   "outputs": [],
   "source": [
    "assertFloatList(answers['Q4'], 5)"
   ]
  },
  {
   "cell_type": "code",
   "execution_count": 515,
   "id": "2fa286a5",
   "metadata": {},
   "outputs": [],
   "source": [
    "### Question 5"
   ]
  },
  {
   "cell_type": "code",
   "execution_count": 516,
   "id": "81dcc36d",
   "metadata": {},
   "outputs": [
    {
     "name": "stdout",
     "output_type": "stream",
     "text": [
      "5000\n",
      "4.0\n"
     ]
    }
   ],
   "source": [
    "Y = [d['rating'] for d in dataset]\n",
    "Y.sort()\n",
    "mid = len(Y) // 2\n",
    "print(mid)\n",
    "Y_median = (Y[mid] + Y[~mid]) / 2\n",
    "print(Y_median)\n",
    "mae = 0\n",
    "for y_true in Y:\n",
    "   mae +=  numpy.abs(y_true - Y_median)\n",
    "mae = mae/len(Y)"
   ]
  },
  {
   "cell_type": "code",
   "execution_count": 517,
   "outputs": [
    {
     "name": "stdout",
     "output_type": "stream",
     "text": [
      "0.8923\n"
     ]
    }
   ],
   "source": [
    "print(mae)"
   ],
   "metadata": {
    "collapsed": false
   }
  },
  {
   "cell_type": "code",
   "execution_count": 518,
   "id": "b3a2e9b9",
   "metadata": {},
   "outputs": [],
   "source": [
    "answers['Q5'] = mae"
   ]
  },
  {
   "cell_type": "code",
   "execution_count": 519,
   "id": "d71a47ed",
   "metadata": {},
   "outputs": [],
   "source": [
    "assertFloat(answers['Q5'])"
   ]
  },
  {
   "cell_type": "code",
   "execution_count": 520,
   "id": "cf84f30c",
   "metadata": {},
   "outputs": [],
   "source": [
    "### Question 6"
   ]
  },
  {
   "cell_type": "code",
   "execution_count": 521,
   "id": "19b5b795",
   "metadata": {},
   "outputs": [],
   "source": [
    "f = open(\"beer_50000.json\")\n",
    "dataset = []\n",
    "for l in f:\n",
    "    if 'user/gender' in l:\n",
    "        dataset.append(eval(l))"
   ]
  },
  {
   "cell_type": "code",
   "execution_count": 522,
   "id": "299d4fee",
   "metadata": {},
   "outputs": [
    {
     "data": {
      "text/plain": "20403"
     },
     "execution_count": 522,
     "metadata": {},
     "output_type": "execute_result"
    }
   ],
   "source": [
    "len(dataset)"
   ]
  },
  {
   "cell_type": "code",
   "execution_count": 523,
   "outputs": [
    {
     "name": "stdout",
     "output_type": "stream",
     "text": [
      "{'review/appearance': 4.0, 'beer/style': 'American Double / Imperial IPA', 'review/palate': 4.0, 'review/taste': 4.5, 'beer/name': 'Cauldron DIPA', 'review/timeUnix': 1293735206, 'user/gender': 'Male', 'user/birthdayRaw': 'Jun 16, 1901', 'beer/ABV': 7.7, 'beer/beerId': '64883', 'user/birthdayUnix': -2163081600, 'beer/brewerId': '1075', 'review/timeStruct': {'isdst': 0, 'mday': 30, 'hour': 18, 'min': 53, 'sec': 26, 'mon': 12, 'year': 2010, 'yday': 364, 'wday': 3}, 'user/ageInSeconds': 3581417047, 'review/overall': 4.0, 'review/text': \"According to the website, the style for the Caldera Cauldron changes every year. The current release is a DIPA, which frankly is the only cauldron I'm familiar with (it was an IPA/DIPA the last time I ordered a cauldron at the horsebrass several years back). In any event... at the Horse Brass yesterday.\\t\\tThe beer pours an orange copper color with good head retention and lacing. The nose is all hoppy IPA goodness, showcasing a huge aroma of dry citrus, pine and sandlewood. The flavor profile replicates the nose pretty closely in this West Coast all the way DIPA. This DIPA is not for the faint of heart and is a bit much even for a hophead like myslf. The finish is quite dry and hoppy, and there's barely enough sweet malt to balance and hold up the avalanche of hoppy bitterness in this beer. Mouthfeel is actually fairly light, with a long, persistentely bitter finish. Drinkability is good, with the alcohol barely noticeable in this well crafted beer. Still, this beer is so hugely hoppy/bitter, it's really hard for me to imagine ordering more than a single glass. Regardless, this is a very impressive beer from the folks at Caldera.\", 'user/profileName': 'johnmichaelsen', 'review/aroma': 4.5}\n"
     ]
    }
   ],
   "source": [
    "print(dataset[0])"
   ],
   "metadata": {
    "collapsed": false
   }
  },
  {
   "cell_type": "code",
   "execution_count": 524,
   "outputs": [],
   "source": [
    "def feature(datum):\n",
    "    features = [1]\n",
    "    review_count = 0\n",
    "    for ch in datum['review/text']:\n",
    "        if ch == '!':\n",
    "            review_count+=1;\n",
    "    return review_count"
   ],
   "metadata": {
    "collapsed": false
   }
  },
  {
   "cell_type": "code",
   "execution_count": 525,
   "id": "cf95bec0",
   "metadata": {},
   "outputs": [],
   "source": [
    "X = [[1, feature(d)] for d in dataset]\n",
    "Y = [ d['user/gender'] != 'Male' for d in dataset]"
   ]
  },
  {
   "cell_type": "code",
   "execution_count": 526,
   "id": "e0ce9c0b",
   "metadata": {},
   "outputs": [
    {
     "data": {
      "text/plain": "[[1, 0],\n [1, 0],\n [1, 0],\n [1, 0],\n [1, 0],\n [1, 0],\n [1, 0],\n [1, 1],\n [1, 1],\n [1, 0]]"
     },
     "execution_count": 526,
     "metadata": {},
     "output_type": "execute_result"
    }
   ],
   "source": [
    "X[:10]"
   ]
  },
  {
   "cell_type": "code",
   "execution_count": 527,
   "outputs": [
    {
     "data": {
      "text/plain": "[False, False, False, False, False, False, False, False, False, False]"
     },
     "execution_count": 527,
     "metadata": {},
     "output_type": "execute_result"
    }
   ],
   "source": [
    "Y[:10]"
   ],
   "metadata": {
    "collapsed": false
   }
  },
  {
   "cell_type": "code",
   "execution_count": 528,
   "outputs": [
    {
     "name": "stdout",
     "output_type": "stream",
     "text": [
      "[[-3.10806342e-05  1.29168407e-01]]\n",
      "[False  True]\n"
     ]
    }
   ],
   "source": [
    "# Logistic regression classifier\n",
    "clf = linear_model.LogisticRegression()\n",
    "clf.fit(X, Y)\n",
    "print(clf.coef_)\n",
    "print(clf.classes_)\n",
    "pred = clf.predict(X)\n",
    "theta = numpy.matrix(clf.coef_)"
   ],
   "metadata": {
    "collapsed": false
   }
  },
  {
   "cell_type": "code",
   "execution_count": 529,
   "outputs": [
    {
     "name": "stdout",
     "output_type": "stream",
     "text": [
      "TP =  0\n",
      "FP =  0\n",
      "TN =  20095\n",
      "FN =  308\n",
      "ACC =  0.9849041807577317\n",
      "BER =  0.5\n"
     ]
    }
   ],
   "source": [
    "# True positives, false positives, etc.\n",
    "TP_ = numpy.logical_and(pred, Y)\n",
    "TP = sum(TP_)\n",
    "print('TP = ', TP)\n",
    "\n",
    "FP_ = numpy.logical_and(pred, numpy.logical_not(Y))\n",
    "FP = sum(FP_)\n",
    "print('FP = ', FP)\n",
    "\n",
    "TN_ = numpy.logical_and(numpy.logical_not(pred), numpy.logical_not(Y))\n",
    "TN = sum(TN_)\n",
    "print('TN = ', TN)\n",
    "\n",
    "FN_ = numpy.logical_and(numpy.logical_not(pred), Y)\n",
    "FN = sum(FN_)\n",
    "print('FN = ', FN)\n",
    "\n",
    "# accuracy sum(correct) / len(correct)\n",
    "accuracy = (TP + TN) / (TP + FP + TN + FN)\n",
    "print('ACC = ', accuracy)\n",
    "# BER\n",
    "BER = 1 - 0.5 * (TP / (TP + FN) + TN / (TN + FP))\n",
    "print('BER = ', BER)"
   ],
   "metadata": {
    "collapsed": false
   }
  },
  {
   "cell_type": "code",
   "execution_count": 530,
   "id": "0c35d20a",
   "metadata": {},
   "outputs": [],
   "source": [
    "answers['Q6'] = [TP, TN, FP, FN, BER]"
   ]
  },
  {
   "cell_type": "code",
   "execution_count": 531,
   "id": "9b18991a",
   "metadata": {},
   "outputs": [],
   "source": [
    "assertFloatList(answers['Q6'], 5)"
   ]
  },
  {
   "cell_type": "code",
   "execution_count": 532,
   "id": "f066f3d5",
   "metadata": {},
   "outputs": [],
   "source": [
    "### Question 7"
   ]
  },
  {
   "cell_type": "code",
   "execution_count": 533,
   "id": "d24c241f",
   "metadata": {},
   "outputs": [
    {
     "name": "stdout",
     "output_type": "stream",
     "text": [
      "[[-0.03667618  0.18669959]]\n",
      "[False  True]\n"
     ]
    }
   ],
   "source": [
    "# Logistic regression classifier\n",
    "clf = linear_model.LogisticRegression(class_weight='balanced')\n",
    "clf.fit(X, Y)\n",
    "print(clf.coef_)\n",
    "print(clf.classes_)\n",
    "pred = clf.predict(X)\n",
    "theta = numpy.matrix(clf.coef_)"
   ]
  },
  {
   "cell_type": "code",
   "execution_count": 534,
   "outputs": [
    {
     "name": "stdout",
     "output_type": "stream",
     "text": [
      "TP =  88\n",
      "FP =  3763\n",
      "TN =  16332\n",
      "FN =  220\n",
      "ACC =  0.8047836102533941\n",
      "BER =  0.4507731134255145\n"
     ]
    }
   ],
   "source": [
    "# True positives, false positives, etc.\n",
    "TP_ = numpy.logical_and(pred, Y)\n",
    "TP = sum(TP_)\n",
    "print('TP = ', TP)\n",
    "\n",
    "FP_ = numpy.logical_and(pred, numpy.logical_not(Y))\n",
    "FP = sum(FP_)\n",
    "print('FP = ', FP)\n",
    "\n",
    "TN_ = numpy.logical_and(numpy.logical_not(pred), numpy.logical_not(Y))\n",
    "TN = sum(TN_)\n",
    "print('TN = ', TN)\n",
    "\n",
    "FN_ = numpy.logical_and(numpy.logical_not(pred), Y)\n",
    "FN = sum(FN_)\n",
    "print('FN = ', FN)\n",
    "\n",
    "# accuracy sum(correct) / len(correct)\n",
    "accuracy = (TP + TN) / (TP + FP + TN + FN)\n",
    "print('ACC = ', accuracy)\n",
    "# BER\n",
    "BER = 1 - 0.5 * (TP / (TP + FN) + TN / (TN + FP))\n",
    "print('BER = ', BER)"
   ],
   "metadata": {
    "collapsed": false
   }
  },
  {
   "cell_type": "code",
   "execution_count": 535,
   "id": "0622704c",
   "metadata": {},
   "outputs": [],
   "source": [
    "answers[\"Q7\"] = [TP, TN, FP, FN, BER]"
   ]
  },
  {
   "cell_type": "code",
   "execution_count": 536,
   "id": "efb03c92",
   "metadata": {},
   "outputs": [],
   "source": [
    "assertFloatList(answers['Q7'], 5)"
   ]
  },
  {
   "cell_type": "code",
   "execution_count": 537,
   "id": "0e622c2b",
   "metadata": {},
   "outputs": [],
   "source": [
    "### Question 8"
   ]
  },
  {
   "cell_type": "code",
   "execution_count": 538,
   "id": "9b6bcea5",
   "metadata": {},
   "outputs": [
    {
     "name": "stdout",
     "output_type": "stream",
     "text": [
      "[0.48166599 0.48166599 0.48166599 ... 0.48166599 0.57444991 0.48166599]\n"
     ]
    }
   ],
   "source": [
    "prob_pos = clf.predict_proba(X)[:,1]\n",
    "print(prob_pos)"
   ]
  },
  {
   "cell_type": "code",
   "execution_count": 539,
   "outputs": [
    {
     "name": "stdout",
     "output_type": "stream",
     "text": [
      "[0, 12968, 12969, 12970, 12971, 12972, 12973, 12974, 12975, 12976, 12977, 12978, 12979, 12980, 12981, 12982, 12983, 12984, 13000, 12999, 12996, 12995, 12994, 12993, 12967, 12992, 12990, 12989, 12988, 12987, 12986, 12985, 12991, 12966, 12965, 12963, 12937, 12936, 12934, 12933, 12932, 12931, 12938, 12930, 12926, 12925, 12922, 12920, 12918, 12917, 12928, 13001, 12941, 12945, 12962, 12960, 12958, 12957, 12956, 12955, 12942, 12954, 12951, 12950, 12949, 12948, 12947, 12946, 12953, 13002, 13003, 13005, 13071, 13070, 13069, 13068, 13067, 13065, 13072, 13062, 13060, 13058, 13057, 13056, 13053, 13052, 13061, 13051, 13073, 13075, 13093, 13092, 13091, 13090, 13089, 13088, 13074, 13085, 13083, 13082, 13081, 13080, 13078, 13076, 13084, 12915, 13050, 13048, 13024, 13023, 13022, 13021, 13017, 13016, 13025, 13014, 13012, 13011, 13010, 13009, 13008, 13006, 13013, 13049, 13026, 13028, 13047, 13045, 13044, 13042, 13041, 13040, 13027, 13039, 13036, 13034, 13033, 13032, 13030, 13029, 13037, 13094, 12914, 12912, 12790, 12791, 12793, 12794, 12795, 12798, 12800, 12801, 12802, 12804, 12805, 12806, 12807, 12809, 12810, 12811, 12813, 12828, 12827, 12826, 12824, 12823, 12822, 12789, 12821, 12819, 12818, 12817, 12816, 12815, 12814, 12820, 12788, 12787, 12786, 12762, 12761, 12758, 12757, 12756, 12755, 12763, 12749, 12747, 12745, 12743, 12742, 12741, 12740, 12748, 12830, 12765, 12767, 12784, 12782, 12781, 12780, 12779, 12778, 12766, 12776, 12774, 12773, 12771, 12770, 12769, 12768, 12775, 12831, 12832, 12833, 12892, 12891, 12890, 12889, 12888, 12887, 12893, 12886, 12884, 12883, 12882, 12880, 12879, 12878, 12885, 12877, 12894, 12896, 12911, 12910, 12909, 12908, 12907, 12906, 12895, 12905, 12903, 12902, 12900, 12899, 12898, 12897, 12904, 12913, 12876, 12874, 12849, 12848, 12847, 12846, 12845, 12844, 12850, 12843, 12841, 12840, 12838, 12837, 12836, 12834, 12842, 12875, 12851, 12853, 12872, 12871, 12870, 12869, 12867, 12865, 12852, 12863, 12860, 12859, 12858, 12857, 12856, 12855, 12861, 12739, 13096, 13098, 13359, 13360, 13361, 13362, 13363, 13366, 13369, 13370, 13371, 13372, 13373, 13374, 13377, 13378, 13379, 13380, 13381, 13399, 13397, 13396, 13395, 13394, 13393, 13355, 13392, 13390, 13388, 13386, 13385, 13383, 13382, 13391, 13353, 13348, 13346, 13313, 13312, 13311, 13310, 13309, 13307, 13315, 13306, 13301, 13300, 13299, 13298, 13297, 13296, 13305, 13400, 13317, 13319, 13345, 13342, 13341, 13340, 13337, 13335, 13318, 13334, 13329, 13328, 13326, 13323, 13321, 13320, 13332, 13402, 13403, 13409, 13482, 13481, 13478, 13477, 13476, 13475, 13483, 13474, 13472, 13471, 13470, 13469, 13468, 13466, 13473, 13463, 13486, 13490, 13514, 13513, 13512, 13510, 13506, 13505, 13489, 13504, 13501, 13497, 13496, 13493, 13492, 13491, 13502, 13293, 13462, 13459, 13431, 13430, 13427, 13426, 13425, 13422, 13434, 13420, 13417, 13416, 13415, 13413, 13412, 13410, 13419, 13460, 13436, 13439, 13458, 13457, 13456, 13455, 13454, 13453, 13438, 13452, 13448, 13447, 13446, 13444, 13443, 13441, 13450, 13097, 13292, 13290, 13145, 13146, 13147, 13149, 13151, 13153, 13154, 13155, 13156, 13157, 13158, 13159, 13160, 13162, 13163, 13164, 13165, 13183, 13181, 13180, 13179, 13178, 13177, 13144, 13176, 13174, 13172, 13171, 13170, 13167, 13166, 13175, 13142, 13141, 13138, 13113, 13112, 13111, 13110, 13109, 13107, 13114, 13106, 13104, 13103, 13102, 13101, 13100, 13099, 13105, 13184, 13115, 13117, 13137, 13135, 13134, 13131, 13129, 13128, 13116, 13127, 13125, 13124, 13123, 13122, 13119, 13118, 13126, 13185, 13188, 13189, 13260, 13257, 13255, 13253, 13251, 13250, 13261, 13249, 13247, 13246, 13244, 13243, 13242, 13241, 13248, 13240, 13264, 13269, 13289, 13285, 13284, 13283, 13282, 13281, 13268, 13280, 13277, 13276, 13275, 13273, 13272, 13270, 13279, 13291, 13239, 13236, 13207, 13205, 13204, 13203, 13202, 13200, 13208, 13199, 13196, 13195, 13194, 13193, 13192, 13191, 13197, 13237, 13213, 13216, 13233, 13232, 13231, 13229, 13228, 13227, 13214, 13224, 13222, 13221, 13220, 13219, 13218, 13217, 13223, 13515, 12737, 12735, 12265, 12268, 12269, 12270, 12273, 12274, 12275, 12276, 12277, 12278, 12279, 12280, 12281, 12282, 12284, 12285, 12286, 12301, 12300, 12299, 12298, 12297, 12296, 12263, 12295, 12292, 12291, 12290, 12289, 12288, 12287, 12294, 12262, 12261, 12259, 12238, 12237, 12236, 12235, 12234, 12233, 12239, 12232, 12230, 12229, 12228, 12227, 12226, 12224, 12231, 12302, 12240, 12242, 12258, 12257, 12255, 12254, 12253, 12252, 12241, 12250, 12248, 12247, 12246, 12245, 12244, 12243, 12249, 12303, 12304, 12305, 12368, 12367, 12366, 12365, 12364, 12363, 12369, 12362, 12360, 12359, 12358, 12357, 12356, 12355, 12361, 12354, 12370, 12372, 12389, 12388, 12387, 12386, 12385, 12384, 12371, 12383, 12381, 12380, 12378, 12376, 12375, 12374, 12382, 12222, 12352, 12349, 12323, 12322, 12321, 12320, 12319, 12318, 12325, 12317, 12315, 12314, 12313, 12312, 12310, 12306, 12316, 12350, 12326, 12330, 12348, 12347, 12346, 12345, 12343, 12342, 12329, 12341, 12339, 12338, 12336, 12335, 12333, 12331, 12340, 12390, 12221, 12217, 12088, 12090, 12091, 12092, 12096, 12097, 12098, 12099, 12100, 12101, 12102, 12103, 12104, 12105, 12108, 12109, 12112, 12133, 12132, 12131, 12130, 12127, 12126, 12087, 12125, 12122, 12120, 12118, 12117, 12115, 12114, 12124, 12086, 12085, 12083, 12051, 12049, 12048, 12047, 12045, 12043, 12052, 12042, 12039, 12038, 12036, 12035, 12033, 12032, 12040, 12135, 12054, 12057, 12080, 12079, 12077, 12076, 12075, 12074, 12056, 12071, 12067, 12066, 12065, 12062, 12061, 12058, 12068, 12136, 12137, 12139, 12195, 12193, 12190, 12189, 12188, 12187, 12196, 12185, 12183, 12182, 12181, 12180, 12179, 12178, 12184, 12177, 12197, 12199, 12216, 12215, 12214, 12213, 12212, 12209, 12198, 12208, 12206, 12205, 12204, 12203, 12202, 12201, 12207, 12219, 12176, 12174, 12154, 12153, 12152, 12151, 12150, 12149, 12155, 12148, 12146, 12144, 12143, 12142, 12141, 12140, 12147, 12175, 12156, 12158, 12173, 12172, 12171, 12170, 12169, 12168, 12157, 12167, 12165, 12163, 12162, 12161, 12160, 12159, 12166, 12736, 12392, 12394, 12612, 12613, 12614, 12615, 12616, 12617, 12618, 12619, 12620, 12622, 12623, 12625, 12626, 12627, 12628, 12630, 12632, 12649, 12648, 12647, 12646, 12645, 12643, 12611, 12642, 12640, 12639, 12638, 12636, 12635, 12634, 12641, 12610, 12609, 12608, 12587, 12586, 12585, 12584, 12583, 12581, 12588, 12580, 12578, 12577, 12576, 12575, 12574, 12573, 12579, 12650, 12589, 12591, 12607, 12606, 12605, 12604, 12603, 12602, 12590, 12600, 12597, 12596, 12595, 12594, 12593, 12592, 12598, 12651, 12652, 12653, 12712, 12711, 12710, 12709, 12708, 12707, 12713, 12706, 12704, 12703, 12702, 12701, 12700, 12699, 12705, 12698, 12714, 12716, 12734, 12732, 12731, 12730, 12729, 12727, 12715, 12726, 12724, 12723, 12721, 12719, 12718, 12717, 12725, 12572, 12697, 12695, 12670, 12669, 12667, 12665, 12664, 12663, 12671, 12662, 12660, 12659, 12658, 12657, 12656, 12654, 12661, 12696, 12672, 12675, 12694, 12693, 12692, 12691, 12690, 12689, 12674, 12687, 12684, 12683, 12680, 12679, 12678, 12677, 12686, 12393, 12571, 12568, 12442, 12443, 12444, 12445, 12446, 12447, 12449, 12451, 12452, 12454, 12455, 12456, 12457, 12458, 12459, 12460, 12461, 12477, 12476, 12474, 12473, 12472, 12471, 12441, 12470, 12468, 12467, 12466, 12465, 12464, 12462, 12469, 12439, 12438, 12437, 12413, 12412, 12411, 12410, 12407, 12406, 12414, 12403, 12401, 12400, 12399, 12398, 12397, 12396, 12402, 12479, 12415, 12417, 12436, 12435, 12434, 12432, 12430, 12429, 12416, 12428, 12426, 12425, 12424, 12423, 12420, 12419, 12427, 12481, 12484, 12485, 12547, 12546, 12545, 12543, 12542, 12541, 12548, 12540, 12537, 12535, 12534, 12533, 12532, 12531, 12539, 12530, 12549, 12551, 12567, 12566, 12565, 12564, 12563, 12562, 12550, 12560, 12558, 12556, 12555, 12554, 12553, 12552, 12559, 12570, 12527, 12525, 12501, 12500, 12499, 12498, 12497, 12496, 12502, 12495, 12492, 12491, 12490, 12489, 12488, 12486, 12494, 12526, 12503, 12506, 12524, 12523, 12521, 12520, 12519, 12518, 12504, 12517, 12515, 12514, 12513, 12512, 12509, 12507, 12516, 13516, 13519, 13525, 14536, 14537, 14538, 14539, 14540, 14542, 14546, 14547, 14548, 14549, 14550, 14551, 14552, 14553, 14554, 14555, 14556, 14573, 14571, 14570, 14567, 14566, 14565, 14535, 14564, 14562, 14561, 14560, 14559, 14558, 14557, 14563, 14534, 14533, 14532, 14512, 14511, 14510, 14509, 14508, 14507, 14513, 14506, 14504, 14503, 14500, 14499, 14498, 14497, 14505, 14574, 14514, 14516, 14531, 14530, 14529, 14528, 14527, 14525, 14515, 14524, 14522, 14521, 14520, 14519, 14518, 14517, 14523, 14575, 14576, 14577, 14635, 14634, 14633, 14632, 14631, 14630, 14636, 14629, 14627, 14626, 14623, 14622, 14621, 14620, 14628, 14619, 14637, 14639, 14653, 14652, 14651, 14650, 14649, 14648, 14638, 14647, 14645, 14644, 14643, 14642, 14641, 14640, 14646, 14496, 14618, 14616, 14593, 14591, 14590, 14589, 14587, 14586, 14594, 14585, 14583, 14582, 14581, 14580, 14579, 14578, 14584, 14617, 14595, 14597, 14614, 14613, 14612, 14611, 14610, 14609, 14596, 14608, 14605, 14604, 14601, 14600, 14599, 14598, 14607, 14654, 14495, 14493, 14356, 14357, 14358, 14360, 14361, 14362, 14363, 14364, 14365, 14366, 14367, 14368, 14369, 14370, 14371, 14372, 14373, 14393, 14390, 14387, 14386, 14385, 14384, 14355, 14383, 14381, 14380, 14379, 14378, 14375, 14374, 14382, 14354, 14353, 14352, 14326, 14325, 14324, 14323, 14322, 14321, 14327, 14320, 14317, 14316, 14314, 14313, 14312, 14311, 14319, 14397, 14328, 14331, 14351, 14350, 14349, 14348, 14345, 14343, 14329, 14341, 14338, 14337, 14336, 14335, 14334, 14332, 14339, 14398, 14399, 14400, 14467, 14465, 14463, 14462, 14461, 14460, 14468, 14459, 14457, 14455, 14454, 14453, 14452, 14451, 14458, 14450, 14469, 14472, 14492, 14489, 14488, 14487, 14486, 14485, 14470, 14484, 14481, 14480, 14479, 14476, 14475, 14474, 14482, 14494, 14449, 14447, 14419, 14418, 14417, 14416, 14415, 14413, 14422, 14410, 14406, 14405, 14404, 14403, 14402, 14401, 14408, 14448, 14423, 14426, 14446, 14444, 14442, 14441, 14440, 14437, 14425, 14436, 14434, 14433, 14432, 14431, 14429, 14427, 14435, 14310, 14656, 14658, 14876, 14877, 14878, 14879, 14881, 14882, 14883, 14884, 14886, 14887, 14888, 14889, 14890, 14891, 14892, 14893, 14895, 14910, 14909, 14908, 14907, 14906, 14905, 14875, 14904, 14902, 14901, 14900, 14899, 14898, 14897, 14903, 14874, 14873, 14872, 14849, 14847, 14846, 14845, 14844, 14843, 14850, 14842, 14840, 14838, 14837, 14836, 14835, 14834, 14841, 14911, 14851, 14853, 14871, 14870, 14869, 14868, 14867, 14866, 14852, 14865, 14861, 14860, 14859, 14858, 14856, 14855, 14863, 14912, 14914, 14915, 14974, 14973, 14971, 14970, 14969, 14968, 14975, 14967, 14965, 14964, 14963, 14961, 14960, 14959, 14966, 14958, 14977, 14979, 14996, 14995, 14994, 14993, 14991, 14989, 14978, 14987, 14985, 14984, 14983, 14982, 14981, 14980, 14986, 14833, 14955, 14953, 14932, 14931, 14930, 14929, 14928, 14927, 14934, 14926, 14924, 14921, 14920, 14919, 14918, 14916, 14925, 14954, 14935, 14937, 14952, 14951, 14950, 14949, 14948, 14947, 14936, 14946, 14943, 14942, 14941, 14940, 14939, 14938, 14944, 14657, 14832, 14829, 14699, 14700, 14701, 14702, 14703, 14704, 14705, 14706, 14707, 14708, 14709, 14710, 14711, 14712, 14713, 14714, 14715, 14733, 14732, 14731, 14730, 14729, 14728, 14698, 14727, 14725, 14723, 14722, 14721, 14719, 14716, 14726, 14697, 14696, 14695, 14672, 14671, 14670, 14669, 14668, 14667, 14673, 14666, 14664, 14663, 14662, 14661, 14660, 14659, 14665, 14734, 14674, 14676, 14694, 14693, 14692, 14691, 14690, 14688, 14675, 14687, 14684, 14683, 14681, 14680, 14679, 14678, 14685, 14735, 14736, 14737, 14807, 14805, 14804, 14802, 14801, 14800, 14808, 14799, 14794, 14793, 14791, 14789, 14788, 14787, 14797, 14785, 14809, 14812, 14828, 14827, 14826, 14825, 14824, 14823, 14811, 14822, 14820, 14819, 14817, 14816, 14815, 14814, 14821, 14830, 14784, 14782, 14754, 14753, 14752, 14751, 14750, 14746, 14755, 14745, 14743, 14742, 14741, 14740, 14739, 14738, 14744, 14783, 14756, 14759, 14781, 14777, 14776, 14774, 14772, 14771, 14757, 14770, 14767, 14766, 14764, 14763, 14762, 14761, 14768, 14309, 14307, 14306, 13795, 13798, 13800, 13802, 13803, 13804, 13806, 13807, 13808, 13809, 13810, 13811, 13812, 13814, 13815, 13816, 13817, 13843, 13842, 13840, 13839, 13837, 13836, 13792, 13835, 13830, 13826, 13825, 13824, 13822, 13818, 13832, 13790, 13788, 13787, 13763, 13762, 13761, 13760, 13759, 13757, 13766, 13755, 13751, 13750, 13749, 13748, 13746, 13743, 13753, 13844, 13768, 13770, 13786, 13784, 13783, 13782, 13781, 13780, 13769, 13779, 13777, 13775, 13774, 13773, 13772, 13771, 13778, 13845, 13846, 13848, 13919, 13915, 13914, 13913, 13912, 13911, 13920, 13909, 13906, 13905, 13904, 13903, 13901, 13899, 13908, 13896, 13922, 13924, 13944, 13941, 13939, 13938, 13937, 13935, 13923, 13934, 13930, 13929, 13928, 13927, 13926, 13925, 13931, 13742, 13895, 13891, 13866, 13864, 13863, 13862, 13861, 13859, 13867, 13858, 13854, 13853, 13852, 13851, 13850, 13849, 13856, 13893, 13868, 13871, 13890, 13888, 13887, 13886, 13885, 13884, 13870, 13883, 13881, 13880, 13878, 13875, 13874, 13873, 13882, 13945, 13741, 13733, 13583, 13584, 13586, 13587, 13590, 13591, 13592, 13593, 13594, 13595, 13596, 13599, 13600, 13601, 13603, 13605, 13606, 13625, 13624, 13622, 13620, 13619, 13618, 13582, 13617, 13614, 13612, 13611, 13609, 13608, 13607, 13615, 13581, 13579, 13578, 13551, 13549, 13546, 13545, 13540, 13539, 13552, 13537, 13533, 13531, 13529, 13528, 13527, 13526, 13535, 13630, 13553, 13555, 13576, 13575, 13573, 13572, 13570, 13569, 13554, 13568, 13565, 13563, 13562, 13560, 13557, 13556, 13566, 13631, 13632, 13633, 13708, 13707, 13706, 13705, 13704, 13703, 13709, 13702, 13700, 13699, 13698, 13697, 13696, 13693, 13701, 13692, 13710, 13713, 13732, 13729, 13727, 13725, 13723, 13722, 13712, 13721, 13719, 13718, 13717, 13716, 13715, 13714, 13720, 13739, 13691, 13688, 13658, 13655, 13654, 13653, 13647, 13646, 13663, 13645, 13642, 13640, 13639, 13636, 13635, 13634, 13644, 13689, 13666, 13669, 13687, 13685, 13684, 13683, 13681, 13680, 13668, 13678, 13676, 13675, 13674, 13673, 13671, 13670, 13677, 13946, 13947, 13948, 14181, 14182, 14183, 14185, 14186, 14187, 14188, 14189, 14190, 14191, 14192, 14193, 14194, 14195, 14196, 14197, 14198, 14217, 14216, 14215, 14214, 14210, 14209, 14180, 14208, 14205, 14203, 14202, 14201, 14200, 14199, 14206, 14179, 14178, 14177, 14152, 14151, 14150, 14149, 14148, 14147, 14153, 14146, 14144, 14143, 14142, 14141, 14140, 14139, 14145, 14218, 14155, 14157, 14176, 14175, 14174, 14173, 14171, 14170, 14156, 14168, 14165, 14162, 14161, 14160, 14159, 14158, 14166, 14219, 14221, 14222, 14283, 14282, 14281, 14279, 14277, 14276, 14284, 14275, 14272, 14271, 14269, 14268, 14267, 14266, 14274, 14265, 14285, 14287, 14305, 14304, 14302, 14300, 14299, 14298, 14286, 14297, 14294, 14293, 14292, 14291, 14290, 14288, 14295, 14138, 14264, 14262, 14239, 14238, 14237, 14236, 14234, 14233, 14240, 14231, 14228, 14227, 14226, 14225, 14224, 14223, 14230, 14263, 14241, 14243, 14260, 14258, 14257, 14255, 14254, 14253, 14242, 14252, 14250, 14248, 14247, 14246, 14245, 14244, 14251, 14137, 14136, 14134, 14020, 14019, 14018, 14017, 14016, 14014, 14021, 14013, 14010, 14009, 14006, 14005, 14002, 13998, 14012, 13997, 14022, 14024, 14044, 14043, 14042, 14041, 14040, 14037, 14023, 14036, 14034, 14032, 14030, 14029, 14028, 14025, 14035, 14045, 13996, 13994, 13971, 13970, 13968, 13964, 13962, 13960, 13973, 13959, 13957, 13956, 13954, 13953, 13951, 13949, 13958, 13995, 13974, 13976, 13991, 13990, 13989, 13988, 13987, 13986, 13975, 13985, 13983, 13982, 13981, 13980, 13979, 13977, 13984, 12030, 14046, 14048, 14109, 14108, 14107, 14106, 14105, 14104, 14110, 14102, 14100, 14099, 14098, 14097, 14096, 14094, 14101, 14093, 14112, 14115, 14133, 14131, 14129, 14128, 14127, 14126, 14113, 14124, 14122, 14121, 14120, 14119, 14117, 14116, 14123, 14047, 14092, 14089, 14065, 14064, 14063, 14061, 14060, 14059, 14067, 14058, 14056, 14055, 14053, 14052, 14051, 14049, 14057, 14090, 14068, 14071, 14087, 14085, 14083, 14082, 14081, 14080, 14070, 14079, 14077, 14076, 14075, 14074, 14073, 14072, 14078, 12028, 12027, 12026, 10087, 10088, 10089, 10090, 10091, 10093, 10094, 10095, 10096, 10097, 10098, 10099, 10101, 10102, 10103, 10104, 10106, 10122, 10121, 10120, 10119, 10118, 10117, 10086, 10116, 10114, 10113, 10112, 10111, 10108, 10107, 10115, 10085, 10084, 10083, 10058, 10057, 10056, 10054, 10052, 10051, 10062, 10050, 10048, 10045, 10044, 10043, 10042, 10041, 10049, 10123, 10063, 10065, 10082, 10081, 10080, 10079, 10078, 10077, 10064, 10075, 10071, 10070, 10069, 10068, 10067, 10066, 10074, 10124, 10125, 10126, 10184, 10183, 10182, 10181, 10180, 10179, 10185, 10177, 10175, 10174, 10172, 10171, 10170, 10169, 10176, 10168, 10186, 10188, 10204, 10203, 10202, 10200, 10199, 10198, 10187, 10197, 10195, 10193, 10192, 10191, 10190, 10189, 10196, 10040, 10167, 10165, 10141, 10140, 10139, 10138, 10137, 10135, 10142, 10134, 10132, 10131, 10130, 10129, 10128, 10127, 10133, 10166, 10143, 10145, 10164, 10163, 10162, 10161, 10160, 10158, 10144, 10157, 10153, 10152, 10151, 10150, 10149, 10148, 10154, 10205, 10039, 10037, 9911, 9912, 9913, 9914, 9916, 9917, 9918, 9921, 9922, 9923, 9926, 9930, 9931, 9932, 9933, 9934, 9935, 9952, 9951, 9950, 9949, 9948, 9947, 9910, 9945, 9943, 9940, 9939, 9938, 9937, 9936, 9944, 9908, 9907, 9906, 9882, 9881, 9880, 9879, 9877, 9876, 9883, 9875, 9873, 9872, 9871, 9870, 9869, 9867, 9874, 9955, 9884, 9886, 9905, 9902, 9901, 9899, 9898, 9895, 9885, 9894, 9892, 9891, 9890, 9889, 9888, 9887, 9893, 9956, 9957, 9958, 10012, 10011, 10009, 10008, 10007, 10006, 10014, 10005, 10003, 10002, 10001, 9999, 9998, 9997, 10004, 9996, 10015, 10019, 10036, 10035, 10034, 10033, 10032, 10031, 10017, 10029, 10027, 10026, 10025, 10024, 10023, 10021, 10028, 10038, 9995, 9993, 9973, 9972, 9971, 9970, 9969, 9968, 9974, 9967, 9964, 9963, 9962, 9961, 9960, 9959, 9965, 9994, 9975, 9977, 9992, 9991, 9990, 9989, 9988, 9987, 9976, 9986, 9984, 9983, 9982, 9980, 9979, 9978, 9985, 9866, 10206, 10208, 10446, 10447, 10448, 10449, 10451, 10453, 10454, 10456, 10457, 10458, 10459, 10460, 10461, 10462, 10463, 10464, 10465, 10481, 10480, 10479, 10478, 10476, 10475, 10445, 10474, 10472, 10471, 10469, 10468, 10467, 10466, 10473, 10444, 10441, 10440, 10411, 10410, 10409, 10408, 10407, 10406, 10412, 10404, 10402, 10401, 10400, 10399, 10397, 10396, 10403, 10482, 10413, 10415, 10437, 10436, 10435, 10430, 10429, 10427, 10414, 10425, 10422, 10421, 10420, 10419, 10418, 10417, 10424, 10483, 10484, 10485, 10550, 10549, 10547, 10545, 10544, 10543, 10551, 10541, 10539, 10537, 10535, 10534, 10533, 10532, 10540, 10531, 10553, 10555, 10573, 10572, 10571, 10567, 10566, 10565, 10554, 10564, 10562, 10561, 10559, 10558, 10557, 10556, 10563, 10394, 10530, 10528, 10506, 10505, 10503, 10501, 10500, 10498, 10507, 10497, 10492, 10491, 10490, 10489, 10488, 10486, 10494, 10529, 10508, 10510, 10527, 10526, 10525, 10524, 10522, 10521, 10509, 10520, 10516, 10515, 10514, 10513, 10512, 10511, 10518, 10207, 10393, 10389, 10255, 10257, 10258, 10259, 10260, 10261, 10262, 10263, 10264, 10265, 10266, 10267, 10270, 10272, 10273, 10274, 10275, 10289, 10288, 10287, 10286, 10285, 10284, 10254, 10283, 10281, 10280, 10279, 10278, 10277, 10276, 10282, 10253, 10252, 10251, 10224, 10223, 10222, 10221, 10220, 10219, 10225, 10218, 10216, 10215, 10213, 10212, 10211, 10209, 10217, 10290, 10226, 10229, 10250, 10249, 10247, 10246, 10245, 10244, 10227, 10242, 10240, 10239, 10238, 10233, 10232, 10231, 10241, 10292, 10293, 10294, 10357, 10356, 10355, 10354, 10353, 10352, 10363, 10350, 10347, 10346, 10345, 10344, 10343, 10342, 10349, 10339, 10365, 10368, 10385, 10384, 10383, 10382, 10381, 10380, 10366, 10378, 10376, 10375, 10374, 10373, 10370, 10369, 10377, 10392, 10337, 10335, 10314, 10313, 10311, 10309, 10308, 10307, 10315, 10306, 10301, 10300, 10299, 10298, 10297, 10296, 10304, 10336, 10316, 10318, 10334, 10333, 10332, 10330, 10329, 10328, 10317, 10327, 10325, 10324, 10323, 10322, 10320, 10319, 10326, 9865, 9862, 9861, 9388, 9391, 9392, 9394, 9395, 9396, 9397, 9398, 9399, 9400, 9402, 9403, 9404, 9405, 9406, 9408, 9409, 9424, 9423, 9422, 9421, 9420, 9419, 9387, 9418, 9416, 9415, 9414, 9412, 9411, 9410, 9417, 9386, 9385, 9384, 9361, 9360, 9359, 9358, 9357, 9355, 9362, 9354, 9352, 9351, 9349, 9348, 9346, 9345, 9353, 9425, 9364, 9366, 9383, 9382, 9381, 9380, 9379, 9377, 9365, 9376, 9374, 9373, 9371, 9370, 9368, 9367, 9375, 9426, 9427, 9428, 9495, 9493, 9492, 9491, 9489, 9488, 9496, 9487, 9485, 9483, 9482, 9480, 9479, 9478, 9486, 9477, 9498, 9500, 9516, 9515, 9513, 9512, 9511, 9510, 9499, 9509, 9506, 9505, 9504, 9503, 9502, 9501, 9507, 9344, 9475, 9473, 9444, 9443, 9442, 9441, 9440, 9439, 9445, 9438, 9436, 9435, 9434, 9433, 9431, 9429, 9437, 9474, 9446, 9448, 9471, 9469, 9468, 9466, 9464, 9463, 9447, 9462, 9458, 9456, 9455, 9453, 9452, 9449, 9461, 9517, 9343, 9341, 9207, 9210, 9211, 9212, 9214, 9215, 9217, 9218, 9220, 9221, 9222, 9223, 9224, 9225, 9226, 9227, 9228, 9245, 9243, 9242, 9241, 9240, 9239, 9206, 9238, 9235, 9234, 9233, 9231, 9230, 9229, 9236, 9205, 9204, 9203, 9179, 9178, 9177, 9176, 9174, 9173, 9181, 9172, 9170, 9169, 9168, 9165, 9162, 9161, 9171, 9246, 9182, 9185, 9202, 9201, 9199, 9198, 9196, 9195, 9183, 9194, 9192, 9190, 9189, 9188, 9187, 9186, 9193, 9247, 9248, 9251, 9315, 9314, 9313, 9312, 9311, 9310, 9316, 9308, 9306, 9304, 9303, 9302, 9301, 9300, 9307, 9298, 9317, 9320, 9339, 9337, 9336, 9335, 9334, 9332, 9318, 9331, 9327, 9325, 9324, 9323, 9322, 9321, 9329, 9342, 9297, 9295, 9269, 9268, 9267, 9266, 9265, 9263, 9270, 9262, 9259, 9258, 9256, 9254, 9253, 9252, 9260, 9296, 9271, 9273, 9294, 9292, 9291, 9290, 9288, 9287, 9272, 9286, 9283, 9282, 9281, 9278, 9277, 9276, 9285, 9518, 9519, 9520, 9732, 9733, 9734, 9735, 9736, 9737, 9738, 9739, 9740, 9742, 9743, 9744, 9746, 9748, 9749, 9750, 9751, 9767, 9766, 9764, 9763, 9762, 9761, 9730, 9760, 9758, 9757, 9756, 9755, 9754, 9752, 9759, 9729, 9728, 9727, 9705, 9704, 9703, 9702, 9701, 9700, 9706, 9699, 9697, 9696, 9695, 9694, 9693, 9692, 9698, 9769, 9707, 9711, 9726, 9725, 9724, 9723, 9722, 9721, 9710, 9719, 9717, 9716, 9715, 9714, 9713, 9712, 9718, 9770, 9772, 9773, 9833, 9832, 9831, 9829, 9828, 9827, 9834, 9826, 9824, 9823, 9822, 9821, 9820, 9818, 9825, 9817, 9835, 9838, 9860, 9859, 9858, 9855, 9854, 9853, 9837, 9852, 9846, 9845, 9844, 9843, 9842, 9840, 9851, 9690, 9816, 9813, 9790, 9789, 9788, 9787, 9786, 9785, 9791, 9784, 9781, 9779, 9778, 9776, 9775, 9774, 9783, 9814, 9794, 9796, 9812, 9811, 9810, 9808, 9806, 9805, 9795, 9804, 9802, 9801, 9800, 9799, 9798, 9797, 9803, 9689, 9688, 9687, 9580, 9579, 9577, 9576, 9575, 9574, 9581, 9573, 9571, 9570, 9568, 9567, 9566, 9564, 9572, 9563, 9582, 9584, 9603, 9601, 9600, 9599, 9598, 9597, 9583, 9596, 9591, 9590, 9589, 9588, 9586, 9585, 9595, 9604, 9561, 9559, 9537, 9536, 9535, 9534, 9533, 9532, 9538, 9531, 9529, 9527, 9525, 9524, 9522, 9521, 9530, 9560, 9539, 9541, 9558, 9557, 9556, 9555, 9553, 9550, 9540, 9549, 9547, 9546, 9545, 9544, 9543, 9542, 9548, 10574, 9605, 9607, 9665, 9664, 9663, 9662, 9661, 9660, 9666, 9659, 9656, 9655, 9654, 9653, 9652, 9651, 9658, 9650, 9667, 9670, 9686, 9685, 9684, 9683, 9682, 9681, 9668, 9679, 9677, 9676, 9674, 9673, 9672, 9671, 9678, 9606, 9649, 9646, 9623, 9622, 9621, 9620, 9619, 9618, 9624, 9617, 9614, 9613, 9611, 9610, 9609, 9608, 9615, 9647, 9625, 9627, 9645, 9644, 9643, 9641, 9640, 9639, 9626, 9638, 9634, 9632, 9631, 9630, 9629, 9628, 9635, 14997, 10576, 10579, 11527, 11528, 11530, 11532, 11533, 11534, 11535, 11536, 11537, 11538, 11539, 11540, 11541, 11542, 11543, 11544, 11545, 11565, 11564, 11563, 11561, 11560, 11559, 11526, 11558, 11552, 11551, 11550, 11549, 11548, 11546, 11554, 11525, 11524, 11523, 11503, 11502, 11501, 11500, 11498, 11497, 11504, 11496, 11494, 11493, 11492, 11491, 11490, 11489, 11495, 11566, 11505, 11507, 11522, 11521, 11520, 11519, 11518, 11517, 11506, 11516, 11514, 11513, 11512, 11511, 11509, 11508, 11515, 11567, 11568, 11570, 11633, 11632, 11631, 11630, 11629, 11628, 11634, 11627, 11624, 11623, 11622, 11621, 11620, 11619, 11626, 11617, 11635, 11638, 11656, 11655, 11654, 11653, 11650, 11649, 11636, 11648, 11645, 11644, 11643, 11642, 11640, 11639, 11647, 11487, 11616, 11614, 11589, 11588, 11586, 11585, 11584, 11583, 11590, 11582, 11578, 11577, 11575, 11574, 11573, 11571, 11581, 11615, 11591, 11593, 11613, 11612, 11611, 11609, 11607, 11605, 11592, 11604, 11602, 11599, 11597, 11596, 11595, 11594, 11603, 11657, 11484, 11479, 11336, 11337, 11338, 11339, 11340, 11341, 11342, 11343, 11344, 11346, 11348, 11350, 11351, 11353, 11355, 11356, 11357, 11379, 11378, 11377, 11376, 11375, 11374, 11334, 11371, 11369, 11368, 11365, 11362, 11361, 11358, 11370, 11332, 11331, 11330, 11303, 11302, 11301, 11299, 11298, 11297, 11304, 11296, 11288, 11287, 11286, 11285, 11284, 11283, 11293, 11381, 11305, 11307, 11329, 11327, 11326, 11323, 11321, 11320, 11306, 11319, 11316, 11315, 11314, 11313, 11311, 11308, 11317, 11383, 11384, 11385, 11450, 11449, 11448, 11447, 11446, 11445, 11452, 11444, 11442, 11441, 11440, 11436, 11435, 11434, 11443, 11433, 11453, 11456, 11478, 11477, 11476, 11475, 11473, 11472, 11454, 11470, 11465, 11463, 11462, 11461, 11459, 11457, 11468, 11482, 11432, 11429, 11405, 11403, 11402, 11401, 11400, 11399, 11406, 11398, 11394, 11392, 11391, 11390, 11389, 11387, 11395, 11431, 11407, 11409, 11428, 11427, 11426, 11424, 11422, 11421, 11408, 11419, 11416, 11415, 11414, 11412, 11411, 11410, 11418, 11280, 11658, 11660, 11895, 11896, 11897, 11900, 11901, 11902, 11903, 11904, 11905, 11906, 11907, 11908, 11910, 11911, 11912, 11913, 11915, 11937, 11936, 11932, 11930, 11929, 11926, 11894, 11924, 11922, 11921, 11920, 11919, 11918, 11917, 11923, 11893, 11892, 11889, 11858, 11857, 11855, 11854, 11853, 11852, 11859, 11851, 11849, 11848, 11847, 11846, 11845, 11844, 11850, 11938, 11861, 11867, 11888, 11887, 11886, 11883, 11882, 11880, 11864, 11879, 11877, 11875, 11873, 11871, 11869, 11868, 11878, 11939, 11940, 11941, 12002, 12000, 11999, 11998, 11997, 11996, 12003, 11994, 11992, 11991, 11989, 11988, 11987, 11985, 11993, 11984, 12004, 12007, 12025, 12024, 12023, 12022, 12021, 12019, 12005, 12016, 12014, 12013, 12012, 12011, 12009, 12008, 12015, 11842, 11982, 11980, 11959, 11958, 11957, 11956, 11955, 11953, 11961, 11952, 11950, 11949, 11947, 11946, 11944, 11942, 11951, 11981, 11962, 11964, 11978, 11977, 11976, 11975, 11974, 11973, 11963, 11972, 11970, 11969, 11968, 11967, 11966, 11965, 11971, 11659, 11840, 11838, 11711, 11712, 11713, 11714, 11715, 11716, 11717, 11719, 11720, 11721, 11722, 11723, 11725, 11726, 11727, 11728, 11729, 11749, 11748, 11746, 11745, 11743, 11742, 11709, 11741, 11739, 11738, 11736, 11734, 11732, 11730, 11740, 11708, 11707, 11706, 11678, 11676, 11675, 11674, 11673, 11671, 11679, 11670, 11668, 11665, 11664, 11663, 11662, 11661, 11669, 11750, 11680, 11682, 11705, 11704, 11702, 11701, 11700, 11698, 11681, 11696, 11692, 11687, 11686, 11685, 11684, 11683, 11693, 11751, 11753, 11754, 11814, 11812, 11811, 11810, 11809, 11807, 11815, 11806, 11804, 11803, 11802, 11801, 11800, 11798, 11805, 11797, 11816, 11819, 11836, 11835, 11833, 11832, 11831, 11830, 11818, 11829, 11827, 11825, 11823, 11822, 11821, 11820, 11828, 11839, 11796, 11794, 11771, 11770, 11769, 11768, 11767, 11766, 11772, 11765, 11763, 11760, 11758, 11757, 11756, 11755, 11764, 11795, 11773, 11775, 11793, 11791, 11790, 11789, 11787, 11786, 11774, 11785, 11782, 11781, 11780, 11779, 11778, 11777, 11783, 11279, 11278, 11277, 10794, 10795, 10797, 10799, 10800, 10801, 10802, 10803, 10804, 10805, 10806, 10807, 10808, 10809, 10810, 10812, 10813, 10831, 10829, 10828, 10826, 10825, 10824, 10793, 10823, 10821, 10820, 10819, 10818, 10816, 10814, 10822, 10791, 10790, 10789, 10766, 10765, 10764, 10763, 10762, 10761, 10767, 10760, 10758, 10757, 10756, 10755, 10754, 10753, 10759, 10832, 10768, 10770, 10788, 10787, 10786, 10785, 10783, 10780, 10769, 10779, 10776, 10775, 10774, 10773, 10772, 10771, 10777, 10835, 10836, 10837, 10900, 10899, 10898, 10897, 10895, 10894, 10901, 10893, 10891, 10890, 10889, 10888, 10887, 10886, 10892, 10885, 10902, 10908, 10929, 10928, 10927, 10924, 10923, 10922, 10905, 10921, 10918, 10916, 10914, 10912, 10910, 10909, 10919, 10752, 10879, 10877, 10852, 10851, 10850, 10849, 10848, 10847, 10853, 10846, 10844, 10842, 10841, 10840, 10839, 10838, 10845, 10878, 10854, 10857, 10876, 10873, 10872, 10871, 10870, 10869, 10855, 10868, 10866, 10865, 10863, 10862, 10861, 10859, 10867, 10931, 10750, 10747, 10622, 10623, 10624, 10625, 10627, 10628, 10629, 10630, 10631, 10632, 10633, 10634, 10635, 10637, 10638, 10640, 10643, 10663, 10662, 10661, 10660, 10659, 10657, 10621, 10656, 10654, 10653, 10652, 10651, 10647, 10644, 10655, 10619, 10617, 10616, 10595, 10593, 10592, 10591, 10590, 10589, 10596, 10588, 10586, 10585, 10583, 10582, 10581, 10580, 10587, 10666, 10597, 10599, 10615, 10614, 10613, 10611, 10610, 10609, 10598, 10608, 10605, 10604, 10603, 10602, 10601, 10600, 10607, 10667, 10668, 10669, 10724, 10722, 10721, 10720, 10719, 10718, 10725, 10715, 10713, 10711, 10710, 10709, 10708, 10707, 10714, 10706, 10727, 10729, 10746, 10745, 10744, 10742, 10741, 10739, 10728, 10738, 10736, 10735, 10733, 10732, 10731, 10730, 10737, 10749, 10705, 10703, 10683, 10682, 10681, 10680, 10679, 10678, 10684, 10677, 10675, 10674, 10673, 10672, 10671, 10670, 10676, 10704, 10685, 10687, 10702, 10701, 10700, 10699, 10698, 10697, 10686, 10696, 10693, 10692, 10691, 10690, 10689, 10688, 10694, 10932, 10933, 10934, 11155, 11156, 11157, 11158, 11159, 11160, 11163, 11164, 11165, 11166, 11167, 11168, 11169, 11170, 11171, 11173, 11174, 11191, 11189, 11188, 11187, 11186, 11185, 11153, 11184, 11182, 11180, 11179, 11178, 11177, 11176, 11183, 11152, 11150, 11149, 11126, 11125, 11124, 11123, 11122, 11121, 11127, 11120, 11117, 11116, 11115, 11114, 11112, 11111, 11118, 11192, 11128, 11131, 11148, 11146, 11145, 11144, 11143, 11142, 11130, 11140, 11138, 11137, 11136, 11134, 11133, 11132, 11139, 11193, 11194, 11195, 11254, 11253, 11252, 11251, 11250, 11249, 11255, 11248, 11246, 11244, 11243, 11242, 11241, 11240, 11247, 11239, 11256, 11258, 11276, 11275, 11274, 11273, 11272, 11271, 11257, 11270, 11267, 11266, 11265, 11261, 11260, 11259, 11268, 11110, 11238, 11235, 11213, 11212, 11211, 11209, 11208, 11206, 11214, 11205, 11202, 11201, 11200, 11199, 11198, 11197, 11204, 11237, 11215, 11217, 11234, 11233, 11232, 11229, 11228, 11227, 11216, 11226, 11224, 11223, 11222, 11221, 11219, 11218, 11225, 11108, 11107, 11106, 11003, 11002, 11001, 11000, 10998, 10993, 11004, 10992, 10990, 10988, 10986, 10985, 10982, 10981, 10991, 10980, 11006, 11009, 11023, 11022, 11021, 11020, 11019, 11018, 11008, 11017, 11015, 11014, 11013, 11012, 11011, 11010, 11016, 11024, 10979, 10977, 10954, 10953, 10951, 10950, 10949, 10948, 10955, 10945, 10943, 10940, 10938, 10937, 10936, 10935, 10944, 10978, 10956, 10958, 10976, 10975, 10973, 10972, 10970, 10969, 10957, 10968, 10966, 10965, 10964, 10961, 10960, 10959, 10967, 10578, 11025, 11027, 11083, 11082, 11081, 11080, 11079, 11078, 11084, 11077, 11075, 11074, 11073, 11072, 11069, 11067, 11076, 11065, 11086, 11088, 11105, 11104, 11103, 11102, 11101, 11100, 11087, 11099, 11097, 11096, 11095, 11093, 11091, 11089, 11098, 11026, 11064, 11062, 11041, 11040, 11039, 11038, 11037, 11036, 11042, 11035, 11033, 11032, 11031, 11030, 11029, 11028, 11034, 11063, 11043, 11045, 11061, 11060, 11059, 11058, 11057, 11056, 11044, 11055, 11052, 11051, 11050, 11049, 11047, 11046, 11054, 9159, 14998, 15000, 18573, 18574, 18576, 18577, 18578, 18579, 18580, 18581, 18582, 18583, 18584, 18585, 18586, 18588, 18589, 18590, 18592, 18610, 18609, 18608, 18606, 18605, 18604, 18572, 18603, 18601, 18599, 18597, 18596, 18594, 18593, 18602, 18571, 18567, 18565, 18543, 18542, 18541, 18540, 18539, 18538, 18544, 18537, 18535, 18534, 18533, 18532, 18531, 18530, 18536, 18612, 18545, 18550, 18564, 18563, 18562, 18561, 18560, 18559, 18547, 18558, 18556, 18555, 18554, 18553, 18552, 18551, 18557, 18613, 18614, 18615, 18681, 18680, 18679, 18677, 18676, 18675, 18682, 18674, 18672, 18670, 18669, 18667, 18666, 18665, 18673, 18664, 18683, 18685, 18699, 18698, 18697, 18696, 18695, 18694, 18684, 18693, 18691, 18690, 18689, 18688, 18687, 18686, 18692, 18529, 18663, 18661, 18634, 18633, 18632, 18631, 18630, 18629, 18635, 18627, 18625, 18622, 18619, 18618, 18617, 18616, 18626, 18662, 18636, 18638, 18660, 18659, 18657, 18656, 18655, 18654, 18637, 18653, 18648, 18647, 18645, 18644, 18642, 18641, 18649, 18700, 18528, 18526, 18405, 18407, 18408, 18409, 18410, 18411, 18412, 18413, 18414, 18415, 18417, 18418, 18419, 18420, 18421, 18422, 18423, 18440, 18437, 18436, 18435, 18434, 18433, 18404, 18431, 18429, 18428, 18427, 18426, 18425, 18424, 18430, 18403, 18402, 18401, 18380, 18379, 18378, 18377, 18376, 18374, 18381, 18373, 18371, 18370, 18369, 18368, 18367, 18366, 18372, 18441, 18382, 18384, 18400, 18399, 18398, 18397, 18396, 18395, 18383, 18394, 18391, 18389, 18388, 18387, 18386, 18385, 18393, 18442, 18443, 18444, 18503, 18500, 18499, 18498, 18496, 18495, 18504, 18494, 18491, 18490, 18489, 18488, 18487, 18486, 18492, 18485, 18505, 18507, 18525, 18524, 18523, 18522, 18521, 18519, 18506, 18518, 18514, 18512, 18511, 18510, 18509, 18508, 18515, 18527, 18484, 18481, 18461, 18459, 18458, 18457, 18456, 18453, 18462, 18452, 18450, 18449, 18448, 18447, 18446, 18445, 18451, 18482, 18463, 18465, 18479, 18478, 18477, 18476, 18475, 18474, 18464, 18473, 18471, 18470, 18469, 18468, 18467, 18466, 18472, 18365, 18701, 18703, 18920, 18921, 18922, 18923, 18925, 18926, 18927, 18928, 18929, 18930, 18932, 18933, 18934, 18936, 18937, 18938, 18939, 18953, 18952, 18951, 18950, 18949, 18948, 18919, 18947, 18945, 18944, 18943, 18942, 18941, 18940, 18946, 18918, 18917, 18916, 18891, 18890, 18888, 18887, 18886, 18885, 18892, 18884, 18882, 18880, 18878, 18877, 18876, 18875, 18883, 18954, 18894, 18896, 18914, 18913, 18911, 18910, 18909, 18907, 18895, 18906, 18903, 18902, 18900, 18899, 18898, 18897, 18904, 18955, 18956, 18957, 19009, 19008, 19007, 19006, 19005, 19004, 19010, 19003, 19001, 19000, 18999, 18997, 18996, 18995, 19002, 18994, 19011, 19013, 19027, 19026, 19025, 19024, 19023, 19022, 19012, 19021, 19019, 19018, 19017, 19016, 19015, 19014, 19020, 18874, 18993, 18991, 18971, 18970, 18969, 18968, 18967, 18966, 18972, 18965, 18963, 18962, 18961, 18960, 18959, 18958, 18964, 18992, 18973, 18975, 18990, 18989, 18988, 18987, 18986, 18985, 18974, 18984, 18982, 18981, 18980, 18978, 18977, 18976, 18983, 18702, 18873, 18871, 18750, 18751, 18752, 18753, 18754, 18755, 18756, 18757, 18758, 18759, 18761, 18763, 18764, 18765, 18767, 18768, 18769, 18785, 18784, 18783, 18782, 18781, 18780, 18748, 18778, 18776, 18775, 18774, 18772, 18771, 18770, 18777, 18747, 18746, 18745, 18719, 18716, 18715, 18714, 18713, 18712, 18720, 18711, 18709, 18708, 18707, 18706, 18705, 18704, 18710, 18786, 18724, 18727, 18744, 18743, 18741, 18740, 18739, 18737, 18725, 18736, 18733, 18732, 18731, 18730, 18729, 18728, 18735, 18787, 18788, 18789, 18850, 18849, 18848, 18847, 18845, 18844, 18851, 18843, 18841, 18840, 18839, 18838, 18837, 18836, 18842, 18835, 18852, 18854, 18869, 18867, 18866, 18865, 18864, 18863, 18853, 18862, 18860, 18859, 18858, 18857, 18856, 18855, 18861, 18872, 18833, 18831, 18805, 18804, 18803, 18802, 18801, 18800, 18807, 18799, 18796, 18795, 18794, 18793, 18792, 18790, 18797, 18832, 18808, 18811, 18827, 18826, 18824, 18823, 18822, 18821, 18809, 18820, 18818, 18817, 18816, 18814, 18813, 18812, 18819, 19028, 18364, 18362, 17920, 17921, 17922, 17924, 17926, 17927, 17929, 17932, 17933, 17935, 17936, 17938, 17939, 17940, 17941, 17942, 17943, 17959, 17958, 17957, 17956, 17955, 17953, 17919, 17952, 17950, 17949, 17948, 17947, 17946, 17944, 17951, 17918, 17916, 17915, 17893, 17892, 17891, 17890, 17889, 17888, 17894, 17887, 17885, 17884, 17882, 17881, 17880, 17879, 17886, 17960, 17895, 17897, 17914, 17913, 17912, 17910, 17909, 17908, 17896, 17907, 17905, 17903, 17902, 17900, 17899, 17898, 17906, 17961, 17962, 17963, 18023, 18022, 18021, 18019, 18018, 18017, 18024, 18016, 18014, 18009, 18008, 18007, 18006, 18004, 18015, 18002, 18025, 18027, 18044, 18043, 18042, 18041, 18040, 18038, 18026, 18037, 18035, 18033, 18032, 18030, 18029, 18028, 18036, 17878, 18001, 17999, 17977, 17976, 17975, 17974, 17973, 17972, 17978, 17971, 17969, 17968, 17967, 17966, 17965, 17964, 17970, 18000, 17979, 17982, 17998, 17996, 17995, 17994, 17993, 17991, 17981, 17990, 17988, 17987, 17986, 17985, 17984, 17983, 17989, 18045, 17877, 17875, 17749, 17750, 17751, 17753, 17754, 17756, 17757, 17758, 17760, 17761, 17765, 17767, 17768, 17769, 17770, 17771, 17772, 17793, 17791, 17789, 17787, 17786, 17785, 17748, 17783, 17781, 17779, 17778, 17775, 17774, 17773, 17782, 17746, 17744, 17743, 17715, 17714, 17713, 17712, 17711, 17710, 17716, 17709, 17707, 17706, 17705, 17704, 17702, 17701, 17708, 17794, 17717, 17719, 17742, 17741, 17740, 17739, 17737, 17734, 17718, 17731, 17729, 17724, 17723, 17722, 17721, 17720, 17730, 17795, 17796, 17797, 17854, 17853, 17852, 17851, 17850, 17849, 17855, 17847, 17845, 17844, 17843, 17842, 17841, 17840, 17846, 17839, 17856, 17858, 17874, 17873, 17872, 17871, 17870, 17869, 17857, 17868, 17866, 17864, 17863, 17862, 17860, 17859, 17867, 17876, 17838, 17836, 17815, 17813, 17812, 17811, 17810, 17809, 17816, 17807, 17804, 17803, 17802, 17801, 17800, 17798, 17805, 17837, 17817, 17819, 17835, 17833, 17832, 17831, 17830, 17829, 17818, 17828, 17825, 17824, 17823, 17822, 17821, 17820, 17827, 18363, 18046, 18048, 18246, 18247, 18248, 18249, 18251, 18252, 18253, 18254, 18255, 18256, 18257, 18258, 18260, 18261, 18262, 18263, 18264, 18279, 18278, 18277, 18276, 18275, 18274, 18245, 18273, 18271, 18270, 18268, 18267, 18266, 18265, 18272, 18244, 18243, 18241, 18221, 18220, 18219, 18218, 18217, 18216, 18222, 18215, 18213, 18212, 18210, 18209, 18208, 18207, 18214, 18280, 18223, 18225, 18240, 18239, 18238, 18237, 18236, 18235, 18224, 18234, 18231, 18230, 18229, 18228, 18227, 18226, 18233, 18281, 18283, 18284, 18341, 18340, 18339, 18338, 18336, 18335, 18342, 18334, 18331, 18330, 18329, 18328, 18327, 18324, 18333, 18323, 18343, 18346, 18361, 18360, 18359, 18358, 18357, 18356, 18344, 18355, 18352, 18351, 18350, 18349, 18348, 18347, 18354, 18206, 18321, 18319, 18300, 18299, 18298, 18296, 18295, 18294, 18301, 18293, 18291, 18290, 18288, 18287, 18286, 18285, 18292, 18320, 18302, 18304, 18318, 18317, 18316, 18315, 18314, 18313, 18303, 18312, 18310, 18309, 18308, 18307, 18306, 18305, 18311, 18047, 18205, 18203, 18088, 18089, 18090, 18091, 18094, 18095, 18096, 18097, 18098, 18099, 18100, 18101, 18102, 18104, 18106, 18107, 18108, 18123, 18122, 18121, 18120, 18119, 18118, 18087, 18116, 18114, 18113, 18112, 18111, 18110, 18109, 18115, 18086, 18085, 18084, 18063, 18062, 18061, 18060, 18059, 18058, 18066, 18056, 18054, 18053, 18052, 18051, 18050, 18049, 18055, 18124, 18067, 18069, 18083, 18082, 18081, 18080, 18079, 18078, 18068, 18077, 18075, 18074, 18073, 18072, 18071, 18070, 18076, 18125, 18126, 18127, 18181, 18180, 18179, 18178, 18177, 18176, 18182, 18174, 18172, 18171, 18170, 18169, 18168, 18167, 18173, 18166, 18183, 18185, 18202, 18201, 18200, 18199, 18198, 18196, 18184, 18195, 18193, 18192, 18191, 18189, 18188, 18186, 18194, 18204, 18165, 18163, 18142, 18141, 18140, 18139, 18138, 18137, 18143, 18136, 18134, 18133, 18131, 18130, 18129, 18128, 18135, 18164, 18144, 18146, 18162, 18161, 18160, 18159, 18158, 18157, 18145, 18155, 18153, 18152, 18151, 18149, 18148, 18147, 18154, 19030, 19031, 19032, 19914, 19916, 19917, 19918, 19919, 19920, 19921, 19922, 19923, 19925, 19926, 19927, 19928, 19929, 19930, 19932, 19933, 19950, 19948, 19947, 19946, 19945, 19944, 19913, 19943, 19940, 19939, 19938, 19937, 19936, 19934, 19941, 19911, 19910, 19909, 19890, 19888, 19887, 19886, 19884, 19883, 19891, 19882, 19879, 19877, 19876, 19875, 19874, 19873, 19881, 19951, 19892, 19894, 19908, 19907, 19906, 19905, 19904, 19903, 19893, 19902, 19900, 19899, 19898, 19897, 19896, 19895, 19901, 19952, 19953, 19954, 20016, 20015, 20014, 20013, 20012, 20009, 20017, 20008, 20006, 20004, 20003, 20002, 20001, 20000, 20007, 19999, 20018, 20021, 20036, 20035, 20034, 20033, 20032, 20030, 20019, 20029, 20027, 20026, 20025, 20024, 20023, 20022, 20028, 19872, 19997, 19994, 19968, 19967, 19966, 19965, 19964, 19963, 19969, 19962, 19960, 19959, 19958, 19957, 19956, 19955, 19961, 19996, 19971, 19975, 19993, 19991, 19990, 19989, 19987, 19986, 19974, 19985, 19983, 19981, 19980, 19979, 19978, 19976, 19984, 20037, 19871, 19869, 19748, 19750, 19751, 19754, 19755, 19756, 19757, 19758, 19759, 19760, 19762, 19763, 19764, 19765, 19766, 19768, 19769, 19785, 19784, 19783, 19782, 19781, 19780, 19746, 19779, 19776, 19775, 19774, 19773, 19772, 19770, 19778, 19744, 19743, 19742, 19721, 19720, 19719, 19718, 19717, 19716, 19722, 19715, 19713, 19712, 19711, 19710, 19709, 19708, 19714, 19786, 19723, 19725, 19741, 19739, 19738, 19736, 19735, 19734, 19724, 19733, 19731, 19730, 19729, 19728, 19727, 19726, 19732, 19787, 19788, 19790, 19846, 19845, 19844, 19843, 19842, 19841, 19847, 19840, 19838, 19836, 19835, 19834, 19833, 19832, 19839, 19831, 19848, 19851, 19867, 19866, 19865, 19864, 19863, 19862, 19850, 19861, 19859, 19858, 19857, 19855, 19854, 19852, 19860, 19870, 19830, 19828, 19807, 19806, 19804, 19803, 19802, 19801, 19808, 19800, 19798, 19796, 19795, 19794, 19793, 19791, 19799, 19829, 19809, 19811, 19826, 19825, 19824, 19823, 19822, 19820, 19810, 19819, 19817, 19816, 19815, 19814, 19813, 19812, 19818, 19707, 20038, 20040, 20276, 20277, 20279, 20280, 20281, 20282, 20283, 20284, 20285, 20286, 20287, 20288, 20289, 20290, 20291, 20292, 20293, 20312, 20311, 20310, 20307, 20306, 20305, 20275, 20304, 20301, 20300, 20299, 20298, 20297, 20296, 20303, 20273, 20272, 20271, 20246, 20245, 20244, 20242, 20241, 20238, 20247, 20236, 20233, 20232, 20230, 20229, 20227, 20226, 20235, 20315, 20248, 20251, 20270, 20269, 20268, 20267, 20266, 20261, 20250, 20260, 20258, 20257, 20256, 20255, 20254, 20252, 20259, 20317, 20318, 20319, 20380, 20379, 20378, 20376, 20375, 20374, 20381, 20373, 20371, 20370, 20369, 20368, 20367, 20366, 20372, 20364, 20382, 20384, 20400, 20399, 20398, 20397, 20396, 20395, 20383, 20394, 20391, 20390, 20389, 20387, 20386, 20385, 20392, 20225, 20363, 20361, 20337, 20336, 20335, 20333, 20331, 20330, 20338, 20328, 20326, 20325, 20324, 20322, 20321, 20320, 20327, 20362, 20339, 20341, 20360, 20359, 20357, 20356, 20355, 20354, 20340, 20353, 20350, 20349, 20347, 20346, 20344, 20343, 20351, 20039, 20223, 20221, 20081, 20082, 20083, 20084, 20085, 20088, 20089, 20092, 20095, 20096, 20097, 20098, 20099, 20102, 20103, 20104, 20106, 20124, 20123, 20122, 20121, 20120, 20118, 20080, 20117, 20114, 20112, 20111, 20110, 20109, 20107, 20115, 20079, 20078, 20077, 20054, 20053, 20052, 20051, 20050, 20049, 20055, 20048, 20046, 20045, 20044, 20043, 20042, 20041, 20047, 20125, 20056, 20059, 20075, 20074, 20072, 20071, 20070, 20069, 20058, 20068, 20065, 20064, 20063, 20062, 20061, 20060, 20067, 20127, 20129, 20130, 20199, 20198, 20195, 20194, 20193, 20192, 20201, 20190, 20187, 20183, 20182, 20181, 20180, 20179, 20189, 20178, 20202, 20205, 20220, 20219, 20217, 20216, 20215, 20214, 20203, 20213, 20211, 20210, 20209, 20208, 20207, 20206, 20212, 20222, 20175, 20172, 20147, 20146, 20145, 20144, 20143, 20142, 20148, 20141, 20139, 20138, 20136, 20135, 20134, 20132, 20140, 20174, 20149, 20151, 20171, 20170, 20166, 20165, 20164, 20163, 20150, 20162, 20159, 20158, 20155, 20154, 20153, 20152, 20161, 19706, 19704, 19702, 19261, 19262, 19265, 19266, 19267, 19268, 19269, 19270, 19271, 19272, 19273, 19274, 19275, 19276, 19277, 19278, 19280, 19297, 19294, 19293, 19292, 19291, 19290, 19260, 19289, 19287, 19286, 19285, 19284, 19283, 19281, 19288, 19259, 19258, 19257, 19235, 19233, 19232, 19231, 19230, 19228, 19236, 19227, 19225, 19223, 19222, 19221, 19220, 19219, 19226, 19298, 19237, 19239, 19256, 19255, 19254, 19253, 19252, 19251, 19238, 19249, 19246, 19245, 19244, 19243, 19241, 19240, 19247, 19299, 19300, 19301, 19360, 19359, 19358, 19357, 19356, 19355, 19361, 19353, 19351, 19350, 19349, 19348, 19346, 19345, 19352, 19344, 19362, 19365, 19380, 19379, 19378, 19376, 19375, 19374, 19363, 19373, 19371, 19370, 19369, 19368, 19367, 19366, 19372, 19218, 19342, 19340, 19320, 19318, 19316, 19315, 19314, 19312, 19321, 19310, 19308, 19306, 19305, 19304, 19303, 19302, 19309, 19341, 19322, 19324, 19339, 19338, 19337, 19336, 19335, 19334, 19323, 19333, 19330, 19329, 19328, 19327, 19326, 19325, 19332, 19381, 19217, 19215, 19078, 19079, 19085, 19086, 19087, 19090, 19093, 19094, 19095, 19097, 19098, 19099, 19100, 19101, 19102, 19105, 19106, 19122, 19121, 19120, 19119, 19118, 19117, 19076, 19116, 19113, 19112, 19111, 19110, 19109, 19108, 19115, 19075, 19074, 19073, 19047, 19046, 19045, 19044, 19043, 19042, 19048, 19041, 19039, 19038, 19036, 19035, 19034, 19033, 19040, 19123, 19049, 19051, 19072, 19069, 19067, 19065, 19064, 19063, 19050, 19062, 19059, 19058, 19055, 19054, 19053, 19052, 19060, 19124, 19126, 19127, 19192, 19191, 19190, 19189, 19188, 19185, 19193, 19183, 19181, 19180, 19179, 19178, 19176, 19175, 19182, 19174, 19195, 19197, 19214, 19213, 19212, 19211, 19210, 19209, 19196, 19208, 19203, 19202, 19201, 19200, 19199, 19198, 19206, 19216, 19173, 19170, 19145, 19144, 19141, 19139, 19138, 19137, 19146, 19136, 19134, 19132, 19131, 19130, 19129, 19128, 19135, 19171, 19147, 19150, 19168, 19167, 19166, 19165, 19164, 19163, 19149, 19162, 19159, 19158, 19156, 19155, 19153, 19151, 19160, 19382, 19385, 19386, 19586, 19587, 19588, 19589, 19590, 19592, 19593, 19594, 19596, 19597, 19598, 19603, 19604, 19605, 19606, 19608, 19609, 19624, 19623, 19622, 19621, 19620, 19619, 19585, 19618, 19615, 19614, 19613, 19612, 19611, 19610, 19617, 19584, 19583, 19582, 19560, 19559, 19558, 19557, 19556, 19555, 19561, 19554, 19552, 19551, 19550, 19548, 19547, 19546, 19553, 19625, 19562, 19565, 19581, 19580, 19578, 19577, 19576, 19575, 19563, 19574, 19572, 19571, 19570, 19569, 19568, 19567, 19573, 19626, 19627, 19628, 19682, 19681, 19680, 19679, 19678, 19677, 19683, 19676, 19674, 19673, 19672, 19670, 19669, 19668, 19675, 19667, 19684, 19687, 19701, 19700, 19699, 19698, 19697, 19696, 19685, 19695, 19693, 19692, 19691, 19690, 19689, 19688, 19694, 19545, 19666, 19663, 19642, 19641, 19640, 19639, 19638, 19637, 19643, 19636, 19634, 19633, 19632, 19631, 19630, 19629, 19635, 19664, 19644, 19646, 19662, 19661, 19660, 19658, 19657, 19656, 19645, 19655, 19653, 19652, 19650, 19649, 19648, 19647, 19654, 19544, 19543, 19542, 19438, 19437, 19436, 19435, 19434, 19433, 19439, 19432, 19430, 19429, 19428, 19427, 19426, 19424, 19431, 19423, 19440, 19443, 19460, 19459, 19458, 19457, 19455, 19453, 19442, 19452, 19449, 19448, 19447, 19446, 19445, 19444, 19451, 19461, 19422, 19420, 19401, 19400, 19399, 19398, 19397, 19396, 19402, 19395, 19393, 19392, 19391, 19390, 19389, 19387, 19394, 19421, 19403, 19405, 19419, 19418, 19417, 19416, 19415, 19414, 19404, 19413, 19411, 19410, 19409, 19408, 19407, 19406, 19412, 17700, 19462, 19464, 19521, 19520, 19519, 19518, 19517, 19516, 19523, 19515, 19512, 19510, 19509, 19508, 19507, 19506, 19513, 19505, 19524, 19526, 19541, 19540, 19539, 19538, 19537, 19536, 19525, 19535, 19532, 19531, 19530, 19529, 19528, 19527, 19534, 19463, 19503, 19500, 19480, 19479, 19478, 19477, 19475, 19474, 19482, 19473, 19471, 19470, 19469, 19467, 19466, 19465, 19472, 19502, 19483, 19485, 19499, 19498, 19497, 19496, 19495, 19494, 19484, 19493, 19491, 19490, 19489, 19488, 19487, 19486, 19492, 17699, 17698, 17697, 15859, 15860, 15861, 15864, 15865, 15866, 15867, 15868, 15869, 15870, 15871, 15872, 15873, 15874, 15875, 15876, 15877, 15894, 15893, 15892, 15891, 15890, 15889, 15857, 15887, 15885, 15883, 15881, 15880, 15879, 15878, 15886, 15856, 15854, 15853, 15834, 15833, 15832, 15830, 15828, 15826, 15835, 15825, 15823, 15822, 15821, 15820, 15819, 15818, 15824, 15895, 15836, 15838, 15852, 15851, 15850, 15849, 15848, 15847, 15837, 15846, 15844, 15843, 15842, 15841, 15840, 15839, 15845, 15896, 15897, 15898, 15965, 15963, 15962, 15961, 15960, 15959, 15966, 15958, 15956, 15955, 15954, 15952, 15951, 15949, 15957, 15948, 15967, 15969, 15985, 15983, 15982, 15980, 15979, 15978, 15968, 15977, 15975, 15974, 15973, 15972, 15971, 15970, 15976, 15817, 15945, 15943, 15917, 15913, 15911, 15910, 15909, 15908, 15918, 15907, 15905, 15904, 15903, 15902, 15900, 15899, 15906, 15944, 15919, 15921, 15942, 15941, 15940, 15939, 15935, 15934, 15920, 15932, 15927, 15926, 15925, 15924, 15923, 15922, 15928, 15987, 15816, 15814, 15700, 15702, 15703, 15704, 15706, 15707, 15708, 15709, 15710, 15711, 15712, 15713, 15714, 15715, 15716, 15717, 15718, 15734, 15733, 15732, 15731, 15730, 15729, 15699, 15727, 15725, 15724, 15722, 15721, 15720, 15719, 15726, 15698, 15697, 15696, 15676, 15675, 15674, 15673, 15672, 15671, 15677, 15670, 15668, 15667, 15665, 15664, 15663, 15662, 15669, 15735, 15678, 15680, 15694, 15693, 15692, 15691, 15690, 15689, 15679, 15688, 15686, 15685, 15684, 15683, 15682, 15681, 15687, 15736, 15737, 15738, 15794, 15793, 15792, 15791, 15790, 15789, 15795, 15788, 15786, 15785, 15784, 15783, 15782, 15781, 15787, 15780, 15796, 15798, 15813, 15812, 15811, 15810, 15809, 15808, 15797, 15807, 15805, 15804, 15803, 15801, 15800, 15799, 15806, 15815, 15778, 15776, 15754, 15753, 15752, 15751, 15750, 15749, 15755, 15748, 15745, 15744, 15742, 15741, 15740, 15739, 15747, 15777, 15756, 15758, 15775, 15774, 15773, 15771, 15770, 15769, 15757, 15767, 15764, 15763, 15762, 15761, 15760, 15759, 15765, 15661, 15988, 15990, 16191, 16192, 16194, 16195, 16196, 16197, 16198, 16199, 16200, 16201, 16202, 16203, 16205, 16206, 16208, 16209, 16210, 16229, 16228, 16226, 16225, 16222, 16221, 16190, 16220, 16217, 16216, 16215, 16214, 16213, 16211, 16219, 16189, 16188, 16187, 16163, 16162, 16161, 16160, 16159, 16158, 16164, 16157, 16155, 16154, 16153, 16152, 16151, 16150, 16156, 16230, 16165, 16167, 16186, 16183, 16182, 16180, 16179, 16178, 16166, 16177, 16174, 16173, 16171, 16170, 16169, 16168, 16176, 16231, 16233, 16235, 16298, 16297, 16295, 16294, 16293, 16292, 16299, 16289, 16285, 16283, 16282, 16281, 16280, 16279, 16286, 16278, 16300, 16302, 16320, 16319, 16318, 16317, 16315, 16314, 16301, 16312, 16310, 16307, 16306, 16305, 16304, 16303, 16311, 16149, 16276, 16273, 16250, 16249, 16248, 16247, 16246, 16245, 16251, 16244, 16242, 16241, 16239, 16238, 16237, 16236, 16243, 16274, 16253, 16256, 16272, 16271, 16270, 16269, 16267, 16266, 16255, 16265, 16263, 16262, 16261, 16259, 16258, 16257, 16264, 15989, 16147, 16145, 16032, 16033, 16034, 16035, 16036, 16037, 16038, 16039, 16040, 16042, 16043, 16044, 16046, 16047, 16048, 16049, 16050, 16066, 16065, 16064, 16063, 16062, 16060, 16031, 16059, 16057, 16056, 16055, 16053, 16052, 16051, 16058, 16030, 16029, 16028, 16007, 16005, 16004, 16003, 16001, 16000, 16008, 15999, 15997, 15996, 15995, 15994, 15993, 15991, 15998, 16067, 16009, 16011, 16027, 16026, 16025, 16023, 16022, 16021, 16010, 16020, 16018, 16017, 16016, 16015, 16014, 16012, 16019, 16068, 16069, 16070, 16125, 16124, 16123, 16122, 16121, 16120, 16126, 16119, 16117, 16116, 16115, 16114, 16113, 16112, 16118, 16111, 16127, 16129, 16144, 16143, 16142, 16141, 16140, 16139, 16128, 16138, 16136, 16135, 16134, 16133, 16132, 16130, 16137, 16146, 16109, 16107, 16087, 16086, 16085, 16084, 16083, 16081, 16088, 16080, 16078, 16077, 16074, 16073, 16072, 16071, 16079, 16108, 16089, 16091, 16106, 16105, 16104, 16103, 16102, 16101, 16090, 16100, 16098, 16096, 16095, 16094, 16093, 16092, 16099, 15660, 15659, 15658, 15216, 15218, 15220, 15221, 15223, 15224, 15225, 15226, 15227, 15229, 15231, 15232, 15234, 15235, 15236, 15238, 15239, 15256, 15255, 15254, 15253, 15252, 15250, 15215, 15249, 15246, 15245, 15244, 15243, 15241, 15240, 15248, 15214, 15212, 15211, 15187, 15186, 15185, 15184, 15183, 15182, 15188, 15180, 15178, 15177, 15176, 15175, 15174, 15173, 15179, 15257, 15189, 15191, 15210, 15208, 15207, 15205, 15203, 15202, 15190, 15201, 15199, 15196, 15195, 15194, 15193, 15192, 15200, 15258, 15259, 15262, 15327, 15326, 15324, 15323, 15322, 15321, 15328, 15320, 15318, 15317, 15316, 15314, 15313, 15311, 15319, 15310, 15329, 15331, 15345, 15344, 15343, 15342, 15341, 15340, 15330, 15339, 15337, 15336, 15335, 15334, 15333, 15332, 15338, 15170, 15309, 15307, 15281, 15279, 15278, 15277, 15276, 15275, 15282, 15274, 15272, 15271, 15270, 15267, 15266, 15264, 15273, 15308, 15285, 15287, 15306, 15305, 15304, 15303, 15301, 15300, 15286, 15299, 15295, 15294, 15292, 15290, 15289, 15288, 15296, 15348, 15169, 15167, 15041, 15042, 15043, 15044, 15045, 15047, 15049, 15050, 15051, 15052, 15053, 15054, 15055, 15056, 15058, 15060, 15061, 15076, 15075, 15074, 15073, 15072, 15071, 15040, 15070, 15068, 15067, 15066, 15065, 15064, 15063, 15069, 15039, 15038, 15037, 15014, 15013, 15012, 15011, 15010, 15009, 15015, 15008, 15006, 15005, 15004, 15003, 15002, 15001, 15007, 15077, 15016, 15018, 15036, 15035, 15032, 15030, 15028, 15027, 15017, 15026, 15024, 15023, 15022, 15021, 15020, 15019, 15025, 15078, 15080, 15081, 15146, 15145, 15143, 15141, 15139, 15138, 15147, 15137, 15135, 15134, 15133, 15132, 15131, 15130, 15136, 15129, 15148, 15150, 15166, 15165, 15164, 15163, 15162, 15161, 15149, 15160, 15157, 15156, 15155, 15154, 15153, 15152, 15159, 15168, 15128, 15125, 15101, 15099, 15097, 15096, 15095, 15094, 15102, 15093, 15089, 15088, 15086, 15085, 15084, 15083, 15091, 15127, 15103, 15105, 15124, 15121, 15120, 15119, 15118, 15116, 15104, 15115, 15113, 15112, 15111, 15108, 15107, 15106, 15114, 15349, 15350, 15351, 15545, 15546, 15547, 15548, 15550, 15551, 15552, 15553, 15554, 15555, 15556, 15557, 15558, 15559, 15560, 15561, 15562, 15578, 15577, 15575, 15574, 15573, 15572, 15543, 15570, 15568, 15567, 15566, 15565, 15564, 15563, 15569, 15542, 15541, 15540, 15519, 15518, 15517, 15516, 15515, 15514, 15520, 15513, 15511, 15510, 15509, 15508, 15507, 15505, 15512, 15579, 15521, 15523, 15539, 15538, 15537, 15536, 15535, 15534, 15522, 15533, 15531, 15529, 15528, 15527, 15525, 15524, 15532, 15580, 15581, 15582, 15637, 15636, 15635, 15633, 15632, 15631, 15638, 15629, 15627, 15626, 15625, 15624, 15623, 15621, 15628, 15620, 15639, 15643, 15657, 15656, 15655, 15654, 15653, 15652, 15640, 15651, 15649, 15648, 15647, 15646, 15645, 15644, 15650, 15503, 15619, 15617, 15597, 15596, 15595, 15594, 15593, 15592, 15598, 15591, 15588, 15587, 15586, 15585, 15584, 15583, 15589, 15618, 15600, 15602, 15616, 15615, 15614, 15613, 15612, 15611, 15601, 15610, 15608, 15607, 15606, 15605, 15604, 15603, 15609, 15502, 15501, 15500, 15404, 15403, 15402, 15400, 15399, 15398, 15405, 15397, 15394, 15393, 15392, 15391, 15390, 15389, 15395, 15388, 15406, 15408, 15423, 15422, 15421, 15420, 15419, 15418, 15407, 15417, 15415, 15414, 15412, 15411, 15410, 15409, 15416, 15424, 15387, 15385, 15365, 15364, 15363, 15362, 15361, 15360, 15366, 15359, 15357, 15356, 15355, 15354, 15353, 15352, 15358, 15386, 15367, 15370, 15384, 15383, 15382, 15381, 15380, 15379, 15368, 15378, 15376, 15375, 15374, 15373, 15372, 15371, 15377, 16321, 15425, 15427, 15480, 15479, 15478, 15477, 15476, 15475, 15482, 15474, 15472, 15471, 15470, 15469, 15468, 15467, 15473, 15466, 15483, 15485, 15499, 15498, 15497, 15496, 15495, 15494, 15484, 15493, 15491, 15490, 15489, 15488, 15487, 15486, 15492, 15426, 15465, 15463, 15442, 15441, 15439, 15438, 15437, 15436, 15443, 15435, 15433, 15432, 15431, 15430, 15429, 15428, 15434, 15464, 15445, 15447, 15462, 15461, 15460, 15459, 15458, 15457, 15446, 15456, 15454, 15453, 15452, 15451, 15449, 15448, 15455, 14999, 16322, 16325, 17212, 17213, 17214, 17215, 17216, 17217, 17218, 17220, 17221, 17222, 17224, 17225, 17226, 17228, 17230, 17231, 17232, 17250, 17249, 17248, 17247, 17246, 17243, 17211, 17242, 17239, 17238, 17237, 17236, 17235, 17234, 17240, 17210, 17209, 17208, 17183, 17181, 17178, 17176, 17175, 17174, 17184, 17173, 17171, 17169, 17168, 17166, 17164, 17163, 17172, 17251, 17185, 17187, 17206, 17205, 17203, 17202, 17201, 17200, 17186, 17199, 17193, 17192, 17191, 17190, 17189, 17188, 17195, 17252, 17253, 17254, 17312, 17311, 17310, 17309, 17308, 17306, 17313, 17305, 17303, 17302, 17301, 17299, 17298, 17297, 17304, 17295, 17314, 17316, 17331, 17330, 17329, 17328, 17327, 17326, 17315, 17325, 17323, 17322, 17321, 17320, 17319, 17318, 17324, 17162, 17294, 17292, 17270, 17269, 17268, 17266, 17265, 17264, 17271, 17262, 17260, 17259, 17258, 17257, 17256, 17255, 17261, 17293, 17272, 17274, 17291, 17290, 17289, 17288, 17287, 17285, 17273, 17284, 17281, 17279, 17278, 17277, 17276, 17275, 17283, 17332, 17161, 17158, 17032, 17033, 17034, 17035, 17038, 17040, 17042, 17043, 17044, 17046, 17047, 17048, 17049, 17050, 17051, 17052, 17053, 17069, 17068, 17066, 17065, 17064, 17062, 17031, 17061, 17059, 17058, 17057, 17056, 17055, 17054, 17060, 17030, 17029, 17028, 17006, 17005, 17004, 17003, 17002, 17001, 17007, 17000, 16996, 16995, 16994, 16993, 16992, 16991, 16997, 17070, 17008, 17010, 17027, 17026, 17025, 17024, 17023, 17022, 17009, 17021, 17018, 17017, 17016, 17015, 17012, 17011, 17020, 17073, 17075, 17077, 17135, 17134, 17133, 17132, 17131, 17130, 17136, 17129, 17127, 17126, 17124, 17123, 17122, 17121, 17128, 17120, 17137, 17140, 17157, 17156, 17155, 17154, 17153, 17152, 17139, 17151, 17148, 17147, 17146, 17144, 17142, 17141, 17150, 17160, 17119, 17117, 17095, 17094, 17093, 17091, 17090, 17089, 17096, 17088, 17086, 17084, 17083, 17080, 17079, 17078, 17087, 17118, 17098, 17100, 17116, 17115, 17114, 17112, 17111, 17110, 17099, 17109, 17106, 17105, 17104, 17103, 17102, 17101, 17108, 16990, 17333, 17335, 17574, 17575, 17576, 17577, 17578, 17579, 17580, 17581, 17582, 17583, 17584, 17585, 17586, 17587, 17588, 17589, 17591, 17608, 17607, 17606, 17604, 17603, 17602, 17573, 17601, 17599, 17598, 17597, 17596, 17595, 17594, 17600, 17572, 17571, 17570, 17544, 17543, 17542, 17541, 17540, 17537, 17545, 17536, 17534, 17533, 17532, 17530, 17529, 17528, 17535, 17609, 17546, 17550, 17569, 17567, 17566, 17565, 17564, 17563, 17549, 17562, 17559, 17558, 17556, 17555, 17553, 17552, 17560, 17610, 17611, 17612, 17674, 17673, 17672, 17670, 17668, 17667, 17675, 17666, 17664, 17662, 17661, 17659, 17658, 17657, 17665, 17656, 17676, 17678, 17696, 17695, 17693, 17692, 17691, 17690, 17677, 17689, 17686, 17685, 17684, 17683, 17682, 17679, 17687, 17526, 17655, 17653, 17630, 17629, 17628, 17627, 17625, 17624, 17632, 17623, 17620, 17619, 17618, 17617, 17616, 17614, 17622, 17654, 17633, 17636, 17652, 17651, 17650, 17649, 17648, 17645, 17635, 17644, 17642, 17641, 17640, 17639, 17638, 17637, 17643, 17334, 17525, 17522, 17388, 17389, 17390, 17391, 17392, 17393, 17394, 17395, 17397, 17398, 17400, 17401, 17402, 17404, 17405, 17406, 17409, 17427, 17425, 17423, 17422, 17421, 17420, 17386, 17419, 17417, 17416, 17415, 17413, 17412, 17410, 17418, 17385, 17383, 17382, 17359, 17358, 17357, 17356, 17354, 17350, 17360, 17349, 17346, 17345, 17344, 17342, 17338, 17336, 17347, 17428, 17361, 17363, 17381, 17380, 17378, 17377, 17376, 17375, 17362, 17374, 17372, 17371, 17370, 17369, 17365, 17364, 17373, 17429, 17430, 17431, 17494, 17493, 17492, 17491, 17490, 17487, 17495, 17486, 17484, 17483, 17482, 17481, 17479, 17478, 17485, 17477, 17496, 17499, 17521, 17520, 17518, 17517, 17516, 17515, 17498, 17512, 17509, 17506, 17505, 17504, 17501, 17500, 17510, 17523, 17476, 17474, 17450, 17448, 17447, 17446, 17444, 17441, 17451, 17440, 17437, 17436, 17435, 17434, 17433, 17432, 17438, 17475, 17452, 17454, 17473, 17472, 17471, 17470, 17469, 17468, 17453, 17467, 17465, 17464, 17461, 17460, 17458, 17456, 17466, 16989, 16988, 16987, 16540, 16541, 16544, 16545, 16546, 16547, 16551, 16552, 16553, 16554, 16555, 16556, 16557, 16558, 16560, 16561, 16562, 16581, 16580, 16577, 16574, 16573, 16572, 16539, 16571, 16568, 16567, 16566, 16565, 16564, 16563, 16570, 16538, 16537, 16536, 16511, 16509, 16508, 16507, 16506, 16505, 16512, 16503, 16501, 16500, 16499, 16498, 16497, 16495, 16502, 16582, 16513, 16515, 16535, 16534, 16532, 16531, 16530, 16529, 16514, 16528, 16525, 16524, 16523, 16520, 16519, 16518, 16526, 16583, 16584, 16585, 16641, 16640, 16638, 16637, 16636, 16635, 16642, 16634, 16632, 16631, 16630, 16628, 16627, 16626, 16633, 16625, 16643, 16645, 16659, 16658, 16657, 16656, 16655, 16654, 16644, 16653, 16651, 16650, 16649, 16648, 16647, 16646, 16652, 16494, 16624, 16622, 16600, 16599, 16598, 16597, 16596, 16595, 16601, 16594, 16591, 16590, 16589, 16588, 16587, 16586, 16592, 16623, 16602, 16604, 16621, 16619, 16617, 16616, 16614, 16613, 16603, 16612, 16610, 16609, 16608, 16607, 16606, 16605, 16611, 16661, 16493, 16489, 16371, 16372, 16373, 16375, 16376, 16377, 16378, 16380, 16382, 16383, 16384, 16385, 16386, 16387, 16388, 16389, 16390, 16405, 16404, 16403, 16402, 16401, 16400, 16370, 16399, 16397, 16396, 16395, 16394, 16393, 16391, 16398, 16369, 16367, 16366, 16345, 16344, 16343, 16342, 16341, 16340, 16346, 16339, 16333, 16332, 16329, 16328, 16327, 16326, 16335, 16406, 16347, 16349, 16365, 16363, 16362, 16361, 16360, 16359, 16348, 16358, 16356, 16355, 16354, 16353, 16352, 16351, 16357, 16407, 16408, 16409, 16467, 16465, 16464, 16462, 16461, 16460, 16469, 16459, 16457, 16456, 16455, 16454, 16453, 16452, 16458, 16450, 16470, 16473, 16488, 16487, 16486, 16485, 16484, 16483, 16471, 16482, 16480, 16478, 16477, 16476, 16475, 16474, 16481, 16492, 16449, 16447, 16427, 16426, 16425, 16424, 16423, 16422, 16428, 16421, 16418, 16416, 16415, 16413, 16412, 16410, 16419, 16448, 16429, 16431, 16446, 16445, 16444, 16443, 16442, 16441, 16430, 16439, 16437, 16436, 16435, 16434, 16433, 16432, 16438, 16662, 16663, 16664, 16874, 16875, 16876, 16877, 16878, 16879, 16880, 16881, 16882, 16883, 16884, 16885, 16886, 16887, 16888, 16889, 16891, 16906, 16905, 16904, 16903, 16902, 16901, 16873, 16900, 16897, 16896, 16895, 16894, 16893, 16892, 16898, 16872, 16871, 16870, 16850, 16849, 16847, 16846, 16845, 16843, 16851, 16841, 16838, 16837, 16836, 16835, 16833, 16832, 16840, 16907, 16852, 16854, 16869, 16867, 16866, 16865, 16864, 16863, 16853, 16862, 16860, 16859, 16858, 16857, 16856, 16855, 16861, 16910, 16911, 16912, 16968, 16967, 16966, 16965, 16964, 16963, 16969, 16962, 16960, 16959, 16958, 16957, 16956, 16955, 16961, 16954, 16970, 16972, 16986, 16985, 16984, 16983, 16982, 16981, 16971, 16980, 16978, 16977, 16976, 16975, 16974, 16973, 16979, 16831, 16953, 16951, 16930, 16929, 16928, 16927, 16926, 16924, 16931, 16923, 16921, 16920, 16918, 16917, 16916, 16914, 16922, 16952, 16932, 16934, 16950, 16949, 16948, 16947, 16946, 16945, 16933, 16944, 16941, 16939, 16938, 16937, 16936, 16935, 16942, 16830, 16829, 16828, 16721, 16720, 16718, 16717, 16715, 16713, 16722, 16712, 16708, 16706, 16705, 16704, 16703, 16702, 16711, 16701, 16723, 16727, 16747, 16746, 16743, 16742, 16740, 16739, 16726, 16738, 16736, 16735, 16731, 16730, 16729, 16728, 16737, 16748, 16700, 16698, 16678, 16677, 16676, 16675, 16674, 16673, 16679, 16672, 16670, 16669, 16668, 16667, 16666, 16665, 16671, 16699, 16680, 16682, 16697, 16696, 16694, 16693, 16692, 16691, 16681, 16690, 16688, 16687, 16686, 16685, 16684, 16683, 16689, 16323, 16749, 16751, 16806, 16805, 16804, 16803, 16801, 16800, 16807, 16799, 16797, 16796, 16795, 16794, 16793, 16792, 16798, 16791, 16808, 16812, 16826, 16825, 16824, 16823, 16822, 16821, 16809, 16820, 16818, 16817, 16816, 16815, 16814, 16813, 16819, 16750, 16789, 16787, 16766, 16765, 16764, 16763, 16762, 16761, 16768, 16760, 16758, 16757, 16755, 16754, 16753, 16752, 16759, 16788, 16769, 16771, 16786, 16785, 16784, 16783, 16782, 16781, 16770, 16780, 16778, 16777, 16776, 16775, 16774, 16772, 16779, 9158, 20402, 1469, 5031, 5032, 5033, 5034, 5035, 1960, 5036, 5037, 5038, 5039, 5040, 5041, 5030, 5043, 5045, 5046, 1959, 5047, 5048, 5049, 1958, 5050, 5051, 1956, 5053, 5054, 5044, 5055, 5029, 5028, 5009, 1971, 1970, 5010, 5011, 5012, 5013, 5014, 5015, 1969, 5016, 5017, 1961, 5018, 1967, 1966, 5020, 5021, 5022, 5023, 1964, 5024, 5025, 5026, 1963, 1962, 5019, 5008, 5056, 5057, 5081, 1938, 1937, 5082, 1936, 1935, 5083, 5084, 5085, 1934, 5087, 5088, 1940, 5089, 5091, 5092, 1933, 5093, 1931, 5095, 5096, 5097, 5098, 5099, 5100, 5101, 5090, 1955, 1941, 5079, 1954, 1953, 1952, 5060, 5061, 5062, 5063, 5064, 5065, 5066, 1949, 1948, 5080, 1947, 1945, 5069, 1944, 5070, 1943, 5071, 5072, 5073, 5074, 5076, 5077, 5078, 1946, 5007, 5006, 5005, 4928, 4929, 4930, 4931, 4932, 4933, 4934, 4935, 4936, 4937, 4938, 1985, 4927, 4939, 1984, 1982, 4941, 4942, 4943, 4944, 4945, 4946, 4947, 4948, 4949, 4950, 4940, 4951, 4926, 4924, 4901, 1994, 4902, 4903, 4904, 4905, 1993, 4907, 4908, 4909, 1992, 4910, 4925, 4911, 1990, 1989, 4913, 1987, 4916, 4917, 1986, 4919, 4920, 4921, 4922, 4923, 1991, 1981, 4953, 4954, 4981, 4982, 4983, 4984, 4985, 4986, 4987, 4988, 4989, 4990, 4991, 4992, 1974, 4993, 4995, 4996, 4997, 4998, 4999, 5000, 1973, 1972, 5001, 5002, 5003, 5004, 4994, 4979, 4978, 1975, 4955, 4956, 4957, 4958, 4959, 4960, 4961, 4962, 1980, 1979, 1978, 4963, 1977, 4964, 4965, 4966, 4967, 4968, 1976, 4970, 4971, 4972, 4973, 4974, 4975, 4976, 4977, 5102, 5103, 5104, 5105, 5239, 5240, 5241, 5242, 1880, 5244, 5245, 5246, 5247, 5248, 5249, 5250, 5238, 5251, 1878, 5253, 5254, 5255, 5256, 5257, 5258, 5259, 5260, 5262, 1874, 5263, 1879, 5264, 5237, 5235, 1889, 5214, 5215, 5216, 5217, 5218, 5219, 5220, 5221, 1887, 1886, 5223, 5236, 5224, 5226, 5227, 1885, 1884, 5228, 5229, 5230, 1882, 5231, 5232, 5233, 5234, 5225, 5265, 1873, 5266, 5296, 5297, 5298, 5299, 5300, 1857, 5301, 5302, 5303, 5304, 1856, 5306, 1860, 5307, 5309, 1854, 5310, 1853, 1851, 5312, 5313, 5314, 5315, 5316, 1850, 5318, 5308, 5295, 1862, 1863, 5267, 1872, 5268, 1871, 1870, 5271, 5272, 5273, 5274, 5275, 1869, 5277, 1867, 5279, 1866, 5281, 5282, 5283, 5284, 5285, 5286, 1864, 5289, 5290, 5291, 5292, 5293, 5213, 4900, 1891, 5210, 5130, 1920, 5131, 5133, 5134, 5135, 5136, 5137, 5138, 5139, 5140, 5141, 5129, 1918, 5143, 1917, 5144, 5145, 5146, 5147, 5148, 5149, 5150, 5151, 1915, 5153, 5142, 1914, 1921, 1922, 5106, 5107, 5108, 1930, 5109, 5110, 5111, 5112, 5113, 5114, 1929, 5116, 5128, 5117, 5119, 1927, 5120, 1926, 5121, 1925, 5122, 1924, 5123, 5124, 5125, 1923, 5118, 1913, 1912, 1911, 5187, 1900, 1899, 5189, 5190, 1897, 5191, 5192, 1895, 5194, 5195, 5196, 5186, 1894, 5198, 5199, 5200, 5201, 5202, 5203, 5204, 5205, 5206, 5207, 5208, 1893, 5197, 5184, 5183, 5181, 5156, 1910, 5158, 1908, 5160, 5161, 5162, 5163, 5164, 5165, 5166, 5167, 5168, 5169, 5170, 5171, 5172, 1907, 5173, 5174, 5176, 5177, 1904, 5178, 5179, 1903, 5180, 5211, 1849, 4899, 4897, 4585, 2106, 4586, 4587, 4588, 4589, 2105, 4591, 4592, 4593, 4594, 4596, 2107, 4597, 2101, 4600, 4601, 4602, 4603, 4604, 4605, 4606, 4607, 4608, 2100, 4609, 4599, 4610, 4584, 4583, 4557, 4558, 4559, 4560, 4561, 4562, 4563, 2109, 4565, 4566, 4567, 4568, 2108, 4569, 4571, 4572, 4573, 4574, 4575, 4576, 4577, 4578, 4579, 4580, 4581, 4582, 4570, 2111, 4611, 2099, 4645, 4646, 2083, 4647, 4648, 4649, 2082, 4650, 4651, 4654, 4655, 4656, 4644, 4657, 4659, 4661, 4662, 4663, 4664, 4665, 2079, 4666, 2077, 4667, 4668, 4669, 4658, 4612, 4643, 2086, 2098, 4614, 4615, 4616, 4618, 4620, 2094, 4622, 2093, 4623, 4624, 4625, 2084, 4626, 4628, 4629, 2091, 4631, 4632, 4633, 4634, 4635, 4637, 2088, 4639, 4640, 2092, 4555, 4554, 4553, 4483, 2145, 2144, 2143, 4485, 2141, 2140, 4488, 4489, 4490, 4491, 2139, 4482, 2137, 2134, 4494, 4495, 4496, 4497, 2133, 4498, 2132, 2131, 4500, 2130, 4501, 2135, 4502, 4481, 2146, 4458, 2153, 4459, 4460, 4461, 4462, 4463, 4464, 4465, 4466, 4467, 4468, 4480, 4469, 4471, 2152, 4472, 4473, 2151, 2150, 2149, 4475, 4476, 4477, 2148, 4478, 4470, 2129, 4504, 2128, 4533, 2119, 4534, 2118, 4535, 4536, 4537, 4538, 4539, 4540, 4541, 4542, 4532, 4543, 4545, 2117, 2115, 4546, 2114, 4547, 2113, 4548, 4549, 4550, 2112, 4552, 4544, 4531, 4530, 4529, 4505, 4506, 2127, 4507, 4508, 4510, 4511, 4512, 4513, 4514, 2125, 4516, 4517, 4518, 4519, 4520, 4521, 4522, 2124, 4523, 2123, 2122, 4525, 2121, 4526, 4527, 4528, 4670, 4671, 2076, 4673, 2015, 4814, 4815, 4816, 4817, 4818, 4819, 4820, 4821, 4822, 4823, 4824, 4812, 4825, 4828, 4830, 4831, 2012, 4833, 4834, 2011, 4835, 4836, 2010, 4837, 4838, 2013, 4839, 4811, 4809, 4785, 2024, 4787, 2023, 4789, 4790, 4791, 2021, 4794, 4795, 4796, 4797, 4810, 4798, 4800, 4801, 4802, 4803, 4804, 4805, 4806, 2019, 4807, 2018, 2017, 4808, 4799, 2008, 4841, 4842, 4872, 4873, 2000, 4875, 4876, 4877, 4878, 4879, 4880, 1999, 4882, 4883, 4871, 4884, 4886, 4887, 4888, 4889, 4890, 4891, 4892, 4893, 1997, 4894, 4895, 1995, 1998, 4870, 4869, 2001, 4843, 2007, 4844, 4845, 4846, 2006, 4848, 4849, 4850, 4851, 4852, 4853, 4854, 4855, 4856, 4857, 4858, 2005, 2004, 4861, 4862, 4863, 2003, 2002, 4865, 4866, 4867, 4784, 4898, 4783, 2025, 4700, 2065, 4701, 4702, 4703, 4704, 4705, 2064, 4706, 4707, 4708, 4709, 4699, 4710, 4712, 4713, 4714, 4715, 2062, 4717, 2061, 4719, 4720, 2059, 4722, 4723, 4711, 4725, 2066, 4697, 4674, 2075, 2074, 4676, 2073, 4678, 2072, 4679, 4680, 4681, 4682, 4683, 4698, 4684, 4686, 4687, 4688, 4689, 4690, 4691, 4692, 4693, 2071, 2070, 2068, 2067, 4685, 2057, 4727, 4728, 4756, 4757, 4758, 2038, 9157, 2037, 4760, 2035, 4762, 2032, 4765, 4766, 4755, 4767, 4770, 4771, 4772, 4773, 2030, 4775, 4776, 4778, 2028, 4780, 2027, 2026, 4768, 4754, 4753, 4752, 4729, 4730, 2056, 4732, 2055, 2054, 4735, 4736, 2052, 4737, 4738, 2051, 4739, 4740, 2050, 2049, 4742, 4743, 2048, 4744, 4745, 4746, 4747, 2047, 2042, 4750, 2040, 4782, 4457, 5319, 5321, 5797, 1562, 1561, 5799, 5800, 1560, 5802, 5803, 5804, 5805, 1559, 1558, 5796, 1557, 5808, 1556, 5810, 5811, 5812, 5813, 5814, 5815, 1554, 5816, 5817, 1553, 5807, 5819, 1563, 5794, 1578, 1577, 5781, 5782, 5783, 1576, 1575, 5784, 1574, 5785, 5786, 1573, 1564, 5787, 5789, 1571, 5790, 5791, 1570, 5792, 5793, 1569, 1568, 1567, 1566, 1565, 5788, 5780, 5820, 1552, 5837, 5838, 1532, 5839, 1531, 1530, 5840, 5841, 1529, 5842, 1527, 5843, 1533, 5844, 5846, 5847, 5848, 1525, 5849, 1524, 5850, 5851, 5852, 5853, 5854, 5855, 5845, 5821, 5836, 1535, 1551, 5822, 1550, 1549, 1548, 5824, 5825, 5826, 5827, 1546, 1545, 5828, 1534, 1544, 1542, 1541, 1540, 1539, 5830, 1538, 5831, 5832, 1537, 5833, 1536, 5835, 1543, 5779, 1579, 5778, 1618, 1616, 5716, 1615, 5717, 5718, 5719, 5720, 5721, 1614, 1613, 1612, 1620, 1611, 1609, 1608, 5723, 5724, 5725, 5726, 5727, 1607, 5728, 1606, 1605, 1604, 1610, 5729, 5714, 5713, 5697, 1633, 1632, 1631, 5700, 1630, 5701, 5702, 5703, 5704, 5705, 5706, 1621, 5707, 5708, 1628, 1627, 5709, 5710, 1626, 1625, 1624, 1623, 5711, 5712, 1622, 1629, 1603, 5731, 1602, 1589, 5757, 5758, 1588, 5759, 5760, 5761, 5762, 5763, 5764, 5765, 5766, 1590, 5767, 1585, 5769, 5770, 5771, 1584, 5772, 5773, 1582, 5775, 5776, 5777, 1580, 1586, 5756, 5755, 1592, 5732, 5733, 1601, 5734, 5735, 1599, 5736, 5737, 5738, 5739, 5740, 1597, 1596, 5741, 1594, 5742, 5743, 5744, 5745, 5746, 1593, 5748, 5749, 5750, 5751, 5752, 5753, 5856, 5857, 1522, 1521, 5985, 1445, 1444, 1443, 5987, 5988, 1442, 1441, 1440, 5992, 1439, 5995, 5984, 5997, 5998, 5999, 1435, 6001, 6002, 6003, 1434, 6005, 6006, 6007, 1433, 6009, 1436, 1432, 5983, 5981, 5963, 5964, 1456, 1455, 5966, 1454, 5967, 1453, 5968, 5969, 5970, 5971, 5982, 5972, 1452, 1451, 5974, 5975, 1450, 5976, 5977, 1449, 1448, 5978, 1447, 5980, 5973, 6010, 1431, 1430, 1415, 6040, 6041, 6042, 1414, 6044, 6045, 6046, 6047, 1413, 6048, 6049, 6038, 6050, 6052, 6053, 1412, 1411, 6056, 6057, 6058, 1410, 1408, 6061, 6062, 1407, 6051, 1416, 6037, 6036, 6013, 1429, 6015, 6016, 1427, 6017, 6018, 1426, 6020, 6021, 6022, 6023, 1424, 1423, 6025, 1422, 6027, 6028, 6029, 6030, 1421, 6032, 6033, 1420, 6034, 1419, 1417, 5962, 5696, 1457, 1459, 1502, 1501, 5885, 5886, 1500, 1499, 5887, 5888, 1497, 1496, 5890, 5891, 5884, 5892, 5895, 1495, 5898, 5899, 1494, 5901, 1493, 1492, 1491, 1490, 1489, 1488, 5893, 5906, 1503, 5883, 1520, 5859, 5860, 5861, 1519, 1518, 5864, 1516, 5867, 1515, 1514, 1513, 1504, 5869, 1512, 5873, 5874, 1511, 1510, 5876, 5877, 5878, 5879, 1508, 5881, 1506, 5870, 1487, 5907, 1486, 5936, 1470, 2676, 5938, 5939, 5940, 1467, 1466, 5943, 5944, 5945, 5946, 5935, 5947, 1465, 5949, 1464, 5951, 1463, 1462, 5952, 1461, 5954, 5955, 5957, 5958, 5948, 1472, 1473, 1474, 5909, 1485, 1483, 5911, 5912, 5913, 5914, 5915, 5916, 5917, 1482, 5919, 1481, 1480, 1479, 1478, 5921, 5922, 1477, 5923, 5924, 1476, 5926, 1475, 5928, 5930, 5931, 1458, 5320, 5695, 5693, 1777, 1776, 5446, 5447, 5448, 5449, 5450, 5451, 5452, 5453, 5454, 5455, 5445, 1775, 5457, 1773, 1772, 5458, 5459, 5460, 5461, 5462, 1771, 5463, 5464, 1770, 5456, 1769, 5444, 5443, 5422, 1797, 1796, 1795, 1793, 5424, 5425, 5426, 5427, 1790, 1789, 1787, 1778, 1785, 5433, 1783, 5434, 5435, 1782, 5437, 5438, 5439, 1781, 5440, 1780, 5442, 1784, 5421, 5466, 5468, 5491, 5492, 5493, 1751, 5494, 5495, 5496, 5497, 5498, 5499, 1750, 1749, 5490, 5501, 5503, 5504, 5505, 5506, 5507, 1748, 5508, 5509, 5510, 5511, 5512, 1747, 5502, 5467, 5489, 5488, 1768, 1766, 5470, 1765, 5471, 5472, 1763, 5473, 1762, 1761, 5475, 1760, 1753, 5476, 5478, 5480, 5481, 5482, 5483, 5484, 1757, 5485, 1755, 1754, 5486, 5487, 5477, 1798, 1799, 5419, 1840, 5347, 5348, 1839, 5349, 5350, 5351, 5352, 1837, 5354, 5355, 5356, 5346, 5357, 1836, 5359, 1835, 5361, 1834, 5362, 5363, 5364, 5365, 1833, 5367, 5368, 5358, 5370, 5345, 1841, 5322, 1848, 5324, 5325, 1847, 5326, 1846, 5328, 1845, 5329, 5330, 1844, 5344, 5331, 5332, 1842, 5333, 5334, 5335, 5336, 5337, 5338, 5339, 5340, 5341, 5342, 1843, 1831, 1830, 1829, 1814, 5397, 1813, 1811, 1810, 5399, 5400, 5401, 1807, 5403, 5404, 5405, 1815, 1806, 1805, 5409, 5410, 5411, 5412, 5413, 1803, 5415, 1800, 5416, 5417, 5418, 5407, 5396, 5395, 1817, 5372, 5373, 5374, 5375, 1828, 5376, 5377, 5378, 5379, 1825, 1824, 5380, 5381, 5382, 5383, 5384, 5385, 1823, 5387, 5389, 1821, 5390, 5391, 5392, 1820, 1819, 5394, 5513, 5514, 1746, 1745, 5634, 1677, 5635, 1676, 1675, 1674, 5636, 1672, 1671, 5637, 5638, 5639, 1678, 1669, 1667, 5640, 1665, 5642, 1664, 1663, 5644, 1662, 5645, 1661, 1660, 1659, 1668, 5647, 5633, 5631, 5610, 5611, 5612, 1687, 1686, 5613, 5614, 5615, 1685, 5616, 5617, 5618, 5632, 1684, 5620, 5621, 1682, 5622, 5623, 5624, 5625, 5626, 1680, 5628, 5629, 5630, 5619, 5648, 5649, 1658, 5674, 5675, 5676, 5677, 5678, 5679, 5680, 1642, 1641, 5681, 5682, 1640, 1643, 5683, 5685, 5686, 1638, 5687, 5688, 1637, 5689, 5690, 1636, 5691, 5692, 1635, 1639, 1644, 1645, 5672, 5651, 5652, 5653, 1657, 1656, 1654, 1653, 5654, 5655, 5656, 1650, 5659, 5660, 1649, 5661, 5662, 1648, 5663, 5664, 5665, 5666, 5668, 5669, 1647, 5670, 1646, 5671, 5609, 5694, 5608, 5606, 1729, 5539, 1728, 5540, 1727, 1726, 5541, 1725, 5542, 1724, 5543, 1723, 5538, 5544, 1722, 5547, 5548, 5550, 5552, 5553, 5554, 1717, 1716, 5556, 5557, 5558, 5545, 5559, 5537, 1730, 1744, 5517, 1743, 1742, 5518, 1741, 5519, 1740, 5520, 5521, 1738, 1736, 5536, 1735, 1733, 5524, 5525, 5526, 5527, 1732, 5529, 5530, 5531, 5532, 5533, 5535, 1734, 5560, 1714, 5562, 1693, 5583, 1691, 5584, 5585, 1690, 5586, 5587, 5588, 5590, 1689, 5592, 5582, 5593, 5595, 5596, 5597, 1688, 5598, 5599, 5600, 5601, 5602, 5603, 5604, 5605, 5594, 5581, 1695, 1696, 1713, 5563, 1711, 5564, 5565, 5566, 5567, 5568, 1710, 1708, 1707, 1706, 1704, 5572, 5573, 5574, 5575, 1703, 5576, 1702, 1701, 5577, 5578, 1700, 1699, 5580, 1698, 5607, 2155, 4456, 4455, 3252, 3253, 3254, 2501, 3256, 3257, 2500, 3258, 2499, 3260, 3261, 3262, 3250, 2498, 3264, 3265, 3266, 2496, 2495, 3267, 3268, 3269, 3270, 3271, 3272, 3273, 2497, 3274, 2504, 3248, 3226, 3227, 3228, 2511, 3229, 3230, 3231, 3232, 3233, 3234, 3235, 3236, 2505, 2509, 3239, 3240, 3241, 3242, 3243, 3244, 3245, 2508, 2507, 2506, 3246, 3247, 3238, 2512, 3275, 3277, 3305, 3306, 2482, 3307, 3308, 3309, 3310, 2480, 3311, 3312, 2479, 3313, 3304, 3314, 3316, 2478, 3319, 3320, 3321, 3322, 3323, 2477, 3324, 3325, 3326, 3327, 3315, 2491, 3303, 2483, 3278, 3279, 2490, 3280, 3281, 3282, 3283, 3284, 3285, 3286, 2489, 3287, 3302, 3288, 3290, 3291, 3292, 2487, 3294, 3295, 3296, 3297, 3298, 2486, 3300, 2485, 3289, 3224, 2513, 2514, 3140, 3141, 3142, 3143, 3144, 3145, 3146, 3147, 3148, 3149, 3150, 3151, 2535, 3152, 3154, 3155, 3156, 3157, 3158, 3159, 3160, 3161, 2533, 3163, 3164, 3165, 3153, 2532, 3138, 3136, 3109, 3110, 3111, 3112, 3113, 3114, 2540, 3115, 2539, 2538, 3118, 3119, 3137, 3120, 3122, 3123, 3124, 3125, 3126, 3128, 3129, 3130, 3131, 3132, 2536, 3135, 3121, 3167, 2531, 2530, 3198, 3200, 3201, 3202, 3204, 3205, 3206, 3207, 3208, 3209, 2519, 3210, 2520, 3211, 3213, 3214, 3215, 3216, 3217, 3218, 2518, 3220, 2516, 3222, 2515, 3223, 3212, 2521, 3195, 3194, 3169, 3170, 2529, 3172, 3173, 2528, 3175, 3176, 2527, 3178, 3179, 3180, 3181, 3182, 2526, 2525, 3185, 2524, 3186, 2523, 3187, 3188, 3189, 2522, 3191, 3192, 3193, 2476, 3329, 3330, 3331, 2421, 3469, 3470, 3471, 3472, 3473, 3474, 2420, 3475, 3476, 3477, 3478, 3468, 3479, 3481, 3482, 3483, 3484, 3485, 3486, 2419, 3487, 2418, 3488, 3489, 3490, 3480, 3491, 3467, 3465, 2430, 3442, 3443, 3444, 3445, 3446, 3447, 3448, 3449, 3450, 3451, 3452, 3466, 3453, 2428, 3455, 3456, 3457, 3458, 2426, 3459, 2425, 3461, 3462, 3463, 3464, 3454, 3492, 3493, 3494, 3522, 3523, 2406, 2405, 3525, 2404, 3526, 3527, 3528, 3529, 3530, 3531, 3521, 3532, 3534, 2403, 2402, 3536, 3537, 3538, 3539, 3540, 3541, 3542, 2400, 2399, 3533, 3520, 3519, 3518, 3495, 2417, 2416, 2415, 2414, 3499, 2413, 3501, 3502, 3503, 3504, 2412, 2411, 3506, 3507, 3508, 3509, 2410, 2409, 3511, 3512, 3513, 3514, 2408, 3515, 3516, 2407, 2431, 3108, 3440, 2432, 2459, 3362, 3363, 3364, 3365, 3366, 3367, 3368, 3369, 3370, 3371, 3372, 2460, 3373, 3375, 3376, 2458, 2457, 3378, 3379, 3380, 3381, 3382, 3383, 3384, 3385, 3374, 3386, 3359, 3358, 3332, 2475, 3334, 3335, 3336, 3337, 3338, 2472, 3341, 3342, 2470, 3344, 2461, 2469, 2467, 3348, 3349, 3351, 3352, 2463, 3353, 3354, 3355, 3356, 2462, 3357, 2468, 2456, 2455, 2454, 3417, 2440, 3419, 3420, 3421, 3422, 3423, 2439, 3424, 3425, 3426, 2438, 3416, 2436, 3428, 3429, 3430, 3431, 2435, 2434, 2433, 3434, 3435, 3436, 3437, 3438, 3427, 3415, 3414, 2441, 2453, 3389, 3390, 3391, 2452, 2451, 3393, 3394, 2450, 2449, 3397, 3398, 3399, 2448, 3400, 3401, 2447, 3403, 3404, 3405, 3406, 3407, 3408, 3409, 2445, 2444, 2443, 3439, 3543, 3107, 2541, 2809, 2623, 2811, 2812, 2622, 2813, 2621, 2620, 2619, 2618, 2817, 2617, 2808, 2818, 2820, 2616, 2822, 2823, 2824, 2825, 2827, 2828, 2829, 2830, 2831, 2832, 2819, 2613, 2807, 2624, 2785, 2786, 2787, 2632, 2631, 2630, 2789, 2629, 2628, 2790, 2791, 2792, 2806, 2627, 2794, 2795, 2626, 2796, 2797, 2798, 2799, 2800, 2801, 2802, 2803, 2625, 2793, 2784, 2611, 2836, 2864, 2865, 2866, 2605, 2868, 2869, 2870, 2871, 2872, 2873, 2874, 2876, 2863, 2877, 2879, 2880, 2881, 2882, 2883, 2884, 2885, 2886, 2604, 2888, 2889, 2603, 2878, 2835, 2862, 2860, 2837, 2610, 2609, 2838, 2839, 2840, 2841, 2842, 2843, 2844, 2845, 2846, 2861, 2847, 2849, 2850, 2608, 2851, 2852, 2853, 2854, 2607, 2856, 2857, 2606, 2859, 2848, 2633, 2634, 2783, 2663, 2662, 2703, 2704, 2661, 2660, 2707, 2708, 2709, 2659, 2658, 2711, 2702, 2657, 2655, 2713, 2714, 2715, 2717, 2718, 2719, 2720, 2722, 2723, 2724, 2725, 2656, 2726, 2664, 2700, 2677, 2678, 2679, 2674, 2681, 2682, 2673, 2672, 2684, 2671, 2685, 2686, 2701, 2687, 2670, 2669, 2668, 2690, 2667, 2691, 2666, 2693, 2695, 2665, 2697, 2698, 2688, 2727, 2729, 2652, 2759, 2641, 2640, 2762, 2639, 2763, 2764, 2765, 2766, 2767, 2768, 2638, 2758, 2770, 2637, 2772, 2773, 2774, 2775, 2777, 2778, 2779, 2780, 2781, 2635, 2782, 2771, 2642, 2756, 2755, 2730, 2731, 2732, 2733, 2734, 2650, 2735, 2736, 2737, 2738, 2739, 2740, 2649, 2742, 2648, 2744, 2745, 2647, 2646, 2747, 2645, 2644, 2750, 2751, 2752, 2753, 2754, 2891, 2892, 2893, 2602, 3032, 3033, 3034, 3035, 3036, 3037, 3038, 3039, 3040, 3041, 3042, 3043, 3031, 3044, 3046, 3047, 3048, 3049, 3050, 3051, 3052, 3053, 3054, 3055, 3056, 2562, 3045, 3058, 3030, 3028, 2568, 3005, 3006, 3007, 3008, 3009, 3010, 3011, 3012, 3013, 3014, 2567, 3029, 3016, 2565, 3019, 2564, 3020, 3021, 3022, 3023, 3024, 3025, 3026, 2563, 3027, 2566, 2561, 3059, 3060, 2554, 2553, 3087, 3088, 3089, 3090, 2552, 3092, 2550, 3093, 3094, 3095, 2555, 2549, 3097, 3098, 2547, 3099, 2546, 3100, 2545, 3102, 2544, 3103, 2542, 3104, 2548, 3086, 3085, 3084, 3061, 3062, 3063, 3064, 3065, 3066, 3067, 3068, 2560, 3069, 3070, 3071, 3072, 3073, 3074, 3075, 3076, 3077, 3078, 2559, 2558, 3079, 3080, 2557, 3081, 3082, 2556, 3004, 3106, 3003, 3001, 2923, 2924, 2925, 2592, 2926, 2927, 2928, 2591, 2929, 2590, 2589, 2931, 2593, 2932, 2587, 2933, 2934, 2935, 2936, 2937, 2939, 2940, 2585, 2941, 2942, 2943, 2588, 2944, 2594, 2920, 2895, 2896, 2601, 2898, 2899, 2600, 2901, 2902, 2903, 2904, 2599, 2905, 2595, 2598, 2908, 2909, 2910, 2911, 2912, 2913, 2597, 2915, 2916, 2596, 2918, 2919, 2907, 2945, 2946, 2947, 2977, 2978, 2578, 2980, 2577, 2982, 2983, 2984, 2985, 2576, 2575, 2988, 2976, 2574, 2990, 2991, 2573, 2572, 2571, 2570, 2995, 2997, 2998, 2569, 2999, 3000, 2989, 2975, 2974, 2973, 2948, 2584, 2949, 2950, 2583, 2952, 2953, 2954, 2955, 2956, 2957, 2582, 2959, 2960, 2581, 2962, 2963, 2964, 2580, 2966, 2967, 2968, 2969, 2579, 2970, 2971, 2972, 3002, 3544, 2398, 3545, 4155, 2225, 4157, 4158, 4159, 4160, 4161, 4162, 4164, 4165, 2224, 2223, 4154, 2222, 4169, 4170, 4171, 4172, 4173, 4174, 4175, 4176, 4177, 4178, 4179, 4180, 4168, 4181, 4153, 4151, 2228, 4126, 4127, 4128, 4129, 4130, 4131, 4132, 4133, 4135, 4136, 4137, 4152, 4138, 4140, 4141, 4142, 4143, 4144, 4145, 2226, 4146, 4147, 4148, 4149, 4150, 4139, 4125, 4182, 4184, 4215, 4216, 4217, 4218, 4219, 4220, 4221, 4222, 4223, 4224, 4225, 4226, 4214, 4227, 4229, 4230, 4231, 2218, 4232, 4233, 4234, 4235, 4236, 4237, 4238, 4239, 4228, 4183, 4213, 4211, 4185, 4187, 4188, 4189, 4190, 4191, 4192, 4193, 4194, 4195, 4196, 4197, 4212, 2221, 4199, 4201, 4202, 2220, 4203, 4204, 4205, 2219, 4207, 4208, 4209, 4210, 4198, 2229, 4123, 2231, 4033, 2248, 4035, 4036, 2247, 4038, 4039, 4040, 4042, 4043, 2245, 4045, 4032, 4047, 4049, 4051, 4052, 4053, 4054, 2243, 4056, 4057, 4058, 4059, 4060, 4061, 4048, 4062, 4031, 4029, 4004, 4005, 4006, 4007, 4008, 4009, 4010, 4011, 4012, 4013, 4014, 2257, 2250, 4016, 4018, 4019, 4020, 4021, 2255, 4022, 4023, 4024, 4025, 4026, 2253, 4028, 2256, 4063, 4064, 4065, 4097, 2235, 4099, 4100, 4101, 4102, 4103, 4104, 4105, 2234, 4106, 4107, 2236, 4109, 4110, 4111, 4112, 4113, 4114, 4115, 4116, 4117, 4118, 4119, 4120, 4121, 2232, 4095, 4094, 4093, 4066, 2241, 2240, 4069, 4071, 4073, 4074, 4075, 4076, 4077, 4078, 4079, 4080, 2239, 4081, 4082, 4083, 4084, 2238, 4085, 4086, 4087, 2237, 4089, 4090, 4091, 4092, 4240, 4241, 4242, 4243, 4378, 4379, 4380, 2175, 4382, 4383, 4384, 2173, 4385, 4386, 4387, 2171, 2176, 4388, 4390, 4391, 4392, 4393, 4394, 2170, 4395, 2169, 4396, 4397, 4398, 4399, 4389, 4400, 4377, 4375, 2188, 2187, 2186, 2185, 4359, 4360, 2184, 4361, 2183, 4362, 2182, 2181, 4376, 4363, 2180, 4366, 2179, 4368, 4369, 4370, 2178, 4371, 4372, 4373, 2177, 4374, 4364, 4401, 2167, 4402, 4431, 4432, 2158, 4433, 4434, 4435, 4436, 4437, 4438, 2157, 4440, 4441, 4430, 4442, 4444, 2156, 4445, 4446, 4447, 4448, 4449, 4450, 4451, 4452, 4453, 4454, 4443, 4429, 4428, 4426, 4403, 4404, 2165, 4405, 4406, 4407, 4408, 4409, 2164, 2163, 4410, 4411, 4412, 4413, 4414, 4415, 4416, 4417, 4418, 4419, 4420, 2161, 4422, 4423, 4424, 2160, 4425, 4356, 4003, 4355, 4353, 2211, 4274, 4275, 4276, 4277, 4278, 4279, 4280, 4281, 4282, 4283, 2210, 2212, 4285, 4287, 4288, 4289, 4290, 2209, 4292, 4293, 2207, 4294, 4295, 4296, 4297, 4286, 4298, 4272, 4270, 4244, 4245, 4246, 2216, 2215, 4248, 4249, 4250, 2214, 4253, 4254, 4255, 4271, 4256, 4258, 4259, 4260, 4261, 4262, 2213, 4264, 4265, 4266, 4267, 4268, 4269, 4257, 4299, 4300, 4301, 4333, 2201, 4334, 4335, 2200, 2198, 4337, 2196, 4339, 2195, 4340, 2194, 4332, 4341, 4343, 2193, 4345, 2192, 2191, 4347, 4348, 2190, 4349, 4350, 2189, 4352, 4342, 4331, 4330, 4329, 4302, 4303, 4304, 4305, 4306, 4307, 4308, 4309, 4310, 4311, 4312, 2206, 4314, 4315, 4316, 4317, 4318, 4319, 4320, 4321, 4322, 2204, 4323, 2203, 4325, 4326, 4327, 4354, 4002, 4001, 4000, 2364, 2363, 3688, 3689, 3690, 2362, 3692, 3693, 2361, 2360, 3697, 2358, 3686, 3698, 3701, 2356, 3703, 2355, 2354, 3705, 3706, 2353, 2352, 3708, 3709, 3710, 2357, 3712, 3685, 3683, 3659, 2370, 2369, 3661, 3662, 2368, 3664, 3665, 3666, 3667, 3668, 2367, 3684, 3669, 2366, 2365, 3672, 3673, 3674, 3675, 3676, 3677, 3678, 3679, 3680, 3681, 3670, 3713, 2351, 3715, 2340, 3746, 3747, 2339, 3749, 2338, 2337, 2336, 2335, 3752, 3753, 2334, 3744, 2333, 3756, 3757, 3758, 3759, 2331, 2330, 3761, 3762, 2329, 3763, 2328, 2327, 3755, 3743, 3742, 3740, 2350, 3716, 3717, 3718, 3719, 3720, 2348, 3721, 2346, 3722, 3723, 2344, 3725, 3726, 3727, 3728, 3729, 3730, 3731, 3732, 3733, 3734, 3735, 3736, 2343, 2342, 3739, 2371, 2326, 3657, 3655, 3574, 2390, 3575, 3576, 2389, 3578, 3579, 3580, 3581, 3582, 3583, 3584, 3573, 3585, 3587, 3588, 3589, 3590, 2388, 3591, 3592, 3593, 3594, 2387, 3596, 3597, 3586, 3598, 3572, 3570, 3546, 3547, 2397, 2396, 2395, 3550, 3551, 2394, 3552, 2393, 3554, 2392, 3571, 3556, 3558, 2391, 3560, 3561, 3562, 3563, 3564, 3565, 3566, 3567, 3568, 3569, 3557, 3599, 2386, 3601, 3631, 3632, 3633, 3634, 2377, 3636, 3638, 3639, 3640, 3641, 2375, 2374, 3630, 3642, 3644, 3645, 3646, 3647, 3648, 3649, 2373, 3651, 3652, 3653, 3654, 2372, 3643, 3629, 3628, 3627, 3602, 3603, 3604, 3605, 2385, 3607, 2384, 2383, 2382, 2381, 3611, 3612, 2380, 3614, 3615, 3616, 3617, 3618, 3619, 3620, 3621, 3622, 2379, 3623, 3624, 2378, 3626, 3656, 1406, 3765, 2324, 3913, 3914, 3915, 3916, 3917, 3918, 3919, 3920, 3921, 3922, 3923, 3924, 3912, 2277, 3926, 3927, 2275, 3928, 3929, 3930, 3931, 3932, 3933, 3934, 3935, 3936, 2276, 3937, 3911, 3909, 2291, 3883, 3885, 3886, 2288, 3888, 2287, 2286, 3891, 3892, 3894, 3895, 3910, 3896, 3897, 3898, 3900, 3902, 3903, 3904, 3905, 2280, 2279, 2278, 3907, 3908, 2284, 2274, 3939, 3940, 3972, 3973, 3974, 3975, 3977, 2260, 3979, 3980, 3981, 3982, 2259, 3984, 2262, 3985, 3987, 3990, 3991, 3992, 3993, 3994, 3995, 3996, 3997, 3998, 2258, 3999, 3986, 3969, 2263, 2264, 3941, 2273, 3942, 3943, 2272, 3945, 3946, 2270, 2269, 3949, 3950, 3951, 3952, 3953, 3955, 3956, 3957, 2267, 3959, 3960, 3961, 3962, 3963, 3964, 3965, 2265, 3966, 3881, 3766, 3880, 3877, 3793, 3794, 3795, 3796, 2316, 3798, 3799, 3800, 3801, 2314, 3802, 2312, 3792, 3804, 3807, 3808, 3809, 3810, 3811, 3812, 3813, 3814, 3815, 3817, 3818, 3819, 2311, 2310, 3791, 3789, 3768, 3769, 3770, 3771, 3772, 3773, 3774, 3775, 2323, 2322, 2321, 3776, 3790, 2320, 3778, 3779, 3780, 3781, 3782, 3783, 2319, 2318, 3786, 2317, 3787, 3788, 3777, 2309, 2308, 3821, 2298, 3850, 2297, 3851, 3852, 3854, 3855, 3856, 3857, 3858, 3859, 3860, 3849, 3861, 3863, 3865, 3866, 2295, 2294, 3869, 3870, 3872, 3873, 3874, 3875, 3876, 3862, 2299, 3848, 3847, 3822, 3823, 2307, 2306, 3825, 2305, 3826, 2304, 2303, 3829, 3830, 2302, 2301, 3833, 3834, 3835, 3836, 2300, 3838, 3839, 3840, 3841, 3842, 3843, 3844, 3845, 3846, 3879, 1405, 2675, 7577, 7801, 7802, 629, 628, 7804, 627, 7806, 7807, 626, 7809, 625, 7811, 624, 7812, 623, 7813, 7814, 7815, 622, 148, 7816, 7817, 7818, 630, 7800, 147, 632, 641, 640, 7780, 7781, 7782, 7783, 7784, 7785, 8873, 7786, 639, 7819, 7788, 7790, 637, 7791, 7792, 7793, 636, 635, 634, 7797, 7798, 633, 638, 7820, 7821, 149, 611, 7843, 7844, 7845, 7846, 7847, 7848, 610, 7850, 7851, 8866, 151, 7853, 7855, 7856, 7857, 7858, 7859, 607, 7861, 7862, 7863, 7864, 7865, 608, 7778, 7841, 612, 7822, 7823, 7824, 7825, 7826, 621, 620, 619, 150, 7829, 7830, 7840, 7831, 7832, 8868, 7833, 617, 616, 7836, 7837, 7838, 615, 614, 613, 618, 642, 8874, 7777, 7718, 678, 677, 7719, 8885, 675, 7721, 8884, 7722, 8883, 7724, 7717, 7725, 673, 672, 7728, 7729, 7730, 671, 7731, 7732, 7733, 8880, 668, 7726, 8879, 7716, 8886, 7696, 7697, 7698, 7699, 8888, 7701, 7702, 685, 684, 7703, 7704, 679, 7705, 7707, 683, 7709, 7710, 7711, 682, 7712, 7713, 681, 7715, 680, 7706, 7866, 7736, 666, 654, 653, 652, 651, 7761, 7762, 7763, 7764, 650, 649, 7765, 7760, 648, 647, 7769, 7770, 646, 7772, 7773, 645, 644, 7775, 7776, 643, 7767, 667, 7759, 655, 7738, 8878, 7739, 7740, 7741, 8877, 664, 7743, 663, 661, 7744, 7758, 7745, 7746, 7747, 660, 7749, 659, 7750, 7751, 7752, 658, 7754, 657, 8876, 7867, 8865, 606, 7973, 7974, 569, 7975, 568, 7976, 7977, 7978, 7979, 7980, 567, 7972, 7981, 7983, 7984, 7985, 565, 7986, 564, 7988, 7989, 7990, 7991, 7992, 566, 7993, 7971, 570, 576, 575, 7956, 8853, 7957, 574, 573, 7958, 572, 7959, 7960, 7970, 8852, 7961, 7962, 8850, 571, 7964, 8849, 7966, 7967, 7968, 8848, 7969, 8851, 155, 7994, 7996, 554, 157, 553, 552, 8017, 8018, 8019, 551, 8021, 8022, 158, 8842, 550, 548, 8025, 8026, 8027, 8028, 547, 8030, 159, 8031, 545, 8033, 549, 7995, 556, 8013, 563, 8847, 8846, 7997, 562, 7999, 8000, 8001, 561, 8003, 8004, 8014, 8005, 8006, 8845, 8007, 559, 8009, 8010, 8011, 8844, 558, 8012, 557, 560, 7695, 7955, 578, 599, 7890, 7891, 7892, 7893, 598, 597, 596, 7895, 7896, 7897, 7889, 595, 7898, 594, 7900, 7901, 7902, 7903, 7904, 7905, 7906, 7907, 7908, 8862, 593, 7888, 8863, 7869, 153, 605, 7870, 7871, 7872, 7873, 604, 7874, 7875, 603, 600, 7876, 602, 7878, 7879, 7880, 7881, 7882, 601, 7884, 7885, 7886, 7887, 8864, 577, 592, 589, 7938, 8857, 7939, 7940, 584, 7942, 583, 582, 7943, 8856, 7944, 7937, 7945, 7947, 581, 7948, 580, 7950, 7951, 7952, 7953, 7954, 8855, 579, 7946, 590, 7936, 7935, 588, 8861, 8860, 7915, 7916, 7917, 7918, 586, 7920, 585, 7922, 8858, 7923, 7925, 7926, 7927, 7928, 7929, 7930, 7931, 7932, 7933, 7934, 8859, 7924, 544, 7694, 7693, 776, 7448, 7449, 775, 7451, 774, 129, 773, 772, 7453, 7454, 7455, 7456, 7457, 130, 7458, 131, 7459, 7460, 7461, 7462, 7463, 7464, 7447, 7446, 128, 7445, 7430, 8912, 786, 785, 784, 783, 7431, 126, 7433, 7434, 7435, 7465, 7436, 779, 7437, 778, 7439, 8911, 7440, 127, 7441, 7442, 7443, 777, 780, 7466, 7467, 771, 7492, 7493, 7494, 7495, 7496, 762, 761, 7498, 7499, 760, 759, 763, 7501, 757, 7503, 7504, 7505, 756, 755, 7508, 754, 7509, 7510, 7511, 7502, 787, 7490, 764, 7468, 7469, 7470, 7471, 770, 7473, 7474, 7475, 8906, 769, 7477, 7489, 768, 767, 766, 7480, 7481, 7482, 7483, 7484, 7485, 765, 7487, 7488, 7479, 125, 8913, 7429, 7373, 822, 820, 819, 7376, 7377, 7378, 7379, 818, 7380, 817, 7372, 816, 815, 814, 813, 7383, 7384, 8921, 812, 7386, 8920, 810, 809, 7381, 7388, 7371, 8726, 7355, 7356, 7357, 7358, 832, 117, 831, 7359, 7360, 830, 7361, 823, 829, 7364, 8924, 828, 7365, 8923, 8922, 7366, 826, 7368, 825, 7369, 7363, 7512, 7389, 7390, 794, 8918, 7412, 7413, 7414, 7415, 7416, 121, 8917, 7417, 123, 795, 792, 7419, 8916, 7421, 7422, 7423, 7424, 7425, 791, 790, 7427, 789, 7418, 808, 7410, 796, 807, 806, 805, 7392, 7393, 7394, 804, 7396, 7397, 803, 7400, 7409, 802, 801, 7402, 7403, 7404, 7405, 800, 7406, 799, 798, 8919, 7408, 7401, 7513, 753, 7514, 711, 7629, 7630, 7631, 7632, 7633, 7634, 7635, 7636, 7637, 7638, 712, 7639, 7641, 7642, 709, 8895, 7645, 7646, 707, 7648, 7649, 7650, 7651, 7640, 7652, 7627, 7625, 7607, 7608, 7609, 7610, 7611, 7612, 7613, 717, 716, 7614, 715, 7626, 7615, 7616, 7617, 8898, 7618, 7619, 713, 7621, 7622, 8897, 7623, 7624, 714, 7606, 7653, 7654, 701, 700, 699, 698, 697, 696, 7679, 139, 7681, 7682, 694, 702, 7683, 7684, 7685, 140, 690, 7686, 7687, 7688, 7689, 7690, 7691, 689, 693, 8894, 7676, 7674, 7655, 7656, 7657, 7658, 7659, 7660, 7661, 8893, 7662, 7663, 7664, 703, 7665, 7667, 7668, 136, 137, 7670, 7671, 705, 7672, 704, 138, 7673, 7666, 688, 7605, 7603, 7538, 7539, 7540, 8905, 8904, 7542, 7543, 742, 7544, 7545, 741, 743, 7546, 7548, 8903, 740, 7550, 7551, 7552, 7553, 739, 7554, 7555, 7556, 7547, 7557, 744, 7536, 7515, 7516, 752, 7518, 7519, 7520, 7521, 751, 7522, 7523, 7524, 7537, 132, 749, 7527, 7528, 748, 7529, 747, 7531, 7532, 746, 745, 7535, 750, 7604, 7558, 7559, 7584, 725, 7586, 7587, 7588, 7589, 724, 7591, 8901, 7593, 7594, 7583, 723, 722, 7596, 721, 7597, 134, 7599, 7600, 719, 7601, 8899, 7602, 7595, 736, 7582, 133, 735, 7561, 7562, 7563, 734, 7564, 7565, 733, 7567, 7568, 7569, 727, 7570, 7572, 731, 7573, 730, 7575, 7576, 6067, 729, 7578, 7579, 7580, 8902, 8034, 160, 8035, 8490, 335, 334, 8493, 8494, 8495, 8496, 8497, 8498, 8499, 8500, 8501, 8502, 8503, 196, 333, 332, 8505, 8506, 8508, 331, 8510, 8511, 195, 337, 8771, 8489, 8466, 344, 8468, 343, 8471, 341, 340, 8473, 8474, 8475, 8476, 8512, 8477, 8479, 8480, 8481, 192, 8483, 8484, 8485, 8486, 339, 193, 194, 8478, 8513, 8514, 330, 8765, 319, 8536, 8537, 8538, 318, 316, 315, 8540, 8541, 201, 320, 8542, 313, 312, 311, 310, 8547, 203, 8549, 8550, 8762, 308, 204, 8763, 191, 321, 323, 329, 199, 8515, 328, 8517, 327, 8519, 8520, 326, 8521, 8522, 322, 8523, 8524, 8525, 8526, 8527, 8528, 8529, 8530, 8766, 8532, 8533, 8534, 325, 190, 345, 346, 8408, 8409, 8786, 8410, 8411, 8412, 374, 8413, 373, 186, 8784, 8407, 371, 187, 8417, 8418, 8419, 8420, 8421, 8422, 8423, 8424, 369, 368, 8415, 367, 375, 377, 386, 8384, 8385, 8386, 8387, 384, 8389, 8390, 8789, 8391, 382, 376, 8393, 381, 8396, 8397, 184, 380, 8398, 185, 8400, 378, 8402, 8403, 8394, 8551, 8425, 8427, 8449, 8450, 8451, 8778, 8452, 8777, 356, 188, 8454, 355, 8775, 357, 354, 352, 8457, 351, 350, 349, 8459, 8460, 348, 8461, 8462, 8463, 353, 8426, 8448, 8779, 366, 8428, 8782, 364, 363, 8431, 8432, 8781, 8433, 362, 361, 8447, 8434, 8436, 8437, 8780, 8439, 359, 8441, 8442, 8443, 8444, 358, 8446, 360, 8760, 8759, 8758, 8658, 242, 8739, 8660, 8661, 8662, 8663, 8664, 241, 8666, 8667, 243, 8668, 8670, 8738, 8671, 8737, 8736, 8674, 8675, 8735, 8676, 214, 8677, 8669, 8678, 244, 246, 211, 252, 251, 8640, 8743, 212, 8642, 8643, 8644, 8645, 8646, 213, 8647, 8648, 249, 8649, 8650, 248, 8651, 8652, 8741, 8653, 247, 8655, 250, 8744, 8679, 237, 8705, 228, 8707, 8708, 8730, 227, 226, 8709, 8710, 225, 8712, 8704, 224, 223, 8716, 8718, 8728, 220, 219, 8722, 8723, 8724, 218, 217, 8714, 238, 8703, 8701, 8681, 8682, 236, 8684, 235, 234, 8734, 8687, 8688, 8733, 233, 229, 232, 8692, 8693, 8694, 231, 8732, 8696, 8697, 8698, 8731, 230, 8700, 8691, 387, 8638, 254, 291, 8578, 8579, 8580, 290, 208, 289, 8582, 8583, 288, 287, 8576, 8584, 8586, 285, 8754, 283, 282, 281, 280, 8590, 8591, 8592, 8593, 286, 278, 292, 293, 8553, 304, 303, 302, 8555, 8556, 205, 8558, 301, 206, 8560, 8574, 8561, 300, 8564, 8565, 8566, 8567, 299, 298, 297, 295, 294, 8572, 8562, 8637, 277, 275, 8749, 263, 8617, 8618, 262, 210, 8746, 8620, 260, 8622, 8623, 8616, 8624, 258, 8626, 8627, 8628, 8629, 257, 8631, 8632, 256, 8745, 8635, 8625, 276, 8615, 8613, 274, 8595, 8753, 272, 8598, 271, 8752, 269, 8600, 8751, 8601, 8614, 268, 267, 209, 8605, 8606, 266, 8607, 8608, 8609, 265, 8611, 264, 8602, 8383, 8382, 8381, 495, 171, 494, 493, 8815, 8143, 8144, 492, 491, 8146, 8814, 8139, 8147, 8149, 8150, 490, 489, 8152, 488, 8153, 487, 8155, 486, 8813, 8148, 8156, 496, 8135, 512, 8121, 8122, 511, 510, 8821, 509, 508, 168, 8820, 505, 497, 504, 502, 8128, 501, 8129, 500, 499, 169, 8132, 8133, 170, 498, 503, 513, 485, 483, 8175, 8176, 8810, 8809, 8177, 8178, 8179, 8180, 472, 8181, 173, 473, 8182, 8183, 8184, 174, 8186, 470, 8188, 469, 468, 8189, 467, 8190, 471, 484, 474, 476, 8157, 8158, 8159, 8160, 8161, 8162, 8163, 8164, 8165, 8166, 8167, 475, 8168, 8812, 8169, 8170, 8171, 479, 8172, 8173, 478, 8811, 8174, 477, 481, 466, 8120, 8822, 8059, 8838, 8061, 8062, 8063, 8064, 8065, 161, 8067, 8068, 8836, 8058, 8069, 8834, 8070, 531, 8071, 530, 162, 8073, 8832, 8074, 163, 529, 8835, 8075, 533, 8056, 8036, 542, 8839, 8038, 8039, 8040, 540, 8041, 539, 8042, 8043, 8057, 8044, 8046, 8047, 8048, 8049, 8050, 8051, 8052, 536, 535, 8054, 534, 8045, 8119, 528, 8077, 8099, 8100, 166, 521, 520, 519, 8105, 8825, 8107, 8108, 8109, 8098, 167, 8111, 517, 8112, 516, 8113, 8114, 515, 8116, 8117, 8118, 8823, 8110, 8076, 8827, 523, 8078, 8831, 8079, 8080, 527, 8081, 8082, 8830, 8083, 8084, 8085, 8096, 8086, 8088, 165, 8089, 526, 525, 8091, 8092, 524, 8828, 8094, 8095, 8087, 833, 8192, 175, 416, 8309, 8310, 8311, 8312, 8313, 8314, 8315, 8316, 8317, 8318, 8308, 8319, 8321, 415, 8323, 414, 8324, 8325, 413, 412, 411, 8328, 410, 8320, 8330, 417, 8305, 8284, 181, 8285, 8286, 8287, 8288, 8289, 425, 424, 423, 8292, 8306, 8293, 422, 421, 8296, 8297, 8794, 8300, 419, 8302, 418, 8303, 8304, 8294, 426, 8331, 409, 394, 393, 8359, 8360, 8361, 8362, 8363, 8364, 392, 8366, 8367, 8357, 391, 8370, 8371, 8372, 390, 8374, 8375, 8376, 182, 388, 8379, 8380, 8369, 8332, 8356, 396, 8334, 407, 8337, 8338, 8792, 8340, 405, 8341, 8342, 404, 403, 8355, 402, 8345, 8346, 400, 8348, 8349, 399, 8791, 397, 8351, 8352, 8353, 401, 8193, 8282, 8280, 456, 455, 454, 8803, 452, 8220, 451, 8222, 8223, 8224, 450, 457, 8225, 8227, 449, 448, 447, 178, 8230, 8231, 8232, 8801, 8233, 8234, 8226, 8235, 8215, 458, 8194, 176, 8195, 8196, 8197, 8198, 8199, 8200, 465, 8202, 464, 8214, 463, 8205, 8206, 8207, 461, 8806, 8209, 460, 8211, 8212, 8805, 8213, 462, 427, 8236, 8238, 439, 8264, 8265, 438, 437, 8267, 436, 8269, 435, 8270, 8271, 8262, 434, 433, 432, 431, 430, 8275, 8276, 8277, 429, 8278, 428, 8279, 8273, 8237, 440, 179, 8239, 8240, 8241, 8242, 446, 8244, 8245, 8246, 8800, 8247, 445, 8260, 444, 8249, 8250, 443, 442, 8253, 8254, 8255, 8256, 8257, 8258, 441, 8248, 7353, 824, 7352, 1206, 1204, 6511, 1203, 6512, 6513, 1202, 6514, 1201, 6516, 6517, 6518, 6520, 6521, 6522, 9072, 9071, 6524, 1198, 6525, 6526, 6527, 1197, 1207, 6509, 6508, 6507, 6490, 9078, 6491, 1214, 1213, 6494, 9077, 1212, 6496, 6497, 6498, 6529, 1211, 6501, 1210, 6502, 6503, 1209, 44, 9075, 6505, 46, 6506, 1208, 6500, 6530, 6531, 6532, 1184, 6554, 1183, 6556, 6557, 6558, 1182, 1181, 6559, 1180, 1179, 6552, 1178, 6563, 6564, 6565, 6566, 6567, 6568, 1177, 9065, 6569, 6570, 1175, 6562, 6489, 6551, 6550, 6533, 1195, 6534, 9070, 6535, 9069, 6536, 9068, 6537, 6538, 6539, 1185, 48, 1191, 6542, 1190, 1189, 9066, 6545, 6546, 1187, 6548, 6549, 49, 1192, 1217, 6488, 1218, 6422, 6423, 40, 6424, 6425, 6426, 1246, 6427, 6428, 6429, 6430, 6421, 6431, 6433, 6434, 6435, 41, 6437, 6438, 1244, 6439, 1243, 6441, 6442, 1245, 1242, 6420, 6418, 6398, 6399, 6400, 1251, 6402, 9086, 6404, 9085, 6406, 6407, 38, 6419, 39, 6409, 1248, 6410, 1247, 6411, 6412, 6413, 6414, 6415, 6416, 6417, 6408, 50, 6444, 1241, 1230, 1229, 1228, 6470, 6471, 6472, 1227, 1226, 6473, 6474, 1225, 1231, 6476, 6478, 6479, 9079, 6481, 6482, 6483, 6484, 6485, 1220, 6487, 1219, 9080, 6445, 6466, 6465, 6446, 6447, 6448, 1240, 6449, 6450, 6451, 6452, 6453, 1239, 6455, 1232, 6456, 6458, 9082, 6459, 1236, 1234, 6461, 6462, 9081, 1233, 6464, 42, 1237, 6397, 6571, 6573, 6679, 6680, 6681, 1132, 1131, 6682, 6683, 63, 6684, 1130, 1129, 6685, 9044, 1127, 1126, 6688, 1125, 1124, 6690, 6691, 1123, 6692, 6693, 6678, 9046, 1133, 6676, 1141, 1140, 6657, 6658, 6659, 6660, 6661, 6662, 1139, 6663, 6664, 64, 1138, 1137, 6668, 6669, 6670, 6671, 1136, 1135, 6673, 9047, 6674, 6675, 6666, 6694, 6695, 1122, 6721, 9041, 9040, 6722, 6723, 66, 6724, 1119, 6725, 1118, 6727, 1120, 6728, 6730, 1117, 9039, 6731, 6732, 6733, 6734, 6735, 6736, 9038, 6737, 6729, 6654, 834, 6718, 6696, 1121, 6698, 6699, 6700, 6701, 6702, 6703, 65, 6704, 6705, 6719, 6706, 6707, 6708, 6709, 6710, 6711, 6712, 6713, 6714, 6715, 6716, 6717, 9042, 6653, 6652, 6651, 6594, 1166, 6596, 1165, 1164, 6598, 9058, 6599, 6600, 6601, 57, 1167, 6602, 6604, 6605, 6606, 6607, 6608, 58, 1163, 1162, 1161, 6612, 6613, 6603, 6614, 6593, 56, 6574, 6575, 9063, 6576, 6577, 1174, 1173, 6579, 51, 1172, 6581, 1168, 52, 6582, 6583, 6584, 9061, 9060, 6586, 6587, 6588, 6589, 6590, 6591, 53, 6572, 6615, 6616, 6635, 1150, 1149, 60, 6637, 6638, 6639, 6640, 6641, 6642, 6643, 1151, 61, 6646, 6647, 1145, 9050, 6649, 9049, 1144, 1143, 1142, 9048, 6650, 1147, 1160, 1152, 6633, 1159, 6617, 1158, 6619, 6620, 6621, 59, 6622, 1157, 9054, 6623, 6634, 6624, 6626, 6627, 6628, 1156, 6629, 9053, 6630, 1155, 6631, 1154, 1153, 6625, 6738, 9087, 6395, 6176, 1352, 6178, 12, 1349, 6181, 6182, 1348, 6183, 6184, 9133, 1347, 6186, 9132, 6188, 13, 6189, 1345, 6190, 6191, 6192, 6193, 1344, 6175, 6174, 6173, 6172, 6150, 6151, 9137, 6153, 1356, 6155, 6156, 6157, 6158, 6159, 1354, 6194, 6161, 6163, 1353, 6164, 6165, 6166, 6167, 9135, 6168, 6169, 6170, 6171, 6162, 14, 9130, 1343, 6216, 18, 1326, 1325, 6219, 6220, 9124, 6221, 19, 6222, 6223, 1327, 6224, 1324, 1323, 22, 9120, 6227, 6228, 9119, 1322, 6229, 6230, 6231, 20, 1359, 1328, 6213, 15, 6195, 1342, 6196, 1341, 1340, 9128, 6199, 6200, 6201, 6202, 9125, 16, 1336, 1335, 17, 1334, 6206, 6207, 1333, 1332, 9126, 1329, 6212, 1338, 6149, 6148, 1361, 1391, 9149, 6086, 6087, 6088, 6089, 6090, 1390, 6092, 9148, 6093, 9151, 6094, 6096, 1388, 6098, 1387, 6100, 6101, 6102, 1386, 1385, 1384, 6106, 1389, 6107, 1393, 6082, 1403, 9155, 1, 2, 1400, 6070, 9153, 1399, 6071, 1398, 6073, 1394, 3, 4, 5, 6076, 6077, 1396, 6078, 6, 6079, 1395, 6080, 6081, 6075, 1321, 9147, 9145, 6133, 6134, 1370, 1369, 6135, 6136, 6137, 1368, 6138, 6139, 6140, 1371, 6141, 1367, 6143, 9138, 11, 1366, 1365, 1364, 1363, 6146, 1362, 6147, 6142, 9146, 9139, 1374, 6111, 6113, 6114, 9144, 6115, 6116, 9143, 6117, 6118, 9142, 6119, 1373, 1378, 6121, 6122, 6123, 6124, 6125, 9141, 9, 6127, 6128, 1375, 6130, 6120, 6396, 1320, 9118, 1274, 6339, 6340, 1273, 6341, 9100, 1272, 1271, 6343, 1270, 6345, 6346, 9099, 6347, 6348, 1269, 1268, 6350, 6351, 6352, 33, 6353, 1266, 6338, 1275, 6336, 6335, 6312, 32, 9103, 1279, 1278, 6316, 6317, 6318, 9101, 6320, 6321, 6354, 6322, 6324, 6325, 6326, 6327, 6328, 6329, 6330, 6331, 6332, 6333, 6334, 6323, 6355, 6356, 6357, 6379, 1260, 9091, 1259, 1258, 9090, 6383, 1256, 6384, 9089, 1255, 6378, 6385, 6387, 6388, 1254, 1253, 6390, 1252, 6391, 6392, 37, 6393, 6394, 6386, 6311, 6377, 6375, 9098, 6359, 6360, 34, 6361, 1264, 6363, 9096, 1263, 6364, 9095, 6376, 6365, 9094, 6367, 6368, 6369, 6370, 6371, 6372, 6373, 9093, 1262, 9092, 35, 6310, 6309, 6308, 9116, 1308, 6255, 6256, 25, 6257, 6258, 26, 6259, 27, 6260, 1309, 9113, 1306, 6262, 1305, 6264, 6265, 6266, 1304, 28, 6267, 6268, 6269, 6261, 1303, 6253, 1310, 6235, 6236, 1319, 6238, 6239, 6240, 1317, 6242, 23, 6243, 1316, 6252, 6244, 24, 6246, 6247, 9117, 1314, 1313, 6249, 6250, 1312, 6251, 1311, 1315, 6234, 1302, 6273, 6290, 6291, 9108, 6293, 1288, 1287, 6295, 6296, 1286, 1285, 6298, 6289, 6299, 6300, 6301, 1284, 6302, 6303, 1283, 6305, 6306, 1282, 9106, 9105, 9107, 6272, 9109, 31, 6274, 6275, 6276, 6277, 1300, 9112, 6278, 6279, 9111, 6280, 1299, 1289, 1298, 6282, 1297, 6284, 1296, 30, 1293, 1292, 1291, 6285, 6286, 6287, 6281, 6739, 6720, 1116, 935, 934, 8972, 7128, 7129, 7130, 7131, 7132, 8971, 7134, 99, 936, 7136, 932, 7138, 931, 930, 929, 928, 927, 7143, 7144, 7145, 926, 7137, 925, 7127, 937, 944, 7109, 7110, 98, 7111, 7112, 7113, 7114, 943, 7115, 7116, 7126, 7117, 7119, 7120, 942, 7121, 941, 7123, 940, 7124, 939, 7125, 938, 7118, 945, 7146, 7148, 7172, 918, 917, 7175, 101, 7177, 7178, 7179, 7180, 8966, 7181, 919, 915, 7184, 7185, 7186, 7187, 7188, 7189, 913, 912, 7192, 911, 910, 7183, 7147, 7170, 7169, 7149, 7150, 7151, 7152, 7153, 7154, 7155, 7156, 7157, 7158, 924, 8968, 923, 7160, 7161, 7162, 100, 7163, 7164, 7165, 922, 921, 7167, 920, 7159, 7194, 7107, 7105, 975, 7047, 7048, 974, 7049, 7050, 7051, 92, 973, 7053, 93, 7045, 971, 969, 7056, 7057, 7058, 7059, 7060, 7061, 968, 7062, 7063, 7064, 970, 7065, 7044, 977, 7023, 7024, 7025, 7026, 7027, 8989, 90, 7029, 7030, 8987, 7031, 976, 7032, 7034, 8986, 8985, 7036, 7037, 978, 7039, 91, 67, 7041, 7042, 7033, 7106, 7066, 7068, 955, 7088, 7089, 7090, 8975, 954, 953, 7093, 95, 952, 7094, 7087, 96, 7096, 948, 7097, 7098, 7099, 7100, 8973, 7102, 946, 7103, 7104, 7095, 7067, 956, 957, 967, 966, 7071, 7072, 7073, 965, 964, 8982, 8981, 963, 962, 94, 8980, 7076, 7077, 8979, 8978, 7080, 960, 8977, 958, 7083, 7084, 7085, 961, 909, 908, 907, 7304, 8944, 7305, 857, 109, 855, 8942, 7307, 854, 7309, 8941, 858, 853, 852, 7311, 7312, 851, 7313, 7314, 7315, 850, 110, 7316, 7317, 7310, 7318, 108, 859, 8949, 7286, 7287, 870, 7289, 7290, 7291, 7292, 7293, 869, 868, 7303, 867, 7295, 864, 7296, 8948, 8947, 7297, 8946, 7299, 861, 7301, 860, 865, 7285, 849, 7321, 7337, 841, 8931, 7338, 7339, 840, 7340, 8930, 7341, 839, 8928, 842, 8927, 838, 7343, 7344, 837, 7345, 7346, 7347, 7348, 836, 7350, 835, 116, 7320, 7336, 7334, 111, 7322, 7323, 7324, 112, 7325, 848, 847, 846, 8938, 8937, 7335, 845, 7328, 7329, 844, 113, 8934, 7331, 8933, 7332, 843, 114, 7333, 7327, 7284, 8950, 107, 897, 896, 7217, 7218, 895, 894, 7220, 7221, 893, 7223, 892, 7216, 7224, 7225, 7226, 7227, 7228, 891, 8959, 8958, 7231, 7232, 889, 8957, 8960, 886, 7215, 899, 7196, 7197, 7198, 906, 905, 102, 904, 7200, 103, 8963, 7201, 8961, 903, 7204, 7205, 7206, 104, 7207, 7208, 7209, 7210, 902, 7211, 901, 7203, 7234, 885, 884, 7262, 7263, 876, 875, 7266, 7267, 7268, 7269, 7270, 106, 8954, 7261, 873, 8952, 7274, 7275, 7276, 7277, 7278, 7279, 7280, 7281, 7282, 7283, 8953, 105, 878, 7258, 7236, 8956, 883, 7239, 882, 7240, 7241, 7242, 7243, 7244, 7245, 7246, 7247, 7248, 7249, 7250, 881, 7252, 7253, 7254, 880, 7255, 879, 7256, 7257, 7022, 983, 7040, 984, 6842, 6843, 1082, 6844, 6845, 1081, 1080, 9018, 6847, 6848, 1078, 6849, 1077, 1076, 9017, 1074, 6852, 6853, 6854, 1073, 6855, 1072, 6856, 6841, 6840, 9019, 1084, 1092, 1091, 9022, 6825, 6826, 6827, 9021, 6828, 6829, 6830, 6831, 1071, 1090, 9020, 6833, 6834, 1087, 6835, 6836, 6837, 6838, 1086, 1085, 6839, 1089, 6824, 1070, 73, 6878, 7021, 6880, 1058, 6881, 6882, 9014, 1057, 9013, 6884, 6885, 1055, 6887, 9012, 6888, 6889, 77, 6890, 6891, 6892, 9010, 6893, 6894, 6877, 76, 6875, 1059, 1068, 6860, 1067, 6861, 6862, 1066, 6863, 6864, 1065, 6865, 1064, 1069, 74, 1062, 6868, 6869, 6870, 6871, 6872, 6873, 1061, 6874, 1060, 75, 1063, 6823, 6822, 6821, 6760, 6761, 6762, 6763, 6764, 6765, 6766, 1110, 6768, 6769, 6770, 1109, 6771, 6772, 6773, 1108, 6775, 6776, 6777, 71, 9030, 6778, 6779, 68, 6758, 6757, 6756, 6740, 6741, 6742, 6743, 6744, 1115, 6745, 1114, 9036, 9035, 1112, 6780, 9034, 6748, 6749, 1111, 9033, 6750, 6751, 6752, 9032, 6753, 6754, 6755, 6747, 6781, 6782, 9029, 9024, 1102, 6806, 1101, 1100, 6808, 6809, 1099, 6810, 6811, 9023, 6805, 1098, 1097, 1096, 6813, 6814, 1094, 6815, 6816, 6817, 6818, 1093, 6820, 6812, 6895, 6804, 6802, 6783, 6784, 6785, 6786, 6787, 6788, 9028, 6789, 1106, 6791, 6792, 6803, 6793, 1105, 6795, 9027, 6796, 6797, 1104, 9026, 6799, 6800, 9025, 1103, 6794, 6896, 6879, 9009, 6971, 8995, 6972, 6973, 6974, 1018, 1017, 1016, 6976, 6977, 6970, 6978, 8994, 1014, 6979, 6980, 1013, 6981, 6982, 8993, 6983, 6984, 1015, 86, 8997, 1021, 6952, 6953, 6954, 9002, 6955, 9001, 6956, 6957, 1024, 6959, 9000, 1023, 6960, 6961, 6962, 8999, 6963, 6964, 85, 6965, 1053, 6967, 1022, 1012, 6951, 87, 6986, 7004, 7005, 7006, 995, 994, 7008, 993, 992, 7010, 7011, 7003, 990, 7013, 8990, 989, 988, 7016, 89, 7017, 7018, 7019, 7020, 7012, 8991, 996, 997, 1008, 6987, 1007, 6988, 6989, 88, 6990, 1006, 1005, 1004, 1003, 1002, 6992, 1001, 6993, 6994, 6995, 1000, 999, 6997, 6998, 998, 7000, 1009, 6950, 6966, 216, 6932, 6913, 6912, 82, 6911, 6933, 6910, 1045, 6931, 1043, 6909, 6908, 9007, 9006, 6936, 6906, 1038, 1037, 1040, 6905, 6914, 1050, 6921, 6922, 9005, 1048, 6923, 1049, 6924, 6925, 6930, 6926, 1047, 1046, 81, 1026, 6928, 6929, 6917, 6916, 6918, 1051, 1039, 6939, 1029, 6899, 1030, 80, 1034, 1033, 79, 6945, 6944, 6904, 6901, 6900, 6943, 1031, 1032, 6946, 6902, 83, 1036, 6897, 1027, 6941, 6947, 6903, 1028, 6898, 1035, 156, 183, 78, 20345, 141, 172, 143, 55, 17223, 20264, 200, 2654, 2534, 197, 2586, 7, 152, 17280, 20204, 20393, 17244, 119, 20278, 20177, 115, 36, 2643, 17245, 20167, 2653, 120, 142, 20263, 215, 20224, 8, 17233, 144, 135, 2636, 20295, 17387, 146, 2615, 20184, 20133, 17307, 20157, 62, 97, 17352, 17229, 20388, 47, 20314, 20352, 17296, 20234, 2614, 20329, 20237, 17384, 20313, 20348, 20365, 20173, 20332, 124, 20249, 180, 17351, 17300, 20128, 20168, 17337, 20253, 17286, 17339, 20200, 20176, 17227, 10, 2551, 2651, 154, 20169, 20231, 17263, 20316, 177, 20274, 20137, 122, 43, 2543, 17348, 72, 20197, 145, 17241, 17340, 1404, 20116, 1812, 1816, 1107, 1822, 19080, 19081, 19084, 1827, 19092, 1832, 1095, 1838, 19103, 19104, 19107, 1088, 1083, 1877, 18187, 1054, 18190, 19148, 1056, 1809, 1868, 1865, 1858, 1855, 1075, 1079, 19114, 19143, 1052, 18259, 1794, 1709, 1712, 1719, 1720, 1721, 18353, 1731, 18345, 1148, 19029, 1737, 1739, 18337, 18325, 18322, 1752, 1128, 1792, 1791, 1788, 1786, 19066, 18289, 19070, 1779, 19057, 19056, 18297, 1767, 1764, 1758, 19061, 18375, 19152, 19157, 959, 1957, 18093, 18092, 951, 950, 947, 1965, 933, 19295, 19296, 19307, 19311, 916, 19317, 19319, 18065, 874, 19364, 877, 19354, 887, 888, 19264, 19347, 1996, 19343, 898, 1988, 18064, 19331, 890, 19154, 19263, 1950, 1881, 18175, 19161, 1890, 1892, 19187, 1025, 1898, 1901, 1902, 19194, 1019, 1905, 1906, 18150, 1909, 1010, 18105, 1942, 1939, 19248, 1932, 19242, 1951, 979, 981, 982, 1928, 19229, 1919, 1916, 980, 1169, 1697, 1170, 18658, 1471, 18652, 18651, 18650, 1339, 18643, 18640, 1331, 1484, 18825, 18828, 18628, 18830, 18624, 18623, 18621, 1523, 18587, 1307, 18591, 1517, 18595, 1346, 18598, 1509, 1507, 18611, 1318, 1498, 18620, 18600, 1301, 1468, 18668, 1402, 1401, 18738, 1409, 1397, 18723, 18722, 18721, 1392, 18749, 18718, 18717, 1418, 1425, 1383, 1382, 18760, 1460, 1357, 18678, 18779, 1446, 1438, 1350, 18773, 1376, 18766, 1379, 18762, 1428, 1381, 1437, 1526, 1528, 1294, 18455, 1634, 1224, 1222, 1221, 1216, 18439, 18438, 1651, 1652, 18432, 1205, 1200, 1199, 1666, 18416, 1673, 1694, 1692, 1171, 18390, 18392, 18998, 18460, 1176, 1681, 1188, 1679, 18979, 1194, 18406, 1186, 18924, 18483, 1600, 1267, 18893, 18889, 1555, 1277, 18881, 1265, 18548, 1281, 1547, 18870, 18566, 18868, 1290, 1280, 18039, 18520, 18517, 18493, 1249, 1598, 1250, 1595, 18501, 1581, 18502, 1257, 18905, 1261, 1587, 18901, 18513, 1591, 872, 871, 18034, 2325, 17647, 17646, 2332, 19821, 2341, 17634, 19827, 2345, 459, 19837, 453, 17621, 17613, 2359, 17605, 19849, 379, 17557, 383, 385, 389, 398, 480, 406, 19880, 19878, 17590, 17592, 19868, 19856, 408, 17554, 482, 2315, 541, 19745, 19747, 532, 2282, 2283, 19749, 17703, 19752, 2285, 19753, 2289, 17694, 2292, 2293, 2296, 19761, 2313, 17669, 19792, 19789, 17671, 506, 19805, 507, 514, 19771, 19767, 518, 17688, 522, 19777, 17551, 17548, 19935, 17457, 273, 270, 17449, 2488, 20057, 17442, 261, 2493, 2494, 259, 255, 20073, 2503, 17426, 20076, 2510, 17396, 20105, 17403, 20101, 17407, 17408, 17462, 20093, 20091, 20090, 240, 17414, 20086, 245, 239, 2474, 2471, 20020, 19970, 342, 2429, 17527, 347, 2427, 19972, 17531, 2423, 2422, 19949, 17538, 365, 370, 2424, 543, 17514, 17511, 2464, 305, 306, 307, 17480, 309, 17513, 20005, 19998, 19992, 324, 17497, 19982, 2446, 314, 222, 546, 2268, 19441, 797, 2080, 793, 17954, 2081, 19454, 19456, 2085, 2087, 788, 2089, 2090, 782, 2095, 17937, 17930, 720, 2154, 19533, 728, 732, 19514, 811, 2126, 19501, 19481, 2104, 17923, 2102, 19476, 19511, 17865, 2069, 821, 18031, 863, 19377, 862, 2020, 19383, 856, 19388, 2022, 18020, 2029, 18013, 18012, 18011, 18010, 2031, 2033, 2063, 2060, 827, 2058, 17980, 2046, 19425, 17992, 2041, 17997, 2039, 2036, 18005, 2034, 2044, 17861, 2159, 710, 19659, 17784, 609, 19665, 2227, 17780, 19671, 17777, 2233, 19686, 587, 17763, 17762, 17759, 2242, 2244, 17755, 2266, 555, 17725, 17727, 2261, 17735, 17788, 17736, 19705, 17745, 17747, 19703, 17752, 2246, 2254, 19651, 17790, 17792, 676, 2197, 17826, 686, 687, 692, 17814, 19564, 706, 2172, 17848, 2168, 2166, 708, 2174, 2271, 674, 19591, 631, 2217, 17799, 19616, 656, 17806, 2202, 19602, 19600, 19599, 665, 19595, 17808, 670, 19601, 9156, 14780, 17207, 12191, 12194, 12210, 12211, 12220, 12223, 6697, 12251, 6689, 12260, 6687, 12264, 12266, 12267, 6677, 6672, 12283, 12344, 12337, 12334, 6632, 12328, 6636, 6746, 12324, 12311, 12309, 12308, 12307, 6665, 6667, 6644, 12353, 12186, 6774, 12041, 6857, 12044, 12050, 6851, 6850, 12055, 12059, 12060, 12063, 12069, 12070, 12072, 12078, 12082, 6832, 12089, 12145, 6790, 12138, 6798, 6801, 12121, 6767, 12119, 12111, 12110, 12107, 12106, 12094, 12093, 12113, 6858, 6611, 6597, 6475, 12528, 6469, 6467, 12536, 12538, 6463, 6460, 6454, 12561, 6443, 6403, 6401, 12621, 12624, 12633, 6382, 6314, 6315, 6319, 12685, 6342, 12682, 12522, 12681, 6349, 6362, 6366, 12637, 6380, 6381, 12676, 6610, 6486, 6495, 12373, 6595, 12379, 6592, 6578, 12404, 12408, 12409, 6560, 6555, 6553, 12431, 12433, 6547, 12440, 6543, 6541, 6499, 12493, 12487, 12482, 12480, 12478, 12508, 12475, 6519, 6523, 6528, 12453, 12450, 12448, 6515, 6859, 12034, 12031, 7193, 7191, 7190, 11618, 7174, 11637, 7168, 11641, 11651, 11666, 11667, 7142, 7141, 7140, 11677, 7135, 7133, 11744, 7092, 11737, 11735, 11731, 7101, 11608, 11724, 11703, 7122, 11699, 11697, 11690, 11689, 11710, 7086, 7195, 11601, 7300, 7298, 11480, 11483, 11486, 7294, 11488, 11510, 7273, 7272, 7271, 7265, 7264, 7260, 11529, 11531, 7251, 11600, 7202, 11587, 7212, 11580, 11576, 7199, 7219, 7222, 11569, 7233, 11557, 7235, 7237, 11572, 11747, 7082, 7081, 6968, 11909, 11914, 11925, 11927, 11928, 11933, 11934, 6938, 11943, 6935, 11945, 11948, 11954, 6920, 6915, 6907, 6866, 6867, 12020, 6876, 12010, 6883, 11899, 12006, 12001, 11995, 11990, 11986, 11983, 11979, 6886, 11890, 6975, 11884, 7035, 7038, 11799, 7043, 7046, 11788, 11808, 7052, 11784, 7055, 11776, 11761, 11759, 7078, 7054, 6313, 11813, 11824, 11881, 11874, 11872, 11870, 11866, 11862, 11817, 11860, 6999, 7007, 11843, 7014, 7015, 11826, 11856, 12720, 6307, 12722, 13404, 13405, 13406, 13407, 13411, 13418, 13421, 13424, 13440, 5774, 13442, 13449, 5768, 13461, 13464, 13465, 5747, 13509, 13507, 5730, 13503, 13500, 13499, 5798, 13495, 13488, 13487, 13485, 13484, 13480, 13479, 13494, 13517, 5801, 13384, 13262, 13263, 13265, 13266, 5882, 13271, 5880, 13274, 13286, 5866, 5865, 13294, 13295, 5862, 13304, 13308, 13314, 13364, 13357, 5829, 13352, 13351, 13350, 5806, 13349, 13336, 13327, 13325, 13324, 13322, 13316, 13344, 5722, 13523, 5715, 13682, 13686, 13711, 5591, 5589, 13724, 13728, 13731, 13735, 13738, 13744, 13752, 5571, 13754, 5570, 5569, 13764, 13819, 13801, 13799, 13796, 13793, 13791, 13672, 13789, 13785, 5551, 5555, 5561, 13767, 13765, 5546, 13667, 13665, 13662, 13589, 13585, 5684, 13580, 13571, 13567, 13598, 13564, 13561, 13548, 13547, 13544, 13543, 13536, 5698, 13259, 13604, 13613, 13661, 13660, 13656, 13652, 13648, 5641, 5667, 5643, 5650, 13627, 13626, 13623, 5657, 13616, 5646, 11474, 13256, 13245, 6185, 12881, 6177, 6160, 6154, 6152, 12919, 12921, 12923, 12924, 6145, 6144, 12929, 12935, 12940, 12944, 12952, 6072, 6074, 13007, 13004, 6084, 12997, 6187, 6085, 6097, 6104, 6105, 6110, 12961, 12959, 6091, 13015, 12873, 12864, 6304, 12733, 6297, 12744, 6288, 12750, 12751, 12752, 6283, 12759, 12760, 12772, 12777, 6263, 12783, 12792, 6254, 12862, 2680, 6198, 6203, 12854, 6205, 12868, 6208, 6217, 6218, 6233, 12799, 12797, 12796, 6209, 13019, 6066, 6064, 5959, 13161, 5953, 13169, 5950, 5942, 5941, 13182, 13186, 13187, 5937, 5933, 13198, 13201, 13206, 13209, 13210, 5897, 5900, 5902, 5903, 13235, 5904, 5960, 5905, 5910, 5918, 13215, 5920, 13212, 13211, 5908, 5961, 13150, 13140, 13077, 6026, 6031, 13063, 6035, 13059, 6019, 6039, 6043, 13043, 13038, 6055, 13031, 6063, 13054, 5894, 13087, 6011, 13136, 13133, 13132, 13130, 5986, 13120, 6014, 5990, 5996, 13108, 6000, 6004, 6008, 13095, 5991, 13820, 11471, 11466, 8630, 9807, 9819, 8612, 8610, 9830, 9839, 9841, 9847, 8589, 9856, 9857, 8588, 8587, 9863, 9864, 8581, 9904, 9903, 8552, 9900, 8554, 9897, 8633, 9896, 8559, 8563, 8570, 8571, 9878, 8575, 8557, 8548, 8636, 8639, 8748, 8747, 8742, 8740, 9680, 8727, 8725, 9691, 8720, 8719, 8713, 9709, 8706, 8702, 9720, 8695, 8690, 8641, 9782, 9780, 8654, 9771, 8659, 9792, 9765, 9747, 9741, 8680, 8686, 9731, 8689, 9753, 8750, 9909, 8545, 10055, 10060, 10061, 8416, 10073, 8414, 10076, 8406, 8404, 8395, 8392, 10109, 10110, 8378, 8373, 8368, 8365, 8299, 8307, 10194, 10178, 8327, 10173, 8429, 8333, 10155, 8344, 8347, 10147, 8354, 10136, 10156, 8546, 8430, 10030, 8544, 9915, 8539, 9919, 9920, 9924, 9925, 8535, 9928, 9929, 9941, 9942, 9946, 9953, 9954, 8509, 8504, 8453, 8456, 10018, 8458, 10010, 8464, 8445, 8467, 10000, 8472, 8487, 8488, 9981, 8491, 8469, 9657, 8755, 8756, 9289, 9052, 9299, 9045, 9043, 9305, 9309, 9037, 9031, 9319, 9326, 9330, 9338, 9016, 9347, 9008, 9004, 8964, 8969, 8970, 9393, 9389, 8976, 9056, 8984, 8988, 9369, 8992, 8996, 8998, 9356, 9378, 8962, 9057, 9280, 9160, 9154, 9163, 9164, 9166, 9175, 9180, 9140, 9184, 9134, 9191, 9131, 9127, 9200, 9121, 9213, 9216, 9064, 9274, 9067, 9074, 9264, 9076, 9059, 9261, 9255, 9084, 9249, 9232, 9102, 9219, 9257, 9407, 9413, 8951, 9552, 9554, 8840, 8837, 9565, 9569, 8826, 9578, 8819, 8818, 9587, 9593, 8804, 9602, 8798, 8797, 8793, 9648, 8764, 8767, 9642, 8768, 8769, 9551, 8770, 8776, 8787, 8788, 9616, 8790, 9612, 9633, 8854, 9523, 8869, 8908, 8909, 9470, 8910, 9467, 9465, 8907, 8914, 9450, 8925, 8929, 8935, 8943, 8945, 9451, 8298, 9476, 8900, 8870, 8872, 9514, 8875, 9508, 8881, 9481, 8882, 8890, 8891, 8892, 9490, 8896, 9484, 9497, 8295, 10210, 8291, 7714, 7708, 10962, 10971, 10974, 7692, 10983, 10987, 7680, 10994, 10995, 10996, 7678, 7677, 7675, 11005, 11007, 7571, 7574, 11109, 7585, 11094, 11092, 10939, 11090, 11068, 11066, 7620, 11048, 7644, 7669, 11071, 7566, 7720, 10930, 10827, 10830, 7799, 10833, 10834, 10843, 7789, 7787, 7779, 10856, 7774, 10864, 7771, 7768, 7766, 10875, 10880, 10926, 7734, 10920, 10917, 10913, 7742, 7727, 10907, 10904, 7748, 7755, 7756, 7757, 10884, 10906, 7560, 11135, 11141, 11345, 7391, 11347, 11352, 7387, 11359, 11360, 11366, 7374, 7370, 11380, 11382, 11386, 11388, 7362, 11393, 11397, 7306, 11460, 11458, 11451, 7319, 7326, 11335, 11438, 11425, 11417, 11413, 7349, 7351, 7354, 11437, 11328, 11324, 11322, 7500, 11203, 7506, 7507, 7517, 11175, 11207, 11172, 11162, 11161, 7541, 11154, 11147, 7549, 7534, 7803, 7497, 11220, 11310, 11300, 7428, 11294, 11291, 11289, 7491, 11282, 11264, 11263, 11262, 7452, 11245, 7472, 11269, 11467, 7805, 7810, 10364, 10371, 10379, 10386, 10388, 10390, 8154, 10395, 8151, 8145, 10405, 8142, 8141, 8140, 8137, 8136, 8134, 10455, 10452, 10450, 8115, 10443, 10442, 10362, 10439, 8123, 10434, 8124, 8125, 8126, 8130, 10438, 8106, 10361, 8185, 8290, 8283, 8281, 10228, 10234, 10235, 10236, 8272, 10243, 10248, 8263, 8252, 8251, 10268, 10269, 8243, 10291, 10341, 10340, 10338, 8191, 10331, 8203, 10360, 8204, 10310, 8217, 8218, 8219, 8221, 10295, 10321, 8104, 8103, 8101, 7949, 10658, 7914, 10695, 7913, 7912, 7909, 7899, 10716, 10717, 7894, 10723, 7883, 7877, 10740, 10743, 10751, 10817, 10815, 10811, 7828, 10792, 7834, 10650, 7835, 7839, 10782, 10781, 10778, 7852, 7860, 10784, 10649, 10648, 10646, 10552, 10548, 10546, 8037, 10542, 10536, 8029, 10523, 10495, 10493, 10487, 10477, 8090, 8097, 10517, 7808, 8024, 8020, 10645, 10636, 7963, 7965, 10626, 10618, 10560, 7982, 10594, 10575, 8015, 8016, 10569, 10568, 10606, 13821, 10201, 13823, 4273, 15369, 4263, 4252, 4251, 4247, 15396, 4206, 15440, 15444, 4200, 15450, 4186, 4284, 15481, 4163, 4156, 4134, 15526, 4124, 15530, 4122, 15544, 4108, 4098, 4096, 4088, 15571, 4167, 15576, 4291, 4313, 15219, 15228, 15237, 4381, 15242, 15247, 15251, 4365, 15260, 15263, 15265, 15268, 15269, 15346, 4358, 4351, 15280, 15284, 4344, 15291, 15293, 4338, 15297, 15298, 4328, 15312, 15315, 15325, 4357, 15209, 4072, 4067, 15768, 15772, 3901, 3899, 15779, 3893, 3890, 3889, 3884, 3882, 3878, 15802, 3871, 3906, 3868, 15827, 15829, 15831, 3832, 3831, 15855, 3824, 15858, 15862, 3820, 3805, 15884, 3797, 3853, 4068, 3925, 15743, 15599, 4055, 4050, 4046, 15622, 4037, 4034, 15630, 4030, 4027, 15641, 15666, 3989, 15746, 3988, 3978, 3976, 3971, 15695, 3970, 3968, 3967, 15701, 3958, 3947, 15723, 3944, 3938, 3983, 15204, 15198, 15197, 4792, 4788, 4786, 14749, 4781, 4779, 14760, 4769, 14765, 4763, 4761, 14778, 4759, 14720, 14790, 4749, 14795, 14798, 14803, 14806, 4741, 14810, 14813, 4734, 4733, 4731, 4724, 14831, 4751, 4718, 14718, 4813, 14568, 14569, 14572, 14592, 4918, 4915, 4914, 4912, 14602, 14603, 14606, 14615, 4896, 14717, 14624, 4874, 4868, 14655, 4864, 4860, 4859, 4847, 14677, 14689, 4832, 4829, 4827, 4826, 14625, 4716, 14854, 14857, 15031, 15034, 15046, 15048, 15057, 4524, 15062, 4515, 15079, 15082, 4503, 15087, 4499, 15029, 15090, 15098, 15100, 4487, 4486, 4484, 15109, 15117, 15122, 15123, 15142, 15171, 4427, 4421, 15092, 4551, 4556, 4564, 4696, 4695, 4694, 14864, 4675, 4672, 14894, 14896, 4660, 4652, 14917, 14922, 14923, 4642, 4641, 4638, 14933, 14945, 4621, 4619, 14956, 14957, 14962, 4598, 14976, 4595, 4590, 14988, 14990, 15901, 3785, 3784, 15914, 3096, 16725, 3091, 3083, 16741, 16744, 16767, 3057, 16773, 16790, 16802, 16810, 16811, 16716, 3018, 16834, 2996, 2994, 2993, 16842, 16844, 2987, 2986, 2981, 2979, 2961, 2958, 2951, 3017, 16890, 16714, 16709, 3225, 16575, 16576, 16578, 3221, 3219, 16593, 3203, 3199, 3197, 3196, 3190, 3184, 3101, 3183, 3177, 3174, 3171, 16639, 3166, 3139, 3134, 3133, 3127, 3117, 16695, 3105, 16707, 16629, 16899, 2938, 16908, 2776, 17092, 2769, 17107, 2760, 2757, 2749, 2748, 2746, 2741, 17138, 17143, 2728, 17085, 17149, 17159, 2716, 2712, 17170, 2706, 17177, 17179, 17180, 2696, 2694, 2692, 17196, 17198, 2721, 17081, 17072, 17071, 16909, 16913, 16915, 2922, 2921, 16925, 2917, 16940, 2906, 16943, 2897, 2894, 2887, 2867, 2855, 16998, 16999, 17014, 17019, 2833, 2821, 17036, 17037, 2816, 2815, 2814, 17045, 2810, 2804, 16569, 4952, 3237, 16542, 3660, 3658, 16075, 16076, 3637, 16082, 3635, 3625, 3613, 3610, 3609, 3608, 3606, 3663, 3600, 16131, 3577, 3559, 16172, 3549, 3548, 16181, 16184, 3535, 3524, 16207, 3517, 16218, 3595, 16224, 3671, 3682, 15915, 15916, 3767, 3764, 15929, 15931, 15937, 3754, 15946, 15950, 3751, 3750, 15953, 16041, 3748, 15964, 3737, 3724, 15984, 15992, 3711, 3707, 3704, 3702, 16013, 3696, 3694, 3687, 3741, 16227, 3505, 16234, 16411, 16414, 16417, 16420, 3350, 3347, 3346, 3340, 16440, 3333, 3328, 16451, 3318, 3360, 16466, 16472, 3301, 3299, 3293, 16491, 16496, 16504, 16510, 16517, 16521, 16522, 3255, 3251, 16468, 3361, 16392, 3377, 3500, 16240, 3496, 16252, 16254, 16268, 16277, 3460, 16287, 16291, 16296, 16309, 3441, 16313, 3432, 16324, 16330, 16331, 16334, 16338, 3418, 3413, 3411, 16364, 16368, 3396, 3395, 3388, 16381, 16550, 14545, 4166, 14280, 14477, 14473, 13967, 14114, 13892, 14318, 5193, 13978, 5311, 13897, 5027, 14026, 14256, 13898, 13900, 14259, 14394, 14333, 5474, 13889, 14232, 5414, 13936, 14235, 14130, 5388, 14125, 14391, 5386, 5155, 14330, 14407, 13879, 14344, 14249, 5479, 5305, 5188, 5294, 5469, 5465, 14443, 14273, 5327, 14439, 14438, 5052, 14088, 14095, 14430, 14086, 5058, 13921, 5159, 14278, 5343, 13933, 13918, 5371, 5323, 14039, 14464, 14031, 14424, 5157, 13907, 5059, 14066, 13940, 13910, 5042, 14033, 5423, 14038, 5317, 14395, 13917, 14396, 13942, 13877, 13950, 13876, 14490, 14167, 14204, 14001, 14164, 14000, 5094, 13829, 14376, 5398, 14207, 5393, 14163, 13831, 5212, 13833, 13834, 14346, 14491, 5132, 14172, 5366, 14184, 14007, 14004, 5522, 5428, 14541, 14409, 14414, 4969, 5152, 14412, 14526, 5430, 14050, 4980, 5068, 14501, 5252, 5516, 14377, 5270, 5278, 5369, 5280, 5402, 13955, 5431, 14420, 5287, 13963, 14062, 14388, 5353, 13872, 13965, 14135, 14389, 13860, 14229, 13847, 5360, 13838, 5276, 13841, 5222, 14211, 14303, 14483, 5154, 14154, 5500, 5408, 13857, 14213, 14212, 10519, 10504, 8032, 16110, 8060, 13367, 8053, 5823, 8055, 537, 19737, 18549, 19740, 538, 13368, 10502, 19797, 3555, 13428, 16308, 13429, 8201, 17524, 8208, 8210, 10312, 10303, 13437, 18516, 8228, 10271, 16337, 1818, 10256, 13445, 17508, 2442, 8274, 10237, 3412, 17503, 8187, 8072, 10358, 10367, 13376, 10470, 17568, 8102, 16185, 2401, 16193, 16212, 10433, 16223, 13401, 10428, 10426, 8127, 8138, 14027, 3498, 18242, 10391, 17539, 16260, 1572, 16275, 13423, 8023, 14544, 16097, 13238, 7592, 5288, 11085, 718, 11070, 13252, 11053, 7628, 7643, 3867, 11113, 3864, 3837, 695, 10989, 10984, 691, 7700, 10963, 1505, 10952, 18607, 10942, 1859, 14118, 11119, 737, 17738, 11290, 7432, 19468, 5925, 11281, 7450, 17733, 17732, 18646, 5261, 11129, 1875, 14169, 758, 11196, 11190, 11181, 3948, 19504, 7530, 5269, 11151, 15766, 11210, 7723, 10925, 3803, 7854, 3714, 13331, 7868, 10748, 16006, 3699, 591, 5834, 3691, 7921, 7842, 7941, 18570, 18568, 13343, 10642, 16061, 10620, 7987, 10584, 10577, 2376, 13354, 10664, 15986, 2347, 14069, 7735, 15882, 15888, 17663, 662, 19607, 7753, 17660, 15912, 5868, 10874, 1852, 14111, 14103, 15933, 15938, 7795, 7796, 5858, 13303, 3738, 7827, 14084, 10796, 10230, 18232, 17502, 17463, 3402, 9526, 13664, 2930, 17317, 20218, 16919, 13679, 8889, 1683, 20228, 9494, 13694, 2900, 8843, 1759, 2875, 2858, 13726, 8915, 9460, 9459, 9457, 17013, 1756, 118, 2834, 8926, 2612, 9472, 13734, 8841, 16868, 16745, 1655, 202, 17353, 13629, 13637, 8772, 8773, 20156, 189, 13641, 8783, 3015, 2965, 16827, 13643, 1774, 8795, 16839, 13916, 8802, 9594, 2992, 8817, 13651, 20191, 8824, 1670, 17343, 9669, 20262, 20265, 9088, 9237, 2710, 13794, 9110, 9114, 9115, 9209, 9208, 13828, 20377, 21, 9123, 17165, 13827, 17182, 9129, 2699, 13805, 5534, 5528, 9150, 9167, 9152, 2689, 17204, 17219, 2683, 9197, 8936, 45, 20342, 8940, 8955, 17039, 8965, 9401, 17282, 5579, 8974, 9390, 8983, 9372, 13865, 1705, 17145, 20302, 17267, 9011, 20308, 9340, 17082, 9333, 17097, 13855, 18326, 1715, 2743, 9284, 54, 17076, 13621, 9675, 16733, 8435, 8440, 16463, 13508, 17459, 8455, 10022, 13511, 10016, 10013, 17455, 18269, 2484, 10046, 16479, 5420, 16490, 13520, 338, 13521, 8507, 3276, 17443, 17439, 13972, 19995, 9927, 13530, 13518, 3263, 10047, 19942, 18250, 10214, 13451, 420, 20401, 19885, 8322, 16379, 3387, 17488, 8336, 8339, 10159, 11295, 395, 18497, 19912, 19915, 2466, 13992, 10105, 5406, 3345, 10092, 8401, 13498, 2473, 1804, 8358, 3259, 16533, 2502, 20066, 13574, 8634, 3168, 9777, 2537, 8657, 13952, 20087, 8665, 5673, 17379, 8683, 9809, 8685, 5436, 16710, 13943, 13610, 8699, 16719, 16724, 20113, 8717, 8721, 5441, 8729, 20126, 20100, 8621, 18454, 5429, 13969, 3249, 20010, 20011, 16548, 1619, 16559, 13534, 13538, 13541, 8568, 13966, 2517, 17411, 20031, 8577, 9868, 8585, 13558, 13559, 13961, 5699, 16615, 9850, 9849, 9848, 16618, 8597, 8603, 14008, 7426, 5863, 4439, 11688, 14308, 13064, 12029, 7139, 19133, 6436, 11672, 6432, 18003, 12582, 6024, 11652, 12964, 12599, 4346, 14779, 14315, 17834, 17917, 14775, 2116, 15033, 7091, 15233, 18117, 6054, 12829, 949, 7166, 13046, 6544, 12017, 19140, 7108, 13055, 2110, 11694, 11691, 14773, 14301, 1380, 12601, 14456, 6012, 11606, 6846, 4324, 14289, 12629, 900, 11610, 7213, 17931, 15347, 12631, 12825, 5994, 17934, 12073, 18908, 6129, 14392, 4336, 12053, 12421, 18810, 6405, 2009, 13086, 12418, 14682, 4840, 6969, 11625, 18915, 19125, 12046, 914, 17925, 1377, 14972, 6389, 2103, 15222, 13035, 17904, 14748, 6948, 4474, 6480, 19224, 11841, 1223, 6510, 12511, 12998, 11935, 14478, 14471, 6940, 4774, 12529, 14758, 5086, 11834, 19234, 7001, 6949, 17883, 11898, 5115, 11876, 1011, 6211, 6493, 6492, 12510, 1020, 2142, 4493, 11865, 6958, 6991, 11863, 11916, 19186, 6069, 2096, 6937, 15126, 15059, 6060, 14340, 7069, 18935, 18829, 7070, 7074, 1193, 11762, 7075, 18726, 15213, 18931, 17901, 12557, 6919, 2120, 15206, 985, 2162, 18815, 19169, 15144, 4509, 15151, 12839, 15158, 6204, 6065, 6095, 15172, 14342, 4017, 12835, 11792, 12544, 1235, 18132, 6934, 2014, 4617, 2199, 6580, 17766, 12866, 18103, 17764, 14885, 14220, 11396, 12192, 12218, 4677, 12332, 6248, 12225, 4044, 14880, 7375, 15590, 11430, 7330, 6609, 5965, 6759, 5209, 17776, 11464, 7308, 12673, 11455, 5067, 4885, 18671, 15549, 6344, 11439, 14796, 2045, 2078, 1276, 19071, 4906, 18057, 1146, 6648, 12753, 1295, 12901, 5929, 19037, 12746, 14428, 6179, 14543, 11312, 15642, 4721, 1351, 7420, 19450, 14588, 14818, 12272, 14862, 6686, 18879, 11364, 11363, 7382, 13190, 18791, 14502, 7385, 11354, 6294, 2249, 1355, 5932, 2251, 7395, 12916, 4653, 11423, 19089, 19082, 13139, 7288, 6241, 12655, 19088, 15413, 12164, 6807, 19091, 12116, 6585, 13121, 4636, 6374, 12943, 4630, 4627, 7238, 5989, 6819, 11553, 12095, 1372, 6132, 6237, 6232, 12666, 866, 11891, 12668, 14913, 19077, 14411, 12134, 13143, 15504, 15506, 18806, 11481, 6645, 10146, 2890, 8350, 198, 14848, 13695, 13999, 8604, 6126, 11931, 9528, 9637, 16848, 13993, 12377, 20188, 13690, 9636, 2914, 6180, 12018, 253, 16543, 17366, 13467, 8808, 2097, 8482, 8761, 14466, 1330, 8301, 4613, 6656, 13577, 16374, 14003, 2136, 5754, 16549, 6210, 20186, 20240, 8807, 19889, 6131, 20239, 16732, 8329, 14359, 12064, 14839, 8796, 12293, 13649, 17928, 20108, 1802, 2043, 6618, 8867, 20160, 10059, 8672, 3116, 19083, 19988, 1801, 13597, 9836, 14421, 10053, 4748, 8492, 3317, 8656, 1113, 9592, 4764, 6099, 9562, 17399, 6103, 19068, 14769, 6726, 12129, 8596, 12422, 13550, 8465, 12391, 8388, 13894, 336, 9793, 19142, 16527, 1041, 8887, 6109, 12405, 1358, 3162, 279, 8405, 19977, 13524, 12939, 5627, 3339, 8531, 12128, 14786, 1360, 8594, 12327, 18282, 4015, 2138, 11555, 15930, 5182, 9279, 10881, 10883, 13287, 5185, 18211, 15401, 10896, 7259, 5872, 14261, 9073, 10911, 10915, 7737, 1896, 669, 5523, 3806, 11485, 15863, 10946, 10860, 10947, 10858, 18834, 3700, 70, 10726, 10734, 18575, 20323, 17113, 2349, 17626, 4492, 2205, 17631, 10798, 7214, 9051, 11579, 9293, 2208, 17125, 15947, 7229, 20334, 5993, 7794, 3760, 12764, 7182, 13148, 7302, 12688, 11367, 15728, 18846, 13225, 7526, 12728, 18639, 11349, 17194, 17726, 7399, 11230, 11231, 1876, 11333, 7407, 11325, 7444, 7438, 5243, 6271, 5927, 11292, 11309, 7367, 19579, 13797, 13173, 11469, 4881, 17680, 17681, 19384, 19566, 10997, 9097, 10999, 9104, 13254, 19549, 5956, 5889, 2290, 11420, 12808, 3887, 29, 1888, 11404, 7590, 726, 7581, 4070, 2281, 13338, 11598, 9328, 16290, 8932, 6068, 10359, 16288, 18734, 2016, 986, 9432, 8939, 15140, 7028, 9430, 10398, 1968, 1826, 8131, 13339, 3510, 19250, 972, 10431, 10432, 13398, 6059, 11837, 6477, 6214, 13433, 20243, 3410, 19204, 19205, 14347, 17507, 8268, 8266, 8261, 8259, 13018, 1215, 17561, 13730, 15110, 12505, 4479, 6996, 4793, 2147, 10302, 17519, 13435, 8216, 3433, 9454, 16336, 17041, 16756, 5127, 16148, 16045, 12569, 19279, 10538, 5818, 13365, 4367, 13358, 11646, 16054, 10639, 13347, 9003, 13356, 10570, 14054, 8008, 13066, 13375, 18569, 9350, 8066, 7176, 7079, 13745, 16175, 7173, 15217, 3553, 11752, 15230, 19313, 10496, 10665, 20309, 13869, 2761, 13758, 6270, 13813, 9015, 12754, 69, 20196, 1983, 18798, 8757, 13628, 17197, 13657, 6504, 14445, 6440, 9122, 6358, 8799, 5515, 13740, 1718, 13747, 20358, 13737, 1196, 17355, 9244, 12463, 1337, 9062, 17063, 20294, 6245, 2705, 6215, 12803, 8816, 12351, 6540, 14792, 14724, 20185, 6337, 13902, 9250, 1044, 19172, 16316, 7002, 5875, 8229, 19853, 19207, 11885, 3392, 8326, 17489, 5979, 19177, 1808, 991, 8377, 10100, 3828, 3343, 19931, 13267, 2230, 1861, 13258, 13168, 7342, 7598, 14992, 18480, 2465, 9966, 14015, 10351, 16024, 7171, 17615, 10612, 17593, 16002, 13333, 13330, 15261, 19282, 15981, 11718, 11733, 10348, 3745, 10499, 13302, 5809, 13387, 16204, 11562, 13389, 5795, 17547, 11547, 10387, 10882, 5871, 14091, 12037, 7910, 12927, 12081, 13542, 4041, 5658, 15705, 9708, 8569, 12256, 7533, 17368, 296, 12123, 20094, 9745, 8599, 12200, 5075, 9815, 7398, 16660, 284, 17424, 7478, 11373, 8516, 15634, 738, 19522, 16734, 18197, 7411, 8518, 4726, 2252, 17367, 16232, 13079, 15936, 10712, 3695, 10423, 6655, 18156, 7486, 13736, 11556, 17074, 1238, 8774, 15302, 18912, 7849, 7476, 8002, 8711, 11318, 12271, 3650, 14270, 2053, 6225, 13602, 6457, 14296, 13288, 17445, 13588, 13278, 11499, 13230, 4777, 7911, 3816, 1617, 8543, 13532, 317, 11372, 14132, 8871, 8438, 7647, 164, 6112, 19973, 13659, 13414, 12483, 18332, 8335, 9136, 10372, 10903, 6292, 12738, 7009, 13432, 13020, 12785, 14747, 10305, 1583, 17945, 7525, 6985, 16350, 8573, 5549, 13226, 12644, 2826, 10941, 5896, 6197, 6108, 2492, 6942, 19924, 3497, 13932, 12084, 13650, 8967, 8829, 13522, 18742, 2805, 5432, 13638, 8785, 19096, 10072, 11695, 6927, 2788, 2481, 8673, 5126, 6561, 3827, 8715, 11960, 16620, 13234, 16516, 987, 10641, 15283, 7998, 84, 20131, 17067, 2437, 18546, 5175, 1134, 13776, 20119, 17911, 221, 9275, 12395, 8833, 1883, 3954, 207, 19184, 13152, 8399, 6083, 8343, 17728, 14011, 6468, 7230, 781, 9363, 6226, 1042, 15181, 9055, 372, 5934, 7919, 8470, 10020, 12812, 17167, 13756, 9083, 14686, 17341, 16579, 11236, 13408, 16284, 8093, 9768, 10416, 8619]\n"
     ]
    }
   ],
   "source": [
    "sorted_index = numpy.argsort(prob_pos)\n",
    "sorted_index = list(sorted_index)\n",
    "print(sorted_index)"
   ],
   "metadata": {
    "collapsed": false
   }
  },
  {
   "cell_type": "code",
   "execution_count": 540,
   "outputs": [],
   "source": [
    "sorted_index.reverse()\n",
    "#print(sorted_index)\n",
    "precision_at_k = [0]*10000\n",
    "precisionList = []\n",
    "pred_sorted = pred[sorted_index]\n",
    "Y_sorted = [Y[i] for i in sorted_index]\n",
    "count = 0\n",
    "for k in range(10000):\n",
    "    count+=(Y_sorted[k]==True)\n",
    "    precision_at_k[k] = count/(k+1)\n",
    "    #print(precision_at_k[k]\n",
    "for k in [1,10,100,1000,10000]:\n",
    "    precisionList.append(precision_at_k[k-1])"
   ],
   "metadata": {
    "collapsed": false
   }
  },
  {
   "cell_type": "code",
   "execution_count": 541,
   "id": "764513e1",
   "metadata": {},
   "outputs": [],
   "source": [
    "answers['Q8'] = precisionList"
   ]
  },
  {
   "cell_type": "code",
   "execution_count": 542,
   "id": "b0d7d87a",
   "metadata": {},
   "outputs": [],
   "source": [
    "assertFloatList(answers['Q8'], 5) #List of five floats"
   ]
  },
  {
   "cell_type": "code",
   "execution_count": 543,
   "id": "d557ab88",
   "metadata": {},
   "outputs": [],
   "source": [
    "f = open(\"answers_hw1.txt\", 'w') # Write your answers to a file\n",
    "f.write(str(answers) + '\\n')\n",
    "f.close()"
   ]
  }
 ],
 "metadata": {
  "kernelspec": {
   "display_name": "Python 3 (ipykernel)",
   "language": "python",
   "name": "python3"
  },
  "language_info": {
   "codemirror_mode": {
    "name": "ipython",
    "version": 3
   },
   "file_extension": ".py",
   "mimetype": "text/x-python",
   "name": "python",
   "nbconvert_exporter": "python",
   "pygments_lexer": "ipython3",
   "version": "3.9.14"
  }
 },
 "nbformat": 4,
 "nbformat_minor": 5
}
